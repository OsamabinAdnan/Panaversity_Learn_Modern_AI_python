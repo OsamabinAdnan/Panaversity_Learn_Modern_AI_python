{
 "cells": [
  {
   "cell_type": "markdown",
   "metadata": {},
   "source": [
    "<font color=\"#4ee247\" size=8>**Lesson # 03** </font>\n",
    "<font color=\"#ffbf00 \" size=8>**Operators, Keywords & Variables** </font>"
   ]
  },
  {
   "cell_type": "markdown",
   "metadata": {},
   "source": [
    "# **Operator and Operand**\n",
    "\n",
    "In Python (and programming in general), an operand is a value or variable that an operator acts on. Think of it like this:\n",
    "\n",
    "* **Operator**: A symbol that performs an operation (e.g., +, -, *, /).\n",
    "* **Operand**: The value(s) or variable(s) that the operator works with."
   ]
  },
  {
   "cell_type": "markdown",
   "metadata": {},
   "source": [
    "![Operator vs Operand](images/operandvsoperator.jpg)"
   ]
  },
  {
   "cell_type": "markdown",
   "metadata": {},
   "source": [
    "## **Key Points:**\n",
    "\n",
    "* Operands are the \"inputs\" for an operator.\n",
    "* The number of operands depends on the operator:\n",
    "    * **Unary operators** (e.g., not, -) work with one operand.\n",
    "    * **Binary operators** (e.g., +, -, *, /) work with two operands."
   ]
  },
  {
   "cell_type": "markdown",
   "metadata": {},
   "source": [
    "## **Unary Operators**\n",
    "Unary operators work with one operand (a single value or variable). They perform operations on just one thing.\n",
    "\n",
    "## **Examples:**\n",
    "1.  **Negative (-):**\n",
    "      * Changes the sign of the operand."
   ]
  },
  {
   "cell_type": "code",
   "execution_count": null,
   "metadata": {},
   "outputs": [
    {
     "name": "stdout",
     "output_type": "stream",
     "text": [
      "y =  -5\n"
     ]
    }
   ],
   "source": [
    "x = 5\n",
    "y = -x # y is now -5\n",
    "print(\"y = \", y)"
   ]
  },
  {
   "cell_type": "markdown",
   "metadata": {},
   "source": [
    "2.  **Logical NOT (not):**\n",
    "      * Reverses a boolean value."
   ]
  },
  {
   "cell_type": "code",
   "execution_count": 3,
   "metadata": {},
   "outputs": [
    {
     "name": "stdout",
     "output_type": "stream",
     "text": [
      "b =  False\n"
     ]
    }
   ],
   "source": [
    "a = True\n",
    "b = not a # b is now False\n",
    "print(\"b = \", b)"
   ]
  },
  {
   "cell_type": "markdown",
   "metadata": {},
   "source": [
    "## **Bitwise NOT (~):**\n",
    "\n",
    "  * Inverts the bits of a number (used in binary operations)."
   ]
  },
  {
   "cell_type": "code",
   "execution_count": 14,
   "metadata": {},
   "outputs": [
    {
     "name": "stdout",
     "output_type": "stream",
     "text": [
      "y =  -6\n"
     ]
    }
   ],
   "source": [
    "x: int = 5  # Binary: 0101\n",
    "y: int = ~x  # y is now -6 (binary: 1010, but in two's complement form)\n",
    "print(\"y = \", y)\n",
    "\n",
    "# The number 5 in binary (8-bit representation):\n",
    "# 00000101  (5 in binary)\n",
    "# The ~ (bitwise NOT) operator inverts all bits.\n",
    "# ~00000101  (Flip all bits)\n",
    "#  11111010 ==> This represents -6 in two's complement notation.\n"
   ]
  },
  {
   "cell_type": "markdown",
   "metadata": {},
   "source": [
    "You can print an integer as a binary number in Python using the `bin()` function. Here's an example:\n",
    "\n",
    "The binary string is prefixed with `'0b'` to indicate that it's a binary number."
   ]
  },
  {
   "cell_type": "code",
   "execution_count": 18,
   "metadata": {},
   "outputs": [
    {
     "name": "stdout",
     "output_type": "stream",
     "text": [
      "bin(x) = , 0b101 <class 'str'>\n"
     ]
    }
   ],
   "source": [
    "print(\"bin(x) = ,\", bin(x), type(bin(x)))"
   ]
  },
  {
   "cell_type": "code",
   "execution_count": 32,
   "metadata": {},
   "outputs": [
    {
     "name": "stdout",
     "output_type": "stream",
     "text": [
      "101\n",
      "101\n"
     ]
    }
   ],
   "source": [
    "num: int = 5  # Assigning value of x to num\n",
    "print(format(num, 'b'))  # Convert num to binary using format(), It converts num to a binary string without the 0b prefix.\n",
    "print(f\"{num:b}\")  # Convert num to binary using f-string, It also converts num to a binary string without the 0b prefix."
   ]
  },
  {
   "cell_type": "markdown",
   "metadata": {},
   "source": [
    "## **Binary Operators**\n",
    "\n",
    "Binary operators work with two operands (two values or variables). They perform operations between two things.\n",
    "\n",
    "### **Examples:**\n",
    "\n",
    "1. **Arithmetic Operators (+, -, *, /, etc.):**\n",
    "    * Perform basic math operations.\n",
    "\n",
    "2. **Comparison Operators (==, !=, >, <, etc.):**\n",
    "    * Compare two values and return True or False.\n",
    "\n",
    "3. **Logical Operators (and, or):**\n",
    "    * Combine boolean values.\n",
    "\n",
    "4. **Assignment Operators (=, +=, -=, etc.):**\n",
    "    * Assign values to variables or perform operations while assigning.\n",
    "\n",
    "<br>\n",
    "\n",
    "Note: (we will see these operators in action in next topic)\n"
   ]
  },
  {
   "cell_type": "markdown",
   "metadata": {},
   "source": [
    "## **Key Difference:**\n",
    "\n",
    "1.  **Unary Operators**: Work with one operand (e.g., -x, not a).\n",
    "2.  **Binary Operators**: Work with two operands (e.g., a + b, x > y)."
   ]
  },
  {
   "cell_type": "markdown",
   "metadata": {},
   "source": [
    "# **Operators in Python**\n",
    "Operators in Python are `symbols` used to perform operations on variables and values. Python supports several types of operators:\n"
   ]
  },
  {
   "cell_type": "markdown",
   "metadata": {},
   "source": [
    "\n",
    "\n",
    "## **1. Arithmetic Operators**\n",
    "Used for basic mathematical operations.\n",
    "\n",
    "<br>\n",
    "\n",
    "| Operator | Name                | Example                           |\n",
    "|----------|---------------------|-----------------------------------|\n",
    "| +        | Addition            | 5 + 2 = 7                         |\n",
    "| -        | Subtraction         | 5 - 2 = 3                         |\n",
    "| *        | Multiplication      | 5 * 2 = 10                        |\n",
    "| /        | Division (float)    | 5 / 2 = 2.5                       |\n",
    "| //       | Floor Division      | 5 // 2 = 2 (removes decimal part) |\n",
    "| %        | Modulus (remainder) | 5 % 2 = 1                         |\n",
    "| **       | Exponentiation      | 5 ** 2 = 25                       |\n",
    "|          |                     |                                   |\n",
    "\n",
    "\n",
    "<br>\n",
    "\n",
    "### **Example**"
   ]
  },
  {
   "cell_type": "code",
   "execution_count": 33,
   "metadata": {},
   "outputs": [
    {
     "name": "stdout",
     "output_type": "stream",
     "text": [
      "a + b  =  13\n",
      "a - b  =  7\n",
      "a * b  =  30\n",
      "a / b  =  3.3333333333333335\n",
      "a // b =  3\n",
      "a % b  =  1\n",
      "a % b  =  1000\n"
     ]
    }
   ],
   "source": [
    "a: int = 10\n",
    "b: int = 3\n",
    "print(\"a + b  = \", a + b)   # 13 Addition\n",
    "print(\"a - b  = \", a - b)   # 7 Subtraction\n",
    "print(\"a * b  = \", a * b)   # 30 Multiplication\n",
    "print(\"a / b  = \", a / b)   # 3.3333333333333335\n",
    "print(\"a // b = \", a // b)  # 3 Floor Division\n",
    "print(\"a % b  = \", a % b)   # 1 Modulus (remainder)\n",
    "print(\"a % b  = \", a ** b)  # 1000 Exponentiation (10 * 10 * 10)"
   ]
  },
  {
   "cell_type": "markdown",
   "metadata": {},
   "source": [
    "## **2. Comparison (Relational) Operators**\n",
    "Used to compare two values.\n",
    "\n",
    "<br>\n",
    "\n",
    "| Operator | Name                  | Example        |\n",
    "|----------|-----------------------|----------------|\n",
    "| ==       | Equal                 | 5 == 5 → True  |\n",
    "| !=       | Not equal             | 5 != 3 → True  |\n",
    "| >        | Greater than          | 5 > 3 → True   |\n",
    "| <        | Less than             | 5 < 3 → False  |\n",
    "| >=       | Greater than or equal | 5 >= 5 → True  |\n",
    "| <=       | Less than or equal    | 5 <= 3 → False |\n",
    "|          |                       |                |\n",
    "|          |                       |                |  \n",
    "\n",
    "<br>\n",
    "\n",
    "### **Example**"
   ]
  },
  {
   "cell_type": "code",
   "execution_count": 34,
   "metadata": {},
   "outputs": [
    {
     "name": "stdout",
     "output_type": "stream",
     "text": [
      "x == y =  False\n",
      "x != y =  True\n",
      "x > y  =  True\n",
      "x < y  =  False\n",
      "x >= y =  True\n",
      "x <= y =  False\n"
     ]
    }
   ],
   "source": [
    "x: int = 10\n",
    "y: int = 5\n",
    "\n",
    "print(\"x == y = \", x == y)  # False, Equal\n",
    "print(\"x != y = \", x != y)  # True, Not equal\n",
    "print(\"x > y  = \", x > y)   # True, Greater than\n",
    "print(\"x < y  = \", x < y)   # False, Less than\n",
    "print(\"x >= y = \", x >= y)  # True, Greater than or equal\n",
    "print(\"x <= y = \", x <= y)  # False, Less than or equal"
   ]
  },
  {
   "cell_type": "markdown",
   "metadata": {},
   "source": [
    "## **3. Logical Operators**\n",
    "Used to combine conditional statements.\n",
    "\n",
    "<br>\n",
    "\n",
    "| Operator | Name        | Example                   |\n",
    "|----------|-------------|---------------------------|\n",
    "| and      | Logical AND | (5 > 3 and 10 > 5) → True |\n",
    "| or       | Logical OR  | (5 > 3 or 10 < 5) → True  |\n",
    "| not      | Logical NOT | not(5 > 3) → False        |\n",
    "\n",
    "\n",
    "<br>\n",
    "\n",
    "### **Example**"
   ]
  },
  {
   "cell_type": "code",
   "execution_count": 37,
   "metadata": {},
   "outputs": [
    {
     "name": "stdout",
     "output_type": "stream",
     "text": [
      "x and y =  False\n",
      "x or y  =  True\n",
      "not x   =  False\n"
     ]
    }
   ],
   "source": [
    "x: bool = True\n",
    "y: bool = False\n",
    "\n",
    "print(\"x and y = \", x and y)  # False\n",
    "print(\"x or y  = \", x or y)   # True\n",
    "print(\"not x   = \", not x)    # False"
   ]
  },
  {
   "cell_type": "markdown",
   "metadata": {},
   "source": [
    "## **4. Assignment Operators**\n",
    "Used to assign values to variables.\n",
    "\n",
    "<br>\n",
    "\n",
    "| Operator | Example | Equivalent To |\n",
    "|----------|---------|---------------|\n",
    "| =        | x = 5   | x = 5         |\n",
    "| +=       | x += 3  | x = x + 3     |\n",
    "| -=       | x -= 3  | x = x - 3     |\n",
    "| *=       | x *= 3  | x = x * 3     |\n",
    "| /=       | x /= 3  | x = x / 3     |\n",
    "| //=      | x //= 3 | x = x // 3    |\n",
    "|          |         |               |\n",
    "\n",
    "\n",
    "### **Example**\n"
   ]
  },
  {
   "cell_type": "code",
   "execution_count": 44,
   "metadata": {},
   "outputs": [
    {
     "name": "stdout",
     "output_type": "stream",
     "text": [
      "Assignment: x = 5, Output 5\n",
      "Addition Assignment: x += 3, Output 8\n",
      "Subtraction Assignment: x -= 3, Output 5\n",
      "Multiplication Assignment: x *= 3, Output 15\n",
      "Division Assignment: x /= 3, Output 5.0\n",
      "Floor Division Assignment: x //= 3, Output 1.0\n"
     ]
    }
   ],
   "source": [
    "x = 5\n",
    "print(\"Assignment: x = 5, Output\" , x) # Output 5\n",
    "\n",
    "x+=3 # Equivalent to x = x + 3\n",
    "print(\"Addition Assignment: x += 3, Output\" , x) # Output 8\n",
    "\n",
    "x -= 3 # Equivalent to x = -3\n",
    "print(\"Subtraction Assignment: x -= 3, Output\", x) # Output 5\n",
    "\n",
    "x *= 3 # Equivalent to x = x * 3\n",
    "print(\"Multiplication Assignment: x *= 3, Output\", x) # Output 15\n",
    "\n",
    "x /= 3 # Equivalent to x = x / 3\n",
    "print(\"Division Assignment: x /= 3, Output\", x) # Output 5.0\n",
    "\n",
    "x //= 3 # Equivalent to x = x // 3\n",
    "print(\"Floor Division Assignment: x //= 3, Output\", x) # Output 1.0"
   ]
  },
  {
   "cell_type": "markdown",
   "metadata": {},
   "source": [
    "Why Use Shorthand Operators?\n",
    "\n",
    "* `Readability`: Makes the code more concise and easier to read.\n",
    "* `Efficiency`: Reduces the need to repeat the variable name.\n",
    "* `Common Practice`: Widely used in Python and other programming languages."
   ]
  },
  {
   "cell_type": "markdown",
   "metadata": {},
   "source": [
    "## **5. Identity Operators**\n",
    "Used to compare `memory locations.`\n",
    "\n",
    "<br>\n",
    "\n",
    "| Operator | Name                                                         | Example    |\n",
    "|----------|--------------------------------------------------------------|------------|\n",
    "| is       | Returns True if objects have the same memory location        | x is y     |\n",
    "| is not   | Returns True if objects do not have the same memory location | x is not y |\n",
    "\n",
    "\n",
    "### **Example**"
   ]
  },
  {
   "cell_type": "code",
   "execution_count": 46,
   "metadata": {},
   "outputs": [
    {
     "name": "stdout",
     "output_type": "stream",
     "text": [
      "my_list = [1, 2, 3, 4, 5]\n",
      "3 in my list = True\n",
      "10 not in my_list =  True\n",
      "\n",
      "-----\n",
      "\n",
      "my_string =  Hello World\n",
      "'W' in my_string  =  True\n",
      "'Python' not in my_string  =  True\n"
     ]
    }
   ],
   "source": [
    "my_list: list = [1, 2, 3, 4, 5]\n",
    "\n",
    "print(\"my_list =\",my_list ) # [1, 2, 3, 4, 5]\n",
    "print(\"3 in my list =\", 3 in my_list) # True\n",
    "print(\"10 not in my_list = \", 10 not in my_list)  # True\n",
    "\n",
    "print(\"\\n-----\\n\")\n",
    "\n",
    "my_string: str = \"Hello World\"\n",
    "\n",
    "print(\"my_string = \", my_string)                # Operation Badar\n",
    "print(\"'W' in my_string  = \", 'W' in my_string)         # True\n",
    "print(\"'Python' not in my_string  = \", 'Python' not in my_string) # True"
   ]
  },
  {
   "cell_type": "markdown",
   "metadata": {},
   "source": [
    "# **Python Keywords**\n",
    "\n",
    "Keywords in Python are `reserved words` that have special meanings and serve specific purposes in the language syntax. Python keywords cannot be used as the names of variables, functions, and classes or any other identifier."
   ]
  },
  {
   "cell_type": "code",
   "execution_count": 48,
   "metadata": {},
   "outputs": [
    {
     "name": "stdout",
     "output_type": "stream",
     "text": [
      "This is a very long string. It continues on the next line.\n",
      "['False', 'None', 'True', 'and', 'as', 'assert', 'async', 'await', 'break', 'class', 'continue', 'def', 'del', 'elif', 'else', 'except', 'finally', 'for', 'from', 'global', 'if', 'import', 'in', 'is', 'lambda', 'nonlocal', 'not', 'or', 'pass', 'raise', 'return', 'try', 'while', 'with', 'yield']\n"
     ]
    }
   ],
   "source": [
    "import keyword\n",
    "\n",
    "# Line continuation (`\\`) allows printing a statement over multiple lines, improving code readability without breaking the string.\n",
    "\n",
    "print(\"This is a very long string. \\\n",
    "It continues on the next line.\")\n",
    "\n",
    "# printing all keywords at once using \"kwlist()\"\n",
    "print(keyword.kwlist)"
   ]
  },
  {
   "cell_type": "markdown",
   "metadata": {},
   "source": [
    "You cant use keywords/ reserved words as variable name.\n",
    "\n",
    "Uncomment below line to see error"
   ]
  },
  {
   "cell_type": "code",
   "execution_count": 51,
   "metadata": {},
   "outputs": [],
   "source": [
    "# and:bool = True"
   ]
  },
  {
   "cell_type": "markdown",
   "metadata": {},
   "source": [
    "# **Python Variables**\n",
    "\n",
    "In Python, variables are used to store data that can be referenced and manipulated during program execution. A variable is essentially a name that is assigned to a value. Unlike many other programming languages, **Python variables do not require explicit declaration of type. The type of the variable is `inferred` based on the value assigned.**\n",
    "\n",
    "(**`inferred`** *meaning deduce or conclude (something) from evidence and reasoning rather than from explicit statements.*)\n",
    "\n",
    "\n",
    "Variables act as placeholders for data. They allow us to store and reuse values in our program.\n",
    "\n",
    "<br>\n",
    "\n",
    "\n",
    "## **Rules for Naming Variables**\n",
    "To use variables effectively, we must follow Python’s naming rules:\n",
    "\n",
    "* Variable names can only contain `letters, digits and underscores` (`_`).\n",
    "* A variable name `cannot` start with a `digit`.\n",
    "* Variable names are `case-sensitive` (`myVar` and `myvar` are different).\n",
    "* Avoid using Python keywords (e.g., if, else, for) as variable names.\n"
   ]
  },
  {
   "cell_type": "code",
   "execution_count": 52,
   "metadata": {},
   "outputs": [
    {
     "ename": "SyntaxError",
     "evalue": "invalid decimal literal (3936205773.py, line 8)",
     "output_type": "error",
     "traceback": [
      "\u001b[1;36m  Cell \u001b[1;32mIn[52], line 8\u001b[1;36m\u001b[0m\n\u001b[1;33m    2name = \"Bob\"          # ❌ Starts with a digit\u001b[0m\n\u001b[1;37m    ^\u001b[0m\n\u001b[1;31mSyntaxError\u001b[0m\u001b[1;31m:\u001b[0m invalid decimal literal\n"
     ]
    }
   ],
   "source": [
    "# Valid variable names\n",
    "name = \"Alice\"\n",
    "_age = 25\n",
    "salary2024 = 50000\n",
    "my_variable = \"Python\"\n",
    "\n",
    "# Invalid variable names\n",
    "2name = \"Bob\"          # ❌ Starts with a digit\n",
    "my-variable = \"Error\"  # ❌ Contains a hyphen\n",
    "class = \"CS101\"        # ❌ Uses a reserved keyword"
   ]
  },
  {
   "cell_type": "markdown",
   "metadata": {},
   "source": [
    "## **Different naming conventions**\n",
    "\n",
    "---\n",
    "\n",
    "\n",
    "\n",
    "[Naming Conventions — Camel Case, Pascal Case, Kebab Case, and More](https://medium.com/@code.ceeker/naming-conventions-camel-case-pascal-case-kebab-case-and-more-dc4e515b9652)"
   ]
  },
  {
   "cell_type": "markdown",
   "metadata": {},
   "source": [
    "![Naming Convention](images/naming.png)"
   ]
  },
  {
   "cell_type": "markdown",
   "metadata": {},
   "source": [
    "## **Special Naming Cases**\n",
    "\n",
    "<br>\n",
    "\n",
    "| Type                       | Example      | Used For                                 |\n",
    "|----------------------------|--------------|------------------------------------------|\n",
    "| Regular Variable           | total_cost   | General use                              |\n",
    "| Constant                   | PI = 3.14159 | Constants                                |\n",
    "| Class Name                 | BankAccount  | Class names                              |\n",
    "| Private Variable           | _password    | Internal use (not enforced)              |\n",
    "| Private with Name Mangling | __secret_key | Avoid accidental overrides in subclasses |\n",
    "| Special Method             | \\_\\_init\\_\\_     | Built-in methods                         |\n",
    "\n",
    "\n",
    "\n",
    "<br>\n",
    "<br>\n",
    "\n",
    "## Summary of Naming Conventions\n",
    "\n",
    "| Convention          | Used For                              | Example                       |\n",
    "|---------------------|---------------------------------------|-------------------------------|\n",
    "| snake_case          | Variables & functions                 | user_name, total_price        |\n",
    "| CamelCase           | Classes                               | BankAccount, DataScienceModel |\n",
    "| UPPER_CASE          | Constants                             | MAX_SPEED, PI                 |\n",
    "| _single_underscore  | Private variable (by convention)      | _config                       |\n",
    "| __double_underscore | Name mangling (avoid external access) | __password                    |\n",
    "| \\_\\_dunder\\_\\_          | Special methods                       | \\_\\_init\\_\\_, \\_\\_str\\_\\_             |"
   ]
  },
  {
   "cell_type": "markdown",
   "metadata": {},
   "source": [
    "Here are the naming conventions in Python with their respective names:\n",
    "\n",
    "1. **CapWords** or **PascalCase**: Class names\n",
    "2. **snake_case**: Variable names, function names, method names, module names, package names\n",
    "3. **UPPER_CASE**: Constant names\n",
    "4. **dunder** (double underscore): Special method names (e.g. `__init__`, `__str__`)\n",
    "\n",
    "<br>\n",
    "\n",
    "It's worth noting that the official Python style guide, PEP 8, recommends using **`CapWords`** for `class names` and **`snake_case`** for `variable names`, `function names`, and `other identifiers`.\n",
    "\n",
    "[PEP 8 – Style Guide for Python Code](https://peps.python.org/pep-0008/)"
   ]
  },
  {
   "cell_type": "markdown",
   "metadata": {},
   "source": [
    "## **Assigning Different Values**\n",
    "\n",
    "We can assign different values to multiple variables simultaneously, making the code concise and easier to read."
   ]
  },
  {
   "cell_type": "code",
   "execution_count": 53,
   "metadata": {},
   "outputs": [
    {
     "name": "stdout",
     "output_type": "stream",
     "text": [
      "1 2.5 Python\n"
     ]
    }
   ],
   "source": [
    "x, y, z = 1, 2.5, \"Python\" # Using type hints while assigning mutiple variables simultaneously cause and error invalid syntax\n",
    "\n",
    "print(x, y, z)"
   ]
  },
  {
   "cell_type": "code",
   "execution_count": 54,
   "metadata": {},
   "outputs": [
    {
     "ename": "SyntaxError",
     "evalue": "invalid syntax (3422660174.py, line 1)",
     "output_type": "error",
     "traceback": [
      "\u001b[1;36m  Cell \u001b[1;32mIn[54], line 1\u001b[1;36m\u001b[0m\n\u001b[1;33m    x: int, y: float, z: str = 1, 2.5, \"Python\" # Using type hints while assigning mutiple variables simultaneously cause and error invalid syntax\u001b[0m\n\u001b[1;37m          ^\u001b[0m\n\u001b[1;31mSyntaxError\u001b[0m\u001b[1;31m:\u001b[0m invalid syntax\n"
     ]
    }
   ],
   "source": [
    "x: int, y: float, z: str = 1, 2.5, \"Python\" # Using type hints while assigning mutiple variables simultaneously cause and error invalid syntax\n",
    "\n",
    "print(x, y, z)"
   ]
  },
  {
   "cell_type": "markdown",
   "metadata": {},
   "source": [
    "## **Delete a Variable Using del Keyword**\n",
    "\n",
    "We can remove a variable from the namespace using the del keyword. This effectively deletes the variable and frees up the memory it was using."
   ]
  },
  {
   "cell_type": "code",
   "execution_count": 55,
   "metadata": {},
   "outputs": [
    {
     "name": "stdout",
     "output_type": "stream",
     "text": [
      "10\n"
     ]
    }
   ],
   "source": [
    "# Assigning value to variable\n",
    "x: int = 10\n",
    "print(x)"
   ]
  },
  {
   "cell_type": "code",
   "execution_count": 56,
   "metadata": {},
   "outputs": [],
   "source": [
    "# Removing the variable from memory using del keyword\n",
    "del x"
   ]
  },
  {
   "cell_type": "code",
   "execution_count": 57,
   "metadata": {},
   "outputs": [
    {
     "ename": "NameError",
     "evalue": "name 'x' is not defined",
     "output_type": "error",
     "traceback": [
      "\u001b[1;31m---------------------------------------------------------------------------\u001b[0m",
      "\u001b[1;31mNameError\u001b[0m                                 Traceback (most recent call last)",
      "Cell \u001b[1;32mIn[57], line 3\u001b[0m\n\u001b[0;32m      1\u001b[0m \u001b[38;5;66;03m# Trying to print x after deletion will raise an error\u001b[39;00m\n\u001b[0;32m      2\u001b[0m \u001b[38;5;66;03m# print(x)  # Uncommenting this line will raise NameError: name 'x' is not defined\u001b[39;00m\n\u001b[1;32m----> 3\u001b[0m \u001b[38;5;28mprint\u001b[39m(\u001b[43mx\u001b[49m) \u001b[38;5;66;03m# NameError: name 'x' is not defined, because we already delete variable x (del x)\u001b[39;00m\n",
      "\u001b[1;31mNameError\u001b[0m: name 'x' is not defined"
     ]
    }
   ],
   "source": [
    "# Trying to print x after deletion will raise an error\n",
    "# print(x)  # Uncommenting this line will raise NameError: name 'x' is not defined\n",
    "print(x) # NameError: name 'x' is not defined, because we already delete variable x (del x)"
   ]
  },
  {
   "cell_type": "markdown",
   "metadata": {},
   "source": [
    "### Explanation:\n",
    "\n",
    "`del` x removes the variable x from memory.\n",
    "After deletion, trying to access the variable x results in a NameError, indicating that the variable no longer exists."
   ]
  }
 ],
 "metadata": {
  "kernelspec": {
   "display_name": "Python 3",
   "language": "python",
   "name": "python3"
  },
  "language_info": {
   "codemirror_mode": {
    "name": "ipython",
    "version": 3
   },
   "file_extension": ".py",
   "mimetype": "text/x-python",
   "name": "python",
   "nbconvert_exporter": "python",
   "pygments_lexer": "ipython3",
   "version": "3.13.2"
  }
 },
 "nbformat": 4,
 "nbformat_minor": 2
}
