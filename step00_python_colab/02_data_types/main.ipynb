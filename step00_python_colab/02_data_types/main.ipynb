{
 "cells": [
  {
   "cell_type": "markdown",
   "metadata": {},
   "source": [
    "<font color=\"#4ee247\" size=8>**Lesson # 02**</font>"
   ]
  },
  {
   "cell_type": "markdown",
   "metadata": {},
   "source": [
    "# **Python Data Types**\n",
    "\n",
    "\n",
    "---\n",
    "\n",
    "Data types determine the type of value a variable can hold and the operations that can be performed on it. They define the format, structure, size, range, and behavior of data, controlling how it's stored and used in a program. This helps ensure data is used correctly and efficiently."
   ]
  },
  {
   "cell_type": "markdown",
   "metadata": {},
   "source": [
    "![Python Data Types](images/datatype.png)"
   ]
  },
  {
   "cell_type": "markdown",
   "metadata": {},
   "source": [
    "# **1. Numeric Types**\n",
    "Python has three main numeric types:\n",
    "\n",
    "## a. Integer (int)\n",
    "Whole numbers, positive or negative, without decimals."
   ]
  },
  {
   "cell_type": "code",
   "execution_count": 2,
   "metadata": {},
   "outputs": [
    {
     "name": "stdout",
     "output_type": "stream",
     "text": [
      "<class 'int'> num_int =  42\n"
     ]
    }
   ],
   "source": [
    "num_int:int = 42\n",
    "print(type(num_int),\"num_int = \", num_int) # <class 'int'>"
   ]
  },
  {
   "cell_type": "markdown",
   "metadata": {},
   "source": [
    "## b. Floating-Point (float)\n",
    "Numbers with decimal points."
   ]
  },
  {
   "cell_type": "code",
   "execution_count": 3,
   "metadata": {},
   "outputs": [
    {
     "name": "stdout",
     "output_type": "stream",
     "text": [
      "<class 'float'> num_float =  3.142\n"
     ]
    }
   ],
   "source": [
    "num_float:float = 3.142\n",
    "#num_float:float = .142\n",
    "print(type(num_float), \"num_float = \", num_float) # <class 'float'>"
   ]
  },
  {
   "cell_type": "markdown",
   "metadata": {},
   "source": [
    "## c. Complex (complex)\n",
    "Numbers with a real and imaginary part."
   ]
  },
  {
   "cell_type": "code",
   "execution_count": 4,
   "metadata": {},
   "outputs": [
    {
     "name": "stdout",
     "output_type": "stream",
     "text": [
      "<class 'complex'> num_complex =  (2+3j)\n"
     ]
    }
   ],
   "source": [
    "num_complex:complex = 2 +3j\n",
    "print(type(num_complex), \"num_complex = \", num_complex) # <class 'complex'>"
   ]
  },
  {
   "cell_type": "markdown",
   "metadata": {},
   "source": [
    "# **2. Boolean (bool)**\n",
    "Represents True or False."
   ]
  },
  {
   "cell_type": "code",
   "execution_count": 5,
   "metadata": {},
   "outputs": [
    {
     "name": "stdout",
     "output_type": "stream",
     "text": [
      "<class 'bool'>  is_python_fun =  True\n"
     ]
    }
   ],
   "source": [
    "is_python_fun: bool = True #False\n",
    "\n",
    "print(type(is_python_fun), \" is_python_fun = \", is_python_fun)  # <class 'bool'>"
   ]
  },
  {
   "cell_type": "markdown",
   "metadata": {},
   "source": [
    "# **3. Sequence Types**\n",
    "These store multiple items in an ordered way.\n",
    "\n",
    "## a. String (str)\n",
    "A sequence of characters enclosed in quotes."
   ]
  },
  {
   "cell_type": "code",
   "execution_count": 6,
   "metadata": {},
   "outputs": [
    {
     "name": "stdout",
     "output_type": "stream",
     "text": [
      "<class 'str'> text_double =  Hello, Python!\n",
      "<class 'str'> text_single =  Hello, Python!\n",
      "<class 'str'> text_multi =  Hello, Python!\n",
      "<class 'str'> text_multi_1 =  Hello, Python!\n"
     ]
    }
   ],
   "source": [
    "text_double:str =\"Hello, Python!\" # string with double quotes\n",
    "text_single:str ='Hello, Python!' # string with single quotes\n",
    "text_multi:str = '''Hello, Python!''' # Multi-Line Strings with Triple Quotes (''' or \"\"\")\n",
    "text_multi_1:str = \"\"\"Hello, Python!\"\"\" # Multi-Line Strings with Triple Quotes (''' or \"\"\")\n",
    "\n",
    "print(type(text_double), \"text_double = \", text_double) # <class 'str'>\n",
    "print(type(text_single), \"text_single = \", text_single) # <class 'str'>\n",
    "print(type(text_multi), \"text_multi = \", text_multi) # <class 'str'>\n",
    "print(type(text_multi_1), \"text_multi_1 = \", text_multi_1) # <class 'str'>"
   ]
  },
  {
   "cell_type": "markdown",
   "metadata": {},
   "source": [
    "### Key Takeaways\n",
    "- Double Quotes (\"): Use when the string contains single quotes.\n",
    "- Single Quotes ('): Use when the string contains double quotes.\n",
    "- Triple Quotes (''' or \"\"\"): Use for multi-line strings or docstrings.\n",
    "\n",
    "<br>\n",
    "\n",
    "Understanding these variations allows you to `write cleaner, more readable, and error-free code`. As you progress in Python, you’ll find that strings are incredibly powerful, especially when combined with string methods, formatting, and manipulation techniques."
   ]
  },
  {
   "cell_type": "markdown",
   "metadata": {},
   "source": [
    "## b. List (list)\n",
    "An ordered, mutable collection."
   ]
  },
  {
   "cell_type": "code",
   "execution_count": 7,
   "metadata": {},
   "outputs": [
    {
     "name": "stdout",
     "output_type": "stream",
     "text": [
      "<class 'list'> my_list_1 =  [1, 2, 3, 'Java', 3.142, True]\n",
      "<class 'list'> my_list_2 =  [1, 2, 3, 'Python', 3.142, (3+2j)]\n"
     ]
    }
   ],
   "source": [
    "my_list_1:list = [1, 2, 3, \"Java\", 3.142, True] # Type hinting is not enforced in python, but you should mention appropriate data type in this case 'list'\n",
    "my_list_2:list = [1, 2, 3, \"Python\", 3.142, 3+2j]\n",
    "\n",
    "print(type(my_list_1), \"my_list_1 = \", my_list_1) # <class 'list'>\n",
    "print(type(my_list_2), \"my_list_2 = \", my_list_2) # <class 'list'>"
   ]
  },
  {
   "cell_type": "markdown",
   "metadata": {},
   "source": [
    "## c. Tuple (tuple)\n",
    "An ordered, immutable collection."
   ]
  },
  {
   "cell_type": "code",
   "execution_count": 8,
   "metadata": {},
   "outputs": [
    {
     "name": "stdout",
     "output_type": "stream",
     "text": [
      "<class 'tuple'> my_tuple =  (1, 2, 3, 'AI', 2.71, False, 0.3, (3+2j))\n"
     ]
    }
   ],
   "source": [
    "my_tuple: tuple = (1, 2, 3, \"AI\", 2.71, False, .3, 3+2j)\n",
    "print(type(my_tuple), \"my_tuple = \", my_tuple) # <class 'tuple'>"
   ]
  },
  {
   "cell_type": "markdown",
   "metadata": {},
   "source": [
    "## d. Range (range)\n",
    "Represents a sequence of numbers."
   ]
  },
  {
   "cell_type": "code",
   "execution_count": 9,
   "metadata": {},
   "outputs": [
    {
     "name": "stdout",
     "output_type": "stream",
     "text": [
      "<class 'range'> num_range =  range(1, 20, 3)\n"
     ]
    }
   ],
   "source": [
    "num_range:range = range(1, 20, 3) # range(start, stop, step)\n",
    "print(type(num_range), \"num_range = \", num_range) # <class 'range'>"
   ]
  },
  {
   "cell_type": "code",
   "execution_count": 10,
   "metadata": {},
   "outputs": [
    {
     "name": "stdout",
     "output_type": "stream",
     "text": [
      "1\n",
      "4\n",
      "7\n",
      "10\n",
      "13\n",
      "16\n",
      "19\n"
     ]
    }
   ],
   "source": [
    "for i in range(1, 20, 3): # we will study loops indepth in classes ahead\n",
    "    print(i)"
   ]
  },
  {
   "cell_type": "markdown",
   "metadata": {},
   "source": [
    "# **4. Set Types**\n",
    "`(We will cover this indepth in classes ahead)`\n",
    "\n",
    "Unordered collections with unique elements.\n",
    "\n",
    "## a. Set (set)\n",
    "`Mutable`, `unordered`, and contains `unique values`."
   ]
  },
  {
   "cell_type": "code",
   "execution_count": 11,
   "metadata": {},
   "outputs": [
    {
     "name": "stdout",
     "output_type": "stream",
     "text": [
      "<class 'set'> my_set =  {1, 2, 3, 4, 5, 22}\n"
     ]
    }
   ],
   "source": [
    "my_set:set = {1, 2, 22, 3, 4, 4 , 5}\n",
    "print(type(my_set), \"my_set = \", my_set) # <class 'set'>"
   ]
  },
  {
   "cell_type": "markdown",
   "metadata": {},
   "source": [
    "## b. Frozen Set (frozenset)\n",
    "In Python, a `frozenset` is an immutable version of a `set`. Unlike a regular `set`, which is mutable, a `frozenset` cannot be changed after creation. This makes it hashable and usable as a key in dictionaries or an element in other sets."
   ]
  },
  {
   "cell_type": "code",
   "execution_count": 12,
   "metadata": {},
   "outputs": [
    {
     "name": "stdout",
     "output_type": "stream",
     "text": [
      "<class 'frozenset'>  frozen_set =  frozenset({2, 3, 4, 5, 11})\n"
     ]
    }
   ],
   "source": [
    "frozen_set = frozenset([11, 2, 3, 4, 4, 5])\n",
    "#frozen_set = frozenset(my_set)\n",
    "print(type(frozen_set), \" frozen_set = \", frozen_set)  # <class 'frozenset'>"
   ]
  },
  {
   "cell_type": "markdown",
   "metadata": {},
   "source": [
    "# **5. Mapping Type (Dictionary) **\n",
    "\n",
    "Dictionary (dict)\n",
    "Stores key-value pairs."
   ]
  },
  {
   "cell_type": "code",
   "execution_count": 13,
   "metadata": {},
   "outputs": [
    {
     "name": "stdout",
     "output_type": "stream",
     "text": [
      "<class 'dict'>"
     ]
    },
    {
     "name": "stdout",
     "output_type": "stream",
     "text": [
      " my_dict =  {'name': 'Osama', 'age': 25, 'country': 'Pakistan', 'language': 'Python'}\n"
     ]
    }
   ],
   "source": [
    "my_dict:dict = {\"name\": \"Osama\", \"age\": 25, \"country\": \"Pakistan\", \"language\": \"Python\"}\n",
    "print(type(my_dict), \"my_dict = \", my_dict) # <class 'dict'>"
   ]
  },
  {
   "cell_type": "markdown",
   "metadata": {},
   "source": [
    "# **6. Binary Types**\n",
    "In Python, binary types are used to handle binary data, such as raw bytes, binary files, or data exchanged over networks. Binary types are distinct from text types (str) and are specifically designed to represent and manipulate sequences of bytes. Python provides three built-in binary types:\n",
    "\n",
    "<br>\n",
    "\n",
    "## a. Bytes (bytes)\n",
    "\n",
    "1.  **Definition**: An immutable sequence of bytes.\n",
    "\n",
    "2.  **Purpose**: Used to represent binary data, such as byte sequences coming from files, network communications, or raw data.\n",
    "\n",
    "3.  **Key Points**:\n",
    "    * A bytes object is immutable, meaning you cannot modify its content after creation.\n",
    "    * It is often used when you need to work with fixed binary data.\n",
    "    * Literal syntax: b\"...\" or b'...'."
   ]
  },
  {
   "cell_type": "code",
   "execution_count": 14,
   "metadata": {},
   "outputs": [
    {
     "name": "stdout",
     "output_type": "stream",
     "text": [
      "<class 'bytes'> byte_data = b'Hello, Python!'\n"
     ]
    }
   ],
   "source": [
    "byte_date:bytes = b\"Hello, Python!\"\n",
    "print(type(byte_date),\"byte_data =\", byte_date) # <class 'bytes'>"
   ]
  },
  {
   "cell_type": "markdown",
   "metadata": {},
   "source": [
    "### **Its just an example to give you feel about how to work with binary data.**\n",
    "\n",
    "`We will learn more about file handling in classes ahead.`"
   ]
  },
  {
   "cell_type": "code",
   "execution_count": 31,
   "metadata": {},
   "outputs": [],
   "source": [
    "# Open an image file in binary mode\n",
    "with open(\"images/datatype.png\", \"rb\") as image_file:\n",
    "    image_data = image_file.read()\n",
    "# print(image_data)"
   ]
  },
  {
   "cell_type": "code",
   "execution_count": 16,
   "metadata": {},
   "outputs": [
    {
     "name": "stdout",
     "output_type": "stream",
     "text": [
      "Image copied successfully\n"
     ]
    }
   ],
   "source": [
    "with open(\"images/datatype.png\", \"rb\") as source_file:\n",
    "    data =source_file.read()\n",
    "\n",
    "# Write a binary data to new Image file\n",
    "with open(\"images/copy.jpg\", \"wb\") as target_file:\n",
    "    target_file.write(data)\n",
    "\n",
    "print(\"Image copied successfully\")"
   ]
  },
  {
   "cell_type": "markdown",
   "metadata": {},
   "source": [
    "## b. Bytearray (bytearray)\n",
    "\n",
    "1.  **Definition**: A mutable sequence of bytes.\n",
    "\n",
    "2.  **Purpose**: Like bytes, but allows modification of its content.\n",
    "\n",
    "3.  **Key Points**:\n",
    "    * You can modify the content of a bytearray object in place.\n",
    "    * Suitable for cases where you need to update or manipulate binary data frequently.\n",
    "    * Literal syntax: Does not have direct literal syntax (must use bytearray() constructor).\n"
   ]
  },
  {
   "cell_type": "markdown",
   "metadata": {},
   "source": [
    "## **Number Systems**\n",
    "\n",
    "* **ASCII**:\n",
    "\n",
    "  The American Standard Code for Information Interchange (ASCII) is a character encoding standard that represents text in computers using numeric codes. It maps 128 characters (letters, digits, punctuation, and control characters) to values from 0 to 127.\n",
    "\n",
    "* **Decimal**:\n",
    "\n",
    "  The decimal system is the standard numerical system used in everyday life, based on 10 digits (0 through 9). It's a base-10 system, where each digit's position represents a power of 10.\n",
    "\n",
    "* **Hexadecimal**:\n",
    "\n",
    "  The hexadecimal system is a base-16 numbering system, using 16 symbols: 0–9 to represent values 0 to 9, and A–F (or a–f) to represent values 10 to 15. It's widely used in computing for compact representation of binary data.\n",
    "\n",
    "* **Octal**:\n",
    "\n",
    "  The octal system is a base-8 numbering system, using digits 0 through 7. It was more commonly used in older computer systems and is still occasionally used in modern computing, especially for file permissions in Unix/Linux.\n",
    "\n",
    "* **Binary**:\n",
    "\n",
    "  The binary system is a base-2 numbering system that uses only two digits: 0 and 1. It's the fundamental language of computers, where each binary digit (bit) represents a state of off or on.\n",
    "\n",
    "<br>\n",
    "\n",
    "### **What is a Base in Number Systems?**\n",
    "\n",
    "A base (or radix) in a number system refers to the number of **`unique digits`** (including zero) used to represent numbers. It defines how place values are assigned to digits in a numeral.\n",
    "\n",
    "<br>\n",
    "\n",
    "[ASCII, decimal, hexadecimal, octal, and binary conversion table](https://www.ascii-code.com/ASCII)\n"
   ]
  },
  {
   "cell_type": "code",
   "execution_count": 17,
   "metadata": {},
   "outputs": [
    {
     "name": "stdout",
     "output_type": "stream",
     "text": [
      "<class 'bytearray'> byte_array =  bytearray(b'ABCD')\n",
      "65\n",
      "A\n",
      "Empty bytearray():  bytearray(b'')\n"
     ]
    }
   ],
   "source": [
    "# Creating a bytearray from a list of integers (ASCII values)\n",
    "# 65 = 'A', 66 = 'B', 67 = 'C', 68 = 'D' in the decimal number system\n",
    "byte_array: bytearray = bytearray([65, 66, 67, 68])\n",
    "\n",
    "# Printing the type of byte_array and its contents\n",
    "print(type(byte_array), \"byte_array = \", byte_array)  # Output: <class 'bytearray'> byte_array = bytearray(b'ABCD')\n",
    "\n",
    "# Accessing the first element of the bytearray (ASCII value of 'A')\n",
    "print(byte_array[0])  # Output: 65\n",
    "\n",
    "# Converting the first byte to its corresponding character\n",
    "print(chr(byte_array[0]))  # Output: A\n",
    "\n",
    "# Creating an empty bytearray and printing it\n",
    "print(\"Empty bytearray(): \", bytearray())  # Output: Empty bytearray(): bytearray(b'')\n"
   ]
  },
  {
   "cell_type": "markdown",
   "metadata": {},
   "source": [
    "### **What is UTF-8?**\n",
    "\n",
    "UTF-8 (8-bit Unicode Transformation Format) is a variable-length character encoding that can represent every character in the Unicode standard. It is designed for efficiency and compatibility:"
   ]
  },
  {
   "cell_type": "code",
   "execution_count": 18,
   "metadata": {},
   "outputs": [
    {
     "name": "stdout",
     "output_type": "stream",
     "text": [
      "Decoded string:  ABCD\n"
     ]
    }
   ],
   "source": [
    "byte_array: bytearray = bytearray([65, 66, 67, 68])\n",
    "# Converting the entire byte array to a string using decode()\n",
    "print(\"Decoded string: \", byte_array.decode(\"utf-8\")) # Output: Decoded string ABCD"
   ]
  },
  {
   "cell_type": "code",
   "execution_count": 19,
   "metadata": {},
   "outputs": [
    {
     "name": "stdout",
     "output_type": "stream",
     "text": [
      "Before ba =  bytearray(b'hello World')\n",
      "After ba =  bytearray(b'Hello World')\n"
     ]
    }
   ],
   "source": [
    "# Creating a bytearray object\n",
    "ba:bytearray = bytearray(b'hello World')\n",
    "print(\"Before ba = \", ba)\n",
    "\n",
    "# Modifying the bytearray object\n",
    "ba[0] = 72 # ASCII value of 'H'\n",
    "print(\"After ba = \", ba) # Output: bytearray(b'Hello World')"
   ]
  },
  {
   "cell_type": "markdown",
   "metadata": {},
   "source": [
    "## c. Memoryview (memoryview)\n",
    "\n",
    "The memoryview object in Python provides an efficient way to work with binary data by allowing you to access and manipulate the memory of another object (like bytes or bytearray) without copying the data. This is particularly useful when working with large datasets or binary streams, as it avoids the overhead of creating additional copies."
   ]
  },
  {
   "cell_type": "code",
   "execution_count": 20,
   "metadata": {},
   "outputs": [
    {
     "name": "stdout",
     "output_type": "stream",
     "text": [
      "<class 'memoryview'> mem_view =  <memory at 0x0000024FD12ECE80>\n",
      "b'Opera'\n",
      "<memory at 0x0000024FD12EDFC0>\n"
     ]
    }
   ],
   "source": [
    "mem_view: memoryview = memoryview(b\"Operation Badar\")\n",
    "print(type(mem_view), \"mem_view = \", mem_view) # <class 'memoryview'>\n",
    "print(bytes(mem_view[0:5]))\n",
    "print(mem_view[6:11]) # cast it to byte otherwise it will show memory address"
   ]
  },
  {
   "cell_type": "markdown",
   "metadata": {},
   "source": [
    "**None Data Type in Python**\n",
    "==========================\n",
    "\n",
    "In Python, `None` is a special data type that represents the absence of a value or a null object reference. It is a `singleton object`, meaning that there is `only one instance` of `None` in the entire Python environment.\n",
    "\n",
    "* **No value**: `None` represents the absence of a value or a null object reference."
   ]
  },
  {
   "cell_type": "code",
   "execution_count": 21,
   "metadata": {},
   "outputs": [
    {
     "name": "stdout",
     "output_type": "stream",
     "text": [
      "<class 'NoneType'>\n",
      "Value of x = None\n",
      "x == y =  True\n",
      "id(x) =  140715695505904\n",
      "id(y) =  140715695505904\n",
      "id(z) =  140715695505904\n",
      "x is y =  True\n",
      "x is z =  True\n",
      "id(x) is id(z) =  False\n",
      "id(x) == id(z) =  True\n"
     ]
    },
    {
     "data": {
      "text/plain": [
       "'\\nWhy is `id(x) is id(z)` False but `id(x) == id(z)` True?\\n\\nIn Python, `==` is the equality operator, which checks if the values of two objects are equal.\\nOn the other hand, `is` is the identity operator, which checks if two objects are the same object in memory.\\n\\n'"
      ]
     },
     "execution_count": 21,
     "metadata": {},
     "output_type": "execute_result"
    }
   ],
   "source": [
    "x: str = None  # Assigning None to x\n",
    "y: str = None  # Assigning None to y\n",
    "z: str = x  # Assigning x to z (z now references the same object as x)\n",
    "\n",
    "# Display the data type of x\n",
    "print(type(x))  # Output: <class 'NoneType'> (because x holds None, not a string)\n",
    "\n",
    "# Printing the value of x\n",
    "print(\"Value of x = \" + str(x))  # Output: Value of x = None\n",
    "\n",
    "# Checking if x and y are equal (value comparison)\n",
    "print(\"x == y = \", x == y)  # Output: True (since both are None)\n",
    "\n",
    "# Displaying memory addresses (IDs) of x, y, and z\n",
    "print(\"id(x) = \", id(x))  # Memory address of x (None)\n",
    "print(\"id(y) = \", id(y))  # Memory address of y (None)\n",
    "print(\"id(z) = \", id(z))  # Memory address of z (which is also None)\n",
    "\n",
    "# Checking if x and y are the same object in memory (identity comparison)\n",
    "print(\"x is y = \", x is y)  # Output: True (since None is a singleton)\n",
    "\n",
    "# Checking if x and z are the same object in memory\n",
    "print(\"x is z = \", x is z)  # Output: True (since z is assigned x directly)\n",
    "\n",
    "# Checking if the identity of x and z are the same\n",
    "print(\"id(x) is id(z) = \", id(x) is id(z))  # Output: False 😲\n",
    "\n",
    "# Checking if the numerical values of memory addresses are the same\n",
    "print(\"id(x) == id(z) = \", id(x) == id(z))  # Output: True ✅\n",
    "\n",
    "'''\n",
    "Why is `id(x) is id(z)` False but `id(x) == id(z)` True?\n",
    "\n",
    "In Python, `==` is the equality operator, which checks if the values of two objects are equal.\n",
    "On the other hand, `is` is the identity operator, which checks if two objects are the same object in memory.\n",
    "\n",
    "'''\n"
   ]
  },
  {
   "cell_type": "code",
   "execution_count": 22,
   "metadata": {},
   "outputs": [
    {
     "name": "stdout",
     "output_type": "stream",
     "text": [
      "None is None            =  True\n",
      "None == None            =  True\n",
      "None == x               =  True\n",
      "None is x               =  True\n",
      "id(None) is id(None)    =  False\n"
     ]
    }
   ],
   "source": [
    "# Checking if 'None' is identical to 'None' (same memory address)\n",
    "print(\"None is None            = \", None is None)  # Output: True\n",
    "\n",
    "# Checking if 'None' is equal to 'None' (value comparison)\n",
    "print(\"None == None            = \", None == None)  # Output: True\n",
    "\n",
    "# Checking if 'None' is equal to 'x' (value comparison)\n",
    "print(\"None == x               = \", None == x)  # Output: True if x is None, otherwise False\n",
    "\n",
    "# Checking if 'None' is identical to 'x' (identity comparison)\n",
    "print(\"None is x               = \", None is x)  # Output: True if x is None, otherwise False\n",
    "\n",
    "# Checking if the memory address of 'None' is the same using `id(None)`\n",
    "print(\"id(None) is id(None)    = \", id(None) is id(None))  # Output: False (explained below) | # 'is' check memory space sharing\n",
    "\n",
    "# #If number is out of integer literal range -5 to 256 then even the same number are considered as seprate object\n"
   ]
  },
  {
   "cell_type": "markdown",
   "metadata": {},
   "source": [
    "**id() Function in Python**\n",
    "==========================\n",
    "\n",
    "The `id()` function in Python returns the `unique identifier` for an `object`. This identifier is a small integer that is unique among all objects currently in existence of your python environment.\n",
    "\n",
    "**What is the Purpose of id()**\n",
    "-----------------------------\n",
    "\n",
    "The `id()` function is used to:\n",
    "\n",
    "* **Identify objects**: The `id()` function returns a `unique identifier` that can be used to identify objects in memory.\n",
    "* **Check object equality**: By checking the `id()` of two objects, you can determine if they are the `same object in memory`.\n",
    "* **Debugging**: The `id()` function can be useful for debugging purposes, such as identifying which object is being referenced by a variable."
   ]
  },
  {
   "cell_type": "code",
   "execution_count": 23,
   "metadata": {},
   "outputs": [
    {
     "name": "stdout",
     "output_type": "stream",
     "text": [
      "Variable x, y & z have 'None' value, as we know that 'None' is a singleton object,\n",
      "meaning that there is only one instance of `None` in the entire Python environment.\n",
      "So the id(x), id(y) & id(z) represents the same object id in memory.\n",
      "\n",
      "ID of variable x = 140715695505904\n",
      "ID of variable y = 140715695505904\n",
      "ID of variable z = 140715695505904\n",
      "\n",
      "Is the variable x and y shares the same memory space? \n",
      "The answer is: True\n"
     ]
    }
   ],
   "source": [
    "print(\"\"\"Variable x, y & z have 'None' value, as we know that 'None' is a singleton object,\n",
    "meaning that there is only one instance of `None` in the entire Python environment.\n",
    "So the id(x), id(y) & id(z) represents the same object id in memory.\\n\"\"\")\n",
    "\n",
    "x: str = None\n",
    "y: str = None\n",
    "z: str = x\n",
    "\n",
    "print(\"ID of variable x = \" + str(id(x)))\n",
    "print(\"ID of variable y = \" + str(id(y)))\n",
    "print(\"ID of variable z = \" + str(id(z)))\n",
    "\n",
    "print(\"\\nIs the variable x and y shares the same memory space? \\nThe answer is: \" + str(id(x) == id(y)))"
   ]
  },
  {
   "cell_type": "markdown",
   "metadata": {},
   "source": [
    "**False in a boolean context**: `None` is considered `False` in a boolean context, meaning that it can be used in conditional statements."
   ]
  },
  {
   "cell_type": "code",
   "execution_count": 24,
   "metadata": {},
   "outputs": [
    {
     "name": "stdout",
     "output_type": "stream",
     "text": [
      "else block: As None is considered False, so this line of code will execute\n"
     ]
    }
   ],
   "source": [
    "if(None):\n",
    "  print(\"if block: This line of code will not execute because in Python 'None' is considered False\")\n",
    "else:\n",
    "  print(\"else block: As None is considered False, so this line of code will execute\")"
   ]
  },
  {
   "cell_type": "markdown",
   "metadata": {},
   "source": [
    "**Integer Literals in Python**\n",
    "==========================\n",
    "\n",
    "In Python, an integer literal is a sequence of characters that represents an integer value. Integer literals are used to define integer constants in Python code.\n",
    "\n",
    "**Memory Space Sharing**\n",
    "================================\n",
    "\n",
    "In Python, integer literals can share the `same memory space` under certain conditions. This is due to a process called **`interning`**, where Python stores a pool of interned objects that can be reused when the same value is needed again."
   ]
  },
  {
   "cell_type": "markdown",
   "metadata": {},
   "source": [
    "Lets assign value to variable x, y & z"
   ]
  },
  {
   "cell_type": "code",
   "execution_count": 25,
   "metadata": {},
   "outputs": [
    {
     "name": "stdout",
     "output_type": "stream",
     "text": [
      "Value of x = 1, and id(x) = 140715696391080\n",
      "Value of y = 1, and id(y) = 140715696391080\n",
      "Value of z = 1, and id(z) = 140715696391080\n",
      "id(x) == id(y) =  True\n",
      "id(x) is id(y) =  False\n"
     ]
    },
    {
     "data": {
      "text/plain": [
       "\"\\nExplanation:\\n\\n1. **Why is `id(x) == id(y)` True?**\\n   - In Python, small integers from **-5 to 256** are **interned** (cached) for performance reasons.\\n   - Since `1` falls within this range, both `x` and `y` point to the same memory address.\\n   - Therefore, `id(x) == id(y)` is **True** because they have the same memory address.\\n\\n2. **Why is `id(x) is id(y)` False?**\\n   - `id(x)` and `id(y)` return integer values representing memory addresses.\\n   - Even though these values are the same, calling `id(x) is id(y)` is different.\\n   - `id(x)` creates a new integer object when passed to `is`, and `id(y)` creates another integer object.\\n   - Since `is` checks **identity (object in memory)**, these two separate integer objects are not the same.\\n   - Therefore, `id(x) is id(y)` is **False**.\\n\\n✅ **Remember:** \\n- `is` checks **identity** (same memory object).\\n- `==` checks **equality** (same value).\\n- `id(x) == id(y)` checks whether two variables have the same memory address.\\n- `id(x) is id(y)` checks whether the `id()` function returns the same object, which isn't guaranteed.\\n\\n\""
      ]
     },
     "execution_count": 25,
     "metadata": {},
     "output_type": "execute_result"
    }
   ],
   "source": [
    "x: int = 1\n",
    "y: int = 1\n",
    "z: int = x\n",
    "\n",
    "print(\"Value of x = \" + str(x) + \", and id(x) = \" + str(id(x))) # when you need to concatinate any thing with string you need to first cast it to str()\n",
    "print(\"Value of y = \" + str(y) + \", and id(y) = \" + str(id(y)))\n",
    "print(\"Value of z = \" + str(z) + \", and id(z) = \" + str(id(z)))\n",
    "print(\"id(x) == id(y) = \", id(x) == id(y) )\n",
    "print(\"id(x) is id(y) = \", id(x) is id(y) ) # ;)\n",
    "\n",
    "'''\n",
    "Explanation:\n",
    "\n",
    "1. **Why is `id(x) == id(y)` True?**\n",
    "   - In Python, small integers from **-5 to 256** are **interned** (cached) for performance reasons.\n",
    "   - Since `1` falls within this range, both `x` and `y` point to the same memory address.\n",
    "   - Therefore, `id(x) == id(y)` is **True** because they have the same memory address.\n",
    "\n",
    "2. **Why is `id(x) is id(y)` False?**\n",
    "   - `id(x)` and `id(y)` return integer values representing memory addresses.\n",
    "   - Even though these values are the same, calling `id(x) is id(y)` is different.\n",
    "   - `id(x)` creates a new integer object when passed to `is`, and `id(y)` creates another integer object.\n",
    "   - Since `is` checks **identity (object in memory)**, these two separate integer objects are not the same.\n",
    "   - Therefore, `id(x) is id(y)` is **False**.\n",
    "\n",
    "✅ **Remember:** \n",
    "- `is` checks **identity** (same memory object).\n",
    "- `==` checks **equality** (same value).\n",
    "- `id(x) == id(y)` checks whether two variables have the same memory address.\n",
    "- `id(x) is id(y)` checks whether the `id()` function returns the same object, which isn't guaranteed.\n",
    "\n",
    "'''"
   ]
  },
  {
   "cell_type": "markdown",
   "metadata": {},
   "source": [
    "**Integer Interning in Python**\n",
    "-----------------------------\n",
    "\n",
    "In Python, integers in the range *`-5 to 256`* are interned, meaning that they are stored in a `pool of interned objects`. This means that when you create an integer literal within this range, Python returns a reference to the existing object in the pool."
   ]
  },
  {
   "cell_type": "code",
   "execution_count": 26,
   "metadata": {},
   "outputs": [
    {
     "name": "stdout",
     "output_type": "stream",
     "text": [
      "Value of x = -6 and id(x) = 2541836269104\n",
      "Value of y = -6 and id(y) = 2541836268464\n",
      "Value of z = -6 and id(z) = 2541836269104\n",
      "\n",
      " =============================== \n",
      "\n",
      "Value of a = 257, and id(a) = 2541836266000\n",
      "Value of b = 257, and id(b) = 2541836270192\n",
      "Value of c = 257, and id(c) = 2541836266000\n"
     ]
    },
    {
     "data": {
      "text/plain": [
       "'\\nKey Observations:\\n1. **Integers from -5 to 256 are cached** in Python for performance optimization.\\n2. Since -6 is **outside** the cached range, x and y may have **different memory addresses**.\\n3. Similarly, 257 is **outside** the cached range, so a and b may have **different memory addresses**.\\n4. However, z and c reference x and a, respectively, so they share the same memory address as x and a.\\n\\nUse `is` to check identity (same object) and `==` to check equality (same value).\\n'"
      ]
     },
     "execution_count": 26,
     "metadata": {},
     "output_type": "execute_result"
    }
   ],
   "source": [
    "# Assigning values outside the cached integer range (-5 to 256)\n",
    "x = -6\n",
    "y = -6\n",
    "z = x  # z references the same object as x\n",
    "\n",
    "# Printing values and their memory addresses\n",
    "print(\"Value of x = \" + str(x) + \" and id(x) = \" + str(id(x)))\n",
    "print(\"Value of y = \" + str(y) + \" and id(y) = \" + str(id(y)))\n",
    "print(\"Value of z = \" + str(z) + \" and id(z) = \" + str(id(z)))\n",
    "\n",
    "print(\"\\n =============================== \\n\")  # Separator for better readability\n",
    "\n",
    "# Assigning values outside the cached range\n",
    "a = 257\n",
    "b = 257\n",
    "c = a  # c references the same object as a\n",
    "\n",
    "# Printing values and their memory addresses\n",
    "print(\"Value of a = \" + str(a) + \", and id(a) = \" + str(id(a)))\n",
    "print(\"Value of b = \" + str(b) + \", and id(b) = \" + str(id(b)))\n",
    "print(\"Value of c = \" + str(c) + \", and id(c) = \" + str(id(c)))\n",
    "\n",
    "'''\n",
    "Key Observations:\n",
    "1. **Integers from -5 to 256 are cached** in Python for performance optimization.\n",
    "2. Since -6 is **outside** the cached range, x and y may have **different memory addresses**.\n",
    "3. Similarly, 257 is **outside** the cached range, so a and b may have **different memory addresses**.\n",
    "4. However, z and c reference x and a, respectively, so they share the same memory address as x and a.\n",
    "\n",
    "Use `is` to check identity (same object) and `==` to check equality (same value).\n",
    "'''\n"
   ]
  },
  {
   "cell_type": "markdown",
   "metadata": {},
   "source": [
    "Greenland Shark. Living in the waters of—you guessed it—Greenland, this shark lives for 300 to 500 years. It has the longest known lifespan of any vertebrate species"
   ]
  },
  {
   "cell_type": "code",
   "execution_count": 27,
   "metadata": {},
   "outputs": [
    {
     "name": "stdout",
     "output_type": "stream",
     "text": [
      "Value of shark1_age = 300, and id(shark1_age) = 2541836270992\n",
      "Value of shark2_age = 300, and id(shark2_age) = 2541836270320\n",
      "shark1_age & shark2_age have same age\n",
      " ===================== \n",
      "shark1_age & shark2_age have different id\n"
     ]
    }
   ],
   "source": [
    "shark1_age = 300\n",
    "shark2_age = 300\n",
    "\n",
    "print(\"Value of shark1_age = \" + str(shark1_age) + \", and id(shark1_age) = \" + str(id(shark1_age)))\n",
    "print(\"Value of shark2_age = \" + str(shark2_age) + \", and id(shark2_age) = \" + str(id(shark2_age)))\n",
    "\n",
    "if(shark1_age == shark2_age): #comparison by value\n",
    "  print(\"shark1_age & shark2_age have same age\")\n",
    "else:\n",
    "  print(\"shark1_age & shark2_age have different age\")\n",
    "\n",
    "print(\" ===================== \")\n",
    "\n",
    "if (id(shark1_age) == id(shark2_age)):\n",
    "    print(\"shark1_age & shark2_age have same id\")\n",
    "else:\n",
    "    print(\"shark1_age & shark2_age have different id\")"
   ]
  },
  {
   "cell_type": "markdown",
   "metadata": {},
   "source": [
    "# **Type Casting**\n",
    "----------------\n",
    "\n",
    "Type casting is the process of converting a value of one data type to another data type. Python supports several types of type casting, including:\n",
    "\n",
    "1. **Implicit Type Casting**: Python automatically converts a value of one data type to another data type when necessary. For example, when you add an integer and a float, Python converts the integer to a float.\n",
    "2. **Explicit Type Casting**: You can use functions like `int()`, `float()`, `str()`, and `bool()` to explicitly convert a value of one data type to another data type."
   ]
  },
  {
   "cell_type": "code",
   "execution_count": 28,
   "metadata": {},
   "outputs": [
    {
     "name": "stdout",
     "output_type": "stream",
     "text": [
      "Value of i = 10,     Type of i = <class 'int'>\n",
      "Value of f = 30.6,   Type of f = <class 'float'>\n",
      "Value of f1 = 66.89, Type of i = <class 'float'>\n",
      "Value of i1 = 66,    Type of i = <class 'int'>\n",
      "Value of f2 = 25.8,  Type of i = <class 'float'>\n",
      "Value of i2 = 25.8,  Type of i = <class 'float'>\n"
     ]
    }
   ],
   "source": [
    "i: int = 10\n",
    "print(\"Value of i = \" + str(i) + \",     Type of i = \" + str(type(i)))\n",
    "\n",
    "j: float = 20.6\n",
    "\n",
    "f: float = i + j #Implicit Type Casting\n",
    "print(\"Value of f = \" + str(f) + \",   Type of f = \" + str(type(f)))\n",
    "\n",
    "f1: float = 66.89\n",
    "print(\"Value of f1 = \" + str(f1) + \", Type of i = \" + str(type(f1)))\n",
    "\n",
    "i1: int = int(f1) #When ever you type cast a float value into an integer it truncate\n",
    "             #the decimal part and only keeps the whole number\n",
    "print(\"Value of i1 = \" + str(i1) + \",    Type of i = \" + str(type(i1)))\n",
    "\n",
    "s: str = \"25.8\"\n",
    "f2: float = float(s)\n",
    "print(\"Value of f2 = \" + str(f2) + \",  Type of i = \" + str(type(f2)))\n",
    "\n",
    "#uncomment the below line of code to see error\n",
    "i2 = float(s) #correct this error by casting with float()\n",
    "print(\"Value of i2 = \" + str(i2) + \",  Type of i = \" + str(type(i2)))"
   ]
  },
  {
   "cell_type": "markdown",
   "metadata": {},
   "source": [
    "**Truthy and Falsy Values in context of boolean data type**\n",
    "-------------------------\n",
    "\n",
    "In Python, some values are considered **truthy**, while others are considered **falsy**. Truthy values are treated as `True` in a boolean context, while falsy values are treated as `False`.\n",
    "\n",
    "Here are some examples of truthy and falsy values:\n",
    "\n",
    "* Truthy values:\n",
    "\t+ Non-zero integers (e.g., `1`, `2`, `-3`, etc.)\n",
    "\t+ Non-empty strings (e.g., `\"hello\"`, `\"world\"`, etc.)\n",
    "\t+ Non-empty lists (e.g., `[1, 2, 3]`, `[\"a\", \"b\", \"c\"]`, etc.)\n",
    "\t+ Non-empty dictionaries (e.g., `{\"a\": 1, \"b\": 2}`, etc.)\n",
    "* Falsy values:\n",
    "\t+ Zero (e.g., `0`)\n",
    "\t+ Empty strings (e.g., `\"\"`)\n",
    "\t+ Empty lists (e.g., `[]`)\n",
    "\t+ Empty dictionaries (e.g., `{}`)\n",
    "\t+ `None`"
   ]
  },
  {
   "cell_type": "code",
   "execution_count": 29,
   "metadata": {},
   "outputs": [
    {
     "name": "stdout",
     "output_type": "stream",
     "text": [
      "Value of b = TrueType of b = <class 'bool'>\n",
      "\n",
      " =================== \n",
      "\n",
      "if block: This line of code will execute if we provide any integer value\n",
      "          other then '0' ZERO\n",
      "\n",
      " =================== \n",
      "\n",
      "check: bool(\"55\")             =  True\n",
      "check: bool(\"\")               =  False\n",
      "check: bool([1, 2, 3])        =  True\n",
      "check: bool({\"key\", \"value\"}) =  True\n",
      "check: bool([])               =  False\n",
      "check: bool({})               =  False\n"
     ]
    }
   ],
   "source": [
    "k: int = -9 # #Any number either positive or negative, beside '0' ZERO is considered True\n",
    "b: bool = bool(k)\n",
    "print(\"Value of b = \" + str(b) + \"Type of b = \" + str(type(b)))\n",
    "\n",
    "print(\"\\n =================== \\n\")\n",
    "\n",
    "if(k):\n",
    "  print(\"\"\"if block: This line of code will execute if we provide any integer value\n",
    "          other then '0' ZERO\"\"\")\n",
    "else:\n",
    "  print(\"else block: As '0' is considered False, so this line of code will not execute\")\n",
    "\n",
    "print(\"\\n =================== \\n\")\n",
    "\n",
    "print(\"check: bool(\\\"55\\\")             = \", bool(\"55\"))\n",
    "print(\"check: bool(\\\"\\\")               = \", bool(\"\"))\n",
    "print(\"check: bool([1, 2, 3])        = \", bool([1, 2, 3]))\n",
    "print(\"check: bool({\\\"key\\\", \\\"value\\\"}) = \", bool({\"key\", \"value\"}))\n",
    "\n",
    "#Note: we will learn about list and dictionary in up comming classes\n",
    "print(\"check: bool([])               = \", bool([])) #[] square brackets used to represent list\n",
    "print(\"check: bool({})               = \", bool({})) #{} curly brackets used to represent dictionary"
   ]
  },
  {
   "cell_type": "markdown",
   "metadata": {},
   "source": [
    "**isinstance() Function in Python**\n",
    "==================================\n",
    "\n",
    "The `isinstance()` function in Python is used to check if an object (first argument) is an instance of a class (second argument). It returns `True` if the object is an instance of the class, and `False` otherwise.\n",
    "\n",
    "**Syntax**\n",
    "---------\n",
    "\n",
    "The syntax of the `isinstance()` function is as follows:\n",
    "\n",
    "```Python\n",
    "isinstance(object, classinfo)\n",
    "```\n",
    "Where:\n",
    "\n",
    "* `object` is the object to be checked.\n",
    "* `classinfo` is the class or a tuple of classes to check against.\n"
   ]
  },
  {
   "cell_type": "code",
   "execution_count": 30,
   "metadata": {},
   "outputs": [
    {
     "name": "stdout",
     "output_type": "stream",
     "text": [
      "Check: isinstance(age, int) =  True\n",
      "Check: isinstance(age, float) =  False\n",
      "Check: isinstance(weight, float) =  True\n",
      "Check: isinstance(weight, int) =  False\n"
     ]
    }
   ],
   "source": [
    "age: int = 20\n",
    "weight : float = 65.89\n",
    "\n",
    "print (\"Check: isinstance(age, int) = \", isinstance(age, int))\n",
    "print (\"Check: isinstance(age, float) = \", isinstance(age, float))\n",
    "print (\"Check: isinstance(weight, float) = \", isinstance(weight, float))\n",
    "print (\"Check: isinstance(weight, int) = \", isinstance(weight, int))"
   ]
  }
 ],
 "metadata": {
  "kernelspec": {
   "display_name": "Python 3",
   "language": "python",
   "name": "python3"
  },
  "language_info": {
   "codemirror_mode": {
    "name": "ipython",
    "version": 3
   },
   "file_extension": ".py",
   "mimetype": "text/x-python",
   "name": "python",
   "nbconvert_exporter": "python",
   "pygments_lexer": "ipython3",
   "version": "3.13.2"
  }
 },
 "nbformat": 4,
 "nbformat_minor": 2
}
