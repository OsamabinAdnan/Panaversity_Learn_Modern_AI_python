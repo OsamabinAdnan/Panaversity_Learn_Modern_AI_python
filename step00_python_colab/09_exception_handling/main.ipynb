{
 "cells": [
  {
   "cell_type": "markdown",
   "metadata": {},
   "source": [
    "<font color=\"#4ee247\" size=8> **Lesson # 09:** </font><font color=\"#ffbf00\" size=8>**Exception Handling**</font>"
   ]
  },
  {
   "cell_type": "markdown",
   "metadata": {},
   "source": [
    "# **Exception Handling with try, except, else, and finally**\n",
    "\n",
    "\n",
    "Exception handling is a crucial part of writing robust Python programs. It allows you to handle errors gracefully and ensure your program doesn't crash unexpectedly. In this tutorial, we'll cover the try, except, else, and finally blocks with examples."
   ]
  },
  {
   "cell_type": "markdown",
   "metadata": {},
   "source": [
    "## **Importance of Exception Handling in Python**\n",
    "\n",
    "Exception handling is essential for creating robust and reliable Python programs. Here’s why it matters and the consequences of not using it:"
   ]
  },
  {
   "cell_type": "markdown",
   "metadata": {},
   "source": [
    "## **Why Use Exception Handling?**\n",
    "\n",
    "*   **Prevents Program Crashes**: Ensures your program doesn’t terminate abruptly due to unexpected errors.\n",
    "\n",
    "*   **Graceful Error Recovery**: Allows you to handle errors gracefully and provide meaningful feedback to users.\n",
    "*   **Clean Code**: Separates error-handling logic from the main program flow, making code more readable and maintainable.\n",
    "*   **Resource Management**: Ensures resources (e.g., files, connections) are properly released, even if an error occurs."
   ]
  },
  {
   "cell_type": "markdown",
   "metadata": {},
   "source": [
    "## **What Happens If You Don’t Use Exception Handling?**\n",
    "\n",
    "*   **Program Crashes**: Unhandled exceptions cause the program to terminate, leading to a poor user experience.\n",
    "\n",
    "*  **Data Loss**: Critical operations (e.g., saving data) may fail, resulting in data corruption or loss.\n",
    "*   **Security Risks**: Exposing raw error messages can reveal sensitive information or system details to attackers.\n",
    "*   **Unpredictable Behavior**: Errors propagate through the program, making debugging difficult and increasing development time."
   ]
  },
  {
   "cell_type": "markdown",
   "metadata": {},
   "source": [
    "## **Scenarios Where Exception Handling is Crucial**\n",
    "\n",
    "*   **File Operations**: Handling missing files or permission errors during file access.\n",
    "\n",
    "*   **User Input**: Validating and handling invalid or unexpected input from users.\n",
    "*   **Network Operations**: Managing connection errors or timeouts in network requests.\n",
    "*   **Mathematical Operations**: Preventing division by zero or invalid calculations."
   ]
  },
  {
   "cell_type": "markdown",
   "metadata": {},
   "source": [
    "## **Consequences of Not Handling Exceptions**\n",
    "\n",
    "*   **User Frustration**: Users see cryptic error messages instead of helpful feedback.\n",
    "\n",
    "*   **Increased Debugging Effort**: Developers spend more time tracing and fixing errors.\n",
    "*   **System Instability**: Unhandled errors can cause cascading failures in larger systems.\n",
    "*   **Loss of Trust**: Frequent crashes or errors can damage the program’s credibility."
   ]
  },
  {
   "cell_type": "markdown",
   "metadata": {},
   "source": [
    "By incorporating exception handling, you ensure your program is robust, user-friendly, and resilient to unexpected issues."
   ]
  },
  {
   "cell_type": "markdown",
   "metadata": {},
   "source": [
    "## **1. The try Block**\n",
    "\n",
    "The try block is used to test a block of code for errors. If an error occurs within the try block, the program will immediately jump to the except block (if provided)."
   ]
  },
  {
   "cell_type": "code",
   "execution_count": 10,
   "metadata": {},
   "outputs": [
    {
     "name": "stdout",
     "output_type": "stream",
     "text": [
      "Error: Division by zero is not allowed.\n"
     ]
    }
   ],
   "source": [
    "try:\n",
    "    result = 10/0 # This will raise a ZeroDivisionError\n",
    "except:\n",
    "    print(\"Error: Division by zero is not allowed.\")"
   ]
  },
  {
   "cell_type": "markdown",
   "metadata": {},
   "source": [
    "## **2. The except Block**\n",
    "\n",
    "\n",
    "The except block is used to handle specific errors that occur in the try block. You can specify the type of error to catch, or use a generic except to catch all errors."
   ]
  },
  {
   "cell_type": "code",
   "execution_count": 11,
   "metadata": {},
   "outputs": [
    {
     "name": "stdout",
     "output_type": "stream",
     "text": [
      "Error: Division by zero is not allowed.\n"
     ]
    }
   ],
   "source": [
    "try:\n",
    "    result = 10/0 # This will raise a ZeroDivisionError\n",
    "except ZeroDivisionError:\n",
    "    print(\"Error: Division by zero is not allowed.\")\n",
    "except Exception as e:\n",
    "    print(f\"An unexpected error occurred: {e}\")"
   ]
  },
  {
   "cell_type": "markdown",
   "metadata": {},
   "source": [
    "## **3. The else Block**\n",
    "\n",
    "\n",
    "The else block is executed if no errors occur in the try block. It is optional and is used for code that should only run when the try block is successful."
   ]
  },
  {
   "cell_type": "code",
   "execution_count": 12,
   "metadata": {},
   "outputs": [
    {
     "name": "stdout",
     "output_type": "stream",
     "text": [
      "Division Successful. Result: 5.0\n"
     ]
    }
   ],
   "source": [
    "try:\n",
    "    result = 10 / 2\n",
    "except ZeroDivisionError:\n",
    "    print(\"Error: Division by zero\")\n",
    "else:\n",
    "    print(f\"Division Successful. Result: {result}\")\n"
   ]
  },
  {
   "cell_type": "markdown",
   "metadata": {},
   "source": [
    "## **4. The finally Block**\n",
    "\n",
    "\n",
    "The finally block is executed regardless of whether an error occurred or not. It is often used for cleanup operations, such as closing files or releasing resources."
   ]
  },
  {
   "cell_type": "code",
   "execution_count": 13,
   "metadata": {},
   "outputs": [
    {
     "name": "stdout",
     "output_type": "stream",
     "text": [
      "Error: Division by zero\n",
      "This will always execute\n"
     ]
    }
   ],
   "source": [
    "try:\n",
    "    result = 10 / 0\n",
    "except ZeroDivisionError:\n",
    "    print(\"Error: Division by zero\")\n",
    "finally:\n",
    "    print(\"This will always execute\")"
   ]
  },
  {
   "cell_type": "markdown",
   "metadata": {},
   "source": [
    "## **5. Putting It All Together**\n",
    "\n",
    "Here’s an example that combines all four blocks:"
   ]
  },
  {
   "cell_type": "code",
   "execution_count": 14,
   "metadata": {},
   "outputs": [
    {
     "name": "stdout",
     "output_type": "stream",
     "text": [
      "Division Successful. Result: 5.0\n",
      "Division operation completed.\n",
      "Error: Division by zero is not allowed.\n",
      "Division operation completed.\n",
      "Error: Both inputs must be numbers.\n",
      "Division operation completed.\n"
     ]
    }
   ],
   "source": [
    "def divide_numbers(a,b):\n",
    "    try:\n",
    "        result = a / b\n",
    "    except ZeroDivisionError:\n",
    "        print(\"Error: Division by zero is not allowed.\")\n",
    "    except TypeError:\n",
    "        print(\"Error: Both inputs must be numbers.\")\n",
    "    else:\n",
    "        print(f\"Division Successful. Result: {result}\")\n",
    "    finally:\n",
    "        print(\"Division operation completed.\")\n",
    "\n",
    "divide_numbers(10, 2) # Successful division\n",
    "divide_numbers(10, 0) # ZeroDivisionError\n",
    "divide_numbers('10', 2) # TypeError\n"
   ]
  },
  {
   "cell_type": "markdown",
   "metadata": {},
   "source": [
    "## **Key Points Covered:**\n",
    "\n",
    "1.  try Block: Used to test a block of code for errors.\n",
    "2.  except Block: Used to handle specific or generic errors.\n",
    "3.  else Block: Executes when no errors occur in the try block.\n",
    "4.  finally Block: Executes regardless of whether an error occurred."
   ]
  },
  {
   "cell_type": "code",
   "execution_count": 15,
   "metadata": {},
   "outputs": [
    {
     "name": "stdout",
     "output_type": "stream",
     "text": [
      "Calculated ratios: [0.7676767676767676, 0.0851063829787234, 0.010526315789473684, 0.8846153846153846, 5.375, 2.7916666666666665, 1.9230769230769231, 5.2, 3.6842105263157894, 0.3137254901960784]\n",
      "Error: Number of samples must be a positive integer.\n",
      "Negative number of samples, data processing failed.\n",
      "Error: Number of samples must be a positive integer.\n",
      "Invalid input type, data processing failed.\n"
     ]
    }
   ],
   "source": [
    "# prompt: generate a learning code on error handling covering all the expects\n",
    "# Import necessary modules\n",
    "import random  # Used for generating random numbers\n",
    "from typing import Tuple, Dict, List  # Type hints for better code readability\n",
    "\n",
    "# Function to generate random pairs of numbers\n",
    "def generate_random_data(num_samples: int) -> List[Tuple[int, int]]:\n",
    "    \"\"\"Generates a list of random number pairs.\"\"\"\n",
    "    try:\n",
    "        # Check if num_samples is a valid positive integer\n",
    "        if not isinstance(num_samples, int) or num_samples <= 0:\n",
    "            raise ValueError(\"Number of samples must be a positive integer.\")\n",
    "        \n",
    "        # Create a list of tuples, each containing two random numbers between 1 and 100\n",
    "        data = [(random.randint(1, 100), random.randint(1, 100)) for _ in range(num_samples)]\n",
    "        \n",
    "        return data  # Return the generated list of number pairs\n",
    "\n",
    "    except ValueError as ve:  # Handling invalid input (negative number or non-integer)\n",
    "        print(f\"Error: {ve}\")\n",
    "        return []  # Return an empty list on error\n",
    "\n",
    "    except Exception as e:  # Catch any other unexpected errors\n",
    "        print(f\"An unexpected error occurred: {e}\")\n",
    "        return []\n",
    "\n",
    "\n",
    "# Function to calculate the ratio of the first number to the second number in each tuple\n",
    "def calculate_ratios(data: List[Tuple[int, int]]) -> List[float]:\n",
    "    \"\"\"Calculates the ratio of the first number to the second in each pair.\"\"\"\n",
    "    ratios = []  # List to store calculated ratios\n",
    "\n",
    "    try:\n",
    "        for pair in data:  # Loop through each pair in the input list\n",
    "            num1, num2 = pair  # Extract numbers from tuple\n",
    "            \n",
    "            # Check if the denominator (num2) is zero to prevent division by zero\n",
    "            if num2 == 0:\n",
    "                raise ZeroDivisionError(\"Cannot divide by zero.\")\n",
    "            \n",
    "            # Ensure both values are integers\n",
    "            if not isinstance(num1, int) or not isinstance(num2, int):\n",
    "                raise TypeError(\"Input data must be integers.\")\n",
    "            \n",
    "            # Calculate ratio and append to the list\n",
    "            ratio = num1 / num2\n",
    "            ratios.append(ratio)\n",
    "\n",
    "        return ratios  # Return the list of calculated ratios\n",
    "\n",
    "    except ZeroDivisionError as zde:  # Handle division by zero error\n",
    "        print(f\"Error: {zde}\")\n",
    "        return []  # Return an empty list if an error occurs\n",
    "\n",
    "    except TypeError as te:  # Handle incorrect data types\n",
    "        print(f\"Error: {te}\")\n",
    "        return []\n",
    "\n",
    "    except Exception as e:  # Catch any other unexpected errors\n",
    "        print(f\"An unexpected error occurred during ratio calculation: {e}\")\n",
    "        return []\n",
    "\n",
    "\n",
    "# Function to process data by combining random data generation and ratio calculation\n",
    "def process_data(num_samples: int) -> List[float]:\n",
    "    \"\"\"Combines data generation and ratio calculation with comprehensive error handling.\"\"\"\n",
    "\n",
    "    data = generate_random_data(num_samples)  # Generate random data\n",
    "\n",
    "    if not data:  # If data is an empty list, it means an error occurred\n",
    "        return []\n",
    "\n",
    "    ratios = calculate_ratios(data)  # Calculate ratios from the generated data\n",
    "\n",
    "    return ratios  # Return the calculated ratios\n",
    "\n",
    "\n",
    "# Example usage with error handling\n",
    "try:\n",
    "    num_samples = 10  # Define number of random samples\n",
    "    results = process_data(num_samples)  # Process data\n",
    "\n",
    "    if results:  # If results contain valid data, print them\n",
    "        print(\"Calculated ratios:\", results)\n",
    "    else:  # If process_data returned an empty list, an error occurred\n",
    "        print(\"Data processing failed due to an error.\")\n",
    "\n",
    "except Exception as e:  # Catch any unexpected errors\n",
    "    print(f\"An unexpected error occurred: {e}\")\n",
    "\n",
    "# Example of invalid input\n",
    "results = process_data(-5)  # Negative input should trigger an error\n",
    "if not results:\n",
    "    print(\"Negative number of samples, data processing failed.\")\n",
    "\n",
    "results = process_data(\"abc\")  # Invalid type input should trigger an error\n",
    "if not results:\n",
    "    print(\"Invalid input type, data processing failed.\")\n"
   ]
  },
  {
   "cell_type": "markdown",
   "metadata": {},
   "source": [
    "## **Practice Problem:**\n",
    "\n",
    "Write a Python program that asks the user for two numbers and divides them. Use exception handling to catch any errors that might occur (e.g., division by zero or invalid input).\n"
   ]
  },
  {
   "cell_type": "code",
   "execution_count": 16,
   "metadata": {},
   "outputs": [
    {
     "name": "stdout",
     "output_type": "stream",
     "text": [
      "The result of division is: 0.5714285714285714\n",
      "Thank you for using the program!\n"
     ]
    }
   ],
   "source": [
    "try:\n",
    "    num1 = float(input(\"Enter the first number: \"))\n",
    "    num2 = float(input(\"Enter the second number: \"))\n",
    "    result = num1 / num2\n",
    "except ValueError:\n",
    "    print(\"Error: Please enter valid numbers.\")\n",
    "except ZeroDivisionError:\n",
    "    print(\"Error: Division by zero is not allowed.\")\n",
    "else:\n",
    "    print(f\"The result of division is: {result}\")\n",
    "finally:\n",
    "    print(\"Thank you for using the program!\")\n"
   ]
  },
  {
   "cell_type": "markdown",
   "metadata": {},
   "source": [
    "* By following this tutorial, you should now have a solid understanding of how to handle exceptions in Python using try, except, else, and finally. Happy coding!\n",
    "\n",
    "* Now we will learn how to throw exception from a custome defined function.\n"
   ]
  },
  {
   "cell_type": "markdown",
   "metadata": {},
   "source": [
    "## **How a Function Throws an Exception in Python?**\n",
    "\n",
    "In Python, a function can throw an exception using the raise keyword. This is used to indicate that an error has occurred, and it interrupts the normal flow of the program.\n",
    "\n",
    "### **When an exception is raised:**\n",
    "\n",
    "1.  Python immediately stops executing the function.\n",
    "2.  The error message is displayed unless the exception is handled using try-except.\n",
    "\n",
    "\n",
    "### **Basic Example of Throwing an Exception**"
   ]
  },
  {
   "cell_type": "code",
   "execution_count": 17,
   "metadata": {},
   "outputs": [
    {
     "name": "stdout",
     "output_type": "stream",
     "text": [
      "5.0\n"
     ]
    },
    {
     "ename": "ValueError",
     "evalue": "Division by zero is not allowed!",
     "output_type": "error",
     "traceback": [
      "\u001b[1;31m---------------------------------------------------------------------------\u001b[0m",
      "\u001b[1;31mValueError\u001b[0m                                Traceback (most recent call last)",
      "Cell \u001b[1;32mIn[17], line 7\u001b[0m\n\u001b[0;32m      4\u001b[0m     \u001b[38;5;28;01mreturn\u001b[39;00m a \u001b[38;5;241m/\u001b[39m b\n\u001b[0;32m      6\u001b[0m \u001b[38;5;28mprint\u001b[39m(divide(\u001b[38;5;241m10\u001b[39m, \u001b[38;5;241m2\u001b[39m)) \u001b[38;5;66;03m# Output: 5.0\u001b[39;00m\n\u001b[1;32m----> 7\u001b[0m \u001b[38;5;28mprint\u001b[39m(\u001b[43mdivide\u001b[49m\u001b[43m(\u001b[49m\u001b[38;5;241;43m10\u001b[39;49m\u001b[43m,\u001b[49m\u001b[43m \u001b[49m\u001b[38;5;241;43m0\u001b[39;49m\u001b[43m)\u001b[49m) \u001b[38;5;66;03m# Raises: ValueError: Division by zero is not allowed\u001b[39;00m\n",
      "Cell \u001b[1;32mIn[17], line 3\u001b[0m, in \u001b[0;36mdivide\u001b[1;34m(a, b)\u001b[0m\n\u001b[0;32m      1\u001b[0m \u001b[38;5;28;01mdef\u001b[39;00m\u001b[38;5;250m \u001b[39m\u001b[38;5;21mdivide\u001b[39m (a,b):\n\u001b[0;32m      2\u001b[0m     \u001b[38;5;28;01mif\u001b[39;00m b \u001b[38;5;241m==\u001b[39m \u001b[38;5;241m0\u001b[39m:\n\u001b[1;32m----> 3\u001b[0m         \u001b[38;5;28;01mraise\u001b[39;00m \u001b[38;5;167;01mValueError\u001b[39;00m(\u001b[38;5;124m\"\u001b[39m\u001b[38;5;124mDivision by zero is not allowed!\u001b[39m\u001b[38;5;124m\"\u001b[39m) \u001b[38;5;66;03m# Raise an exception\u001b[39;00m\n\u001b[0;32m      4\u001b[0m     \u001b[38;5;28;01mreturn\u001b[39;00m a \u001b[38;5;241m/\u001b[39m b\n",
      "\u001b[1;31mValueError\u001b[0m: Division by zero is not allowed!"
     ]
    }
   ],
   "source": [
    "def divide (a,b):\n",
    "    if b == 0:\n",
    "        raise ValueError(\"Division by zero is not allowed!\") # Raise an exception\n",
    "    return a / b\n",
    "\n",
    "print(divide(10, 2)) # Output: 5.0\n",
    "print(divide(10, 0)) # Raises: ValueError: Division by zero is not allowed"
   ]
  },
  {
   "cell_type": "markdown",
   "metadata": {},
   "source": [
    "🔹 In this example, if b == 0, we explicitly raise a ValueError.\n",
    "\n",
    "🔹 The function stops execution at raise and does not return anything.\n",
    "\n",
    "\n",
    "## **Handling the Exception with try-except**\n",
    "\n",
    "To prevent the program from crashing, we can use try-except to handle the exception."
   ]
  },
  {
   "cell_type": "code",
   "execution_count": null,
   "metadata": {},
   "outputs": [
    {
     "name": "stdout",
     "output_type": "stream",
     "text": [
      "Error: Division by zero is not allowed\n",
      "Program continues...\n"
     ]
    }
   ],
   "source": [
    "def divide(a,b):\n",
    "    if b == 0:\n",
    "        raise ValueError (\"Division by zero is not allowed\")\n",
    "    return a / b\n",
    "\n",
    "try:\n",
    "    result = divide(10, 0) # this will raise an exception\n",
    "    print(result)  # This line won't run if exception occurs\n",
    "except ValueError as e:\n",
    "    print(f\"Error: {e}\") # Output: Error: Division by zero is not allowed!\n",
    "\n",
    "print(\"Program continues...\")  # This line will always execute"
   ]
  },
  {
   "cell_type": "markdown",
   "metadata": {},
   "source": [
    "## **Throwing Custom Exceptions**\n",
    "\n",
    "Python also allows you to define custom exceptions by creating a new class that inherits from Exception."
   ]
  },
  {
   "cell_type": "code",
   "execution_count": null,
   "metadata": {},
   "outputs": [
    {
     "name": "stdout",
     "output_type": "stream",
     "text": [
      "Error: Negative numbers are not allowed!\n"
     ]
    }
   ],
   "source": [
    "class NegativeNumberError(Exception):\n",
    "    \"\"\"Custom exception for negative numbers\"\"\"\n",
    "    pass\n",
    "\n",
    "def check_positive(n):\n",
    "    if n < 0:\n",
    "        raise NegativeNumberError(\"Negative numbers are not allowed!\")\n",
    "    return f\"{n} is a positive number\"\n",
    "\n",
    "try:\n",
    "    print(check_positive(-5)) # Raises: NegativeNumberError: Only positive numbers are allowed\n",
    "except NegativeNumberError as e:\n",
    "    print(f\"Error: {e}\")"
   ]
  },
  {
   "cell_type": "markdown",
   "metadata": {},
   "source": [
    "## **Summary**\n",
    "\n",
    "✔ Use raise to throw an exception inside a function.\n",
    "\n",
    "✔ Use try-except to handle exceptions and prevent crashes.\n",
    "\n",
    "✔ Create custom exceptions by inheriting from Exception.\n",
    "\n"
   ]
  },
  {
   "cell_type": "markdown",
   "metadata": {},
   "source": [
    "## **Equivalent of throw and throws in Python**\n",
    "\n",
    "In Java, **throw** and **throws** are used for exception handling. Python doesn’t have a direct equivalent to throws, but throw is equivalent to Python's raise."
   ]
  },
  {
   "cell_type": "markdown",
   "metadata": {},
   "source": [
    "## **1️⃣ Equivalent of throw in Python → raise**\n",
    "\n",
    "* In Java, throw is used to explicitly raise an exception.\n",
    "* In Python, raise is used to do the same thing.\n",
    "\n",
    "\n",
    "## **2️⃣ Equivalent of throws in Python**\n",
    "\n",
    "* In Java, throws is used in method signatures to declare checked exceptions that the method might raise.\n",
    "\n",
    "* Python does not require explicit declaration of exceptions in function signatures.\n",
    "* However, you can document it using **`docstrings`** or **`type hints`**.\n",
    "\n",
    "<br>\n",
    "\n",
    "✔ Python doesn’t enforce throws, but you can document exceptions in docstrings or use type hints (NoReturn).\n",
    "\n",
    "\n"
   ]
  },
  {
   "cell_type": "markdown",
   "metadata": {},
   "source": [
    "## **What is NoReturn?**\n",
    "\n",
    "**NoReturn** is a special type hint from Python's typing module. It is used to indicate that a function will not return normally. This means the function either:\n",
    "\n",
    "* Always raises an exception,\n",
    "\n",
    "* Enters an infinite loop,\n",
    "* Or otherwise never reaches the end of the function body to return a value.\n",
    "\n",
    "<br>\n",
    "\n",
    "## **When Would You Use NoReturn?**\n",
    "\n",
    "* Functions that Always Raise Exceptions:\n",
    "For example, a function that immediately raises an error can be annotated with NoReturn to signal that it doesn't produce a return value.\n",
    "\n",
    "* Infinite Loops:\n",
    "A function that runs forever (or until the program is terminated) is a candidate for NoReturn.\n",
    "\n",
    "<br>\n",
    "\n",
    "## **Example: Using NoReturn**\n",
    "\n"
   ]
  },
  {
   "cell_type": "code",
   "execution_count": null,
   "metadata": {},
   "outputs": [
    {
     "name": "stdout",
     "output_type": "stream",
     "text": [
      "Program terminated: Terminating the program...\n"
     ]
    }
   ],
   "source": [
    "from typing import NoReturn\n",
    "\n",
    "def terminate_program()-> NoReturn:\n",
    "    \"\"\"Terminate the program by raising an exception.\"\"\"\n",
    "    raise SystemExit(\"Terminating the program...\")\n",
    "\n",
    "# When you call terminate_program, it never returns normally:\n",
    "try:\n",
    "    terminate_program()\n",
    "except SystemExit as e:\n",
    "    print(f\"Program terminated: {e}\")"
   ]
  },
  {
   "cell_type": "markdown",
   "metadata": {},
   "source": [
    "### **In this example:**\n",
    "\n",
    "* The function terminate_program() is annotated with -> NoReturn, indicating that it will not return normally.\n",
    "\n",
    "* Instead, it raises a SystemExit exception, causing the program to exit (or be caught as shown)."
   ]
  },
  {
   "cell_type": "markdown",
   "metadata": {},
   "source": [
    "## **Why Use NoReturn?**\n",
    "\n",
    "* **Improved Readability**: It makes your intent clear to anyone reading your code.\n",
    "\n",
    "* **Better Static Analysis**: Tools like mypy can use these annotations to detect issues in your code, ensuring that functions marked with NoReturn truly do not return a value."
   ]
  },
  {
   "cell_type": "markdown",
   "metadata": {},
   "source": [
    "Using `NoReturn` helps set clear expectations about a function's behavior, making your code more robust and easier to understand."
   ]
  },
  {
   "cell_type": "markdown",
   "metadata": {},
   "source": [
    "## **Alternative to NoReturn in Python**\n",
    "\n",
    "\n",
    "`NoReturn` from the `typing module` is used to indicate that a function never returns normally. However, if you don’t want to use NoReturn, you have a few alternative approaches."
   ]
  },
  {
   "cell_type": "markdown",
   "metadata": {},
   "source": [
    "## **1️⃣ Alternative: Using `None` Instead of `NoReturn`**\n",
    "\n",
    "If your function does not return any meaningful value but does not necessarily terminate the program (e.g., it performs logging, prints messages, etc.), you can use `None` as the return type `instead of NoReturn`.\n",
    "\n",
    "### **Example: Using None**"
   ]
  },
  {
   "cell_type": "code",
   "execution_count": null,
   "metadata": {},
   "outputs": [
    {
     "name": "stdout",
     "output_type": "stream",
     "text": [
      "Error: Something went wrong!\n"
     ]
    }
   ],
   "source": [
    "def log_error(message:str)->None:\n",
    "    \"\"\"Logs an error message but does not terminate the program.\"\"\"\n",
    "    print(f\"Error: {message}\")\n",
    "\n",
    "log_error(\"Something went wrong!\")\n"
   ]
  },
  {
   "cell_type": "markdown",
   "metadata": {},
   "source": [
    "✔ Use -> None when the function completes execution but does not return a value.\n",
    "\n",
    "❌ Do NOT use -> None if the function always raises an exception or runs indefinitely."
   ]
  },
  {
   "cell_type": "markdown",
   "metadata": {},
   "source": [
    "## **2️⃣ Alternative: Omitting the Return Type Hint**\n",
    "\n",
    "Python does not require type hints, so if you are not using static type checking tools like mypy, you can simply omit the return type hint.\n",
    "\n",
    "### **Example: No Type Hint**"
   ]
  },
  {
   "cell_type": "code",
   "execution_count": null,
   "metadata": {},
   "outputs": [
    {
     "ename": "SystemExit",
     "evalue": "Program is terminating...",
     "output_type": "error",
     "traceback": [
      "An exception has occurred, use %tb to see the full traceback.\n",
      "\u001b[1;31mSystemExit\u001b[0m\u001b[1;31m:\u001b[0m Program is terminating...\n"
     ]
    },
    {
     "name": "stderr",
     "output_type": "stream",
     "text": [
      "c:\\Users\\AOTHHSA\\AppData\\Local\\Programs\\Python\\Python313\\Lib\\site-packages\\IPython\\core\\interactiveshell.py:3587: UserWarning: To exit: use 'exit', 'quit', or Ctrl-D.\n",
      "  warn(\"To exit: use 'exit', 'quit', or Ctrl-D.\", stacklevel=1)\n"
     ]
    }
   ],
   "source": [
    "def terminate_program():\n",
    "    \"\"\"Terminates the program by raising an exception.\"\"\"\n",
    "    raise SystemExit(\"Program is terminating...\")\n",
    "\n",
    "terminate_program()"
   ]
  },
  {
   "cell_type": "markdown",
   "metadata": {},
   "source": [
    "✔ Works fine, but loses clarity for static analysis tools."
   ]
  },
  {
   "cell_type": "markdown",
   "metadata": {},
   "source": [
    "## **When Should You Stick to NoReturn?**\n",
    "\n",
    "If you are using type checking tools like mypy, NoReturn is still the best choice for functions that:\n",
    "\n",
    "* Always raise an exception\n",
    "\n",
    "* Never return (e.g., an infinite loop)\n",
    "* Terminate the program (sys.exit())\n",
    "\n",
    "✅ But if you are not using static type checking, omitting the type hint or using None may be enough."
   ]
  }
 ],
 "metadata": {
  "kernelspec": {
   "display_name": "Python 3",
   "language": "python",
   "name": "python3"
  },
  "language_info": {
   "codemirror_mode": {
    "name": "ipython",
    "version": 3
   },
   "file_extension": ".py",
   "mimetype": "text/x-python",
   "name": "python",
   "nbconvert_exporter": "python",
   "pygments_lexer": "ipython3",
   "version": "3.13.2"
  }
 },
 "nbformat": 4,
 "nbformat_minor": 2
}
