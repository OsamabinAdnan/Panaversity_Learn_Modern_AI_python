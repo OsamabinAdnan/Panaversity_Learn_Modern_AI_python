{
 "cells": [
  {
   "cell_type": "markdown",
   "metadata": {},
   "source": [
    "<font color=\"#4ee247\" size=8> **Lesson # 11:** </font><font color=\"#ffbf00\" size=8>**Math and Datetime**</font>"
   ]
  },
  {
   "cell_type": "markdown",
   "metadata": {},
   "source": [
    "# **The Date & Time**\n",
    "----\n",
    "\n",
    "## **What are Tick Intervals**\n",
    "\n",
    "Time intervals are floating-point numbers in units of seconds. Particular instants in time are expressed in seconds since 12:00am, January 1, 1970.(epoch=a particular period of time in history or a person's life.).\n"
   ]
  },
  {
   "cell_type": "markdown",
   "metadata": {},
   "source": [
    "## **What is Epoch?**\n",
    "\n",
    "*Sounds: ee·pok (British), eh·puhk (American)*\n",
    "\n",
    "<br>\n",
    "\n",
    "In Python, the `epoch` is a reference `point in time` from which time is measured. It's the moment when time `\"begins\"` for a particular system or standard.\n",
    "\n",
    "Think of it like the zero point on a number line.\n",
    "\n",
    "The most commonly used epoch in Python (and many other systems) is:\n",
    "\n",
    "**`January 1, 1970, 00:00:00 (UTC)`**\n",
    "\n",
    "\n",
    "\n",
    "\n",
    "---\n",
    "\n",
    "\n",
    "\n",
    "\n",
    "## **Why is there an epoch?**\n",
    "\n",
    "\n",
    "- **Consistent Timekeeping**: Using a fixed point in the past allows computers and systems to calculate and compare time in a standardized way, regardless of when the system was built or where it's located.\n",
    "\n",
    "- **Simplified Calculations**: It's easier to perform calculations with a single number representing the seconds (or milliseconds, etc.) that have passed since a fixed point, rather than dealing with complex date and time formats.\n",
    "\n",
    "\n",
    "---\n",
    "\n",
    "\n",
    "\n",
    "\n",
    "\n",
    "## **How is the epoch used in Python?**\n",
    "\n",
    "Python's time module provides functions to work with time based on the epoch:\n",
    "\n",
    "- **`time.time()`**: Returns the current time as a floating-point number of seconds since the epoch.\n",
    "- **`time.gmtime(seconds)`**: Converts seconds since the epoch to a time tuple in Coordinated Universal Time (UTC).\n",
    "- **`time.localtime(seconds)`**: Converts seconds since the epoch to a time tuple in local time."
   ]
  },
  {
   "cell_type": "code",
   "execution_count": null,
   "metadata": {},
   "outputs": [
    {
     "name": "stdout",
     "output_type": "stream",
     "text": [
      "Number of ticks since 12:00am, January 1, 1970: 1742718625.8493385\n"
     ]
    }
   ],
   "source": [
    "import time # This is required to include time module\n",
    "\n",
    "tick = time.time() # This is required to print the time at the time of execution of the code in seconds\n",
    "print(\"Number of ticks since 12:00am, January 1, 1970:\", tick)"
   ]
  },
  {
   "cell_type": "markdown",
   "metadata": {},
   "source": [
    "## **Getting the Current Time**\n",
    "----\n",
    "To translate a time instant from seconds since the epoch floating-point value into a time-tuple, pass the floating-point value to a function (e.g., localtime) that returns a time-tuple with all valid nine items.\n",
    "\n",
    "Above line means that you can convert a floating-point timestamp (seconds since the epoch) into a structured time format (called a time-tuple) using a function like time.localtime().\n",
    "\n",
    "A time-tuple is a structured format that contains nine elements, such as year, month, day, hour, minute, second, weekday, and more."
   ]
  },
  {
   "cell_type": "code",
   "execution_count": 4,
   "metadata": {},
   "outputs": [
    {
     "name": "stdout",
     "output_type": "stream",
     "text": [
      "Local current time : time.struct_time(tm_year=2025, tm_mon=3, tm_mday=23, tm_hour=14, tm_min=2, tm_sec=49, tm_wday=6, tm_yday=82, tm_isdst=0)\n"
     ]
    }
   ],
   "source": [
    "# Import the time module which provides time-related functions\n",
    "import time\n",
    "\n",
    "# Get the current local time\n",
    "# time.time() returns current timestamp (seconds since epoch)\n",
    "# time.localtime() converts timestamp to struct_time object\n",
    "localtime = time.localtime(time.time())\n",
    "\n",
    "# Print the local time - will show year, month, day, hour, minute, second\n",
    "# Output format: time.struct_time(tm_year=YYYY, tm_mon=MM, tm_mday=DD, ...)\n",
    "print(\"Local current time :\", localtime)\n",
    "\n",
    "# The resulting localtime object contains the following attributes:\n",
    "# tm_year: Year\n",
    "# tm_mon: Month (1-12)\n",
    "# tm_mday: Day of month (1-31)\n",
    "# tm_hour: Hour (0-23)\n",
    "# tm_min: Minutes (0-59)\n",
    "# tm_sec: Seconds (0-59)\n",
    "# tm_wday: Day of week (0-6, Monday is 0)\n",
    "# tm_yday: Day of year (1-366)\n",
    "# tm_isdst: Daylight saving time flag"
   ]
  },
  {
   "cell_type": "markdown",
   "metadata": {},
   "source": [
    "## **Getting the Formatted Time**\n",
    "----\n",
    "You can format any time as per your requirement, but a simple method to get time in a readable format is asctime() −"
   ]
  },
  {
   "cell_type": "code",
   "execution_count": 5,
   "metadata": {},
   "outputs": [
    {
     "name": "stdout",
     "output_type": "stream",
     "text": [
      "Local current time:  Sun Mar 23 14:13:40 2025\n"
     ]
    }
   ],
   "source": [
    "import time\n",
    "local_time = time.asctime(time.localtime(time.time()))\n",
    "print(\"Local current time: \", local_time)"
   ]
  },
  {
   "cell_type": "markdown",
   "metadata": {},
   "source": [
    "# **The Calendar**\n",
    "----\n",
    "\n",
    "## **Getting the Calendar for a Month**\n",
    "----\n",
    "The calendar module gives a wide range of methods to play with yearly and monthly calendars. Here, we print a calendar for a given month (March 2025)."
   ]
  },
  {
   "cell_type": "code",
   "execution_count": 1,
   "metadata": {},
   "outputs": [
    {
     "name": "stdout",
     "output_type": "stream",
     "text": [
      "Here is a calendar:\n",
      "     March 2025\n",
      "Mo Tu We Th Fr Sa Su\n",
      "                1  2\n",
      " 3  4  5  6  7  8  9\n",
      "10 11 12 13 14 15 16\n",
      "17 18 19 20 21 22 23\n",
      "24 25 26 27 28 29 30\n",
      "31\n",
      "\n"
     ]
    }
   ],
   "source": [
    "import calendar\n",
    "\n",
    "cal = calendar.month(2025, 3)\n",
    "print(\"Here is a calendar:\")\n",
    "print(cal)"
   ]
  },
  {
   "cell_type": "markdown",
   "metadata": {},
   "source": [
    "## **The Date Time**\n",
    "----"
   ]
  },
  {
   "cell_type": "code",
   "execution_count": 3,
   "metadata": {},
   "outputs": [
    {
     "name": "stdout",
     "output_type": "stream",
     "text": [
      "Date: 2025-03-23\n",
      "Date: 2025-04-01\n"
     ]
    }
   ],
   "source": [
    "# Import the date class from datetime module\n",
    "from datetime import date\n",
    "\n",
    "# Create a date object for March 23, 2025\n",
    "# date() constructor takes year, month, day as arguments\n",
    "date1 = date(2025,3,23)\n",
    "print(\"Date:\",date1)\n",
    "\n",
    "# Create another date object for April 1, 2025\n",
    "# Format will be YYYY-MM-DD when printed\n",
    "date2 = date(2025,4,1)\n",
    "print(\"Date:\",date2)"
   ]
  },
  {
   "cell_type": "code",
   "execution_count": 4,
   "metadata": {},
   "outputs": [
    {
     "name": "stdout",
     "output_type": "stream",
     "text": [
      "2025-03-23 21:54:23.897346\n"
     ]
    }
   ],
   "source": [
    "import datetime\n",
    "\n",
    "x = datetime.datetime.now() # The date contains year, month, day, hour, minute, second, and microsecond.\n",
    "\n",
    "print(x)"
   ]
  },
  {
   "cell_type": "markdown",
   "metadata": {},
   "source": [
    "## **The strftime() Method**\n",
    "----\n",
    "The datetime object has a method for formatting date objects into readable strings.\n",
    "\n",
    "The method is called strftime(), and takes one parameter, format, to specify the format of the returned string:"
   ]
  },
  {
   "cell_type": "code",
   "execution_count": 22,
   "metadata": {},
   "outputs": [
    {
     "name": "stdout",
     "output_type": "stream",
     "text": [
      "Microseconds: 332209\n",
      "Seconds: 17\n",
      "Minutes: 20\n",
      "Hours: 22\n",
      "Day: 23\n",
      "Month: 03\n",
      "Year: 25\n",
      "Year: 2025\n",
      "Day of the week: Sunday\n",
      "Day of the week: Sun\n",
      "Month: March\n",
      "Month: Mar\n",
      "Date: 03/23/25\n",
      "Date: 03/23/25\n",
      "Time: 22:20:17\n",
      "Time: 22:20:17\n"
     ]
    }
   ],
   "source": [
    "import datetime\n",
    "\n",
    "x = datetime.datetime.now() # The date contains year, month, day, hour, minute, second, and microsecond.\n",
    "\n",
    "print(x.strftime(f\"Microseconds: %f\")) # %f is used to get microseconds\n",
    "print(x.strftime(f\"Seconds: %S\")) # %S is used to get seconds\n",
    "print(x.strftime(f\"Minutes: %M\")) # %M is used to get minutes\n",
    "print(x.strftime(f\"Hours: %H\")) # %H is used to get hours\n",
    "print(x.strftime(f\"Day: %d\")) # %d is used to get day\n",
    "print(x.strftime(f\"Month: %m\")) # %m is used to get month in number\n",
    "print(x.strftime(f\"Year: %y\")) # %y is used to get year\n",
    "print(x.strftime(f\"Year: %Y\")) # %Y is used to get year\n",
    "print(x.strftime(f\"Day of the week: %A\")) # %A is used to get day of the week\n",
    "print(x.strftime(f\"Day of the week: %a\")) # %a is used to get day of the week\n",
    "print(x.strftime(f\"Month: %B\")) # %B is used to get month in words\n",
    "print(x.strftime(f\"Month: %b\")) # %b is used to get month in words\n",
    "print(x.strftime(f\"Date: %D\")) # %D is used to get date in mm/dd/yy format\n",
    "print(x.strftime(f\"Date: %x\")) # %x is used to get date in mm/dd/yy format\n",
    "print(x.strftime(f\"Time: %X\")) # %X is used to get time in hh:mm:ss format\n",
    "print(x.strftime(f\"Time: %T\")) # %T is used to get time in hh:mm:ss format"
   ]
  },
  {
   "cell_type": "markdown",
   "metadata": {},
   "source": [
    "A reference of all the legal format codes:\n",
    "[w3school](https://www.w3schools.com/python/python_datetime.asp)"
   ]
  },
  {
   "cell_type": "markdown",
   "metadata": {},
   "source": [
    "# **Python Math Module**\n",
    "----\n",
    "The math module is a built-in module in Python that is used for performing mathematical operations. This module provides various built-in methods for performing different mathematical tasks.\n",
    "\n",
    "Let see the different functions in action"
   ]
  },
  {
   "cell_type": "code",
   "execution_count": 12,
   "metadata": {},
   "outputs": [
    {
     "name": "stdout",
     "output_type": "stream",
     "text": [
      "Absolute value of -5 is: 5\n",
      "pow(2, 3) is: 8\n",
      "round(5.6231) is: 6\n",
      "round(5.6231,2) is: 5.62\n",
      "max(1, 2, 3, 4, 5) is: 5\n",
      "min(1, 2, 3, 4, 5) is: 1\n",
      "math.sin(math.pi/2) is: 1.0\n",
      "math.cos(math.pi) is: -1.0\n",
      "math.tan(math.pi/4) is: 0.9999999999999999\n",
      "math.sqrt(25) is: 5.0\n",
      "math.factorial(5) is: 120\n",
      "math.log(10) is: 2.302585092994046\n",
      "math.log10(100) is: 2.0\n",
      "math.exp(2) is: 7.38905609893065\n",
      "math.ceil(5.3) is: 6\n",
      "math.floor(5.3) is: 5\n",
      "math.pi is: 3.141592653589793\n",
      "math.e is: 2.718281828459045\n",
      "math.tau is: 6.283185307179586\n",
      "math.inf is: inf\n",
      "math.nan is: nan\n"
     ]
    }
   ],
   "source": [
    "import math\n",
    "\n",
    "# abs return the absolute value of a number\n",
    "# In python, abs() is a built-in function, where means it's a global function and doesn't need to be imported.\n",
    "# available in the standard library without needing to import any specific modules.\n",
    "# You can use it directly in your code.\n",
    "\n",
    "print(\"Absolute value of -5 is:\", abs(-5)) # Outputs: 5\n",
    "\n",
    "# pow() function is used to calculate the power of a number.\n",
    "print(\"pow(2, 3) is:\", pow(2, 3)) # Outputs: 8\n",
    "\n",
    "# round() rounds a number to a specified number of decimal places\n",
    "print(\"round(5.6231) is:\", round(5.6231)) # Outputs: 6\n",
    "print(\"round(5.6231,2) is:\", round(5.6231,2)) # Outputs: 5.62\n",
    "\n",
    "# max() returns the largest of a set of numbers\n",
    "print(\"max(1, 2, 3, 4, 5) is:\", max(1, 2, 3, 4, 5)) # Outputs: 5\n",
    "\n",
    "# min() returns the smallest of a set of numbers\n",
    "print(\"min(1, 2, 3, 4, 5) is:\", min(1, 2, 3, 4, 5)) # Outputs: 1\n",
    "\n",
    "# math.sin() returns the sine of an angle in radians\n",
    "print(\"math.sin(math.pi/2) is:\", math.sin(math.pi/2)) # Outputs: 1.0\n",
    "\n",
    "# math.cos() returns the cosine of an angle in radians\n",
    "print(\"math.cos(math.pi) is:\", math.cos(math.pi)) # Outputs: -1.0\n",
    "\n",
    "# math.tan() returns the tangent of an angle in radians\n",
    "print(\"math.tan(math.pi/4) is:\", math.tan(math.pi/4)) # Outputs: 0.9999999999999999\n",
    "\n",
    "# math.sqrt() returns the square root of a number\n",
    "print(\"math.sqrt(25) is:\", math.sqrt(25)) # Outputs: 5.0\n",
    "\n",
    "# math.factorial() returns the factorial of a number\n",
    "print(\"math.factorial(5) is:\", math.factorial(5)) # Outputs: 120\n",
    "\n",
    "# math.log() returns the natural logarithm of a number\n",
    "print(\"math.log(10) is:\", math.log(10)) # Outputs: 2.302585092994046\n",
    "\n",
    "# math.log10() returns the base-10 logarithm of a number\n",
    "print(\"math.log10(100) is:\", math.log10(100)) # Outputs: 2.0\n",
    "\n",
    "# math.exp() returns the value of e raised to a power\n",
    "print(\"math.exp(2) is:\", math.exp(2)) # Outputs: 7.38905609893065\n",
    "\n",
    "# math.ceil() returns the smallest integer greater than or equal to a number\n",
    "print(\"math.ceil(5.3) is:\" ,math.ceil(5.3)) # Outputs: 6\n",
    "\n",
    "# math.floor() returns the largest integer less than or equal to a number\n",
    "print(\"math.floor(5.3) is:\", math.floor(5.3)) # Outputs: 5\n",
    "\n",
    "# math.pi is a constant representing the ratio of a circle's circumference to its diameter\n",
    "print(\"math.pi is:\", math.pi) # Outputs: 3.141592653589793\n",
    "\n",
    "# math.e is a constant representing the base of the natural logarithm\n",
    "print(\"math.e is:\", math.e) # Outputs: 2.718281828459045\n",
    "\n",
    "# math.tau is a constant representing the ratio of a circle's circumference to its radius\n",
    "print(\"math.tau is:\", math.tau) # Outputs: 6.283185307179586\n",
    "\n",
    "# math.inf is a constant representing infinity\n",
    "print(\"math.inf is:\", math.inf) # Outputs: inf\n",
    "\n",
    "# math.nan is a constant representing Not a Number (NaN)\n",
    "print(\"math.nan is:\", math.nan) # Outputs: nan\n"
   ]
  },
  {
   "cell_type": "markdown",
   "metadata": {},
   "source": [
    "## **NaN**\n",
    "\n",
    "In Python, `NaN` stands for `\"Not a Number\"`. It's a special floating-point value that represents an undefined or unrepresentable numerical result. It's a way for Python to indicate that a calculation or operation couldn't produce a valid numerical outcome.\n"
   ]
  },
  {
   "cell_type": "code",
   "execution_count": 7,
   "metadata": {},
   "outputs": [
    {
     "name": "stdout",
     "output_type": "stream",
     "text": [
      "nan\n"
     ]
    }
   ],
   "source": [
    "# Uncomment to see error\n",
    "import math\n",
    "\n",
    "# result = 0/0 # Division by zero\n",
    "# print(result) # This line will not be executed due to the error\n",
    "\n",
    "# result = math.sqrt(-1) # Square root of a negative number\n",
    "# print(result) # This line will not be executed due to the error | math domain error\n",
    "\n",
    "result = float(\"nan\") # Create a NaN (Not a Number) value\n",
    "print(result) # This will print \"nan\""
   ]
  },
  {
   "cell_type": "markdown",
   "metadata": {},
   "source": [
    "## **Working with NaN:**\n",
    "\n",
    "\n",
    "Checking for NaN: You can use the math.isnan() function to check if a value is NaN"
   ]
  },
  {
   "cell_type": "code",
   "execution_count": 9,
   "metadata": {},
   "outputs": [
    {
     "name": "stdout",
     "output_type": "stream",
     "text": [
      "x is not a number (NAN)\n"
     ]
    }
   ],
   "source": [
    "import math\n",
    "\n",
    "x = float('nan')\n",
    "if math.isnan(x):\n",
    "    print('x is not a number (NAN)')"
   ]
  },
  {
   "cell_type": "markdown",
   "metadata": {},
   "source": [
    "## **Important Notes:**\n",
    "\n",
    "NaN compares unequal to any number, including itself. So, NaN == NaN is False.\n",
    "Calculations involving NaN often result in NaN."
   ]
  },
  {
   "cell_type": "code",
   "execution_count": 10,
   "metadata": {},
   "outputs": [
    {
     "name": "stdout",
     "output_type": "stream",
     "text": [
      "False\n"
     ]
    }
   ],
   "source": [
    "x = float('nan')\n",
    "y = float('nan')\n",
    "print(x == y) # Outputs: False"
   ]
  },
  {
   "cell_type": "markdown",
   "metadata": {},
   "source": [
    "## **Infinity**\n",
    "\n",
    "In Python, math.inf represents positive infinity, and it is indeed displayed as inf when you print it.\n",
    "\n",
    "Here's a quick confirmation:"
   ]
  },
  {
   "cell_type": "code",
   "execution_count": 11,
   "metadata": {},
   "outputs": [
    {
     "name": "stdout",
     "output_type": "stream",
     "text": [
      "inf\n",
      "<class 'float'>\n"
     ]
    }
   ],
   "source": [
    "import math\n",
    "\n",
    "positive_infinity = math.inf\n",
    "#positive_infinity = -math.inf # Negative infinity\n",
    "\n",
    "print(positive_infinity) # Outputs: inf\n",
    "print(type(positive_infinity)) # Outputs: <class 'float'>"
   ]
  },
  {
   "cell_type": "markdown",
   "metadata": {},
   "source": [
    "### **Key points to remember about math.inf:**\n",
    "\n",
    "- Floating-point: math.inf is a floating-point value, not an integer.\n",
    "- Comparisons: It's greater than any finite number.\n",
    "- Operations: Many mathematical operations involving infinity will result in infinity (or NaN in some cases, like infinity minus infinity).\n",
    "- Negative Infinity: For negative infinity, you would use -math.inf."
   ]
  },
  {
   "cell_type": "code",
   "execution_count": 13,
   "metadata": {},
   "outputs": [
    {
     "name": "stdout",
     "output_type": "stream",
     "text": [
      "nan\n",
      "inf\n",
      "inf\n"
     ]
    }
   ],
   "source": [
    "import math\n",
    "\n",
    "positive_infinity_1 = math.inf\n",
    "positive_infinity_2 = math.inf\n",
    "\n",
    "print(positive_infinity_1 - positive_infinity_2) # Outputs: nan\n",
    "print(positive_infinity_1 + positive_infinity_2) # Outputs: inf\n",
    "print(positive_infinity_1 * 2) # Outputs: inf"
   ]
  },
  {
   "cell_type": "code",
   "execution_count": 15,
   "metadata": {},
   "outputs": [
    {
     "name": "stdout",
     "output_type": "stream",
     "text": [
      "True\n"
     ]
    }
   ],
   "source": [
    "import math\n",
    "\n",
    "positive_infinity = math.inf\n",
    "print(positive_infinity > 999999999999999999999999) # Outputs: True | It's greater than any finite number."
   ]
  }
 ],
 "metadata": {
  "kernelspec": {
   "display_name": "Python 3",
   "language": "python",
   "name": "python3"
  },
  "language_info": {
   "codemirror_mode": {
    "name": "ipython",
    "version": 3
   },
   "file_extension": ".py",
   "mimetype": "text/x-python",
   "name": "python",
   "nbconvert_exporter": "python",
   "pygments_lexer": "ipython3",
   "version": "3.13.2"
  }
 },
 "nbformat": 4,
 "nbformat_minor": 2
}
