{
 "cells": [
  {
   "cell_type": "markdown",
   "id": "5374e787",
   "metadata": {},
   "source": [
    "# **OOP (Object Oriented Programming)**\n",
    "\n",
    "##  **1. What is OOP?**\n",
    "\n",
    "`Object-Oriented Programming (OOP)` is a programming paradigm that organizes software design around objects and classes, rather than functions and logic. An object is an instance of a class, which is a blueprint for creating objects. OOP focuses on modeling real-world entities and their relationships in a more intuitive and structured way.\n",
    "\n",
    "For example, if you’re building a car simulation, you might create a Car class. Each car in your program would be an object (instance) of that class, with attributes like color, speed, and model, and behaviors like accelerate() or brake()."
   ]
  },
  {
   "cell_type": "markdown",
   "id": "2f335be4",
   "metadata": {},
   "source": [
    "## **Why use OOP?**\n",
    "\n",
    "1. `Modularity:` OOP allows you to break down complex problems into smaller, reusable components (objects).\n",
    "\n",
    "2. `Reusability:` Classes and objects can be reused across different parts of a program or in entirely different programs.\n",
    "\n",
    "3. `Maintainability:` Code is easier to maintain and update because it’s organized into logical units.\n",
    "\n",
    "4. `Scalability:` OOP makes it easier to scale and extend programs as requirements grow.\n",
    "\n",
    "5. `Real-world modeling:` OOP closely mirrors real-world entities, making it easier to understand and design systems."
   ]
  },
  {
   "cell_type": "markdown",
   "id": "e5bd15ab",
   "metadata": {},
   "source": [
    "## **Key Principles of OOP**\n",
    "\n",
    "OOP is built on four fundamental principles:\n",
    "\n",
    "1. Encapsulation\n",
    "2. Abstraction\n",
    "3. Inheritance\n",
    "4. Polymorphism"
   ]
  },
  {
   "cell_type": "markdown",
   "id": "21d56a57",
   "metadata": {},
   "source": [
    "### **🔐 Encapsulation**\n",
    "\n",
    "* Wraps data and methods into a single unit (class).\n",
    "* Restricts direct access to internal data (using private/protected attributes).\n",
    "* Helps maintain control, security, and integrity of the data."
   ]
  },
  {
   "cell_type": "markdown",
   "id": "2afc4ea9",
   "metadata": {},
   "source": [
    "### **🎭 Abstraction**\n",
    "\n",
    "* Hides complex implementation details from the user.\n",
    "* Shows only the essential features and relevant information.\n",
    "* Makes the interface simple while managing complexity behind the scenes."
   ]
  },
  {
   "cell_type": "markdown",
   "id": "2d06668c",
   "metadata": {},
   "source": [
    "### **🧬 Inheritance**\n",
    "\n",
    "* Allows a class (child) to inherit properties and behaviors from another (parent).\n",
    "* Promotes code reusability and hierarchical classification.\n",
    "* Child class can override or extend parent functionality."
   ]
  },
  {
   "cell_type": "markdown",
   "id": "31727af2",
   "metadata": {},
   "source": [
    "### **🔁 Polymorphism**\n",
    "\n",
    "* Lets one interface be used for different underlying data types or classes.\n",
    "* The same method name can behave differently based on the object.\n",
    "* Supports flexibility and scalability in code design."
   ]
  },
  {
   "cell_type": "markdown",
   "id": "38357a26",
   "metadata": {},
   "source": [
    "## **2. What is a Class?**\n",
    "\n",
    "A class is a blueprint or template for creating objects. It defines the attribute (data) and methods (functions) that the objects created from the class will have. Think of a class as a cookie cutter, and the objects as the cookies made from it.\n",
    "\n",
    "For example, if you’re creating a program to manage vehicles, you might define a Vehicle class with attributes like color, speed, and model, and methods like accelerate() and brake().\n",
    "\n",
    "## **What is an Object?**\n",
    "\n",
    "An `object` is an instance of a class. It’s a specific realization of the class, with its own unique data. For example, if Vehicle is a class, then my_car and your_car could be objects (instances) of that class, each with its own color, speed, and model.\n",
    "\n",
    "## **Creating a Class in Python**\n",
    "\n",
    "To create a class in Python, you use the class keyword, followed by the class name (by convention, class names use PascalCase). Here’s the basic syntax:"
   ]
  },
  {
   "cell_type": "code",
   "execution_count": 1,
   "id": "8ef242ee",
   "metadata": {},
   "outputs": [],
   "source": [
    "class ClassName:\n",
    "  pass\n",
    "    # Class body"
   ]
  },
  {
   "cell_type": "markdown",
   "id": "6efc38c1",
   "metadata": {},
   "source": [
    "### **Defining Attributes and Methods**\n",
    "\n",
    "* Attributes are variables that belong to an object. They represent the object’s state or properties.\n",
    "* Methods are functions that belong to an object. They define the object’s behavior.\n",
    "\n",
    "For example, in a Vehicle class, color and speed could be attributes, and accelerate() and brake() could be methods.\n",
    "\n",
    "### **Instantiating Objects**\n",
    "\n",
    "To create an object (instance) of a class, you call the class name like a function. This invokes the __init__ method (the constructor) to initialize the object.\n",
    "\n",
    "The process of creating object from class is called Instantiation\n",
    "\n",
    "__ (double underscore)\n",
    "\n",
    "### **self**\n",
    "\n",
    "The self refers to the current instance of the class. It’s used to access attributes and methods of the object within the class. It’s always the first parameter of any method in a class. But when you call the method, you don’t pass self manually — Python does that for you.✨"
   ]
  },
  {
   "cell_type": "code",
   "execution_count": 2,
   "id": "3dc509c7",
   "metadata": {},
   "outputs": [],
   "source": [
    "class Person:\n",
    "    def __init__(self, name):\n",
    "        self.name = name # Public attribute, Instance variable\n",
    "        self.state = 'Idle' # Default value of an attribute\n",
    "    \n",
    "    def running(self):\n",
    "        self.state = \"Running\"\n",
    "        print(f\"{self.name} is now running\")\n",
    "    \n",
    "    def walking(self):\n",
    "        self.state = \"Walking\"\n",
    "        print(f\"{self.name} is now walking.\")\n",
    "\n",
    "    def sleeping(self):\n",
    "        self.state = \"Sleeping\"\n",
    "        print(f\"{self.name} is now sleeping.\")\n",
    "    \n",
    "    def show_state(self):\n",
    "        print(f\"{self.name} is currently in {self.state} state\")"
   ]
  },
  {
   "cell_type": "code",
   "execution_count": 3,
   "id": "f639207e",
   "metadata": {},
   "outputs": [
    {
     "name": "stdout",
     "output_type": "stream",
     "text": [
      "John Doe is currently in Idle state\n"
     ]
    }
   ],
   "source": [
    "person1 = Person('John Doe')\n",
    "person1.show_state()"
   ]
  },
  {
   "cell_type": "code",
   "execution_count": 4,
   "id": "03adb86f",
   "metadata": {},
   "outputs": [
    {
     "name": "stdout",
     "output_type": "stream",
     "text": [
      "John Doe is now running\n",
      "John Doe is currently in Running state\n"
     ]
    }
   ],
   "source": [
    "person1.running()\n",
    "person1.show_state()"
   ]
  },
  {
   "cell_type": "code",
   "execution_count": 5,
   "id": "b162c064",
   "metadata": {},
   "outputs": [
    {
     "name": "stdout",
     "output_type": "stream",
     "text": [
      "John Doe is now walking.\n",
      "John Doe is currently in Walking state\n"
     ]
    }
   ],
   "source": [
    "person1.walking()\n",
    "person1.show_state()"
   ]
  },
  {
   "cell_type": "code",
   "execution_count": 6,
   "id": "98d126cc",
   "metadata": {},
   "outputs": [
    {
     "name": "stdout",
     "output_type": "stream",
     "text": [
      "John Doe is now sleeping.\n",
      "John Doe is currently in Sleeping state\n"
     ]
    }
   ],
   "source": [
    "person1.sleeping()\n",
    "person1.show_state()"
   ]
  },
  {
   "cell_type": "markdown",
   "id": "291554c5",
   "metadata": {},
   "source": [
    "## **3. Constructors and Destructors**\n",
    "\n",
    "In this section, we’ll explore constructors and destructors in Python. These are special methods that are automatically called when an object is created or destroyed, respectively. Understanding these concepts is essential for managing the lifecycle of objects in your programs.\n",
    "\n",
    "### **What is a Constructor?**\n",
    "\n",
    "A constructor is a special method that is automatically called when an object of a class is created. It’s used to initialize the object’s attributes or perform any setup required for the object.\n",
    "\n",
    "In Python, the constructor method is named `__init__`\n",
    "\n",
    "### **The `__init__` Method**\n",
    "\n",
    "The `__init__` method is the most commonly used constructor in Python. It’s called whenever a new instance of a class is created. You can define this method to initialize the object’s attributes or perform other setup tasks.\n",
    "\n",
    "Syntax:\n",
    "\n",
    "### **Parameterized Constructors**\n",
    "\n",
    "A `parameterized constructor` takes parameters (arguments) when creating an object. These parameters are used to initialize the object’s attributes.\n",
    "\n",
    "Example:"
   ]
  },
  {
   "cell_type": "code",
   "execution_count": 7,
   "id": "d7dce3d4",
   "metadata": {},
   "outputs": [
    {
     "name": "stdout",
     "output_type": "stream",
     "text": [
      "Name:     Alice\n",
      "Age:      30\n",
      "Address:  81 Harvard Avenue New York, NY 1012\n"
     ]
    }
   ],
   "source": [
    "class Person:\n",
    "    def __init__(self, name, age, address):\n",
    "        self.name = name\n",
    "        self.age = age\n",
    "        self.address = address\n",
    "\n",
    "# Create an object with a parameterized constructor\n",
    "person1 = Person(\"Alice\", 30, \"81 Harvard Avenue New York, NY 1012\")\n",
    "print(\"Name:    \", person1.name)  # Output: Alice\n",
    "print(\"Age:     \", person1.age)   # Output: 30\n",
    "print(\"Address: \",person1.address)\n"
   ]
  },
  {
   "cell_type": "markdown",
   "id": "b2c76077",
   "metadata": {},
   "source": [
    "### **The `__del__` Method (Destructor)**\n",
    "\n",
    "A destructor is a special method that is called when an object is about to be destroyed. In Python, the destructor method is named `__del__`. It’s used to perform cleanup tasks, such as releasing resources or closing files.\n",
    "\n",
    "Syntax:"
   ]
  },
  {
   "cell_type": "code",
   "execution_count": 8,
   "id": "f35ee653",
   "metadata": {},
   "outputs": [
    {
     "name": "stdout",
     "output_type": "stream",
     "text": [
      "The Toyota Corolla has been destroyed.\n"
     ]
    }
   ],
   "source": [
    "class Car:\n",
    "    # Parameterized constructor\n",
    "    def __init__(self, brand, model):\n",
    "        self.brand = brand\n",
    "        self.model = model\n",
    "\n",
    "    # Destructor\n",
    "    def __del__(self):\n",
    "        print(f\"The {self.brand} {self.model} has been destroyed.\")\n",
    "\n",
    "\n",
    "# Create an object of the Car class\n",
    "my_car = Car(\"Toyota\", \"Corolla\")\n",
    "# Explicitly delete the object (triggers the destructor)\n",
    "del my_car  # Output: The Toyota Corolla has been destroyed."
   ]
  },
  {
   "cell_type": "markdown",
   "id": "d9eb16d5",
   "metadata": {},
   "source": [
    "### **Access Modifiers: Public, Private, and Protected**\n",
    "\n",
    "In Python, access control is implemented using naming conventions rather than strict access modifiers like in other languages (e.g., Java or C++). Here’s how it works:\n",
    "\n",
    "**1. Public:**\n",
    "\n",
    "* Attributes and methods are accessible from anywhere.\n",
    "* No special syntax is used. Example: name\n",
    "\n",
    "**2. Protected:**\n",
    "\n",
    "* Attributes and methods are intended for internal use within the class and its subclasses.\n",
    "* A single underscore _ is used as a prefix. Example: _age\n",
    "\n",
    "**3. Private:**\n",
    "\n",
    "* Attributes and methods are accessible only within the class itself.\n",
    "* A double underscore __ is used as a prefix. Example: __salary"
   ]
  },
  {
   "cell_type": "markdown",
   "id": "4044771e",
   "metadata": {},
   "source": [
    "### **Protected:**"
   ]
  },
  {
   "cell_type": "code",
   "execution_count": 9,
   "id": "b1509026",
   "metadata": {},
   "outputs": [],
   "source": [
    "# 🎩 The Wise Father Living in Karachi Pakistan\n",
    "class Father:\n",
    "    def __init__(self):\n",
    "        self._secret_location = \"Under the old oak tree\"  # Protected attribute\n",
    "\n",
    "    def _where_i_hide_the_gold(self):\n",
    "        return f\"The gold is hidden at: {self._secret_location}\""
   ]
  },
  {
   "cell_type": "code",
   "execution_count": 10,
   "id": "51a95f9a",
   "metadata": {},
   "outputs": [],
   "source": [
    "# 🧒 The Sneaky but Trusted Son\n",
    "class Son(Father): #  Inheritance\n",
    "  pass"
   ]
  },
  {
   "cell_type": "code",
   "execution_count": 11,
   "id": "97c394d0",
   "metadata": {},
   "outputs": [
    {
     "data": {
      "text/plain": [
       "'The gold is hidden at: Under the old oak tree'"
      ]
     },
     "execution_count": 11,
     "metadata": {},
     "output_type": "execute_result"
    }
   ],
   "source": [
    "son = Son()\n",
    "son._where_i_hide_the_gold() # Accessing protected method from parent class"
   ]
  },
  {
   "cell_type": "markdown",
   "id": "ba58fe31",
   "metadata": {},
   "source": [
    "### **❌ Not recommended, still accessible**"
   ]
  },
  {
   "cell_type": "code",
   "execution_count": 12,
   "id": "2ff95e2d",
   "metadata": {},
   "outputs": [],
   "source": [
    "# 🧑‍🦳 The Curious Relative Living in Paris France\n",
    "class Relatives:\n",
    "    def __init__(self):\n",
    "        self.father = Father()\n",
    "\n",
    "    def try_access_secret(self):\n",
    "            print(self.father._secret_location)  # ⚠️ Not recommended, still accessible\n",
    "            print(self.father._where_i_hide_the_gold())  # ⚠️ Technically works, but discouraged"
   ]
  },
  {
   "cell_type": "code",
   "execution_count": 13,
   "id": "489026ea",
   "metadata": {},
   "outputs": [
    {
     "name": "stdout",
     "output_type": "stream",
     "text": [
      "\n",
      "---- RELATIVE'S ACCESS ----\n",
      "Under the old oak tree\n",
      "The gold is hidden at: Under the old oak tree\n"
     ]
    }
   ],
   "source": [
    "print(\"\\n---- RELATIVE'S ACCESS ----\")\n",
    "relative = Relatives()\n",
    "relative.try_access_secret()"
   ]
  },
  {
   "cell_type": "markdown",
   "id": "c4d9aaee",
   "metadata": {},
   "source": [
    "### **Private:**"
   ]
  },
  {
   "cell_type": "code",
   "execution_count": 14,
   "id": "1bc41279",
   "metadata": {},
   "outputs": [
    {
     "name": "stdout",
     "output_type": "stream",
     "text": [
      "Ayesha's salary is 50000\n",
      "50000\n"
     ]
    }
   ],
   "source": [
    "class Employee:\n",
    "    def __init__(self, name, salary):\n",
    "        self.name = name\n",
    "        self.__salary = salary  # Private attribute\n",
    "\n",
    "    def show_salary(self):\n",
    "        print(f\"{self.name}'s salary is {self.__salary}\")\n",
    "\n",
    "emp = Employee(\"Ayesha\", 50000)\n",
    "emp.show_salary()\n",
    "\n",
    "\n",
    "# But it can still be accessed using name mangling (not recommended)\n",
    "print(emp._Employee__salary)  # ✅ Works, but use with caution"
   ]
  },
  {
   "cell_type": "code",
   "execution_count": 17,
   "id": "2727ddac",
   "metadata": {},
   "outputs": [
    {
     "ename": "AttributeError",
     "evalue": "'Employee' object has no attribute '__salary'",
     "output_type": "error",
     "traceback": [
      "\u001b[31m---------------------------------------------------------------------------\u001b[39m",
      "\u001b[31mAttributeError\u001b[39m                            Traceback (most recent call last)",
      "\u001b[36mCell\u001b[39m\u001b[36m \u001b[39m\u001b[32mIn[17]\u001b[39m\u001b[32m, line 3\u001b[39m\n\u001b[32m      1\u001b[39m \u001b[38;5;66;03m# Trying to access __salary directly will cause an error\u001b[39;00m\n\u001b[32m      2\u001b[39m \u001b[38;5;66;03m# print(emp.__salary)  ❌ AttributeError\u001b[39;00m\n\u001b[32m----> \u001b[39m\u001b[32m3\u001b[39m \u001b[38;5;28mprint\u001b[39m(\u001b[43memp\u001b[49m\u001b[43m.\u001b[49m\u001b[43m__salary\u001b[49m)\n",
      "\u001b[31mAttributeError\u001b[39m: 'Employee' object has no attribute '__salary'"
     ]
    }
   ],
   "source": [
    "# Trying to access __salary directly will cause an error\n",
    "# print(emp.__salary)  ❌ AttributeError\n",
    "print(emp.__salary)"
   ]
  },
  {
   "cell_type": "markdown",
   "id": "4f078e31",
   "metadata": {},
   "source": [
    "#### **Double Underscore __salary – Name Mangling for Privacy**\n",
    "\n",
    "**📌 Meaning:**\n",
    "\n",
    "* When you prefix a method or variable name with `double underscores`, Python `\"name-mangles\"` it.\n",
    "\n",
    "* This makes the attribute harder to accidentally override or access from outside the class.\n",
    "\n",
    "* It’s used when you're trying to `avoid name conflicts` in subclasses.\n",
    "\n",
    "* Python renames `__salary` to `_ClassName__salary`."
   ]
  },
  {
   "cell_type": "code",
   "execution_count": 18,
   "id": "3e1eca44",
   "metadata": {},
   "outputs": [
    {
     "name": "stdout",
     "output_type": "stream",
     "text": [
      "50000\n"
     ]
    }
   ],
   "source": [
    "print(emp._Employee__salary) # accessed using name mangling (not recommended)"
   ]
  },
  {
   "cell_type": "markdown",
   "id": "e55e6ddf",
   "metadata": {},
   "source": [
    "### **Types of Inheritance**\n",
    "\n",
    "**1. Single Inheritance:**\n",
    "\n",
    "A subclass inherits from a single superclass.\n",
    "\n",
    "**2. Multiple Inheritance:**\n",
    "\n",
    "A subclass inherits from multiple superclasses.\n",
    "\n",
    "## **The super() Function**\n",
    "\n",
    "The super() function is used to call methods from the parent class. It’s particularly useful in the constructor (init) to initialize attributes from the parent class.\n",
    "\n",
    "## **Method Overriding**\n",
    "\n",
    "Method overriding occurs when a subclass provides a specific implementation of a method that is already defined in its superclass. The subclass method overrides the superclass method."
   ]
  },
  {
   "cell_type": "code",
   "execution_count": 19,
   "id": "84c050e4",
   "metadata": {},
   "outputs": [
    {
     "name": "stdout",
     "output_type": "stream",
     "text": [
      "Tommy says Woof!\n"
     ]
    }
   ],
   "source": [
    "# Parent class\n",
    "class Animal:\n",
    "    def __init__(self, name):\n",
    "        self.name = name\n",
    "\n",
    "    def speak(self):\n",
    "        return \"Animal sound\"\n",
    "\n",
    "# Child class (inherits from Animal)\n",
    "class Dog(Animal):\n",
    "\n",
    "    def __init__(self, name):\n",
    "      super().__init__(name) # Call the parent class constructor\n",
    "\n",
    "    def speak(self): # Overriding the parent method speak()\n",
    "        return \"Woof!\"\n",
    "\n",
    "# Create an instance of the Dog class\n",
    "dog = Dog(\"Tommy\")\n",
    "print(f\"{dog.name} says {dog.speak()}\")  # Output: Buddy says Woof!"
   ]
  },
  {
   "cell_type": "markdown",
   "id": "116fa72a",
   "metadata": {},
   "source": [
    "## **Polymorphism Example**\n"
   ]
  },
  {
   "cell_type": "code",
   "execution_count": 21,
   "id": "a548cab9",
   "metadata": {},
   "outputs": [
    {
     "name": "stdout",
     "output_type": "stream",
     "text": [
      "Tommy says Woof!\n"
     ]
    }
   ],
   "source": [
    "animal: Animal = Dog(\"Tommy\")\n",
    "print(f\"{animal.name} says {animal.speak()}\")  # Output: Tommy says Woof!"
   ]
  },
  {
   "cell_type": "markdown",
   "id": "74d04836",
   "metadata": {},
   "source": [
    "## **Multiple Inheritance**"
   ]
  },
  {
   "cell_type": "code",
   "execution_count": 22,
   "id": "78275497",
   "metadata": {},
   "outputs": [
    {
     "name": "stdout",
     "output_type": "stream",
     "text": [
      "Flying high!\n",
      "Swimming deep!\n"
     ]
    }
   ],
   "source": [
    "# First parent class\n",
    "class Bird:\n",
    "    def fly(self):\n",
    "        return \"Flying high!\"\n",
    "\n",
    "# Second parent class\n",
    "class Fish:\n",
    "    def swim(self):\n",
    "        return \"Swimming deep!\"\n",
    "\n",
    "# Child class (inherits from both Bird and Fish)\n",
    "class FlyingFish(Bird, Fish):\n",
    "    pass\n",
    "\n",
    "# Create an instance of the FlyingFish class\n",
    "flying_fish = FlyingFish()\n",
    "print(flying_fish.fly())  # Output: Flying high!\n",
    "print(flying_fish.swim())  # Output: Swimming deep!"
   ]
  },
  {
   "cell_type": "markdown",
   "id": "e31ae961",
   "metadata": {},
   "source": [
    "## **Operator Overloading:**\n",
    "\n",
    "Customizing the behavior of operators (e.g., +, -, *, etc.) for user-defined classes using special methods like add, sub, etc."
   ]
  },
  {
   "cell_type": "code",
   "execution_count": 23,
   "id": "c2270bca",
   "metadata": {},
   "outputs": [],
   "source": [
    "class Point:\n",
    "    def __init__ (self, x,y):\n",
    "        self.x = x # Instance Variable\n",
    "        self.y = y # Instance Variable\n",
    "    \n",
    "    # Overload the + operator\n",
    "    def __add__(self, other):\n",
    "        return Point(self.x + other.x, self.y + other.y)\n",
    "    \n",
    "    # Overload the str() function for printing\n",
    "    def __str__(self):\n",
    "        return f\"Point({self.x}, {self.y})\"\n",
    "\n",
    "# Creating instances of Point class\n",
    "\n",
    "point1 = Point(1,2)\n",
    "point2 = Point(3,4)"
   ]
  },
  {
   "cell_type": "code",
   "execution_count": 24,
   "id": "fbf63c12",
   "metadata": {},
   "outputs": [
    {
     "name": "stdout",
     "output_type": "stream",
     "text": [
      "Point(4, 6)\n"
     ]
    }
   ],
   "source": [
    "# Use the + operator to add two points\n",
    "point3 = point1 + point2\n",
    "print(point3)  # Output: Point(4, 6)"
   ]
  },
  {
   "cell_type": "markdown",
   "id": "a007657c",
   "metadata": {},
   "source": [
    "## **Duck Typing**\n",
    "\n",
    "Duck typing is a fundamental concept in Python programming that enables developers to write flexible and dynamic code. It's a key aspect of Python's philosophy, which emphasizes \"we are all consenting adults here\" and encourages a more relaxed approach to programming."
   ]
  },
  {
   "cell_type": "code",
   "execution_count": 27,
   "id": "39308123",
   "metadata": {},
   "outputs": [
    {
     "name": "stdout",
     "output_type": "stream",
     "text": [
      "<__main__.Duck object at 0x00000149AFF36A50>   : Quack!\n",
      "<__main__.Person object at 0x00000149AFF367B0> : I can also quack like a duck!\n"
     ]
    }
   ],
   "source": [
    "\n",
    "class Duck:\n",
    "    def speak(self):\n",
    "        return self.__repr__() + \"   : Quack!\"\n",
    "\n",
    "class Person:\n",
    "    def speak(self):\n",
    "        return self.__repr__() + \" : I can also quack like a duck!\"\n",
    "\n",
    "# Function to demonstrate duck typing\n",
    "def make_it_quack(duck):\n",
    "    print(duck.speak()) # type(thing),\": \", >>> instead of using type() method we used self.__repr__() to print the type of the object\n",
    "\n",
    "# Create instances of Duck and Person\n",
    "duck = Duck()\n",
    "person = Person()\n",
    "\n",
    "# Call the function with different objects\n",
    "make_it_quack(duck)    # Output: Quack!\n",
    "make_it_quack(person)  # Output: I can quack like a duck!"
   ]
  },
  {
   "cell_type": "markdown",
   "id": "98f36496",
   "metadata": {},
   "source": [
    "## **What is Abstraction?**\n",
    "\n",
    "Abstraction simplifies complex systems by breaking them into manageable parts. For example, all vehicles (cars, bikes) must have a start() method, but each vehicle starts differently. Abstraction lets us enforce this rule without worrying about implementation details.\n",
    "\n",
    "### **Abstract Classes and Methods**\n",
    "\n",
    "These are \"incomplete\" templates you can't use directly. They:\n",
    "\n",
    "* Define required methods for child classes\n",
    "* Ensure consistency across related classes\n",
    "* Prevent creating objects from the abstract class itself\n",
    "\n",
    "Using Python's abc Module\n",
    "\n",
    "We create abstract classes using:"
   ]
  },
  {
   "cell_type": "code",
   "execution_count": 28,
   "id": "12059acc",
   "metadata": {},
   "outputs": [],
   "source": [
    "from abc import ABC, abstractmethod\n",
    "\n",
    "class Vehicle(ABC):\n",
    "    @abstractmethod\n",
    "    def start(self):\n",
    "        pass\n",
    "    "
   ]
  },
  {
   "cell_type": "markdown",
   "id": "5490f7b2",
   "metadata": {},
   "source": [
    "### **Key components:**\n",
    "\n",
    "1. **ABC** makes the class abstract\n",
    "2. **@abstractmethod** marks required methods\n",
    "3. Child classes **must** implement all **abstract methods**"
   ]
  },
  {
   "cell_type": "code",
   "execution_count": 29,
   "id": "620a4c86",
   "metadata": {},
   "outputs": [],
   "source": [
    "class Truck(Vehicle): # Child class must implement abstract method\n",
    "    pass"
   ]
  },
  {
   "cell_type": "markdown",
   "id": "d47c2163",
   "metadata": {},
   "source": [
    "**Must Implement Abstract Method:**"
   ]
  },
  {
   "cell_type": "code",
   "execution_count": 30,
   "id": "bef264f5",
   "metadata": {},
   "outputs": [
    {
     "ename": "TypeError",
     "evalue": "Can't instantiate abstract class Truck without an implementation for abstract method 'start'",
     "output_type": "error",
     "traceback": [
      "\u001b[31m---------------------------------------------------------------------------\u001b[39m",
      "\u001b[31mTypeError\u001b[39m                                 Traceback (most recent call last)",
      "\u001b[36mCell\u001b[39m\u001b[36m \u001b[39m\u001b[32mIn[30]\u001b[39m\u001b[32m, line 1\u001b[39m\n\u001b[32m----> \u001b[39m\u001b[32m1\u001b[39m truck: Truck = \u001b[43mTruck\u001b[49m\u001b[43m(\u001b[49m\u001b[43m)\u001b[49m \u001b[38;5;66;03m# ❌ TypeError: Can't instantiate abstract class Truck with abstract method start\u001b[39;00m\n",
      "\u001b[31mTypeError\u001b[39m: Can't instantiate abstract class Truck without an implementation for abstract method 'start'"
     ]
    }
   ],
   "source": [
    "truck: Truck = Truck() # ❌ TypeError: Can't instantiate abstract class Truck with abstract method start"
   ]
  },
  {
   "cell_type": "code",
   "execution_count": 31,
   "id": "616e3fe0",
   "metadata": {},
   "outputs": [],
   "source": [
    "class Truck(Vehicle):\n",
    "    def start(self):\n",
    "        return \"Truck started\""
   ]
  },
  {
   "cell_type": "code",
   "execution_count": 32,
   "id": "2301cd99",
   "metadata": {},
   "outputs": [
    {
     "name": "stdout",
     "output_type": "stream",
     "text": [
      "Truck started\n"
     ]
    }
   ],
   "source": [
    "truck: Truck = Truck()\n",
    "print(truck.start())\n",
    "     "
   ]
  },
  {
   "cell_type": "markdown",
   "id": "5ed6794c",
   "metadata": {},
   "source": [
    "### **🔁 Class variable (shared by all instances)**"
   ]
  },
  {
   "cell_type": "code",
   "execution_count": 33,
   "id": "69907e5d",
   "metadata": {},
   "outputs": [
    {
     "name": "stdout",
     "output_type": "stream",
     "text": [
      "City Name: Kolachi \n",
      "City Name: Kolachi \n"
     ]
    }
   ],
   "source": [
    "class City:\n",
    "    name = \"Unknown City\"  # 🔁 Class variable (shared by all instances)\n",
    "\n",
    "    def __init__(self, name):\n",
    "       City.name = name\n",
    "\n",
    "    def show_info(self):\n",
    "        print(f\"City Name: {City.name} \")\n",
    "\n",
    "\n",
    "# 🌆 Creating city instances\n",
    "city1 = City(\"Kolachi\")\n",
    "city2 = City(\"Kolachi\")\n",
    "\n",
    "# 🖨 Showing info\n",
    "city1.show_info()  # City Name: Kolachi\n",
    "city2.show_info()  # City Name: Kolachi"
   ]
  },
  {
   "cell_type": "code",
   "execution_count": 34,
   "id": "ac3fa77d",
   "metadata": {},
   "outputs": [],
   "source": [
    "# 🧠 Changing class variable affects all instances\n",
    "City.name = \"Karachi\""
   ]
  },
  {
   "cell_type": "code",
   "execution_count": 35,
   "id": "e3dcc58b",
   "metadata": {},
   "outputs": [
    {
     "name": "stdout",
     "output_type": "stream",
     "text": [
      "City Name: Karachi \n",
      "City Name: Karachi \n"
     ]
    }
   ],
   "source": [
    "city1.show_info()  # City Name: Karachi\n",
    "city2.show_info()  # City Name: Karachi"
   ]
  },
  {
   "cell_type": "markdown",
   "id": "59dddef3",
   "metadata": {},
   "source": [
    "## **5. Methods in Python Classes**\n",
    "\n",
    "In Python, methods are functions defined within a class that operate on the class’s data. There are three types of methods in Python: `instance methods`, `class methods`, and `static methods`. Each type has a specific purpose and use case. Let’s explore them in detail."
   ]
  },
  {
   "cell_type": "markdown",
   "id": "a809cfae",
   "metadata": {},
   "source": [
    "### **1. Instance Methods**\n",
    "\n",
    "* **Definition:** Instance methods are the most common type of methods. They operate on an instance of the class and can access and modify instance attributes.\n",
    "\n",
    "* **First Parameter:** The first parameter is always self, which refers to the instance of the class.\n",
    "\n",
    "* **Usage:** Used for methods that need to access or modify instance-specific data."
   ]
  },
  {
   "cell_type": "markdown",
   "id": "48913dd1",
   "metadata": {},
   "source": [
    "### **2. Class Methods (@classmethod)**\n",
    "\n",
    "* **Definition:** Class methods operate on the class itself rather than on instances. They can access and modify class attributes.\n",
    "\n",
    "* **First Parameter:** The first parameter is always cls, which refers to the class.\n",
    "\n",
    "* **Decorator:** Defined using the @classmethod decorator.\n",
    "\n",
    "* **Usage:** Used for methods that need to work with class-level data or perform operations related to the class."
   ]
  },
  {
   "cell_type": "markdown",
   "id": "2e1184a3",
   "metadata": {},
   "source": [
    "### **3. Static Methods (@staticmethod)**\n",
    "\n",
    "* **Definition:** Static methods are independent of both the class and its instances. They don’t have access to self or cls.\n",
    "\n",
    "* **Decorator:** Defined using the @staticmethod decorator.\n",
    "\n",
    "* **Usage:** Used for utility functions that don’t depend on class or instance data."
   ]
  },
  {
   "cell_type": "markdown",
   "id": "3f9fbfb3",
   "metadata": {},
   "source": [
    "| Aspect | Instance Methods | Class Methods | Static Methods | \n",
    "|----------------------|-------------------------------------------|----------------------------------------|--------------------------------------------| \n",
    "| First Parameter | self (refers to the instance) | cls (refers to the class) | No specific parameter | \n",
    "| Access to Attributes | Can access and modify instance attributes | Can access and modify class attributes | Cannot access instance or class attributes | \n",
    "| Decorator | None | @classmethod | @staticmethod | \n",
    "| Usage | For methods that work with instance data | For methods that work with class data | For utility functions | | | |"
   ]
  },
  {
   "cell_type": "markdown",
   "id": "ab1cd0fa",
   "metadata": {},
   "source": [
    "**Class Methods (@classmethod)**"
   ]
  },
  {
   "cell_type": "code",
   "execution_count": 2,
   "id": "8caa0e9e",
   "metadata": {},
   "outputs": [],
   "source": [
    "class Human:\n",
    "    species = \"Homo sapiens\" # Class attributes\n",
    "\n",
    "    @classmethod\n",
    "    def get_specie(cls): # python environment will automatically pass the 'cls' as a parameter\n",
    "        return cls.species"
   ]
  },
  {
   "cell_type": "code",
   "execution_count": 3,
   "id": "7c2f1fcf",
   "metadata": {},
   "outputs": [
    {
     "data": {
      "text/plain": [
       "'Homo sapiens'"
      ]
     },
     "execution_count": 3,
     "metadata": {},
     "output_type": "execute_result"
    }
   ],
   "source": [
    "Human.get_specie()"
   ]
  },
  {
   "cell_type": "markdown",
   "id": "f0b0dbc1",
   "metadata": {},
   "source": [
    "**Static Methods (@staticmethod)**"
   ]
  },
  {
   "cell_type": "code",
   "execution_count": 4,
   "id": "0ba1b579",
   "metadata": {},
   "outputs": [],
   "source": [
    "class Human:\n",
    "    @staticmethod\n",
    "    def breathe():\n",
    "        print('Breathing...')"
   ]
  },
  {
   "cell_type": "code",
   "execution_count": 5,
   "id": "0cd76f65",
   "metadata": {},
   "outputs": [
    {
     "name": "stdout",
     "output_type": "stream",
     "text": [
      "Breathing...\n"
     ]
    }
   ],
   "source": [
    "Human.breathe()"
   ]
  },
  {
   "cell_type": "markdown",
   "id": "6c0d6454",
   "metadata": {},
   "source": [
    "#### **If I can access class stuff using the class name, why bother with cls?**\n",
    "\n",
    "**1. Inheritance support (polymorphism)**\n",
    "\n",
    "When you use cls, you're not hardcoding the class name — you're referring to whatever subclass or class is calling the method.\n",
    "\n",
    "**2. It allows modifying class state (e.g., class variables) dynamically**\n",
    "\n",
    "You can update class-level attributes using cls, which works safely in subclasses.\n",
    "\n",
    "**3. It’s more maintainable and DRY**\n",
    "\n",
    "Using cls means:\n",
    "* You don’t repeat the class name (less chance for typos).\n",
    "* Your code is future-proof if the class is renamed."
   ]
  },
  {
   "cell_type": "code",
   "execution_count": 9,
   "id": "d2fb202f",
   "metadata": {},
   "outputs": [],
   "source": [
    "class Animal:\n",
    "    species = 'Unknown'\n",
    "\n",
    "    @classmethod\n",
    "    def make(cls):\n",
    "        return cls() # <== this is magic\n",
    "\n",
    "class Dog(Animal):\n",
    "    species = 'Dog'"
   ]
  },
  {
   "cell_type": "code",
   "execution_count": 10,
   "id": "6169f743",
   "metadata": {},
   "outputs": [
    {
     "name": "stdout",
     "output_type": "stream",
     "text": [
      "<class '__main__.Animal'>\n"
     ]
    }
   ],
   "source": [
    "animal = Animal.make()\n",
    "print(type(animal))"
   ]
  },
  {
   "cell_type": "code",
   "execution_count": 11,
   "id": "06433ef1",
   "metadata": {},
   "outputs": [
    {
     "name": "stdout",
     "output_type": "stream",
     "text": [
      "<class '__main__.Dog'>\n"
     ]
    }
   ],
   "source": [
    "dog = Dog.make()\n",
    "print(type(dog))"
   ]
  },
  {
   "cell_type": "markdown",
   "id": "08b15380",
   "metadata": {},
   "source": [
    "✅ Because we used cls(), it returned a Dog instance, even though the method was defined in the Animal base class."
   ]
  },
  {
   "cell_type": "markdown",
   "id": "89454bab",
   "metadata": {},
   "source": [
    "| Access Pattern | Flexibility | Best Used In                                                                 |\n",
    "|----------------|-------------|------------------------------------------------------------------------------|\n",
    "| `cls`          | Dynamic     | Classmethods that support inheritance, polymorphism, and factory methods     |\n",
    "| Class name     | Static      | When you don’t care about inheritance or subclass behavior                   |\n",
    "\n"
   ]
  }
 ],
 "metadata": {
  "kernelspec": {
   "display_name": "Python 3",
   "language": "python",
   "name": "python3"
  },
  "language_info": {
   "codemirror_mode": {
    "name": "ipython",
    "version": 3
   },
   "file_extension": ".py",
   "mimetype": "text/x-python",
   "name": "python",
   "nbconvert_exporter": "python",
   "pygments_lexer": "ipython3",
   "version": "3.13.2"
  }
 },
 "nbformat": 4,
 "nbformat_minor": 5
}
