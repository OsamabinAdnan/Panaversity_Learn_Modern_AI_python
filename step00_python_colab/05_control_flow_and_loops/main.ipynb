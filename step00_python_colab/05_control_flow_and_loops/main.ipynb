{
 "cells": [
  {
   "cell_type": "markdown",
   "metadata": {},
   "source": [
    "<font color=\"#4ee247\" size=8> **Lesson # 05** </font><font color=\"#ffbf00\" size=8>**Control Flow and Loops**</font>"
   ]
  },
  {
   "cell_type": "markdown",
   "metadata": {},
   "source": [
    "# **Tutorial: Control Flow and Decision Making in Python**\n",
    "\n",
    "## **1. Introduction to Control Flow**\n",
    "\n",
    "Control flow refers to the order in which statements are executed in a program. In Python, decision-making is achieved using if, elif, and else statements, along with comparison and logical operators."
   ]
  },
  {
   "cell_type": "markdown",
   "metadata": {},
   "source": [
    "## **2. Comparison Operators**\n",
    "\n",
    "<font color=\"Green\" size=3> (Already done in Lesson 02) </font>\n",
    "\n",
    "Comparison operators are used to compare values and return True or False. Here are the most common ones:\n",
    "\n",
    "* == (equal to)\n",
    "* != &nbsp;(not equal to)\n",
    "* \\> &nbsp;&nbsp;(greater than)\n",
    "* < &nbsp;&nbsp;(less than)\n",
    "* \\>= (greater than or equal to)\n",
    "* <= (less than or equal to)\n",
    "\n",
    "<br>\n",
    "\n",
    "Example Code:"
   ]
  },
  {
   "cell_type": "code",
   "execution_count": 1,
   "metadata": {},
   "outputs": [
    {
     "name": "stdout",
     "output_type": "stream",
     "text": [
      "x == y =  False\n",
      "x != y =  True\n",
      "x > y  =  False\n",
      "x < y  =  True\n",
      "x >= y =  False\n",
      "x <= y =  True\n"
     ]
    }
   ],
   "source": [
    "x: int = 10\n",
    "y: int = 20\n",
    "\n",
    "print(\"x == y = \", x == y)  # False\n",
    "print(\"x != y = \", x != y)  # True\n",
    "print(\"x > y  = \", x > y)   # False\n",
    "print(\"x < y  = \", x < y)   # True\n",
    "print(\"x >= y = \", x >= y)  # False\n",
    "print(\"x <= y = \", x <= y)  # True"
   ]
  },
  {
   "cell_type": "markdown",
   "metadata": {},
   "source": [
    "# **3. Logical Operators**\n",
    "\n",
    "<font color=\"Green\" size=3> (Already done in Lesson 02) </font>\n",
    "\n",
    "\n",
    "Logical operators combine multiple conditions:\n",
    "\n",
    "* and (True if both conditions are True)\n",
    "* or (True if at least one condition is True)\n",
    "* not (reverses the result of a condition)"
   ]
  },
  {
   "cell_type": "code",
   "execution_count": 2,
   "metadata": {},
   "outputs": [
    {
     "name": "stdout",
     "output_type": "stream",
     "text": [
      "You are eligible for a student discount.\n"
     ]
    }
   ],
   "source": [
    "age: int = 25\n",
    "is_student: bool = True\n",
    "\n",
    "# Check if age is greater than 18 AND is_student is True\n",
    "if age > 18 and is_student:\n",
    "    print(\"You are eligible for a student discount.\")\n",
    "\n",
    "# Check if age is less than 12 OR greater than 60\n",
    "if age < 12 or age > 60:\n",
    "    print(\"You qualify for a special discount.\")\n",
    "\n",
    "# Check if the person is NOT a student\n",
    "if not is_student:\n",
    "    print(\"You are not a student.\")"
   ]
  },
  {
   "cell_type": "markdown",
   "metadata": {},
   "source": [
    "# **4. The if Statement**\n",
    "\n",
    "The if statement is used to execute a block of code only if a condition is True.\n",
    "\n",
    "<br>\n",
    "\n",
    "Example Code:"
   ]
  },
  {
   "cell_type": "code",
   "execution_count": 3,
   "metadata": {},
   "outputs": [
    {
     "name": "stdout",
     "output_type": "stream",
     "text": [
      "num is positive\n"
     ]
    }
   ],
   "source": [
    "num: int = 10\n",
    "if num > 0:\n",
    "    print(\"num is positive\")"
   ]
  },
  {
   "cell_type": "markdown",
   "metadata": {},
   "source": [
    "# **5. The else Statement**\n",
    "\n",
    "The else statement is used to execute a block of code if the if condition is False.\n",
    "\n",
    "<br>\n",
    "\n",
    "Example Code:"
   ]
  },
  {
   "cell_type": "code",
   "execution_count": 4,
   "metadata": {},
   "outputs": [
    {
     "name": "stdout",
     "output_type": "stream",
     "text": [
      "The number is Negative\n"
     ]
    }
   ],
   "source": [
    "num:int = -5\n",
    "if num > 0:\n",
    "    print(\"The number is Positive\")\n",
    "else:\n",
    "    print(\"The number is Negative\")"
   ]
  },
  {
   "cell_type": "markdown",
   "metadata": {},
   "source": [
    "# **6. The elif Statement**\n",
    "\n",
    "The elif statement is used to check multiple conditions. It stands for \"else if.\"\n",
    "<br>\n",
    "\n",
    "Example Code:"
   ]
  },
  {
   "cell_type": "code",
   "execution_count": null,
   "metadata": {},
   "outputs": [
    {
     "name": "stdout",
     "output_type": "stream",
     "text": [
      "The number is zero\n"
     ]
    }
   ],
   "source": [
    "num:int = 0\n",
    "\n",
    "if num > 0: # Program execution step# 1 if condition = True\n",
    "    print(\"The number is positive\")\n",
    "elif num < 0: # Program execution step# 2 elif condition = True\n",
    "    print(\"The number is negative\")\n",
    "else: # Program execution step# 3 else block = True\n",
    "    print(\"The number is zero\")"
   ]
  },
  {
   "cell_type": "markdown",
   "metadata": {},
   "source": [
    "# **7. Nested if Statements**\n",
    "\n",
    "if statements can be nested inside other if statements to check multiple conditions.\n",
    "\n",
    "<br>\n",
    "\n",
    "Example Code:"
   ]
  },
  {
   "cell_type": "code",
   "execution_count": 8,
   "metadata": {},
   "outputs": [
    {
     "name": "stdout",
     "output_type": "stream",
     "text": [
      "The number is positive and even\n"
     ]
    }
   ],
   "source": [
    "num:int = 10\n",
    "\n",
    "if num > 0:\n",
    "    if num % 2 == 0:\n",
    "        print (\"The number is positive and even\")\n",
    "    else:\n",
    "        print (\"The number is positive and odd\")\n",
    "else:\n",
    "    print (\"The number is negative\")"
   ]
  },
  {
   "cell_type": "markdown",
   "metadata": {},
   "source": [
    "# **8. Practical Examples**\n",
    "\n",
    "Here are two practical examples to solidify these concepts.\n",
    "\n",
    "Example 1: Simple Calculator"
   ]
  },
  {
   "cell_type": "code",
   "execution_count": 11,
   "metadata": {},
   "outputs": [
    {
     "name": "stdout",
     "output_type": "stream",
     "text": [
      "Result: 8.051020408163266\n"
     ]
    }
   ],
   "source": [
    "operation:str = input(\"Enter the operation (+, -, *, /): \")\n",
    "num1:float = float(input(\"Enter the first number: \"))\n",
    "num2:float = float(input(\"Enter the second number: \"))\n",
    "\n",
    "if operation == \"+\":\n",
    "    result =(num1 + num2)\n",
    "elif operation == \"-\":\n",
    "    result = (num1 - num2)\n",
    "elif operation == \"*\":\n",
    "    result = (num1 * num2)\n",
    "elif operation == \"/\":\n",
    "    if num2 != 0:\n",
    "        result = num1 / num2\n",
    "    else:\n",
    "        result = \"Error: Division by zero\"\n",
    "else:\n",
    "    result = \"Error: Invalid operation\"\n",
    "\n",
    "print(\"Result:\", result)"
   ]
  },
  {
   "cell_type": "markdown",
   "metadata": {},
   "source": [
    "<font color=\"#aa0bff\" size=5> **From now onwards you will be seeing the power of Generative AI in our tutorial** </font>"
   ]
  },
  {
   "cell_type": "code",
   "execution_count": 15,
   "metadata": {},
   "outputs": [
    {
     "name": "stdout",
     "output_type": "stream",
     "text": [
      "Result: 25.0\n"
     ]
    }
   ],
   "source": [
    "# prompt: build a calculator which takes input from the user, beside basic functionality include modulus, floor division, Exponentiation\n",
    "\n",
    "def calculator():\n",
    "    \"\"\"\n",
    "    A calculator function that takes user input for numbers and operations,\n",
    "    including modulus, floor division, and exponentiation.\n",
    "    \"\"\"\n",
    "\n",
    "    while True:\n",
    "        operation = input(\"Enter the operation (+, -, *, /, %, //, ** or 'q' to quit): \")\n",
    "        if operation.lower() == \"q\":\n",
    "            break\n",
    "        if operation not in ('+', '-', '*', '/', '%', '//', '**'):\n",
    "            print(\"Invalid operation\")\n",
    "            continue\n",
    "\n",
    "        try:\n",
    "            num1 = float(input(\"Enter the first number: \"))\n",
    "            num2 = float(input(\"Enter the second number: \"))\n",
    "        except ValueError:\n",
    "            print(\"Invalid input. Please enter a valid number only.\")\n",
    "            continue\n",
    "\n",
    "        if operation == '+':\n",
    "            result = num1 + num2\n",
    "        elif operation == '-':\n",
    "            result = num1 - num2\n",
    "        elif operation == '*':\n",
    "            result = num1 * num2\n",
    "        elif operation == '/':\n",
    "            if num2 != 0:\n",
    "                result = num1 / num2\n",
    "            else:\n",
    "                result = \"Error Division by zero\"\n",
    "                print(result)\n",
    "                continue\n",
    "        elif operation == '%':\n",
    "            result = num1 % num2\n",
    "        elif operation == \"//\":\n",
    "            if num2 != 0:\n",
    "                result = num1 // num2\n",
    "            else:\n",
    "                result = \"Error Division by zero\"\n",
    "                print(result)\n",
    "                continue\n",
    "        elif operation == '**':\n",
    "            result = num1 ** num2\n",
    "\n",
    "        print(\"Result:\", result)\n",
    "\n",
    "calculator()\n"
   ]
  },
  {
   "cell_type": "code",
   "execution_count": 18,
   "metadata": {},
   "outputs": [
    {
     "name": "stdout",
     "output_type": "stream",
     "text": [
      "The grade for 98.0 marks is: A+\n"
     ]
    }
   ],
   "source": [
    "# prompt: generate a grading system for school which takes marks as an  input show grade according to the marks\n",
    "\n",
    "def grading_system(marks):\n",
    "  \"\"\"\n",
    "  This function takes marks as input and returns the corresponding grade.\n",
    "\n",
    "  Args:\n",
    "    marks: The marks obtained by the student.\n",
    "\n",
    "  Returns:\n",
    "    The grade corresponding to the marks.\n",
    "  \"\"\"\n",
    "  if marks >= 90:\n",
    "    grade = \"A+\"\n",
    "  elif marks >= 80:\n",
    "    grade = \"A\"\n",
    "  elif marks >= 70:\n",
    "    grade = \"B\"\n",
    "  elif marks >= 60:\n",
    "    grade = \"C\"\n",
    "  elif marks >= 50:\n",
    "    grade = \"D\"\n",
    "  else:\n",
    "    grade = \"F\"\n",
    "  return grade\n",
    "\n",
    "# Get marks as input from the user\n",
    "while True:\n",
    "  try:\n",
    "    marks = float(input(\"Enter the marks: \"))\n",
    "    if 0 <= marks <= 100:\n",
    "      break\n",
    "    else:\n",
    "      print(\"Marks must be between 0 and 100.\")\n",
    "  except ValueError:\n",
    "    print(\"Invalid input. Please enter a number.\")\n",
    "\n",
    "# Determine the grade\n",
    "grade = grading_system(marks)\n",
    "\n",
    "# Print the grade\n",
    "print(f\"The grade for {marks} marks is: {grade}\")"
   ]
  },
  {
   "cell_type": "markdown",
   "metadata": {},
   "source": [
    "# **Tutorial: Loops and Iteration in Python**\n",
    "\n",
    "## **1. Introduction to Loops**\n",
    "\n",
    "Loops are used to repeat a block of code multiple times. Python supports two types of loops:\n",
    "\n",
    "* for loops: Used to iterate over a sequence (e.g., lists, strings, or ranges).\n",
    "* while loops: Used to repeat a block of code as long as a condition is True.\n",
    "\n",
    "When to use scenario:\n",
    "\n",
    "  **A. For Loop:**\n",
    "\n",
    "  - **`Grading a class of students`**: You have a `list of 30 students` and you want to calculate the average score for each student. You use a `for` loop to iterate over the list of students and calculate the average score for each one.\n",
    "\n",
    "  - Washing Machine(number spins), Microwave Oven e.t.c.\n",
    "\n",
    "**B. While Loop:**\n",
    "\n",
    "  - **`Filling up a gas tank`**: You want to fill up your gas tank `until it's full.` You don't know how many times you'll need to fill up the tank, but you'll keep filling it up until it's full. You use a `while` loop to fill up the tank until it's full.\n",
    "\n",
    "  - Air Conditioner, Refigrator, Heater, Washing Machine(filling water) e.t.c."
   ]
  },
  {
   "cell_type": "markdown",
   "metadata": {},
   "source": [
    "## **2. The for Loop**\n",
    "\n",
    "The for loop iterates over a sequence (like a list, string, or range) and executes a block of code for each item `for a specified or fixed number of times`.\n",
    "\n",
    "Example Code:"
   ]
  },
  {
   "cell_type": "code",
   "execution_count": 19,
   "metadata": {},
   "outputs": [
    {
     "name": "stdout",
     "output_type": "stream",
     "text": [
      "apple\n",
      "banana\n",
      "cherry\n"
     ]
    }
   ],
   "source": [
    "# Iterate over a list\n",
    "fruits = [\"apple\", \"banana\", \"cherry\"]\n",
    "for fruit in fruits:\n",
    "    print(fruit)"
   ]
  },
  {
   "cell_type": "code",
   "execution_count": 21,
   "metadata": {},
   "outputs": [
    {
     "name": "stdout",
     "output_type": "stream",
     "text": [
      "O\n",
      "s\n",
      "a\n",
      "m\n",
      "a\n",
      "b\n",
      "i\n",
      "n\n",
      "A\n",
      "d\n",
      "n\n",
      "a\n",
      "n\n"
     ]
    }
   ],
   "source": [
    "# Iterate over a string\n",
    "name = \"OsamabinAdnan\"\n",
    "for char in name:\n",
    "    print(char)"
   ]
  },
  {
   "cell_type": "markdown",
   "metadata": {},
   "source": [
    "<font color=\"Green\" size=5> In Lesson 01 we learned about range() </font>"
   ]
  },
  {
   "cell_type": "code",
   "execution_count": 22,
   "metadata": {},
   "outputs": [
    {
     "name": "stdout",
     "output_type": "stream",
     "text": [
      "0\n",
      "1\n",
      "2\n",
      "3\n",
      "4\n"
     ]
    }
   ],
   "source": [
    "# Print numbers from 0 to 4\n",
    "for i in range(5):\n",
    "    print(i)"
   ]
  },
  {
   "cell_type": "code",
   "execution_count": 25,
   "metadata": {},
   "outputs": [
    {
     "name": "stdout",
     "output_type": "stream",
     "text": [
      "2\n",
      "4\n",
      "6\n",
      "8\n",
      "10\n"
     ]
    }
   ],
   "source": [
    "# Print even numbers from 2 to 10\n",
    "for i in range(2,11,2):\n",
    "    print(i)"
   ]
  },
  {
   "cell_type": "markdown",
   "metadata": {},
   "source": [
    "`_` (*underscore*) This is a **`throwaway variable`**, which is a common Python convention for a variable that you **`don't plan to use`**. In this case, the loop variable is not used within the loop, so it's assigned to `_`.\n",
    "\n",
    "If you want to use the loop variable, you can replace `_` with a more meaningful variable name. For example:"
   ]
  },
  {
   "cell_type": "code",
   "execution_count": null,
   "metadata": {},
   "outputs": [
    {
     "name": "stdout",
     "output_type": "stream",
     "text": [
      "Hello World iteration 0\n",
      "Hello World iteration 1\n",
      "Hello World iteration 2\n",
      "Hello World iteration 3\n",
      "Hello World iteration 4\n",
      "Hello World iteration 5\n",
      "Hello World iteration 6\n",
      "Hello World iteration 7\n",
      "Hello World iteration 8\n",
      "Hello World iteration 9\n"
     ]
    }
   ],
   "source": [
    "for _ in range(10): # Just to show that _ is a loop variable, but its throwaway variable\n",
    "    # Code to be executed 100,000 times\n",
    "    print(f\"Hello World iteration {_}\")"
   ]
  },
  {
   "cell_type": "markdown",
   "metadata": {},
   "source": [
    "## **3. The while Loop**\n",
    "\n",
    "The while loop repeats a block of code `as long as a condition is True.`\n",
    "\n",
    "<br>\n",
    "\n",
    "Example Code:"
   ]
  },
  {
   "cell_type": "code",
   "execution_count": 27,
   "metadata": {},
   "outputs": [
    {
     "name": "stdout",
     "output_type": "stream",
     "text": [
      "1\n",
      "2\n",
      "3\n",
      "4\n",
      "5\n"
     ]
    }
   ],
   "source": [
    "# Print numbers from 1 to 5\n",
    "count: int = 1\n",
    "while count <=5:\n",
    "    print(count)\n",
    "    count +=1"
   ]
  },
  {
   "cell_type": "markdown",
   "metadata": {},
   "source": [
    "## **4. Controlling Loops**\n",
    "\n",
    "Python provides two keywords (`break` & `continue`) to control loops:\n",
    "\n",
    "* **break**: `Exits` the loop immediately.\n",
    "* **continue**: `Skips` the rest of the code in the current iteration and moves to the next iteration.\n",
    "\n",
    "<br>\n",
    "\n",
    "\n",
    "Example Code:"
   ]
  },
  {
   "cell_type": "code",
   "execution_count": 29,
   "metadata": {},
   "outputs": [
    {
     "name": "stdout",
     "output_type": "stream",
     "text": [
      "0\n",
      "1\n",
      "2\n",
      "3\n",
      "4\n"
     ]
    }
   ],
   "source": [
    "# Break example\n",
    "for i in range(10):\n",
    "    if i == 5:\n",
    "        break\n",
    "    print(i) # Prints 0, 1, 2, 3, 4"
   ]
  },
  {
   "cell_type": "code",
   "execution_count": 30,
   "metadata": {},
   "outputs": [
    {
     "name": "stdout",
     "output_type": "stream",
     "text": [
      "0\n",
      "1\n",
      "2\n",
      "4\n"
     ]
    }
   ],
   "source": [
    "# Continue example\n",
    "for i in range(5):\n",
    "    if i == 3:\n",
    "        continue\n",
    "    print(i) # Prints 0, 1, 2, 4"
   ]
  },
  {
   "cell_type": "markdown",
   "metadata": {},
   "source": [
    "## **5. Nested Loops**\n",
    "\n",
    "### **What are nested loops?**\n",
    "\n",
    "Nested loops, also known as inner loops or nested iterations, refer to the process of placing one loop inside another loop. The inner loop will iterate through its entire cycle for each iteration of the outer loop.\n",
    "\n",
    "<br>\n",
    "\n",
    "\n",
    "### **Example Code:**"
   ]
  },
  {
   "cell_type": "code",
   "execution_count": 31,
   "metadata": {},
   "outputs": [
    {
     "name": "stdout",
     "output_type": "stream",
     "text": [
      "Multiplication table for 1:\n",
      "1 x 1 = 1\n",
      "1 x 2 = 2\n",
      "1 x 3 = 3\n",
      "1 x 4 = 4\n",
      "1 x 5 = 5\n",
      "\n",
      "Multiplication table for 2:\n",
      "2 x 1 = 2\n",
      "2 x 2 = 4\n",
      "2 x 3 = 6\n",
      "2 x 4 = 8\n",
      "2 x 5 = 10\n",
      "\n",
      "Multiplication table for 3:\n",
      "3 x 1 = 3\n",
      "3 x 2 = 6\n",
      "3 x 3 = 9\n",
      "3 x 4 = 12\n",
      "3 x 5 = 15\n",
      "\n",
      "Multiplication table for 4:\n",
      "4 x 1 = 4\n",
      "4 x 2 = 8\n",
      "4 x 3 = 12\n",
      "4 x 4 = 16\n",
      "4 x 5 = 20\n",
      "\n",
      "Multiplication table for 5:\n",
      "5 x 1 = 5\n",
      "5 x 2 = 10\n",
      "5 x 3 = 15\n",
      "5 x 4 = 20\n",
      "5 x 5 = 25\n",
      "\n"
     ]
    }
   ],
   "source": [
    "# Multiplication table\n",
    "for outer in range (1,6): # outer loop\n",
    "    print(f\"Multiplication table for {outer}:\")\n",
    "    for inner in range (1, 6):\n",
    "        print(f\"{outer} x {inner} = {outer * inner}\")\n",
    "    print() # Add a blank line after each table"
   ]
  },
  {
   "cell_type": "markdown",
   "metadata": {},
   "source": [
    "**Use Cases for Nested Loops**\n",
    "\n",
    "Nested loops are useful in various scenarios, such as:\n",
    "\n",
    "1. **Matrix operations**: When working with matrices, you often need to iterate over each element in a two-dimensional array. Nested loops can help you achieve this.\n",
    "\n",
    "2. **Iterating over multiple lists**: If you have multiple lists and want to perform operations on each combination of elements, nested loops can be used.\n",
    "3. **Games and simulations**: Nested loops can be used to create game boards, simulate complex systems, or iterate over multiple levels of data.\n",
    "4. **Data processing**: When dealing with large datasets, nested loops can help you process and analyze the data by iterating over each element and performing operations.\n",
    "\n",
    "**Best Practices for Using Nested Loops**\n",
    "\n",
    "While nested loops can be powerful, it's essential to use them wisely to avoid performance issues and improve readability:\n",
    "\n",
    "1. **Minimize nesting**: Try to limit the number of nested loops to three levels or less, as excessive nesting can lead to performance degradation and decreased readability.\n",
    "\n",
    "2. **Use meaningful variable names**: Use clear and descriptive variable names to help distinguish between the outer and inner loops.\n",
    "3. **Optimize loop conditions**: Ensure that the loop conditions are optimized to minimize unnecessary iterations.\n"
   ]
  },
  {
   "cell_type": "markdown",
   "metadata": {},
   "source": [
    "## **6. Practical Examples**\n",
    "\n",
    "Here are two practical examples to solidify these concepts.\n",
    "\n",
    "<br>\n",
    "\n",
    "**Example 1**: Sum of Numbers"
   ]
  },
  {
   "cell_type": "code",
   "execution_count": 32,
   "metadata": {},
   "outputs": [
    {
     "name": "stdout",
     "output_type": "stream",
     "text": [
      "The sum of numbers from 1 to 100 is: 5050\n"
     ]
    }
   ],
   "source": [
    "# Sum no from 1 to 100\n",
    "total:int = 0\n",
    "for i in range(1, 101):\n",
    "    total += i\n",
    "print(f\"The sum of numbers from 1 to 100 is: {total}\")"
   ]
  },
  {
   "cell_type": "code",
   "execution_count": 35,
   "metadata": {},
   "outputs": [
    {
     "name": "stdout",
     "output_type": "stream",
     "text": [
      "Factors of 24 are: [1, 2, 3, 4, 6, 8, 12, 24]\n"
     ]
    }
   ],
   "source": [
    "# Find factor of a number\n",
    "num: int = 24\n",
    "factors = []\n",
    "for i in range(1, num + 1):\n",
    "    if num % i == 0:\n",
    "        factors.append(i)\n",
    "print(f\"Factors of {num} are: {factors}\")"
   ]
  }
 ],
 "metadata": {
  "kernelspec": {
   "display_name": "Python 3",
   "language": "python",
   "name": "python3"
  },
  "language_info": {
   "codemirror_mode": {
    "name": "ipython",
    "version": 3
   },
   "file_extension": ".py",
   "mimetype": "text/x-python",
   "name": "python",
   "nbconvert_exporter": "python",
   "pygments_lexer": "ipython3",
   "version": "3.13.2"
  }
 },
 "nbformat": 4,
 "nbformat_minor": 2
}
