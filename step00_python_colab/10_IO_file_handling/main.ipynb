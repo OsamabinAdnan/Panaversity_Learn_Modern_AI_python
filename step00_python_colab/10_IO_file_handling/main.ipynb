{
 "cells": [
  {
   "cell_type": "markdown",
   "metadata": {},
   "source": [
    "<font color=\"#4ee247\" size=8> **Lesson # 10:** </font><font color=\"#ffbf00\" size=8>**I/O File Handling**</font>"
   ]
  },
  {
   "cell_type": "markdown",
   "metadata": {},
   "source": [
    "# File Handling in Python: A Comprehensive Tutorial with Examples\n",
    "\n",
    "File handling is essential for reading and writing data to files, enabling persistent storage. Python provides built-in functions and methods to handle files efficiently. This tutorial covers the fundamentals with examples.\n",
    "\n",
    "---------\n",
    "\n",
    "\n",
    "1. Opening a File\n",
    "  \n",
    "  Use the open() function to open a file. Specify the mode (read, write, append, etc.).\n",
    "\n",
    "\n",
    "* Modes:\n",
    "\n",
    "  * `r:` Read (default)\n",
    "\n",
    "  * `w:` Write (Opens the file for writing. Creates the file if it doesn't exist, or overwrites it if it does.)\n",
    "\n",
    "  * `a:` Append (Opens the file for appending. Creates the file if it doesn't exist, or adds to it if it does.)\n",
    "\n",
    "  * `x:` Exclusive creation (fails if file exists)\n",
    "\n",
    "  * `b:` Binary mode (Used with the other modes (e.g., \"rb\", \"wb\") for working with binary files.)\n",
    "\n",
    "  * `+:` Update mode (Can be combined with other modes (e.g., \"r+\", \"w+\") to allow both reading and writing.)\n",
    "<br>\n",
    "------------------\n",
    "<br>\n",
    "\n",
    "### OK, Let's create a file in Colab.\n",
    "\n",
    "<br>\n",
    "\n",
    "**`w: Write mode`**. Opens the file for writing. Creates the file if it doesn't exist, or overwrites it if it does."
   ]
  },
  {
   "cell_type": "code",
   "execution_count": 1,
   "metadata": {},
   "outputs": [],
   "source": [
    "file = open(\"new_file.txt\", \"w\")"
   ]
  },
  {
   "cell_type": "markdown",
   "metadata": {},
   "source": [
    "### Writing to Files:\n",
    "\n",
    "To write to a file, open it in write (\"w\") or append (\"a\") mode.\n",
    "\n",
    "write(string): Writes the given string to the file."
   ]
  },
  {
   "cell_type": "code",
   "execution_count": 2,
   "metadata": {},
   "outputs": [],
   "source": [
    "file = open(\"new_file.txt\", \"w\")\n",
    "file.write(\"Hello World\\n\") # Create a new line\n",
    "file.write(\"This is another line\\n\")\n",
    "file.close() # Close the file"
   ]
  },
  {
   "cell_type": "markdown",
   "metadata": {},
   "source": [
    "writelines(list): Writes a list of strings to the file."
   ]
  },
  {
   "cell_type": "code",
   "execution_count": 3,
   "metadata": {},
   "outputs": [],
   "source": [
    "# Create a list of strings, each representing a line of text with city names\n",
    "# The \\n at the end of each string creates a new line in the file\n",
    "lines = [\"Line 1: Karachi\\n\", \"Line 2: Lahore\\n\", \"Line 3: Islamabad\\n\"]\n",
    "\n",
    "# Open a file named \"new_file.txt\" in append mode ('a')\n",
    "# Append mode adds content to the end of file without overwriting existing content\n",
    "file = open(\"new_file.txt\", \"a\")\n",
    "\n",
    "# Write all lines from our list to the file at once\n",
    "file.writelines(lines)\n",
    "\n",
    "# Close the file to save changes and free up system resources\n",
    "file.close()"
   ]
  },
  {
   "cell_type": "markdown",
   "metadata": {},
   "source": [
    "#### Uptill now we have created a file with 'w' & 'a' mode and also write some lines in it.\n",
    "\n",
    "#### Now let start reading the file what we have created earlier."
   ]
  },
  {
   "cell_type": "markdown",
   "metadata": {},
   "source": [
    "Run the below line of code and see the error 😞\n",
    "\n",
    "Explain why?"
   ]
  },
  {
   "cell_type": "code",
   "execution_count": 6,
   "metadata": {},
   "outputs": [
    {
     "ename": "FileNotFoundError",
     "evalue": "[Errno 2] No such file or directory: 'my_file.txt'",
     "output_type": "error",
     "traceback": [
      "\u001b[1;31m---------------------------------------------------------------------------\u001b[0m",
      "\u001b[1;31mFileNotFoundError\u001b[0m                         Traceback (most recent call last)",
      "Cell \u001b[1;32mIn[6], line 1\u001b[0m\n\u001b[1;32m----> 1\u001b[0m file \u001b[38;5;241m=\u001b[39m \u001b[38;5;28;43mopen\u001b[39;49m\u001b[43m(\u001b[49m\u001b[38;5;124;43m\"\u001b[39;49m\u001b[38;5;124;43mmy_file.txt\u001b[39;49m\u001b[38;5;124;43m\"\u001b[39;49m\u001b[43m,\u001b[49m\u001b[43m \u001b[49m\u001b[38;5;124;43m\"\u001b[39;49m\u001b[38;5;124;43mr\u001b[39;49m\u001b[38;5;124;43m\"\u001b[39;49m\u001b[43m)\u001b[49m\n",
      "File \u001b[1;32mc:\\Users\\AOTHHSA\\AppData\\Local\\Programs\\Python\\Python313\\Lib\\site-packages\\IPython\\core\\interactiveshell.py:324\u001b[0m, in \u001b[0;36m_modified_open\u001b[1;34m(file, *args, **kwargs)\u001b[0m\n\u001b[0;32m    317\u001b[0m \u001b[38;5;28;01mif\u001b[39;00m file \u001b[38;5;129;01min\u001b[39;00m {\u001b[38;5;241m0\u001b[39m, \u001b[38;5;241m1\u001b[39m, \u001b[38;5;241m2\u001b[39m}:\n\u001b[0;32m    318\u001b[0m     \u001b[38;5;28;01mraise\u001b[39;00m \u001b[38;5;167;01mValueError\u001b[39;00m(\n\u001b[0;32m    319\u001b[0m         \u001b[38;5;124mf\u001b[39m\u001b[38;5;124m\"\u001b[39m\u001b[38;5;124mIPython won\u001b[39m\u001b[38;5;124m'\u001b[39m\u001b[38;5;124mt let you open fd=\u001b[39m\u001b[38;5;132;01m{\u001b[39;00mfile\u001b[38;5;132;01m}\u001b[39;00m\u001b[38;5;124m by default \u001b[39m\u001b[38;5;124m\"\u001b[39m\n\u001b[0;32m    320\u001b[0m         \u001b[38;5;124m\"\u001b[39m\u001b[38;5;124mas it is likely to crash IPython. If you know what you are doing, \u001b[39m\u001b[38;5;124m\"\u001b[39m\n\u001b[0;32m    321\u001b[0m         \u001b[38;5;124m\"\u001b[39m\u001b[38;5;124myou can use builtins\u001b[39m\u001b[38;5;124m'\u001b[39m\u001b[38;5;124m open.\u001b[39m\u001b[38;5;124m\"\u001b[39m\n\u001b[0;32m    322\u001b[0m     )\n\u001b[1;32m--> 324\u001b[0m \u001b[38;5;28;01mreturn\u001b[39;00m \u001b[43mio_open\u001b[49m\u001b[43m(\u001b[49m\u001b[43mfile\u001b[49m\u001b[43m,\u001b[49m\u001b[43m \u001b[49m\u001b[38;5;241;43m*\u001b[39;49m\u001b[43margs\u001b[49m\u001b[43m,\u001b[49m\u001b[43m \u001b[49m\u001b[38;5;241;43m*\u001b[39;49m\u001b[38;5;241;43m*\u001b[39;49m\u001b[43mkwargs\u001b[49m\u001b[43m)\u001b[49m\n",
      "\u001b[1;31mFileNotFoundError\u001b[0m: [Errno 2] No such file or directory: 'my_file.txt'"
     ]
    }
   ],
   "source": [
    "file = open(\"my_file.txt\", \"r\")"
   ]
  },
  {
   "cell_type": "markdown",
   "metadata": {},
   "source": [
    "So lets correct the name of the file 😀"
   ]
  },
  {
   "cell_type": "code",
   "execution_count": 7,
   "metadata": {},
   "outputs": [],
   "source": [
    "file = open(\"new_file.txt\", \"r\") # Open the file in read mode"
   ]
  },
  {
   "cell_type": "code",
   "execution_count": 8,
   "metadata": {},
   "outputs": [
    {
     "name": "stdout",
     "output_type": "stream",
     "text": [
      "Hello World\n",
      "This is another line\n",
      "Line 1: Karachi\n",
      "Line 2: Lahore\n",
      "Line 3: Islamabad\n",
      "\n"
     ]
    }
   ],
   "source": [
    "content = file.read()\n",
    "print(content)"
   ]
  },
  {
   "cell_type": "code",
   "execution_count": 9,
   "metadata": {},
   "outputs": [
    {
     "name": "stdout",
     "output_type": "stream",
     "text": [
      "\n"
     ]
    }
   ],
   "source": [
    "line = file.readline()\n",
    "print(line)"
   ]
  },
  {
   "cell_type": "markdown",
   "metadata": {},
   "source": [
    "#### Nothing Printed ☹\n",
    "\n",
    "### Here you need to know the concept of file pointer\n",
    "\n",
    "---------\n",
    "\n",
    "In Python, a `file pointer` (also called a `file cursor` or `file position indicator`) is an internal marker that keeps track of the `current position` in a file where the next read or write operation will occur. When you open a file, the file pointer is initialized to a specific position (`usually 0, the beginning of the file`), and it moves automatically as you read from or write to the file.\n",
    "\n",
    "<br>\n",
    "\n",
    "Key Concepts:\n",
    "1. Starting Position:\n",
    "  * r (read mode): Pointer starts at 0 (beginning of the file).\n",
    "  * a (append mode): Pointer starts at the end of the file.\n",
    "  * w (write mode): The file is truncated (erased), and the pointer starts at 0.\n",
    "\n",
    "2. How It Moves:\n",
    "  * When you read/write data, the pointer moves forward by the number of bytes/characters processed.\n",
    "  * Example: Reading 10 characters moves the pointer 10 positions forward.\n",
    "\n",
    "3. Manual Control:\n",
    "  * Use seek(offset) to move the pointer to a specific byte position.\n",
    "  * Use tell() to check the current pointer position."
   ]
  },
  {
   "cell_type": "markdown",
   "metadata": {},
   "source": [
    "### Move pointer back to start."
   ]
  },
  {
   "cell_type": "code",
   "execution_count": 10,
   "metadata": {},
   "outputs": [
    {
     "data": {
      "text/plain": [
       "0"
      ]
     },
     "execution_count": 10,
     "metadata": {},
     "output_type": "execute_result"
    }
   ],
   "source": [
    "file.seek(0)"
   ]
  },
  {
   "cell_type": "markdown",
   "metadata": {},
   "source": [
    "### Check the file cursor/pointer position after running seek(0) method."
   ]
  },
  {
   "cell_type": "code",
   "execution_count": 11,
   "metadata": {},
   "outputs": [
    {
     "name": "stdout",
     "output_type": "stream",
     "text": [
      "Position after seek: 0\n"
     ]
    }
   ],
   "source": [
    "print(\"Position after seek:\", file.tell())"
   ]
  },
  {
   "cell_type": "code",
   "execution_count": 12,
   "metadata": {},
   "outputs": [
    {
     "name": "stdout",
     "output_type": "stream",
     "text": [
      "Hello World\n",
      "\n"
     ]
    }
   ],
   "source": [
    "line = file.readline()\n",
    "print(line)"
   ]
  },
  {
   "cell_type": "markdown",
   "metadata": {},
   "source": [
    "### readlines(): Reads all lines into a list."
   ]
  },
  {
   "cell_type": "code",
   "execution_count": 13,
   "metadata": {},
   "outputs": [
    {
     "name": "stdout",
     "output_type": "stream",
     "text": [
      "Hello World\n",
      "\n",
      "This is another line\n",
      "\n",
      "Line 1: Karachi\n",
      "\n",
      "Line 2: Lahore\n",
      "\n",
      "Line 3: Islamabad\n",
      "\n"
     ]
    }
   ],
   "source": [
    "file.seek(0) # First move the cursor to the beginning of the file\n",
    "\n",
    "lines = file.readlines()\n",
    "for line in lines:\n",
    "    print(line)"
   ]
  },
  {
   "cell_type": "code",
   "execution_count": 14,
   "metadata": {},
   "outputs": [
    {
     "name": "stdout",
     "output_type": "stream",
     "text": [
      "Hello World\n",
      "This is another line\n",
      "Line 1: Karachi\n",
      "Line 2: Lahore\n",
      "Line 3: Islamabad\n"
     ]
    }
   ],
   "source": [
    "file = open(\"new_file.txt\", \"r\")\n",
    "for line in file: # Iterate over each line in the file, reads line by line\n",
    "    print(line.strip()) # .strip() removes leading/trailing whitespace"
   ]
  },
  {
   "cell_type": "markdown",
   "metadata": {},
   "source": [
    "Closing Files:\n",
    "\n",
    "* It's crucial to close files after you're finished with them.  This releases system resources and ensures that data is properly written to the disk.  The `close()` method is used for this:"
   ]
  },
  {
   "cell_type": "code",
   "execution_count": 15,
   "metadata": {},
   "outputs": [],
   "source": [
    "file.close()"
   ]
  },
  {
   "cell_type": "markdown",
   "metadata": {},
   "source": [
    "### Additional Tips\n",
    "- Exclusive Creation (x mode):\n",
    "\n",
    "### Best Practices:\n",
    "- Use `with` for automatic cleanup.\n",
    "- Handle exceptions to avoid crashes."
   ]
  },
  {
   "cell_type": "code",
   "execution_count": 17,
   "metadata": {},
   "outputs": [
    {
     "name": "stdout",
     "output_type": "stream",
     "text": [
      "File already exists\n"
     ]
    }
   ],
   "source": [
    "try:\n",
    "    with open(\"unique.txt\", \"x\") as file:\n",
    "        file.write(\"Created successfully\")\n",
    "except FileExistsError:\n",
    "    print(\"File already exists\")"
   ]
  },
  {
   "cell_type": "markdown",
   "metadata": {},
   "source": [
    "### The `with` Statement (Context Manager):\n",
    "\n",
    "- The best practice for file handling is to use the `with` statement.  This ensures that the file is `automatically closed, even if errors occur`."
   ]
  },
  {
   "cell_type": "code",
   "execution_count": 18,
   "metadata": {},
   "outputs": [
    {
     "name": "stdout",
     "output_type": "stream",
     "text": [
      "Hello World\n",
      "This is another line\n",
      "Line 1: Karachi\n",
      "Line 2: Lahore\n",
      "Line 3: Islamabad\n",
      "\n"
     ]
    }
   ],
   "source": [
    "with open(\"new_file.txt\", \"r\") as file:\n",
    "    content = file.read()\n",
    "    print(content)\n",
    "    # File is automatically closed here"
   ]
  },
  {
   "cell_type": "markdown",
   "metadata": {},
   "source": [
    "The above cell use the `with` statement which close the file after use, let's validate it."
   ]
  },
  {
   "cell_type": "code",
   "execution_count": 19,
   "metadata": {},
   "outputs": [
    {
     "ename": "ValueError",
     "evalue": "I/O operation on closed file.",
     "output_type": "error",
     "traceback": [
      "\u001b[1;31m---------------------------------------------------------------------------\u001b[0m",
      "\u001b[1;31mValueError\u001b[0m                                Traceback (most recent call last)",
      "Cell \u001b[1;32mIn[19], line 1\u001b[0m\n\u001b[1;32m----> 1\u001b[0m \u001b[43mfile\u001b[49m\u001b[38;5;241;43m.\u001b[39;49m\u001b[43mtell\u001b[49m\u001b[43m(\u001b[49m\u001b[43m)\u001b[49m \u001b[38;5;66;03m# # will produce error, file is already closed because of with statement\u001b[39;00m\n",
      "\u001b[1;31mValueError\u001b[0m: I/O operation on closed file."
     ]
    }
   ],
   "source": [
    "file.tell() # # will produce error, file is already closed because of with statement"
   ]
  },
  {
   "cell_type": "markdown",
   "metadata": {},
   "source": [
    "### Example: Copying a file"
   ]
  },
  {
   "cell_type": "code",
   "execution_count": 21,
   "metadata": {},
   "outputs": [
    {
     "name": "stdout",
     "output_type": "stream",
     "text": [
      "File 'unique.txt' copied to 'unique_copy.txt' successfully.\n"
     ]
    }
   ],
   "source": [
    "def copy_file(source_path, destination_path):\n",
    "    \"\"\"\n",
    "    Copies content from a source file to a destination file.\n",
    "    \n",
    "    Args:\n",
    "        source_path (str): Path to the source file to be copied\n",
    "        destination_path (str): Path where the file should be copied to\n",
    "    \"\"\"\n",
    "    try:\n",
    "        # Open both files using context managers ('with' statement)\n",
    "        # Source file opened in read mode ('r')\n",
    "        # Destination file opened in write mode ('w')\n",
    "        with open(source_path, \"r\") as source_file, open(destination_path, \"w\") as destination_file:\n",
    "            # Iterate through each line in the source file\n",
    "            for line in source_file:\n",
    "                # Write the current line to the destination file\n",
    "                destination_file.write(line)\n",
    "        # Print success message if copy operation completed\n",
    "        print(f\"File '{source_path}' copied to '{destination_path}' successfully.\")\n",
    "    \n",
    "    except FileNotFoundError:\n",
    "        # Handle the case where source file doesn't exist\n",
    "        print(f\"Error: Source file '{source_path}' not found.\")\n",
    "    \n",
    "    except Exception as e:\n",
    "        # Handle any other unexpected errors that might occur\n",
    "        print(f\"An error occurred: {str(e)}\")\n",
    "\n",
    "# Call the function to copy 'unique.txt' to 'unique_copy.txt'\n",
    "copy_file(\"unique.txt\", \"unique_copy.txt\")"
   ]
  },
  {
   "cell_type": "markdown",
   "metadata": {},
   "source": [
    "## Full Example: File Operations Demo"
   ]
  },
  {
   "cell_type": "code",
   "execution_count": 23,
   "metadata": {},
   "outputs": [
    {
     "name": "stdout",
     "output_type": "stream",
     "text": [
      "Content:\n",
      "Python File Handling\n",
      "Line 1\n",
      "Line 2\n",
      "\n",
      "First Line Python File Handling\n",
      "\n"
     ]
    }
   ],
   "source": [
    "# Create and write to a file\n",
    "with open(\"demo.txt\", \"w\") as file:\n",
    "    file.write('Python File Handling\\n')\n",
    "    file.write(\"Line 1\\nLine 2\\n\")\n",
    "\n",
    "# Read and print content\n",
    "with open(\"demo.txt\", \"r\") as file:\n",
    "    content = file.read()\n",
    "    print(\"Content:\")\n",
    "    print(content)\n",
    "\n",
    "# Append a new line\n",
    "with open(\"demo.txt\", \"a\") as file:\n",
    "    file.write('Appended line\\n')\n",
    "\n",
    "# Read lines using seek\n",
    "with open(\"demo.txt\", \"r\") as file:\n",
    "    file.seek(0)\n",
    "    print(\"First Line\", file.readline())"
   ]
  },
  {
   "cell_type": "markdown",
   "metadata": {},
   "source": [
    "# Conclusion\n",
    "- Python’s file handling is straightforward with **`open(), read(), write(), and close()`**. Always use the **`with`** statement for safety and leverage exception handling for robustness. Experiment with modes and methods to manage files effectively!"
   ]
  },
  {
   "cell_type": "code",
   "execution_count": 42,
   "metadata": {},
   "outputs": [
    {
     "name": "stdout",
     "output_type": "stream",
     "text": [
      "---Content---\n",
      "This is line 1\n",
      "This is line 2\n",
      "This is line 3\n",
      "This is line 4\n",
      "\n",
      "---Line by Line---\n",
      "This is line 1\n",
      "This is line 2\n",
      "This is line 3\n",
      "This is line 4\n",
      "\n",
      "---Single Line---\n",
      "This is line 1\n",
      "\n",
      "---All Lines---\n",
      "This is line 1\n",
      "This is line 2\n",
      "This is line 3\n",
      "This is line 4\n",
      "\n",
      "---Reading with seek and tell---\n",
      "Current position: 0\n",
      "First line: This is line 1\n",
      "Current position: 16\n",
      "After seek the current position is: 0\n",
      "First line again: This is line 1\n",
      "\n",
      "new_file.txt already exists\n",
      "\n",
      "example.txt copied to example_copy.txt successfully\n"
     ]
    }
   ],
   "source": [
    "# prompt: generate a comprehensive example of file handling using all the functions\n",
    "\n",
    "# Create a file and write to it\n",
    "with open(\"example.txt\", \"w\") as file:\n",
    "    file.write(\"This is line 1\\n\")\n",
    "    file.write(\"This is line 2\\n\")\n",
    "    file.writelines([\"This is line 3\\n\", \"This is line 4\\n\"])\n",
    "\n",
    "# Read the file and print it content\n",
    "with open(\"example.txt\", \"r\") as file:\n",
    "    content = file.read()\n",
    "    print(\"---Content---\")\n",
    "    print(content)\n",
    "\n",
    "# Read the file line by line and print each line\n",
    "with open(\"example.txt\", \"r\") as file:\n",
    "    print(\"---Line by Line---\")\n",
    "    for line in file:\n",
    "        print(line, end=\"\")\n",
    "\n",
    "# Read a single line\n",
    "with open(\"example.txt\", \"r\") as file:\n",
    "    print(\"\\n---Single Line---\")\n",
    "    print(file.readline(), end=\"\")\n",
    "\n",
    "# Read all lines into a list\n",
    "with open(\"example.txt\", \"r\") as file:\n",
    "    lines = file.readlines()\n",
    "    print(\"\\n---All Lines---\")\n",
    "    for line in lines:\n",
    "        print(line, end=\"\")\n",
    "\n",
    "# Append to the file\n",
    "with open(\"example.txt\", \"a\") as file:\n",
    "    file.write(\"This is appended line 1\\n\")\n",
    "    file.write(\"This is appended line 2\\n\")\n",
    "\n",
    "# Reading with seek and tell\n",
    "with open(\"example.txt\", \"r\") as file:\n",
    "    print(\"\\n---Reading with seek and tell---\")\n",
    "    print(\"Current position:\", file.tell())\n",
    "    print(\"First line:\", file.readline(), end=\"\")\n",
    "    print(\"Current position:\", file.tell())\n",
    "    file.seek(0)\n",
    "    print(\"After seek the current position is:\", file.tell())\n",
    "    print(\"First line again:\", file.readline(), end=\"\")\n",
    "\n",
    "# Demonstrating 'x' mode (exclusive creation)\n",
    "try:\n",
    "    with open(\"new_file.txt\", \"x\") as file:\n",
    "        file.write(\"This is a new file created in 'x' mode\")\n",
    "        print(\"\\nnew_file.txt created successfully\")\n",
    "except FileExistsError:\n",
    "    print(\"\\nnew_file.txt already exists\")\n",
    "\n",
    "# Copy file example\n",
    "def copy_file(source, destination):\n",
    "    try:\n",
    "        with open(source, \"r\") as src, open(destination, \"w\") as dest:\n",
    "            for line in src:\n",
    "                dest.write(line)\n",
    "            print(f\"\\n{source} copied to {destination} successfully\")\n",
    "    except FileNotFoundError:\n",
    "        print(f\"Error: File not found: {source}\")\n",
    "    except Exception as e:\n",
    "        print(f\"Error during copying: {e}\")\n",
    "\n",
    "copy_file(\"example.txt\", \"example_copy.txt\")"
   ]
  }
 ],
 "metadata": {
  "kernelspec": {
   "display_name": "Python 3",
   "language": "python",
   "name": "python3"
  },
  "language_info": {
   "codemirror_mode": {
    "name": "ipython",
    "version": 3
   },
   "file_extension": ".py",
   "mimetype": "text/x-python",
   "name": "python",
   "nbconvert_exporter": "python",
   "pygments_lexer": "ipython3",
   "version": "3.13.2"
  }
 },
 "nbformat": 4,
 "nbformat_minor": 2
}
