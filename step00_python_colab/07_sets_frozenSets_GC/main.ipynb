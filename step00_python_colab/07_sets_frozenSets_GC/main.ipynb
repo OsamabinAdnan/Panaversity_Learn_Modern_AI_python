{
 "cells": [
  {
   "cell_type": "markdown",
   "metadata": {},
   "source": [
    "<font color=\"#4ee247\" size=8> **Lesson # 07:** </font><font color=\"#ffbf00\" size=8>**Sets, Frozen Sets and Garbage Collection (GC)**</font>"
   ]
  },
  {
   "cell_type": "markdown",
   "metadata": {},
   "source": [
    "# **The Set Data Type**\n",
    "----\n",
    "\n",
    "Set is one of `4 built-in data types` in Python used to store collections of data, the other 3 are **`List, Tuple, and Dictionary`**, all with different qualities and usage.\n",
    "\n",
    "A set is:\n",
    "  - **unordered**\n",
    "  - **unchangeable**\n",
    "  - **unindexed**\n",
    "\n",
    "An object cannot appear more than once in a set, whereas in List and Tuple, same object can appear more than once.\n",
    "\n"
   ]
  },
  {
   "cell_type": "code",
   "execution_count": 56,
   "metadata": {},
   "outputs": [
    {
     "name": "stdout",
     "output_type": "stream",
     "text": [
      "my_set =  {123, 452, 5, 6}\n",
      "my_set2 =  {123, 452, 5, 6}\n",
      "type(my_set) =  <class 'set'>\n",
      "type(my_set2) =  <class 'set'>\n",
      "my_set == my_set2 =  True\n"
     ]
    }
   ],
   "source": [
    "my_set:set = {123, 452, 5, 6}\n",
    "my_set2:set = set([123, 452, 5, 6])\n",
    "\n",
    "print(\"my_set = \",my_set)\n",
    "print(\"my_set2 = \", my_set2)\n",
    "print(\"type(my_set) = \", type(my_set))\n",
    "print(\"type(my_set2) = \", type(my_set2))\n",
    "print(\"my_set == my_set2 = \", my_set == my_set2)"
   ]
  },
  {
   "cell_type": "markdown",
   "metadata": {},
   "source": [
    "### Holds only Immutable Objects\n",
    "----\n",
    "\n",
    "A set can store only immutable objects such as number `(int, float, complex or bool), string or tuple`. If you try to put a *list or a dictionary* in the set collection, Python raises a TypeError."
   ]
  },
  {
   "cell_type": "markdown",
   "metadata": {},
   "source": [
    "Lets check set if it can hold mutable object like **`list[]`**"
   ]
  },
  {
   "cell_type": "code",
   "execution_count": 57,
   "metadata": {},
   "outputs": [
    {
     "ename": "TypeError",
     "evalue": "unhashable type: 'list'",
     "output_type": "error",
     "traceback": [
      "\u001b[1;31m---------------------------------------------------------------------------\u001b[0m",
      "\u001b[1;31mTypeError\u001b[0m                                 Traceback (most recent call last)",
      "Cell \u001b[1;32mIn[57], line 1\u001b[0m\n\u001b[1;32m----> 1\u001b[0m my_set \u001b[38;5;241m=\u001b[39m {[\u001b[38;5;241m123\u001b[39m, \u001b[38;5;241m452\u001b[39m, \u001b[38;5;241m5\u001b[39m, \u001b[38;5;241m6\u001b[39m]} \u001b[38;5;66;03m# TypeError: unhashable type: 'list'\u001b[39;00m\n\u001b[0;32m      2\u001b[0m \u001b[38;5;28mprint\u001b[39m(my_set)\n",
      "\u001b[1;31mTypeError\u001b[0m: unhashable type: 'list'"
     ]
    }
   ],
   "source": [
    "my_set = {[123, 452, 5, 6]} # TypeError: unhashable type: 'list'\n",
    "print(my_set)"
   ]
  },
  {
   "cell_type": "markdown",
   "metadata": {},
   "source": [
    "### It can hold multiple data types at once."
   ]
  },
  {
   "cell_type": "code",
   "execution_count": null,
   "metadata": {},
   "outputs": [
    {
     "name": "stdout",
     "output_type": "stream",
     "text": [
      "{False, True, None, 7, 9.0, (1, 2, 3), 'hello'}\n"
     ]
    }
   ],
   "source": [
    "multi_type_set:set = {7, 9.0, \"hello\", (1, 2, 3), True, False, None}\n",
    "print(multi_type_set)"
   ]
  },
  {
   "cell_type": "markdown",
   "metadata": {},
   "source": [
    "## The set is **unordered**\n",
    "----\n",
    "Note that items in the set collection may not follow the same order in which they are entered. The position of items is optimized by Python to perform operations over set as defined in mathematics.\n"
   ]
  },
  {
   "cell_type": "code",
   "execution_count": null,
   "metadata": {},
   "outputs": [
    {
     "name": "stdout",
     "output_type": "stream",
     "text": [
      "{'java', 'Java', 'JavaScript', 'Python'}\n"
     ]
    }
   ],
   "source": [
    "set2:set = {\"Java\", \"Python\", \"JavaScript\", \"java\"}\n",
    "print(set2)"
   ]
  },
  {
   "cell_type": "markdown",
   "metadata": {},
   "source": [
    "\"*Python sets are unordered collections, but internally, elements are stored based on their hash values. However, this internal structure is not predictable or stable across operations*\".\n",
    "\n",
    "We will dive in to the details of hashing later in this tutorial."
   ]
  },
  {
   "cell_type": "markdown",
   "metadata": {},
   "source": [
    "## The set is **Unchangeable**\n",
    "----\n",
    "When we say that set items are unchangeable, it means that you cannot modify an individual item in a set directly. However, you can add or remove items from the set.\n",
    "\n",
    "Here is an example to illustrate this concept:\n",
    "\n",
    "```python\n",
    "# Create a set\n",
    "my_set: set = {1, 2, 3, 4, 5}\n",
    "print(my_set)  # Output: {1, 2, 3, 4, 5}\n",
    "\n",
    "# Try to change an item (this will raise an error)\n",
    "try:\n",
    "    my_set[0] = 10  # Sets are unordered, so indexing doesn't work\n",
    "except TypeError as e:\n",
    "    print(e)  # Output: 'set' object does not support item assignment\n",
    "```\n",
    "\n",
    "  - set's are unordered, so indexing doesn't work ~my_set[0]~\n",
    "  - set object does not support item assignment ~my_set[0] = 10~"
   ]
  },
  {
   "cell_type": "code",
   "execution_count": null,
   "metadata": {},
   "outputs": [
    {
     "name": "stdout",
     "output_type": "stream",
     "text": [
      "{1, 2, 3, 4, 5}\n",
      "Error: 'set' object does not support item assignment\n",
      "Program execution continue as normal because we handle the error condition in try except block\n"
     ]
    }
   ],
   "source": [
    "# Create a set\n",
    "my_set: set = {1, 2, 3, 4, 5}\n",
    "print(my_set)  # Output: {1, 2, 3, 4, 5}\n",
    "\n",
    "# Try to change an item (this will raise an error because sets are unordered)\n",
    "try:\n",
    "    my_set[0] = 10 # Sets are unordered so indexing doesnt work\n",
    "except TypeError as e:\n",
    "    print(f\"Error: {e}\")  # Output: Error: 'set' object does not support indexing\n",
    "\n",
    "print(\"Program execution continue as normal because we handle the error condition in try except block\")"
   ]
  },
  {
   "cell_type": "markdown",
   "metadata": {},
   "source": [
    "As you can see, you can't change an individual item in a set directly. Instead, you can remove the item and add a new one with the updated value. Alternatively, you can use the `discard()` or `remove()` methods to remove items and the `add()` or `update()` methods to add new items."
   ]
  },
  {
   "cell_type": "code",
   "execution_count": null,
   "metadata": {},
   "outputs": [
    {
     "name": "stdout",
     "output_type": "stream",
     "text": [
      "{1, 2, 3, 4, 5, 'A', 'a'}\n",
      "{1, 2, 4, 5, 'a'}\n"
     ]
    }
   ],
   "source": [
    "my_set: set = {1, 2, 3, 4, 5, 'A', 'a'}\n",
    "print(my_set) # Output {1, 2, 3, 4, 5, 'A', 'a'}\n",
    "# Remove an item\n",
    "my_set.remove(3)\n",
    "my_set.remove('A')\n",
    "print(my_set) # Output: {1, 2, 4, 5, 'a'}"
   ]
  },
  {
   "cell_type": "code",
   "execution_count": null,
   "metadata": {},
   "outputs": [
    {
     "name": "stdout",
     "output_type": "stream",
     "text": [
      "{1, 2, 4, 5, 6, 'a'}\n"
     ]
    }
   ],
   "source": [
    "my_set.add(6)\n",
    "print(my_set)  # Output: {1, 2, 4, 5, 6, 'a'}"
   ]
  },
  {
   "cell_type": "code",
   "execution_count": null,
   "metadata": {},
   "outputs": [
    {
     "name": "stdout",
     "output_type": "stream",
     "text": [
      "my_set =  {1, 2, 3, 4, 5, 'A', 'a'}\n",
      "None\n",
      "After: my_set =  {1, 2, 3, 4, 5, 'A', 'a'}\n",
      "After removing multiple elements: my_set =  {4, 5, 'A', 'a'}\n"
     ]
    }
   ],
   "source": [
    "my_set: set = {1, 2, 3, 4, 5, 'A', 'a'}\n",
    "print(\"my_set = \", my_set) # Output: {1, 2, 3, 4, 5, 'A', 'a'}\n",
    "\n",
    "# discard() only removes a single element.\n",
    "# {1, 2, 3} is a set itself, not an element within my_set.\n",
    "# Therefore, discard does not find it and returns None, without modifying the set.\n",
    "\n",
    "print(my_set.discard({1,2,3})) # Output: None\n",
    "\n",
    "print(\"After: my_set = \", my_set) # Output: {1, 2, 3, 4, 5, 'A', 'a'}\n",
    "\n",
    "# To remove multiple elements, iterate and discard each one individually:\n",
    "\n",
    "for element in {1, 2, 3}:\n",
    "    my_set.discard(element)\n",
    "print(\"After removing multiple elements: my_set = \", my_set) # Output: {4, 5, 'A', 'a'}"
   ]
  },
  {
   "cell_type": "markdown",
   "metadata": {},
   "source": [
    "**Use difference_update() method to remove multiple element at once.**"
   ]
  },
  {
   "cell_type": "code",
   "execution_count": null,
   "metadata": {},
   "outputs": [
    {
     "name": "stdout",
     "output_type": "stream",
     "text": [
      "Before:my_set =  {1, 2, 3, 4, 5, 'A', 'a'}\n",
      "After:my_set =  {'a', 2, 4}\n"
     ]
    }
   ],
   "source": [
    "my_set: set = {1, 2, 3, 4, 5, 'A', 'a'}\n",
    "print(\"Before:my_set = \", my_set) # Output: {1, 2, 3, 4, 5, 'A', 'a'}\n",
    "my_set.difference_update({1,5,3,\"A\"})\n",
    "print(\"After:my_set = \", my_set) # Output: {2, 4, 'a'}"
   ]
  },
  {
   "cell_type": "code",
   "execution_count": null,
   "metadata": {},
   "outputs": [
    {
     "name": "stdout",
     "output_type": "stream",
     "text": [
      "Before:  {'a', 2, 4}\n",
      "{'a', 2, 4, 'Hello', 7, 8, 9}\n"
     ]
    }
   ],
   "source": [
    "print(\"Before: \", my_set) # Output: {2, 4, 'a'}\n",
    "# Add multiple items\n",
    "my_set.update([7, 8, 9, \"Hello\"])\n",
    "print(my_set)  # Output: {2, 4, 7, 8, 9, 'a', 'Hello'}"
   ]
  },
  {
   "cell_type": "markdown",
   "metadata": {},
   "source": [
    "**Using the union() method or | operator:**\n",
    "\n",
    "In Python, the `union()` method or the `|` operator is used to combine two sets into a single set. This operation returns a new set containing all unique elements from both sets.\n",
    "\n",
    "**Using the union() method:**\n",
    "\n",
    "The `union()` method is a built-in method of the set data type in Python. It takes an iterable (such as a set, list, or tuple) as an argument and returns a new set containing all unique elements from both the original set and the iterable."
   ]
  },
  {
   "cell_type": "code",
   "execution_count": null,
   "metadata": {},
   "outputs": [
    {
     "name": "stdout",
     "output_type": "stream",
     "text": [
      "{1, 2, 3, 5, 6, 7}\n"
     ]
    }
   ],
   "source": [
    "my_set: set   = {1, 2, 3, 5}\n",
    "my_set_2: set = {1, 5, 6, 7}\n",
    "\n",
    "my_set_3 = my_set.union(my_set_2)\n",
    "print(my_set_3) # Output: {1, 2, 3, 5, 6, 7}"
   ]
  },
  {
   "cell_type": "markdown",
   "metadata": {},
   "source": [
    "**Using the | operator:**\n",
    "\n",
    "The `|` operator is a binary operator that can be used to combine two sets into a single set. It has the same effect as the `union()` method, but is often more concise and readable."
   ]
  },
  {
   "cell_type": "code",
   "execution_count": null,
   "metadata": {},
   "outputs": [
    {
     "name": "stdout",
     "output_type": "stream",
     "text": [
      "{1, 2, 3, 5, 6, 7}\n"
     ]
    }
   ],
   "source": [
    "my_set: set   = {1, 2, 3, 5}\n",
    "my_set_2: set = {1, 5, 6, 7}\n",
    "\n",
    "my_set_3 = my_set | my_set_2 # | operator is used to combine two sets\n",
    "print(my_set_3) # Output: {1, 2, 3, 5, 6, 7}"
   ]
  },
  {
   "cell_type": "markdown",
   "metadata": {},
   "source": [
    "**Key aspects of union() and | operator:**\n",
    "\n",
    "1. **Unique elements**: The resulting set contains only unique elements from both sets.\n",
    "\n",
    "2. **Order does not matter**: The order in which the sets are combined does not affect the result.\n",
    "3. **Original sets remain unchanged**: The original sets are not modified by the union operation."
   ]
  },
  {
   "cell_type": "markdown",
   "metadata": {},
   "source": [
    "### **Unique Elements**\n",
    "----\n",
    "\n",
    "Note that sets only store unique elements, so if you try to add a duplicate item, it will be ignored. For example:"
   ]
  },
  {
   "cell_type": "code",
   "execution_count": null,
   "metadata": {},
   "outputs": [
    {
     "name": "stdout",
     "output_type": "stream",
     "text": [
      "Before :  {1, 2, 3, 4, 5, 'Hello! World'}\n",
      "After :  {1, 2, 3, 4, 5, 'Hello! World'}\n"
     ]
    }
   ],
   "source": [
    "my_set: set = {1,2,3,4,5, \"Hello! World\"}\n",
    "print(\"Before : \", my_set) # Output: {1, 2, 3, 4, 5, 'Hello! World'}\n",
    "\n",
    "my_set.add(2)\n",
    "print(\"After : \", my_set) # Output: {1, 2, 3, 4, 5, 'Hello! World'}\n"
   ]
  },
  {
   "cell_type": "markdown",
   "metadata": {},
   "source": [
    "`discard()` and `remove()` methods\n",
    "----\n",
    "In Python, both `discard()` and `remove()` methods are used to remove items from a set. However, there is a key difference between the two methods:\n",
    "\n",
    "1. **`remove()` method:**\n",
    "   - The `remove()` method removes the specified item from the set.\n",
    "   - If the item is not found in the set, it raises a `KeyError`.\n",
    "   - This method is suitable when you are sure that the item exists in the set.\n",
    "\n",
    "2. **`discard()` method:**\n",
    "   - The `discard()` method also removes the specified item from the set.\n",
    "   - However, if the item is not found in the set, it does not raise any error. It simply does nothing.\n",
    "   - This method is suitable when you are not sure if the item exists in the set.\n",
    "\n",
    "Here's an example to illustrate the difference:"
   ]
  },
  {
   "cell_type": "code",
   "execution_count": null,
   "metadata": {},
   "outputs": [
    {
     "ename": "KeyError",
     "evalue": "4",
     "output_type": "error",
     "traceback": [
      "\u001b[1;31m---------------------------------------------------------------------------\u001b[0m",
      "\u001b[1;31mKeyError\u001b[0m                                  Traceback (most recent call last)",
      "Cell \u001b[1;32mIn[3], line 4\u001b[0m\n\u001b[0;32m      1\u001b[0m \u001b[38;5;66;03m# Lets create an error to understand\u001b[39;00m\n\u001b[0;32m      2\u001b[0m my_set: \u001b[38;5;28mset\u001b[39m \u001b[38;5;241m=\u001b[39m {\u001b[38;5;241m1\u001b[39m,\u001b[38;5;241m2\u001b[39m,\u001b[38;5;241m3\u001b[39m}\n\u001b[1;32m----> 4\u001b[0m \u001b[43mmy_set\u001b[49m\u001b[38;5;241;43m.\u001b[39;49m\u001b[43mremove\u001b[49m\u001b[43m(\u001b[49m\u001b[38;5;241;43m4\u001b[39;49m\u001b[43m)\u001b[49m\n\u001b[0;32m      5\u001b[0m \u001b[38;5;28mprint\u001b[39m(my_set)\n",
      "\u001b[1;31mKeyError\u001b[0m: 4"
     ]
    }
   ],
   "source": [
    "# Lets create an error to understand\n",
    "my_set: set = {1,2,3}\n",
    "\n",
    "my_set.remove(4)\n",
    "print(my_set) # KeyError: 4"
   ]
  },
  {
   "cell_type": "code",
   "execution_count": null,
   "metadata": {},
   "outputs": [
    {
     "name": "stdout",
     "output_type": "stream",
     "text": [
      "Before pop() = {1, 2, 3}\n",
      "After pop() = {2, 3}\n"
     ]
    }
   ],
   "source": [
    "print(\"Before pop() =\", my_set)\n",
    "\n",
    "#When you call `my_set.pop()`, it removes and returns an arbitrary element from the set.\n",
    "#Since sets are unordered data structures, the element that is removed and returned is not predictable.\n",
    "\n",
    "my_set.pop()\n",
    "print(\"After pop() =\", my_set)\n"
   ]
  },
  {
   "cell_type": "code",
   "execution_count": null,
   "metadata": {},
   "outputs": [
    {
     "name": "stdout",
     "output_type": "stream",
     "text": [
      "{1, 2, 3}\n"
     ]
    }
   ],
   "source": [
    "my_set = {1,2,3}\n",
    "\n",
    "my_set.discard(4) # method\n",
    "print(my_set) # Output: {1, 2, 3}"
   ]
  },
  {
   "cell_type": "markdown",
   "metadata": {},
   "source": [
    "In summary:\n",
    "\n",
    "- Use `remove()` when you are sure that the item exists in the set and you want to handle the error if it does not exist.\n",
    "- Use `discard()` when you are not sure if the item exists in the set and you want to avoid raising an error if it does not exist.\n",
    "\n",
    "When to use each method:\n",
    "\n",
    "- **`remove()`**:\n",
    "  - When working with small sets where performance is not a concern.\n",
    "  - When you need to handle the error if the item does not exist.\n",
    "- **`discard()`**:\n",
    "  - When working with large sets where performance is a concern.\n",
    "  - When you do not care about handling the error if the item does not exist.\n",
    "\n",
    "In general, if you are not sure which method to use, `discard()` is a safe choice as it does not raise an error if the item does not exist."
   ]
  },
  {
   "cell_type": "markdown",
   "metadata": {},
   "source": [
    "## **The Inner Working of SET (Advance Topic)**\n",
    "----\n",
    "\n",
    "## The Hashing\n",
    "  - Hashing is a mechanism in computer science which enables quicker searching of objects in computer's memory. Only immutable objects are hashable.\n",
    "\n",
    "  - Immutable data types in Python come with a built-in method for computing their hash value, which is called __hash__.\n",
    "\n",
    "  - A hash table is a data structure that can map keys to values and that implements a hash function to compute the index to an array of buckets or slots"
   ]
  },
  {
   "cell_type": "code",
   "execution_count": null,
   "metadata": {},
   "outputs": [
    {
     "name": "stdout",
     "output_type": "stream",
     "text": [
      "id(a) :  2192957340144\n",
      "id(b) :  2192957341552\n"
     ]
    }
   ],
   "source": [
    "a:str =\"Hello World\"\n",
    "b:str = \"Hello World\"\n",
    "\n",
    "print(\"id(a) : \", id(a))\n",
    "print(\"id(b) : \", id(b))"
   ]
  },
  {
   "cell_type": "code",
   "execution_count": null,
   "metadata": {},
   "outputs": [
    {
     "name": "stdout",
     "output_type": "stream",
     "text": [
      "hash(a) :  -8611544255284498032\n",
      "hash(b) :  -8611544255284498032\n",
      "------------------\n",
      "hash(a) :  -8611544255284498032\n",
      "a.__hash__() :  -8611544255284498032\n"
     ]
    }
   ],
   "source": [
    "print(\"hash(a) : \", hash(a))\n",
    "print(\"hash(b) : \", hash(b))\n",
    "\n",
    "print(\"------------------\")\n",
    "print(\"hash(a) : \", hash(a))\n",
    "print(\"a.__hash__() : \", a.__hash__()) # dunder method for hash\n"
   ]
  },
  {
   "cell_type": "markdown",
   "metadata": {},
   "source": [
    "### Important Note:\n",
    "----\n",
    "  - Even if a set only allows `immutable items`, the set itself is **`mutable`**. Hence, add/delete/update operations are permitted on a set object\n",
    "\n",
    "  - In Python, a dictionary **`key`** must be an **`immutable`** object, meaning its value cannot be changed after it's created. This is because dictionaries use a hash table to store key-value pairs, and mutable objects cannot be hashed.\n",
    "\n",
    "  - Lets pass the set as key in dictionary which only accept immutable item as a key."
   ]
  },
  {
   "cell_type": "code",
   "execution_count": null,
   "metadata": {},
   "outputs": [
    {
     "ename": "TypeError",
     "evalue": "unhashable type: 'set'",
     "output_type": "error",
     "traceback": [
      "\u001b[1;31m---------------------------------------------------------------------------\u001b[0m",
      "\u001b[1;31mTypeError\u001b[0m                                 Traceback (most recent call last)",
      "Cell \u001b[1;32mIn[8], line 3\u001b[0m\n\u001b[0;32m      1\u001b[0m \u001b[38;5;66;03m# TypeError: unhashable type: 'set'\u001b[39;00m\n\u001b[0;32m      2\u001b[0m my_set:\u001b[38;5;28mset\u001b[39m \u001b[38;5;241m=\u001b[39m {\u001b[38;5;241m1\u001b[39m,\u001b[38;5;241m2\u001b[39m,\u001b[38;5;241m3\u001b[39m,\u001b[38;5;241m4\u001b[39m,\u001b[38;5;241m5\u001b[39m, \u001b[38;5;124m\"\u001b[39m\u001b[38;5;124mHello! World\u001b[39m\u001b[38;5;124m\"\u001b[39m}\n\u001b[1;32m----> 3\u001b[0m my_dict:\u001b[38;5;28mdict\u001b[39m \u001b[38;5;241m=\u001b[39m {my_set: \u001b[38;5;124m\"\u001b[39m\u001b[38;5;124mHello! World\u001b[39m\u001b[38;5;124m\"\u001b[39m} \u001b[38;5;66;03m# Dictionary only accepts immutable objects as a key\u001b[39;00m\n\u001b[0;32m      4\u001b[0m \u001b[38;5;28mprint\u001b[39m(my_dict)\n",
      "\u001b[1;31mTypeError\u001b[0m: unhashable type: 'set'"
     ]
    }
   ],
   "source": [
    "# TypeError: unhashable type: 'set'\n",
    "my_set:set = {1,2,3,4,5, \"Hello! World\"}\n",
    "my_dict:dict = {my_set: \"Hello! World\"} # Dictionary only accepts immutable objects as a key\n",
    "print(my_dict)"
   ]
  },
  {
   "cell_type": "markdown",
   "metadata": {},
   "source": [
    "## **How Hashing Determines Internal Storage in Sets**\n",
    "\n",
    "In Python, sets are implemented using hash tables (specifically, dictionaries under the hood). This allows O(1) average-time complexity for lookups, insertions, and deletions. However, the way elements are stored in memory depends on hashing, which can lead to unpredictable ordering.\n",
    "\n",
    "## **Key Points About Hashing in Sets:**\n",
    "\n",
    "\n",
    "1. Each element in a set is hashed to determine its storage position.\n",
    "\n",
    "2.  The internal order is based on hash values, not insertion order.\n",
    "3.  The order can change dynamically when elements are added or removed."
   ]
  },
  {
   "cell_type": "markdown",
   "metadata": {},
   "source": [
    "## **Understanding Rehashing and Changing Order**\n",
    "\n",
    "### **What is Rehashing?**\n",
    "\n",
    "* Rehashing occurs when the underlying hash table needs to expand due to increasing elements.\n",
    "\n",
    "* Python dynamically resizes the hash table when it reaches a certain load factor (a ratio of stored elements to available slots).\n",
    "\n",
    "* During rehashing, all elements get redistributed, meaning their storage positions can change, even if no explicit sorting is done.\n",
    "\n",
    "### **Example: How Set Order Can Change Dynamically**"
   ]
  },
  {
   "cell_type": "code",
   "execution_count": null,
   "metadata": {},
   "outputs": [
    {
     "name": "stdout",
     "output_type": "stream",
     "text": [
      "{8, 10, 3, 5}\n",
      "{3, 5, 8, 10, 20}\n",
      "{3, 5, 8, 20}\n"
     ]
    }
   ],
   "source": [
    "# Initial Set\n",
    "my_set:set = {10, 3, 5, 8}\n",
    "print(my_set) # Output: {10, 3, 5, 8} or another order\n",
    "\n",
    "# Adding an element\n",
    "my_set.add(20)\n",
    "print(my_set) # The order might change unpredictably\n",
    "\n",
    "# Removing an element\n",
    "my_set.remove(10)\n",
    "print(my_set) # Output: {3, 5, 8, 20} or another order"
   ]
  },
  {
   "cell_type": "markdown",
   "metadata": {},
   "source": [
    "### **Why Does the Order Change?**\n",
    "\n",
    "* New elements may trigger rehashing, leading to reallocation of storage.\n",
    "\n",
    "* Removing an element can also affect the layout, especially if rehashing is triggered due to shrinking.\n",
    "\n",
    "### **Does This Mean Sets Are Ordered Internally?**\n",
    "🚫 No.\n",
    "\n",
    "Even though elements are stored based on their hash values, this does not mean sets are ordered in the way lists or tuples are. Order can change unexpectedly, so it’s unreliable for ordered operations like indexing."
   ]
  },
  {
   "cell_type": "markdown",
   "metadata": {},
   "source": [
    "## **Conclusion**\n",
    "\n",
    "* Hashing determines where elements are stored, but this structure is not stable across operations.\n",
    "\n",
    "* Adding or removing elements can trigger rehashing, which causes internal storage reallocation and an unpredictable order.\n"
   ]
  },
  {
   "cell_type": "markdown",
   "metadata": {},
   "source": [
    "# **The Frozenset**\n",
    "----\n",
    "In Python, a `frozenset` is an `immutable` (unchangeable) version of a set. It is a collection of unique elements, just like a set, but it cannot be modified after it is created.\n",
    "\n",
    "Here are the key features of a `frozenset`:\n",
    "\n",
    "1. **Immutable**: A `frozenset` cannot be modified after it is created. You cannot add, remove, or change elements in a `frozenset`.\n",
    "2. **Ordered**: Like sets, `frozensets` are unordered in Python versions before 3.7. However, from Python 3.7 onwards, `frozensets` maintain their insertion order, just like sets.\n",
    "3. **Hashable**: `frozensets` are hashable, meaning they can be used as keys in dictionaries or elements in other sets.\n",
    "4. **Unique elements**: A `frozenset` can only contain unique elements, just like a set.\n",
    "\n",
    "Here are the key differences between a `set` and a `frozenset` in Python:\n",
    "\n",
    "1. **Immutability**:\n",
    "   - `set`: Mutable (can be modified after creation)\n",
    "   - `frozenset`: Immutable (cannot be modified after creation)\n",
    "\n",
    "2. **Modification methods**:\n",
    "   - `set`: Supports methods like `add()`, `remove()`, `discard()`, `clear()`, `pop()`, `update()`\n",
    "   - `frozenset`: Does not support any modification methods\n",
    "\n",
    "3. **Hashability**:\n",
    "   - `set`: Not hashable (cannot be used as keys in dictionaries or elements in other sets)\n",
    "   - `frozenset`: Hashable (can be used as keys in dictionaries or elements in other sets)\n",
    "\n",
    "4. **Thread safety**:\n",
    "   - `set`: Not thread-safe (multiple threads can modify the set simultaneously, leading to inconsistencies)\n",
    "   - `frozenset`: Thread-safe (since it's immutable, it's safe to access from multiple threads)\n",
    "\n",
    "5. **Syntax**:\n",
    "   - `set`: Created using the `set()` function or the `{}` syntax (e.g., `my_set = {1, 2, 3}`)\n",
    "   - `frozenset`: Created using the `frozenset()` function (e.g., `my_frozenset = frozenset([1, 2, 3])`)\n",
    "\n",
    "6. **Use cases**:\n",
    "   - `set`: Suitable for situations where you need to frequently add or remove elements (e.g., when filtering data)\n",
    "   - `frozenset`: Suitable for situations where you need an immutable collection (e.g., when using it as a key in a dictionary or as an element in another set)\n",
    "\n",
    "\n",
    "   Here's a summary of the differences:\n",
    "\n",
    "| Feature | Set | Frozenset |\n",
    "| --- | --- | --- |\n",
    "| Immutability | Mutable | Immutable |\n",
    "| Modification methods | Yes | No |\n",
    "| Hashability | No | Yes |\n",
    "| Thread safety | No | Yes |\n",
    "| Syntax | `set()` or `{}` | `frozenset()` |\n",
    "| Use cases | Frequent modifications | Immutable collection |"
   ]
  },
  {
   "cell_type": "code",
   "execution_count": null,
   "metadata": {},
   "outputs": [
    {
     "name": "stdout",
     "output_type": "stream",
     "text": [
      "my_frozenset =  frozenset({1, 2, 3, 'Hello! World'})\n",
      "my_frozenset2 =  frozenset({1, 2, 3, 'Hello! World'})\n"
     ]
    }
   ],
   "source": [
    "my_frozenset:frozenset = frozenset([1, 2, 3, \"Hello! World\"])\n",
    "print(\"my_frozenset = \", my_frozenset) # Output: frozenset({1, 2, 3, 'Hello! World'})\n",
    "\n",
    "my_set:set = {1, 2, 3, \"Hello! World\"}\n",
    "my_frozenset2:frozenset = frozenset(my_set)\n",
    "print(\"my_frozenset2 = \", my_frozenset2) # Output: frozenset({1, 2, 3, 'Hello! World'})"
   ]
  },
  {
   "cell_type": "markdown",
   "metadata": {},
   "source": [
    "Set Methods\n",
    "----\n"
   ]
  },
  {
   "cell_type": "code",
   "execution_count": null,
   "metadata": {},
   "outputs": [
    {
     "name": "stdout",
     "output_type": "stream",
     "text": [
      "difference() = {4, 5, 6}\n",
      "intersection() =  {1, 2, 3, 'Hello! World'}\n",
      "union() =  {1, 2, 3, 4, 5, 'Hello! World', 6, 8, 9}\n",
      "symmetric difference() =  {4, 5, 6, 8, 9}\n",
      "isdisjoint() =  False\n",
      "isdisjoint() =  True\n",
      "issuperset() =  True\n",
      "issubset() =  True\n"
     ]
    }
   ],
   "source": [
    "my_set: set  = {1,2,3, \"Hello! World\", 4,5,6}\n",
    "my_set2: set = {1,2,3, \"Hello! World\", 8,9}\n",
    "\n",
    "print(\"difference() =\", my_set.difference(my_set2)) # Return a set containing the difference between two or more sets\n",
    "print(\"intersection() = \", my_set.intersection(my_set2)) # Return a set that contains the items that exist in both set\n",
    "print(\"union() = \", my_set.union(my_set2)) # Return a set that contains all items from both sets\n",
    "print(\"symmetric difference() = \", my_set.symmetric_difference(my_set2)) # Return a set that contains all items from both sets, but not the items that are present in both sets\n",
    "\n",
    "print(\"isdisjoint() = \", my_set.isdisjoint(my_set2)) # Return True if no items in set x is present in set y\n",
    "my_set3: set = {7,8}\n",
    "print(\"isdisjoint() = \", my_set.isdisjoint(my_set3)) # Return True if no items in set x is present in set y\n",
    "\n",
    "my_set2 = {1,2,3, \"Hello! World\"}\n",
    "\n",
    "print(\"issuperset() = \", my_set.issuperset(my_set2)) # Return True if all items in set x are present in set y\n",
    "print(\"issubset() = \", my_set2.issubset(my_set)) # Return True if all items in set y are present in set x"
   ]
  },
  {
   "cell_type": "code",
   "execution_count": null,
   "metadata": {},
   "outputs": [
    {
     "name": "stdout",
     "output_type": "stream",
     "text": [
      "set1: {1, 2, 3, 4, 5}\n",
      "set2: {4, 5, 6, 7, 8}\n",
      "add(6): {1, 2, 3, 4, 5, 6}\n",
      "clear(): set()\n",
      "copy(): {1, 2, 3, 4, 5, 6}\n",
      "difference(set2): {1, 2, 3}\n",
      "difference_update(set2): {1, 2, 3}\n",
      "discard(6): {1, 2, 3, 4, 5}\n",
      "intersection(set2): {4, 5}\n",
      "intersection_update(set2): {4, 5}\n",
      "isdisjoint(set2): False\n",
      "isdisjoint(): True\n",
      "issubset(): False\n",
      "issubset(): {1,2}.issubset({1, 2, 3, 4, 5, 6})\n",
      "issubset(): {1,2}.issubset({1,2})\n",
      "issuperset(): False\n",
      "issuperset(): True\n",
      "issuperset(): {1,2}.issuperset({1,2})\n",
      "pop(): 1\n",
      "Set After pop(): {2, 3, 4, 5, 6}\n",
      "set1 =  {1, 2, 3, 4, 5, 6}\n",
      "remove(1): {2, 3, 4, 5, 6}\n",
      "set1 =  {1, 2, 3, 4, 5, 6}\n",
      "set2 =  {4, 5, 6, 7, 8}\n",
      "symmetric_difference(set2): {1, 2, 3, 7, 8}\n",
      "symmetric_difference_update(set2): {1, 2, 3, 7, 8}\n",
      "union(): {1, 2, 3, 4, 5, 6, 7, 8}\n",
      "update(): {1, 2, 3, 4, 5, 6, 7, 8}\n"
     ]
    }
   ],
   "source": [
    "# prompt: generate examples of all the method of set\n",
    "\n",
    "# Example usage of set methods\n",
    "\n",
    "# Initialize two sets for demonstration\n",
    "set1: set = {1, 2, 3, 4, 5}\n",
    "set2: set = {4, 5, 6, 7, 8}\n",
    "\n",
    "print(f\"set1: {set1}\") # Output: {1, 2, 3, 4, 5}\n",
    "print(f\"set2: {set2}\") # Output: {4, 5, 6, 7, 8}\n",
    "\n",
    "# 1. add(): Adds an element to the set\n",
    "set1.add(6)\n",
    "print(f\"add(6): {set1}\") # Output: {1, 2, 3, 4, 5, 6}\n",
    "\n",
    "# 2. clear(): Removes all elements from the set.\n",
    "set_copy:set = set1.copy()\n",
    "set_copy.clear()\n",
    "print(f\"clear(): {set_copy}\") # Output: set()\n",
    "\n",
    "# 3. copy(): Returns a copy of the set.\n",
    "set_copy = set1.copy()\n",
    "print(f\"copy(): {set_copy}\") # Output: {1, 2, 3, 4, 5, 6}\n",
    "\n",
    "# 4. difference(): Returns a set containing the difference between two or more sets.\n",
    "difference_set = set1.difference(set2)\n",
    "print(f\"difference(set2): {difference_set}\") # Output: {1, 2, 3}\n",
    "\n",
    "# 5. difference_update(): Removes the items in this set that are also included in another, specified set.\n",
    "set1.difference_update(set2)\n",
    "print(f\"difference_update(set2): {set1}\") # Output: {1, 2, 3}\n",
    "set1:set = {1, 2, 3, 4, 5, 6} # reset set1\n",
    "\n",
    "# 6. discard(): Remove the specified item.\n",
    "set1.discard(6)\n",
    "print(f\"discard(6): {set1}\") # Output: {1, 2, 3, 4, 5}\n",
    "\n",
    "# 7. intersection(): Returns a set, that is the intersection of two other sets.\n",
    "intersection_set:set = set1.intersection(set2)\n",
    "print(f\"intersection(set2): {intersection_set}\") # Output: {4, 5}\n",
    "\n",
    "# 8. intersection_update(): Removes the items in this set that are not present in other, specified set(s)\n",
    "set1.intersection_update(set2)\n",
    "print(f\"intersection_update(set2): {set1}\") # Output: {4, 5}\n",
    "set1 = {1, 2, 3, 4, 5,6} #reset set1\n",
    "\n",
    "# 9. isdisjoint(): Returns whether two sets have a intersection or not.\n",
    "print(f\"isdisjoint(set2): {set1.isdisjoint(set2)}\") # Output: False\n",
    "print(f\"isdisjoint(): {set1.isdisjoint({9,10})}\") # Output: True\n",
    "\n",
    "# 10. issubset(): Returns whether another set contains this set or not.\n",
    "print(f\"issubset(): {set1.issubset(set2)}\") # Output: False\n",
    "print(f\"issubset(): {{1,2}}.issubset({set1})\")  # Output: True\n",
    "print(f\"issubset(): {{1,2}}.issubset({{1,2}})\")  # Output: True\n",
    "\n",
    "# 11. issuperset(): Returns whether this set contains another set or not.\n",
    "print(f\"issuperset(): {set1.issuperset(set2)}\")  # Output: False\n",
    "print(f\"issuperset(): {set1.issuperset({1,2})}\")  # Output: True\n",
    "print(f\"issuperset(): {{1,2}}.issuperset({{1,2}})\")  # Output: True\n",
    "\n",
    "# 12. pop(): Removes a random element from the set.\n",
    "removed_element:int = set1.pop()\n",
    "print(f\"pop(): {removed_element}\")  # Output: (random element)\n",
    "print(f\"Set After pop(): {set1}\")  # Output: (set without removed_element)\n",
    "set1.add(removed_element) # put back the element for others test\n",
    "print(\"set1 = \",set1)\n",
    "\n",
    "# 13. remove(): Removes the specified element. Raises an error if the element is not present.\n",
    "set1.remove(1)\n",
    "print(f\"remove(1): {set1}\")  # Output: {2, 3, 4, 5,6}\n",
    "set1.add(1)# put back the element for others test\n",
    "print(\"set1 = \", set1)\n",
    "print(\"set2 = \", set2)\n",
    "\n",
    "# 14. symmetric_difference(): Returns a set with the symmetric differences of two sets.\n",
    "symmetric_difference_set:set = set1.symmetric_difference(set2)\n",
    "print(f\"symmetric_difference(set2): {symmetric_difference_set}\")  # Output: {1, 2, 3, 7, 8}\n",
    "\n",
    "# 15. symmetric_difference_update(): Inserts the symmetric differences from this set and another\n",
    "set1.symmetric_difference_update(set2)\n",
    "print(f\"symmetric_difference_update(set2): {set1}\")  # Output: {1, 2, 3, 7, 8}\n",
    "set1 = {1, 2, 3, 4, 5, 6} # reset set1\n",
    "\n",
    "# 16. union(): Returns a set containing the union of sets.\n",
    "union_set = set1.union(set2)\n",
    "print(f\"union(): {union_set}\")  # Output: {1, 2, 3, 4, 5, 6, 7, 8}\n",
    "\n",
    "# 17. update(): Update the set with the union of this set and others\n",
    "set1.update(set2)\n",
    "print(f\"update(): {set1}\") # Output: {1, 2, 3, 4, 5, 6, 7, 8}"
   ]
  },
  {
   "cell_type": "code",
   "execution_count": null,
   "metadata": {},
   "outputs": [
    {
     "name": "stdout",
     "output_type": "stream",
     "text": [
      "frozen_set1: frozenset({1, 2, 3, 4})\n",
      "frozen_set2: frozenset({3, 4, 5, 6})\n",
      "frozen_set3: frozenset({1, 2})\n",
      "\n",
      "----------\n",
      "\n",
      "difference(): frozenset({1, 2})\n",
      "intersection(): frozenset({3, 4})\n",
      "union(): frozenset({1, 2, 3, 4, 5, 6})\n",
      "symmetric_difference(): frozenset({1, 2, 5, 6})\n",
      "isdisjoint(): False\n",
      "isdisjoint(): True\n",
      "issubset(): True\n",
      "issubset(): False\n",
      "issuperset(): True\n",
      "issuperset(): False\n",
      "copy(): frozenset({1, 2, 3, 4})\n",
      "copy() is same object: True\n"
     ]
    }
   ],
   "source": [
    "# Create some example frozensets\n",
    "\n",
    "frozen_set1: frozenset = frozenset([1, 2, 3, 4])\n",
    "frozen_set2: frozenset = frozenset([3, 4, 5, 6])\n",
    "frozen_set3: frozenset = frozenset([1, 2])\n",
    "\n",
    "print(f\"frozen_set1: {frozen_set1}\")\n",
    "print(f\"frozen_set2: {frozen_set2}\")\n",
    "print(f\"frozen_set3: {frozen_set3}\")\n",
    "print(\"\\n----------\\n\")\n",
    "\n",
    "# Methods that work with frozensets (since they are immutable)\n",
    "# These methods return a new frozenset or a boolean value\n",
    "\n",
    "# 1. difference(): Returns a new frozenset with elements present in the first frozenset but not in the second.\n",
    "different_set:frozenset = frozen_set1.difference(frozen_set2)\n",
    "print(f\"difference(): {difference_set}\") # Output: {1, 2}\n",
    "\n",
    "# 2. intersection(): Returns a new frozenset containing only elements common to both frozensets.\n",
    "intersection_set:frozenset = frozen_set1.intersection(frozen_set2)\n",
    "print(f\"intersection(): {intersection_set}\") # Output: {3, 4}\n",
    "\n",
    "# 3. union(): Returns a new frozenset containing all unique elements from both frozensets.\n",
    "union_set:frozenset = frozen_set1.union(frozen_set2)\n",
    "print(f\"union(): {union_set}\") # Output: {1, 2, 3, 4, 5, 6}\n",
    "\n",
    "# 4. symmetric_difference(): Returns a new frozenset with elements that are in either of the sets but not in both.\n",
    "symmetric_difference_set:frozenset = frozen_set1.symmetric_difference(frozen_set2)\n",
    "print(f\"symmetric_difference(): {symmetric_difference_set}\") # Output: {1, 2, 5, 6}\n",
    "\n",
    "# 5. isdisjoint(): Returns True if the two frozensets have no elements in common; otherwise, False.\n",
    "print(f\"isdisjoint(): {frozen_set1.isdisjoint(frozen_set2)}\")  # Output: False\n",
    "print(f\"isdisjoint(): {frozen_set1.isdisjoint(frozenset([7, 8]))}\")  # Output: True\n",
    "\n",
    "# 6. issubset(): Returns True if all elements of the first frozenset are present in the second frozenset.\n",
    "print(f\"issubset(): {frozen_set3.issubset(frozen_set1)}\")  # Output: True\n",
    "print(f\"issubset(): {frozen_set1.issubset(frozen_set3)}\")  # Output: False\n",
    "\n",
    "# 7. issuperset(): Returns True if all elements of the second frozenset are present in the first frozenset.\n",
    "print(f\"issuperset(): {frozen_set1.issuperset(frozen_set3)}\")  # Output: True\n",
    "print(f\"issuperset(): {frozen_set3.issuperset(frozen_set1)}\")  # Output: False\n",
    "\n",
    "# 8. copy(): Returns a new frozenset that is a shallow copy of the original.\n",
    "copy_set:frozenset = frozen_set1.copy()\n",
    "print(f\"copy(): {copy_set}\")  # Output: {1, 2, 3, 4}\n",
    "print(f\"copy() is same object: {copy_set is frozen_set1}\") # Output: True because frozensets are immutable"
   ]
  },
  {
   "cell_type": "markdown",
   "metadata": {},
   "source": [
    "## **GC: Garbage Collection**"
   ]
  },
  {
   "cell_type": "markdown",
   "metadata": {},
   "source": [
    "**Python has a garbage collection mechanism.**\n",
    "\n",
    "Python's garbage collector is a **`Memory Management System`** that **`automatically`** frees up memory occupied by objects that are no longer needed or referenced. This helps prevent memory leaks and allows Python to manage memory efficiently.\n",
    "\n",
    "### **Here's how it works:**\n",
    "\n",
    "1. **Reference Counting**: Python uses a reference counting algorithm to track the number of references to each object. When an object is created, its reference count is set to 1. Each time a new reference to the object is created (e.g., assigning it to a variable or passing it as an argument), the reference count is incremented.\n",
    "\n",
    "2. **Garbage Collection**: When an object's reference count reaches 0, it is no longer needed and becomes eligible for garbage collection. The garbage collector periodically runs in the background to identify and free up memory occupied by these objects.\n",
    "\n",
    "### **Python's garbage collector is:**\n",
    "\n",
    "* **Automatic**: You don't need to manually manage memory or explicitly free up memory.\n",
    "\n",
    "* **Periodic**: The garbage collector runs periodically to clean up memory.\n",
    "* **Reference-based**: It uses reference counting to determine which objects are no longer needed.\n",
    "\n",
    "You can also manually trigger the garbage collector using the `gc.collect()` function from the `gc` module:"
   ]
  },
  {
   "cell_type": "code",
   "execution_count": 60,
   "metadata": {},
   "outputs": [
    {
     "name": "stdout",
     "output_type": "stream",
     "text": [
      "garbage collector (28, 0, 0)\n"
     ]
    }
   ],
   "source": [
    "import gc\n",
    "gc.collect()\n",
    "print(\"garbage collector\", gc.get_count()) # prints the number of collected objects, unreachable objects, and reference cycles\n"
   ]
  },
  {
   "cell_type": "markdown",
   "metadata": {},
   "source": [
    "However, this is usually not necessary, as the garbage collector runs automatically in the background.\n",
    "\n",
    "Some benefits of Python's garbage collection:\n",
    "\n",
    "* **Memory safety**: Prevents memory leaks and ensures memory is freed up when no longer needed.\n",
    "* **Convenience**: You don't need to worry about manually managing memory.\n",
    "* **Efficiency**: The garbage collector runs periodically to optimize memory usage.\n",
    "\n",
    "Note that Python's garbage collection is not perfect, and there are some cases where it may not work as expected (e.g., circular references, file descriptors). However, it provides a convenient and efficient way to manage memory in most cases."
   ]
  }
 ],
 "metadata": {
  "kernelspec": {
   "display_name": "Python 3",
   "language": "python",
   "name": "python3"
  },
  "language_info": {
   "codemirror_mode": {
    "name": "ipython",
    "version": 3
   },
   "file_extension": ".py",
   "mimetype": "text/x-python",
   "name": "python",
   "nbconvert_exporter": "python",
   "pygments_lexer": "ipython3",
   "version": "3.13.2"
  }
 },
 "nbformat": 4,
 "nbformat_minor": 2
}
