{
 "cells": [
  {
   "cell_type": "markdown",
   "metadata": {},
   "source": [
    "**<font color=\"#4ee247\" size=8>Lesson # 04 </font><font color=\"#ffbf00 \" size=8>**Strings Casting** </font>**"
   ]
  },
  {
   "cell_type": "markdown",
   "metadata": {},
   "source": [
    " **Strings in Python**\n",
    "======================\n",
    "\n",
    "In Python, a string is a sequence of characters enclosed in quotes (either single, double, or triple quotes). Strings are `immutable`, meaning they cannot be changed after they are created.\n",
    "\n",
    "**Creating Strings**\n",
    "-------------------\n",
    "\n",
    "There are several ways to create strings in Python:\n",
    "\n",
    "1. **Single Quotes**: `my_string = 'Hello, World!'`\n",
    "2. **Double Quotes**: `my_string = \"Hello, World!\"`\n",
    "3. **Triple Quotes**: `my_string = '''Hello, World!'''` (can span multiple lines)\n",
    "4. **Raw Strings**: `my_string = r'Hello, World!'` (treats backslashes as literal characters)"
   ]
  },
  {
   "cell_type": "code",
   "execution_count": 1,
   "metadata": {},
   "outputs": [
    {
     "name": "stdout",
     "output_type": "stream",
     "text": [
      "Hello,\n",
      "World!\n"
     ]
    }
   ],
   "source": [
    "#for multi line string use triple quotes '''any string'''\n",
    "my_string: str = '''Hello,\n",
    "World!'''\n",
    "print(my_string)"
   ]
  },
  {
   "cell_type": "code",
   "execution_count": 4,
   "metadata": {},
   "outputs": [
    {
     "name": "stdout",
     "output_type": "stream",
     "text": [
      "Hello \\t \\n Worl\\\\d!\n",
      "\n",
      "-----\n",
      "\n",
      "Hello,\n",
      "World!\n"
     ]
    }
   ],
   "source": [
    "my_string: str = r'Hello \\t \\n Worl\\\\d!' # Raw strings\n",
    "print(my_string)\n",
    "\n",
    "print(\"\\n-----\\n\")\n",
    "\n",
    "my_string = 'Hello,\\nWorld!'\n",
    "print(my_string)"
   ]
  },
  {
   "cell_type": "markdown",
   "metadata": {},
   "source": [
    "**Escape Sequence Characters in Python**\n",
    "======================================\n",
    "\n",
    "In Python, escape sequence characters are used to represent special characters that have a specific meaning in a string. These characters are denoted by a backslash (`\\`) followed by a character."
   ]
  },
  {
   "cell_type": "code",
   "execution_count": 14,
   "metadata": {},
   "outputs": [
    {
     "name": "stdout",
     "output_type": "stream",
     "text": [
      "Hello,\n",
      "World!\n",
      "Hello,\tWorld!\n",
      "World!\n",
      "Hello,World!\n",
      "Hello, \fWorld!\n",
      "Hello, \u000bWorld!\n",
      "Hello, \"World!\"\n",
      "Hello, 'World!'\n",
      "Hello,\\ World!\n"
     ]
    }
   ],
   "source": [
    "print(\"Hello,\\nWorld!\") # print with new line\n",
    "print(\"Hello,\\tWorld!\") # print with tab\n",
    "print(\"Hello,\\rWorld!\") # print with return\n",
    "print(\"Hello, \\bWorld!\") # print with backspace\n",
    "print(\"Hello, \\fWorld!\") # print with form feed\n",
    "print(\"Hello, \\vWorld!\") # print with vertical tab\n",
    "print(\"Hello, \\\"World!\\\"\") # print with double quote\n",
    "print(\"Hello, \\'World!\\'\") # print with single quote\n",
    "print(\"Hello,\\\\ World!\") # print with backslash"
   ]
  },
  {
   "cell_type": "markdown",
   "metadata": {},
   "source": [
    "### **Unicode characters**\n",
    "\n",
    "\n",
    "Python also supports Unicode escape sequence characters, which are used to represent `Unicode characters`. These characters are denoted by `\\u` followed by a four-digit hexadecimal code."
   ]
  },
  {
   "cell_type": "code",
   "execution_count": 17,
   "metadata": {},
   "outputs": [
    {
     "name": "stdout",
     "output_type": "stream",
     "text": [
      "\\u0041 =  A\n",
      "\\u0042 =  B\n",
      "\\u0043 =  C\n",
      "\\u0044 =  D\n",
      "\\u0045 =  E\n",
      "\\u0046 =  F\n"
     ]
    }
   ],
   "source": [
    "print(r\"\\u0041 = \", \"\\u0041\") # print with unicode\n",
    "print(r\"\\u0042 = \", \"\\u0042\") # print with unicode\n",
    "print(r\"\\u0043 = \", \"\\u0043\") # print with unicode\n",
    "print(r\"\\u0044 = \", \"\\u0044\") # print with unicode\n",
    "print(r\"\\u0045 = \", \"\\u0045\") # print with unicode\n",
    "print(r\"\\u0046 = \", \"\\u0046\") # print with unicode"
   ]
  },
  {
   "cell_type": "markdown",
   "metadata": {},
   "source": [
    "### **Performing Differrent Operations on String Object**"
   ]
  },
  {
   "cell_type": "markdown",
   "metadata": {},
   "source": [
    "\n",
    "\n",
    "\n",
    "| S# | Operation         | Example                                                                           |\n",
    "|----|-------------------|-----------------------------------------------------------------------------------|\n",
    "| 1  | **Concatenation** | `my_string = 'Hello, ' + 'World!'`                                                |\n",
    "| 2  | **Indexing**      | `my_string = 'Hello, World!'; print(my_string[0])  # prints 'H'`                  |\n",
    "| 3  | **Slicing**       | `my_string = 'Hello, World!'; print(my_string[7:])  # prints 'World!'`            |\n",
    "| 4  | **Length**        | `my_string = 'Hello, World!'; print(len(my_string))  # prints 13`                 |\n",
    "| 5  |  **Upper Case**   | `my_string = 'Hello, World!'; print(my_string.upper())  # prints 'HELLO, WORLD!'` |\n",
    "| 6  | **Lower Case**    | `my_string = 'Hello, World!'; print(my_string.lower())  # prints 'hello, world!'` |"
   ]
  },
  {
   "cell_type": "code",
   "execution_count": 20,
   "metadata": {},
   "outputs": [
    {
     "name": "stdout",
     "output_type": "stream",
     "text": [
      "Hello, World!\n"
     ]
    }
   ],
   "source": [
    "my_string = 'Hello, ' + 'World!' #Concatenation using + sign\n",
    "print(my_string)"
   ]
  },
  {
   "cell_type": "code",
   "execution_count": 21,
   "metadata": {},
   "outputs": [
    {
     "name": "stdout",
     "output_type": "stream",
     "text": [
      "e\n"
     ]
    }
   ],
   "source": [
    "#Indexing, index value starts with 0 zero, so  the first character\n",
    "#have index value 0, second character have index value 1 and the third one\n",
    "#have index value 2 and so on.\n",
    "print(my_string[1]) #It will print 'e'"
   ]
  },
  {
   "cell_type": "code",
   "execution_count": 22,
   "metadata": {},
   "outputs": [
    {
     "name": "stdout",
     "output_type": "stream",
     "text": [
      "World!\n",
      "Hello\n"
     ]
    }
   ],
   "source": [
    "my_string: str = 'Hello, World!'\n",
    "print(my_string[7:]) #It starts from 7 till the end of the string\n",
    "print(my_string[0:5]) #It starts from 0 till the index 4 - (0,1,2,3,4) = 5 characters"
   ]
  },
  {
   "cell_type": "code",
   "execution_count": 23,
   "metadata": {},
   "outputs": [
    {
     "name": "stdout",
     "output_type": "stream",
     "text": [
      "15\n"
     ]
    }
   ],
   "source": [
    "print(len(\" Hello, World! \"))#calculating length of a string even the space will be treated as character"
   ]
  },
  {
   "cell_type": "code",
   "execution_count": 24,
   "metadata": {},
   "outputs": [
    {
     "name": "stdout",
     "output_type": "stream",
     "text": [
      "HELLO, WORLD!\n",
      "hello, world!\n"
     ]
    }
   ],
   "source": [
    "print(my_string.upper()) #Upper Case\n",
    "print(my_string.lower()) #Lower Case"
   ]
  },
  {
   "cell_type": "markdown",
   "metadata": {},
   "source": [
    "Here are some commonly used string methods:\n",
    "\n",
    "1. **`split()`**: splits a string into a list of substrings based on a delimiter\n",
    "2. **`join()`**: joins a list of strings into a single string\n",
    "3. **`replace()`**: replaces a substring with another substring\n",
    "4. **`find()`**: returns the index of a substring\n",
    "5. **`count()`**: returns the number of occurrences of a substring"
   ]
  },
  {
   "cell_type": "code",
   "execution_count": 26,
   "metadata": {},
   "outputs": [
    {
     "name": "stdout",
     "output_type": "stream",
     "text": [
      "['Hello!', 'World']\n",
      "['Hello!', 'World']\n",
      "['He', '', 'o! Wor', 'd']\n"
     ]
    }
   ],
   "source": [
    "my_string: str = 'Hello! World'\n",
    "\n",
    "# # Split into a list of words using default whitespace\n",
    "words: str = my_string.split()\n",
    "print(words)\n",
    "\n",
    "# Split using a space (\" \") as a delimiter\n",
    "words = my_string.split(\" \") # Space as a delimiter\n",
    "print(words)\n",
    "\n",
    "# Split using 'l' as the delimiter\n",
    "words = my_string.split(\"l\") # Splits at every occurrence of 'l' and removes it from the output.\n",
    "print(words)"
   ]
  },
  {
   "cell_type": "markdown",
   "metadata": {},
   "source": [
    "**Steps of Execution:**\n",
    "\n",
    "- The split(\"l\") method breaks the string \"Hello! World\" wherever the letter l appears.\n",
    "\n",
    "<br>\n",
    "\n",
    "After splitting, the parts are:\n",
    "\n",
    "<br>\n",
    "\n",
    "**Before the first l**:\n",
    "- \"He\" Between the first and second l: \"\" (empty string, as there’s no character between the two ls)\n",
    "\n",
    "<br>\n",
    "\n",
    "**After the second l**: \"o! Wor\"\n",
    "\n",
    "- The resulting list is: [\"He\", \"\", \"o!, Wor\", \"d\"].\n",
    "\n",
    "<br>\n",
    "\n",
    "**Output:**"
   ]
  },
  {
   "cell_type": "markdown",
   "metadata": {},
   "source": [
    "**Split Method**"
   ]
  },
  {
   "cell_type": "code",
   "execution_count": 27,
   "metadata": {},
   "outputs": [
    {
     "name": "stdout",
     "output_type": "stream",
     "text": [
      "['He', '', 'o! Wor', 'd']\n"
     ]
    }
   ],
   "source": [
    "words: str = my_string.split(\"l\") # Splitting using 'l' as the delimiter\n",
    "print(words)"
   ]
  },
  {
   "cell_type": "markdown",
   "metadata": {},
   "source": [
    "The argument of join() is the iterable, and the my_string acts as a separator that is placed between the elements of the iterable.\n",
    "\n",
    "my_string = '`, `'\n",
    "\n",
    "The variable my_string is assigned the value '`, `'. This string (`comma followed by a space`) will be used as the `separator` for joining elements of a list."
   ]
  },
  {
   "cell_type": "markdown",
   "metadata": {},
   "source": [
    "**Join Method**"
   ]
  },
  {
   "cell_type": "code",
   "execution_count": 28,
   "metadata": {},
   "outputs": [
    {
     "name": "stdout",
     "output_type": "stream",
     "text": [
      "Pakistan, USA, Canada, France, Japan\n"
     ]
    }
   ],
   "source": [
    "# join the words back into a single string\n",
    "my_string: str = ', '\n",
    "joined_string: str = my_string.join(['Pakistan', 'USA', 'Canada', 'France', 'Japan'])\n",
    "print(joined_string)  # Pakistan, USA, Canada, France, Japan"
   ]
  },
  {
   "cell_type": "code",
   "execution_count": 4,
   "metadata": {},
   "outputs": [
    {
     "name": "stdout",
     "output_type": "stream",
     "text": [
      "P, a, k, i, s, t, a, n\n",
      "Apple-Banana-Cherry\n"
     ]
    }
   ],
   "source": [
    "my_string: str = ', '\n",
    "joined_string: str = my_string.join('Pakistan') # my_string works as a seprator for each character in the word 'Pakistan', because string is a sequence of caharacter\n",
    "print(joined_string)\n",
    "\n",
    "print(\"-\".join(['Apple', 'Banana', 'Cherry'])) #Joining using '-' as a seprator\n"
   ]
  },
  {
   "cell_type": "markdown",
   "metadata": {},
   "source": [
    "**Replace Method**"
   ]
  },
  {
   "cell_type": "code",
   "execution_count": 5,
   "metadata": {},
   "outputs": [
    {
     "name": "stdout",
     "output_type": "stream",
     "text": [
      "Hi, World!, Hi, Pakistan!\n"
     ]
    }
   ],
   "source": [
    "my_string:str = \"Hello, World!, Hello, Pakistan!\"\n",
    "# replacing a substring\n",
    "my_string = my_string.replace(\"Hello\", \"Hi\")\n",
    "print(my_string) # Hi, World!, Hi, Pakistan!\n"
   ]
  },
  {
   "cell_type": "markdown",
   "metadata": {},
   "source": [
    "**Find Method**"
   ]
  },
  {
   "cell_type": "code",
   "execution_count": 6,
   "metadata": {},
   "outputs": [
    {
     "name": "stdout",
     "output_type": "stream",
     "text": [
      "string_index:  0\n"
     ]
    }
   ],
   "source": [
    "my_string:str = \"Hello, World!, Hello, Pakistan!\"\n",
    "# find the index of the substring\n",
    "starting_index = my_string.find(\"Hello\") # Index value of the first occurrence of the substring\n",
    "print(\"string_index: \",starting_index) # prints 0"
   ]
  },
  {
   "cell_type": "code",
   "execution_count": 8,
   "metadata": {},
   "outputs": [
    {
     "name": "stdout",
     "output_type": "stream",
     "text": [
      ", World!, Hello, Pakistan!\n",
      "10\n"
     ]
    }
   ],
   "source": [
    "# Now lets find the second occurance of the word 'Hello'\n",
    "# index value start from zero\n",
    "\n",
    "starting_index2:str = starting_index + len(\"Hello\") #len = 5\n",
    "print(my_string[starting_index2:]) # after slicing \", World! Hello, Pakistan\n",
    "print(my_string[starting_index2:].find(\"Hello\")) # Starting index 10, because of slicing \", World! Hello, Pakistan\""
   ]
  },
  {
   "cell_type": "code",
   "execution_count": 11,
   "metadata": {},
   "outputs": [
    {
     "name": "stdout",
     "output_type": "stream",
     "text": [
      "Hello, World!, Hello, Pakistan!\n",
      "31\n",
      "\n",
      "-----\n",
      "\n",
      "Substring to search    =  Hello\n",
      "Starting index         =  5\n",
      "End index              =  31\n",
      "Second Occurance index =  15\n"
     ]
    }
   ],
   "source": [
    "print(my_string)\n",
    "print(len(my_string)) #character count = 31\n",
    "\n",
    "print('\\n-----\\n')\n",
    "\n",
    "print(\"Substring to search    = \", \"Hello\")\n",
    "print(\"Starting index         = \", len(\"Hello\")) # 5\n",
    "print(\"End index              = \", len(my_string)) # 31\n",
    "print(\"Second Occurance index = \", my_string.index((\"Hello\"), len(\"Hello\"), len(my_string))) # (substring, start, end) - print 15\n",
    "\n",
    "#Uncomment to see ValueError: substring not found\n",
    "# print(\"Second Occurance index = \", my_string.index((\"Hello7\"), len(\"Hello\"), len(my_string))) # (substring, start, end)"
   ]
  },
  {
   "cell_type": "markdown",
   "metadata": {},
   "source": [
    "If string not found using find method, it returns -1"
   ]
  },
  {
   "cell_type": "code",
   "execution_count": 12,
   "metadata": {},
   "outputs": [
    {
     "name": "stdout",
     "output_type": "stream",
     "text": [
      "-1\n"
     ]
    }
   ],
   "source": [
    "print(my_string.find(\"Hello7\")) # -1 for not found"
   ]
  },
  {
   "cell_type": "markdown",
   "metadata": {},
   "source": [
    "## Conclusion\n",
    "-  index() → Finds substring, raises error if not found.\n",
    "-  find() → Finds substring, returns -1 if not found (safer).\n",
    "-  Can specify start and end positions for more control.\n",
    "-  Use a loop if you need all occurrences of a substring."
   ]
  },
  {
   "cell_type": "markdown",
   "metadata": {},
   "source": [
    "**Count Method**"
   ]
  },
  {
   "cell_type": "code",
   "execution_count": null,
   "metadata": {},
   "outputs": [
    {
     "name": "stdout",
     "output_type": "stream",
     "text": [
      "my-string.count('Hello') =  2\n",
      "my_string.count('P')     =  1\n",
      "my_string.count('o')     =  3\n",
      "my_string.count('hello') =  0\n"
     ]
    }
   ],
   "source": [
    "my_string = \"Hello, World! Hello, Pakistan\"\n",
    "# count the occurrences of a substring\n",
    "count = my_string.count(\"Hello\")\n",
    "print(\"my-string.count('Hello') = \", count) # Output 2\n",
    "\n",
    "# count the occurrences of a substring\n",
    "count = my_string.count('P')\n",
    "print(\"my_string.count('P')     = \", count)  # prints 1\n",
    "\n",
    "# count the occurrences of a substring\n",
    "count = my_string.count('o')\n",
    "print(\"my_string.count('o')     = \", count)  # prints 3\n",
    "\n",
    "# count the occurrences of a substring\n",
    "count = my_string.count('hello') # case sensitive\n",
    "print(\"my_string.count('hello') = \", count)  # prints 0"
   ]
  },
  {
   "cell_type": "markdown",
   "metadata": {},
   "source": [
    "**String Formatting**\n",
    "-------------------\n",
    "\n",
    "Python provides several ways to format strings:\n",
    "\n",
    "1. **`%` Operator**: `my_string = 'Hello, %s!' % 'World'`\n",
    "  * In Python, `%s`, `%d`, `%c`, `%f` are placeholders for values in a string. They are used with the `%` operator to insert values into a string.\n",
    "  * **Note**: The `%` operator is an older way of formatting strings in Python. The newer and more recommended way is to use the `str.format()` method or f-strings (introduced in Python 3.6). For example:\n",
    "2. **`str.format()`**: `my_string = 'Hello, {}!'.format('World')`\n",
    "3. **f-Strings**: `my_string = f'Hello, {\"World\"}!'`\n",
    "\n",
    "\n",
    "<br>\n",
    "\n",
    "| Placeholder | Meaning                              | Example                                |\n",
    "|-------------|--------------------------------------|----------------------------------------|\n",
    "| %s          | String                               | \"Hello, %s\" % \"Alice\" → \"Hello, Alice\" |\n",
    "| %d          | Integer (Decimal)                    | \"Age: %d\" % 25 → \"Age: 25\"             |\n",
    "| %c          | Character                            | \"Letter: %c\" % 'A' → \"Letter: A\"       |\n",
    "| %f          | Floating-point                       | \"Pi: %f\" % 3.14159 → \"Pi: 3.141590\"    |\n",
    "| %.nf        | Floating-point with n decimal places | \"%.2f\" % 3.14159 → \"3.14\"              |\n"
   ]
  },
  {
   "cell_type": "markdown",
   "metadata": {},
   "source": [
    "## **% Operator**"
   ]
  },
  {
   "cell_type": "code",
   "execution_count": 20,
   "metadata": {},
   "outputs": [
    {
     "name": "stdout",
     "output_type": "stream",
     "text": [
      "My name is John, first letter of my name is 'J' , I am 36 years old and my weight is 70.532000 kg\n",
      "My name is John, first letter of my name is 'J', I am 36 years old and my weight id 70.53 Kg.\n"
     ]
    }
   ],
   "source": [
    "name:str =\"John\"\n",
    "age:int = 36\n",
    "first_letter:str = name[0]\n",
    "my_weight:float = 70.532000\n",
    "\n",
    "#uncomment to see type\n",
    "# print(type((name, first_letter, age, my_weight))) # tuple\n",
    "\n",
    "# using % operator\n",
    "my_string:str = '''My name is %s, first letter of my name is \\'%c\\' , I am %d years old and my weight is %f kg''' %(name, first_letter, age, my_weight)\n",
    "print(my_string)\n",
    "\n",
    "my_string = '''My name is %s, first letter of my name is \\'%c\\', I am %d years old and my weight id %.2f Kg.''' % (name, first_letter, age, my_weight) # Dont forget period %.2f\n",
    "print(my_string)"
   ]
  },
  {
   "cell_type": "markdown",
   "metadata": {},
   "source": [
    "## **String Formatting in Python – Does Order Matter?**\n",
    "\n",
    "**Yes**, order matters when using string formatting in Python, especially with the % operator, .format(), and f-strings (f\"\"). Let's break it down:"
   ]
  },
  {
   "cell_type": "code",
   "execution_count": 21,
   "metadata": {},
   "outputs": [
    {
     "ename": "TypeError",
     "evalue": "%d format: a real number is required, not str",
     "output_type": "error",
     "traceback": [
      "\u001b[1;31m---------------------------------------------------------------------------\u001b[0m",
      "\u001b[1;31mTypeError\u001b[0m                                 Traceback (most recent call last)",
      "Cell \u001b[1;32mIn[21], line 2\u001b[0m\n\u001b[0;32m      1\u001b[0m \u001b[38;5;66;03m# Error: TypeError: %d format: a real number is required, not str\u001b[39;00m\n\u001b[1;32m----> 2\u001b[0m my_string: \u001b[38;5;28mstr\u001b[39m \u001b[38;5;241m=\u001b[39m \u001b[38;5;124;43m'''\u001b[39;49m\u001b[38;5;124;43mMy name is \u001b[39;49m\u001b[38;5;132;43;01m%s\u001b[39;49;00m\u001b[38;5;124;43m, first letter of my name is \u001b[39;49m\u001b[38;5;130;43;01m\\'\u001b[39;49;00m\u001b[38;5;132;43;01m%c\u001b[39;49;00m\u001b[38;5;130;43;01m\\'\u001b[39;49;00m\u001b[38;5;124;43m, I am \u001b[39;49m\u001b[38;5;132;43;01m%d\u001b[39;49;00m\u001b[38;5;124;43m years old and my weight id \u001b[39;49m\u001b[38;5;132;43;01m%f\u001b[39;49;00m\u001b[38;5;124;43m Kg.\u001b[39;49m\u001b[38;5;124;43m'''\u001b[39;49m\u001b[43m \u001b[49m\u001b[38;5;241;43m%\u001b[39;49m\u001b[43m \u001b[49m\u001b[43m(\u001b[49m\u001b[43mmy_weight\u001b[49m\u001b[43m,\u001b[49m\u001b[43m \u001b[49m\u001b[43mage\u001b[49m\u001b[43m,\u001b[49m\u001b[43m \u001b[49m\u001b[43mname\u001b[49m\u001b[43m,\u001b[49m\u001b[43m \u001b[49m\u001b[43mfirst_letter\u001b[49m\u001b[43m)\u001b[49m\n",
      "\u001b[1;31mTypeError\u001b[0m: %d format: a real number is required, not str"
     ]
    }
   ],
   "source": [
    "# Error: TypeError: %d format: a real number is required, not str\n",
    "my_string: str = '''My name is %s, first letter of my name is \\'%c\\', I am %d years old and my weight id %f Kg.''' % (my_weight, age, name, first_letter)"
   ]
  },
  {
   "cell_type": "markdown",
   "metadata": {},
   "source": [
    "## **str.format()**"
   ]
  },
  {
   "cell_type": "code",
   "execution_count": 22,
   "metadata": {},
   "outputs": [
    {
     "name": "stdout",
     "output_type": "stream",
     "text": [
      "line 1:  My name is 36 and I am John years old.\n",
      "line 2:  My name is John and I am 36 years old.\n"
     ]
    }
   ],
   "source": [
    "# using str.format()\n",
    "my_string: str = 'My name is {} and I am {} years old.'.format(age, name) #order matters\n",
    "print(\"line 1: \",my_string)\n",
    "\n",
    "my_string: str = 'My name is {1} and I am {0} years old.'.format(age, name) #use indexing\n",
    "print(\"line 2: \",my_string)"
   ]
  },
  {
   "cell_type": "markdown",
   "metadata": {},
   "source": [
    "## **F-String**"
   ]
  },
  {
   "cell_type": "code",
   "execution_count": 23,
   "metadata": {},
   "outputs": [
    {
     "name": "stdout",
     "output_type": "stream",
     "text": [
      "line 3:  My name is John and I am 36 years old.\n",
      "line 4:  My \\name is John and I am 36\\n \\t years \\old.\n"
     ]
    }
   ],
   "source": [
    "# using f-strings\n",
    "my_string: str = f'My name is {name} and I am {age} years old.' #Using Named Placeholders (Best for Readability)\n",
    "print(\"line 3: \",my_string)\n",
    "\n",
    "my_string: str = fr'My \\name is {name} and I am {age}\\n \\t years \\old.' #At the same time it could be f and r as well\n",
    "print(\"line 4: \",my_string)"
   ]
  },
  {
   "cell_type": "markdown",
   "metadata": {},
   "source": [
    "**Pool of String Literals in Python**\n",
    "=====================================\n",
    "\n",
    "In Python, a pool of string literals is a mechanism used by the interpreter to manage memory allocation for string objects. When a string literal is encountered in the code, Python checks if an identical string already exists in memory. If it does, the new string is not created, and instead, a reference to the existing string is used.\n",
    "\n",
    "**How it Works**\n",
    "---------------\n",
    "\n",
    "When Python encounters a string literal, it checks the following:\n",
    "\n",
    "1. **`Interning`**: Python checks if the string is already interned, meaning it has been created and stored in memory before. If it is, Python returns a reference to the existing string.\n",
    "2. **`String Literal Pool`**: If the string is not interned, Python checks the string literal pool, which is a cache(Pronunciation: `kash`) of recently created strings. If the string is found in the pool, Python returns a reference to the existing string.\n",
    "3. **`Create New String`**: If the string is not found in the pool or interned, Python creates a new string object and stores it in memory.\n",
    "\n",
    "**Benefits**\n",
    "------------\n",
    "\n",
    "The pool of string literals provides several benefits:\n",
    "\n",
    "* **`Memory Efficiency`**: By reusing existing strings, Python reduces memory allocation and deallocation overhead.\n",
    "* **`Performance`**: Looking up strings in the pool is faster than creating new strings.\n",
    "* **`Internalization`**: The pool helps to internalize strings, making them more efficient to use in comparisons and other operations.\n"
   ]
  },
  {
   "cell_type": "code",
   "execution_count": null,
   "metadata": {},
   "outputs": [
    {
     "name": "stdout",
     "output_type": "stream",
     "text": [
      "1971255346928\n",
      "1971255346928\n"
     ]
    }
   ],
   "source": [
    "a : str = \"hello\"\n",
    "b : str = \"hello\"\n",
    "\n",
    "#Both variable a and b have same id.\n",
    "print(id(a))\n",
    "print(id(b))"
   ]
  },
  {
   "cell_type": "code",
   "execution_count": 25,
   "metadata": {},
   "outputs": [
    {
     "name": "stdout",
     "output_type": "stream",
     "text": [
      "1971255346928\n"
     ]
    }
   ],
   "source": [
    "c: str = a + \"\" # Nothing happen because we are appending a empty string\n",
    "\n",
    "print(id(c))"
   ]
  },
  {
   "cell_type": "code",
   "execution_count": 29,
   "metadata": {},
   "outputs": [
    {
     "name": "stdout",
     "output_type": "stream",
     "text": [
      "1971261148784\n"
     ]
    }
   ],
   "source": [
    "c: str = a + \" \" # A new string object is created in the pool.\n",
    "\n",
    "print(id(c))"
   ]
  },
  {
   "cell_type": "markdown",
   "metadata": {},
   "source": [
    "## **Interning in Python**\n",
    "\n",
    "### **1.  What is Interning?**\n",
    "\n",
    "Interning is a process where Python stores only one copy of certain strings in memory and reuses them whenever the same string is used again. This is done to save memory and speed up comparisons.\n",
    "\n",
    "### **2. Which Strings are Interned?**\n",
    "\n",
    "* **Short strings**: Usually strings that are **`20 characters or fewer`**.\n",
    "* **Identifiers**: Strings that look like variable names (e.g., \"x\", \"my_var\").\n",
    "* **Explicit interning**: You can manually intern a string using the sys.intern() function.\n",
    "\n",
    "### **3. Example of Manual Interning:**"
   ]
  },
  {
   "cell_type": "code",
   "execution_count": null,
   "metadata": {},
   "outputs": [
    {
     "name": "stdout",
     "output_type": "stream",
     "text": [
      "True\n"
     ]
    }
   ],
   "source": [
    "import sys\n",
    "\n",
    "a = sys.intern(\"hello world!\")\n",
    "b = sys.intern(\"hello world!\")\n",
    "\n",
    "print(a is b) # True (manually interned strings are cached)"
   ]
  },
  {
   "cell_type": "markdown",
   "metadata": {},
   "source": [
    "## **String Literal Pool in Python**\n",
    "\n",
    "### **1.  What is the String Literal Pool?**\n",
    "\n",
    "The string literal pool is a cache of string literals that appear in the code. When Python encounters a string literal (e.g., \"hello\"), it checks the pool to see if the string already exists. If it does, Python reuses the existing string instead of creating a new one.\n",
    "\n",
    "### **2. How Does It Work?**\n",
    "\n",
    "* **The pool is used for string literals explicitly written in the code** (e.g., \"hello\", \"world\").\n",
    "* **It does not apply to dynamically created strings** (e.g., \"hello\" + \"world\").\n",
    "\n",
    "### **3. Example of String Literal Pool:**"
   ]
  },
  {
   "cell_type": "code",
   "execution_count": 32,
   "metadata": {},
   "outputs": [
    {
     "name": "stdout",
     "output_type": "stream",
     "text": [
      "True\n"
     ]
    }
   ],
   "source": [
    "a = \"hello\"\n",
    "b = \"hello\"\n",
    "\n",
    "print(a is b) # True (both reference to same string in the field)"
   ]
  },
  {
   "cell_type": "markdown",
   "metadata": {},
   "source": [
    "## **String Interning vs String Pool:**\n",
    "\n",
    "String interning and string pool are two concepts that are often confused with each other, but they are not exactly the same thing.\n",
    "\n",
    "### **String Interning:**\n",
    "\n",
    "String interning is a process where the **`compiler or interpreter`** checks if a string already exists in memory before creating a new one. If the string already exists, the compiler or interpreter returns a reference to the existing string instead of creating a new one. This process is also known as \"string caching\" or \"string sharing\".\n"
   ]
  },
  {
   "cell_type": "markdown",
   "metadata": {},
   "source": [
    "### **String Pool:**\n",
    "\n",
    "A string pool, on the other hand, is a memory space where all the strings in a program are stored. When a string is created, it is added to the string pool. The string pool is used to manage the memory for string objects."
   ]
  },
  {
   "cell_type": "markdown",
   "metadata": {},
   "source": [
    "### **Here are the key differences between string interning and string pool:**\n",
    "\n",
    "1. **Scope:** String interning is a process that can be applied to **`any type of object`**, **`not just strings`**. String pool, on the other hand, is a memory space specifically designed for strings.\n",
    "\n",
    "2. **Purpose:** The purpose of string interning is to optimize memory usage by avoiding duplicate objects. The purpose of a string pool is to manage the memory for string objects.\n",
    "\n",
    "3. **Implementation:** String interning can be implemented using a hash table or a dictionary, where the keys are the strings and the values are the corresponding string objects. A string pool, on the other hand, is typically implemented as a contiguous block of memory where all the strings are stored.\n",
    "\n",
    "4. **Behavior:** String interning can be enabled or disabled depending on the language or framework. A string pool, on the other hand, is typically always enabled for strings.\n",
    "\n",
    "<br>\n",
    "\n",
    "### **Process = Interning**\n",
    "### **Memory Space = Pool of String Litrels**"
   ]
  },
  {
   "cell_type": "markdown",
   "metadata": {},
   "source": [
    "## **When Are Strings Not Interned or Pooled?**\n",
    "\n",
    "1.  **Long Strings**: Strings longer than **`20 characters`** are usually not interned automatically."
   ]
  },
  {
   "cell_type": "code",
   "execution_count": null,
   "metadata": {},
   "outputs": [
    {
     "name": "stdout",
     "output_type": "stream",
     "text": [
      "False\n",
      "id(a) = 1971265719552\n",
      "id(b) = 1971291360752\n"
     ]
    }
   ],
   "source": [
    "a = \"this is a very long string\"\n",
    "b = \"this is a very long string\"\n",
    "print(a is b) # False (not interned)\n",
    "print(\"id(a) =\", id(a))\n",
    "print(\"id(b) =\", id(b))"
   ]
  },
  {
   "cell_type": "code",
   "execution_count": null,
   "metadata": {},
   "outputs": [
    {
     "name": "stdout",
     "output_type": "stream",
     "text": [
      "True\n",
      "id(a) = 1971291188288\n",
      "id(b) = 1971291188288\n"
     ]
    }
   ],
   "source": [
    "import sys\n",
    "\n",
    "a = sys.intern(\"this is very long string\")\n",
    "b = sys.intern(\"this is very long string\")\n",
    "\n",
    "print(a is b) # True (manually interned)\n",
    "print(\"id(a) =\", id(a))\n",
    "print(\"id(b) =\", id(b))"
   ]
  },
  {
   "cell_type": "markdown",
   "metadata": {},
   "source": [
    "2. **Dynamically Created Strings**: Strings created at runtime (e.g., concatenation) are not interned or pooled."
   ]
  },
  {
   "cell_type": "code",
   "execution_count": 35,
   "metadata": {},
   "outputs": [
    {
     "name": "stdout",
     "output_type": "stream",
     "text": [
      "c is d =  False\n",
      "helloworld id(c) = 1971266704560\n",
      "helloworld id(d) = 1971266029872\n"
     ]
    }
   ],
   "source": [
    "a = \"hello\"\n",
    "b = \"world\"\n",
    "c = a + b\n",
    "d = \"helloworld\"\n",
    "\n",
    "print(\"c is d = \", c is d) # False (not interned or pooled)\n",
    "print(c, \"id(c) =\", id(c))\n",
    "print(d, \"id(d) =\", id(d))"
   ]
  },
  {
   "cell_type": "code",
   "execution_count": 36,
   "metadata": {},
   "outputs": [
    {
     "name": "stdout",
     "output_type": "stream",
     "text": [
      "c is c1 =  False\n",
      "helloworld id(c1) 1971266706096\n",
      "helloworld id(c) 1971266704560\n",
      "is contant same =  True\n"
     ]
    }
   ],
   "source": [
    "c1 = a + b\n",
    "print(\"c is c1 = \", c is c1)\n",
    "\n",
    "print(c1, \"id(c1)\", id(c1))\n",
    "print(c, \"id(c)\", id(c))\n",
    "\n",
    "print(\"is contant same = \", c1 == c)"
   ]
  },
  {
   "cell_type": "code",
   "execution_count": 37,
   "metadata": {},
   "outputs": [
    {
     "data": {
      "text/plain": [
       "['capitalize',\n",
       " 'casefold',\n",
       " 'center',\n",
       " 'count',\n",
       " 'encode',\n",
       " 'endswith',\n",
       " 'expandtabs',\n",
       " 'find',\n",
       " 'format',\n",
       " 'format_map',\n",
       " 'index',\n",
       " 'isalnum',\n",
       " 'isalpha',\n",
       " 'isascii',\n",
       " 'isdecimal',\n",
       " 'isdigit',\n",
       " 'isidentifier',\n",
       " 'islower',\n",
       " 'isnumeric',\n",
       " 'isprintable',\n",
       " 'isspace',\n",
       " 'istitle',\n",
       " 'isupper',\n",
       " 'join',\n",
       " 'ljust',\n",
       " 'lower',\n",
       " 'lstrip',\n",
       " 'maketrans',\n",
       " 'partition',\n",
       " 'removeprefix',\n",
       " 'removesuffix',\n",
       " 'replace',\n",
       " 'rfind',\n",
       " 'rindex',\n",
       " 'rjust',\n",
       " 'rpartition',\n",
       " 'rsplit',\n",
       " 'rstrip',\n",
       " 'split',\n",
       " 'splitlines',\n",
       " 'startswith',\n",
       " 'strip',\n",
       " 'swapcase',\n",
       " 'title',\n",
       " 'translate',\n",
       " 'upper',\n",
       " 'zfill']"
      ]
     },
     "execution_count": 37,
     "metadata": {},
     "output_type": "execute_result"
    }
   ],
   "source": [
    "# prompt: print list of str functions using dir(), dont show function starting with\"__\"\n",
    "\n",
    "# Get the list of string methods\n",
    "string_methods: str = dir(str)\n",
    "\n",
    "# Filter out methods starting with \"__\"\n",
    "filtered_methods: str = [method for method in string_methods if not method.startswith(\"__\")]\n",
    "\n",
    "# Print the filtered list\n",
    "filtered_methods"
   ]
  },
  {
   "cell_type": "markdown",
   "metadata": {},
   "source": [
    "# **Comprehensive Guide to Type Casting in Python** 🚀\n",
    "\n",
    "## **What is Type Casting?**\n",
    "\n",
    "Type casting (or type conversion) is the process of converting one data type into another. Python supports two types of type casting:\n",
    "\n",
    "- **`Implicit`** Type Casting – Done `automatically` by Python.\n",
    "- **`Explicit`** Type Casting – Done `manually using built-in functions`."
   ]
  },
  {
   "cell_type": "markdown",
   "metadata": {},
   "source": [
    "## 1️⃣ **Implicit Type Casting (Automatic Conversion)**\n",
    "\n",
    "Python automatically converts one data type to another `when no data loss occurs.`\n",
    "\n",
    "### **Example 1: Converting int to float (`Safe Conversion`)**"
   ]
  },
  {
   "cell_type": "code",
   "execution_count": 40,
   "metadata": {},
   "outputs": [
    {
     "name": "stdout",
     "output_type": "stream",
     "text": [
      "15.5 <class 'float'>\n"
     ]
    }
   ],
   "source": [
    "num_int: int = 10\n",
    "num_float = num_int + 5.5  # int + float = float. skipped type hint to see what data type is assigned at runtime\n",
    "print(num_float, type(num_float))"
   ]
  },
  {
   "cell_type": "markdown",
   "metadata": {},
   "source": [
    "### **Example 2: Converting int to complex**\n",
    "\n",
    "✅ Python automatically promotes int to complex, as complex numbers `cannot be downgraded`."
   ]
  },
  {
   "cell_type": "code",
   "execution_count": 42,
   "metadata": {},
   "outputs": [
    {
     "name": "stdout",
     "output_type": "stream",
     "text": [
      "(7+3j) <class 'complex'>\n",
      "(7+3j) <class 'complex'>\n"
     ]
    }
   ],
   "source": [
    "num_int : int = 7\n",
    "num_complex : complex = num_int + 3j # int + complex = complex\n",
    "print(num_complex, type(num_complex))\n",
    "\n",
    "# num_int automatically promotes int to complex type\n",
    "\n",
    "num_int = num_complex\n",
    "print(num_int, type(num_int))"
   ]
  },
  {
   "cell_type": "markdown",
   "metadata": {},
   "source": [
    "### **Example 3: No Implicit Conversion Between str and int**\n",
    "\n",
    "❌ Error: Python does NOT implicitly convert str to int. We must convert explicitly.\n"
   ]
  },
  {
   "cell_type": "code",
   "execution_count": 43,
   "metadata": {},
   "outputs": [
    {
     "ename": "TypeError",
     "evalue": "can only concatenate str (not \"int\") to str",
     "output_type": "error",
     "traceback": [
      "\u001b[1;31m---------------------------------------------------------------------------\u001b[0m",
      "\u001b[1;31mTypeError\u001b[0m                                 Traceback (most recent call last)",
      "Cell \u001b[1;32mIn[43], line 4\u001b[0m\n\u001b[0;32m      1\u001b[0m num_str \u001b[38;5;241m=\u001b[39m \u001b[38;5;124m\"\u001b[39m\u001b[38;5;124m100\u001b[39m\u001b[38;5;124m\"\u001b[39m\n\u001b[0;32m      2\u001b[0m num_int \u001b[38;5;241m=\u001b[39m \u001b[38;5;241m5\u001b[39m\n\u001b[1;32m----> 4\u001b[0m \u001b[38;5;28mprint\u001b[39m(\u001b[43mnum_str\u001b[49m\u001b[43m \u001b[49m\u001b[38;5;241;43m+\u001b[39;49m\u001b[43m \u001b[49m\u001b[43mnum_int\u001b[49m)  \u001b[38;5;66;03m# ❌ TypeError\u001b[39;00m\n",
      "\u001b[1;31mTypeError\u001b[0m: can only concatenate str (not \"int\") to str"
     ]
    }
   ],
   "source": [
    "num_str = \"100\"\n",
    "num_int = 5\n",
    "\n",
    "print(num_str + num_int)  # ❌ TypeError"
   ]
  },
  {
   "cell_type": "code",
   "execution_count": 45,
   "metadata": {},
   "outputs": [
    {
     "name": "stdout",
     "output_type": "stream",
     "text": [
      "Arithmetic Operation =  105\n",
      "String Concatenation =  1005\n"
     ]
    }
   ],
   "source": [
    "print(\"Arithmetic Operation = \",int(num_str) + num_int) # ✅  casting str to int, arthmitic operation perfomed\n",
    "print(\"String Concatenation = \",num_str + str(num_int)) # ✅  casting int to str, string concatenation performed"
   ]
  },
  {
   "cell_type": "markdown",
   "metadata": {},
   "source": [
    "## **2️⃣ Explicit Type Casting (Manual Conversion)**\n",
    "\n",
    "Python provides several built-in functions for type conversion:\n",
    "\n",
    "<br>\n",
    "\n",
    "| function   | type           |\n",
    "|------------|----------------|\n",
    "| int(x)     | Integer        |\n",
    "| float(x)   | Float          |\n",
    "| complex(x) | Complex number |\n",
    "| str(x)     | String         |\n",
    "| bool(x)    | Boolean        |\n",
    "| list(x)    | List           |\n",
    "| tuple(x)   | Tuple          |\n",
    "| set(x)     | Set            |\n",
    "| dict(x)    | Dictionary     |"
   ]
  },
  {
   "cell_type": "markdown",
   "metadata": {},
   "source": [
    "### **Integer Conversion (int())**\n",
    "\n",
    "Used to convert float, string (`if valid number`), and boolean values to integers.\n",
    "\n",
    "✅ Example 1: Float → Integer (`Removes Decimal Part`)\n",
    "\n",
    "\n",
    "🔹 Note: int() `truncates` (removes) the decimal part, it does not round."
   ]
  },
  {
   "cell_type": "code",
   "execution_count": 47,
   "metadata": {},
   "outputs": [
    {
     "name": "stdout",
     "output_type": "stream",
     "text": [
      "9 <class 'int'>\n",
      "int(b) =  1\n"
     ]
    }
   ],
   "source": [
    "num_float: float = 9.8\n",
    "num_int = int(num_float) # skipped type hint to see what data type is assigned at runtime\n",
    "print(num_int, type(num_int))\n",
    "\n",
    "# Bool to int\n",
    "b: bool = True\n",
    "print(\"int(b) = \", int(b))"
   ]
  },
  {
   "cell_type": "markdown",
   "metadata": {},
   "source": [
    "✅ Example 2: String → Integer (Only Valid Numbers)\n",
    "\n",
    "❌ Invalid Case: \"123abc\" cannot be converted to int(). It will raise a ValueError."
   ]
  },
  {
   "cell_type": "code",
   "execution_count": 49,
   "metadata": {},
   "outputs": [
    {
     "name": "stdout",
     "output_type": "stream",
     "text": [
      "123 <class 'int'>\n"
     ]
    }
   ],
   "source": [
    "num_str:str =\"123\"\n",
    "# num_str = \"123abc\" #uncomment to see error\n",
    "num_int = int(num_str) # skipped type hint to see what data type is assigned at runtime\n",
    "print(num_int, type(num_int))"
   ]
  },
  {
   "cell_type": "markdown",
   "metadata": {},
   "source": [
    "✅ Example 3: Boolean → Integer"
   ]
  },
  {
   "cell_type": "code",
   "execution_count": 52,
   "metadata": {},
   "outputs": [
    {
     "name": "stdout",
     "output_type": "stream",
     "text": [
      "1\n",
      "0\n"
     ]
    }
   ],
   "source": [
    "print(int(True))   # Output: 1\n",
    "print(int(False))  # Output: 0"
   ]
  },
  {
   "cell_type": "markdown",
   "metadata": {},
   "source": [
    "## **Float Conversion (float())**\n",
    "\n",
    "Converts integers, strings, and booleans to floating-point numbers.\n",
    "\n",
    "✅ Example 1: Integer → Float"
   ]
  },
  {
   "cell_type": "code",
   "execution_count": 55,
   "metadata": {},
   "outputs": [
    {
     "name": "stdout",
     "output_type": "stream",
     "text": [
      "5.0 <class 'float'>\n"
     ]
    }
   ],
   "source": [
    "num_int: int = 5\n",
    "num_float = float(num_int) # skipped type hint to see what data type is assigned at runtime\n",
    "print(num_float, type(num_float))"
   ]
  },
  {
   "cell_type": "markdown",
   "metadata": {},
   "source": [
    "✅ Example 2: String → Float"
   ]
  },
  {
   "cell_type": "code",
   "execution_count": 58,
   "metadata": {},
   "outputs": [
    {
     "name": "stdout",
     "output_type": "stream",
     "text": [
      "3.14 <class 'float'>\n"
     ]
    }
   ],
   "source": [
    "num_str: str = \"3.14\"\n",
    "num_float = float(num_str) # skipped type hint to see what data type is assigned at runtime\n",
    "print(num_float, type(num_float))"
   ]
  },
  {
   "cell_type": "markdown",
   "metadata": {},
   "source": [
    "## **String Conversion (str())**\n",
    "\n",
    "Converts numbers, lists, tuples, dictionaries, and booleans to strings.\n",
    "\n",
    "✅ Example 1: Number → String"
   ]
  },
  {
   "cell_type": "code",
   "execution_count": 61,
   "metadata": {},
   "outputs": [
    {
     "name": "stdout",
     "output_type": "stream",
     "text": [
      "100 <class 'str'>\n"
     ]
    }
   ],
   "source": [
    "num: int = 100\n",
    "num_str = str(num) # skipped type hint to see what data type is assigned at runtime\n",
    "print(num_str, type(num_str))"
   ]
  },
  {
   "cell_type": "markdown",
   "metadata": {},
   "source": [
    "✅ Example 2: Boolean → String"
   ]
  },
  {
   "cell_type": "code",
   "execution_count": 62,
   "metadata": {},
   "outputs": [
    {
     "name": "stdout",
     "output_type": "stream",
     "text": [
      "True\n",
      "False\n"
     ]
    }
   ],
   "source": [
    "print(str(True))   # Output: \"True\"\n",
    "print(str(False))  # Output: \"False\""
   ]
  },
  {
   "cell_type": "markdown",
   "metadata": {},
   "source": [
    "## **Boolean Conversion (bool())**\n",
    "\n",
    "Converts other data types to boolean (True or False).\n",
    "\n",
    "✅ Example:"
   ]
  },
  {
   "cell_type": "code",
   "execution_count": 63,
   "metadata": {},
   "outputs": [
    {
     "name": "stdout",
     "output_type": "stream",
     "text": [
      "bool(1)       =  True\n",
      "bool(0)       =  False\n",
      "bool(-10)     =  True\n",
      "bool(\"\")      =  False\n",
      "bool(\"Hello\") =  True\n",
      "bool([])      =  False\n",
      "bool([1, 2])  =  True\n"
     ]
    }
   ],
   "source": [
    "print(\"bool(1)       = \", bool(1))       # True\n",
    "print(\"bool(0)       = \", bool(0))       # False\n",
    "print(\"bool(-10)     = \", bool(-10))     # True (Non-zero numbers are True)\n",
    "print('bool(\"\")      = ', bool(\"\"))      # False (Empty string)\n",
    "print('bool(\"Hello\") = ', bool(\"Hello\")) # True (Non-empty string)\n",
    "print(\"bool([])      = \", bool([]))      # False (Empty list)\n",
    "print(\"bool([1, 2])  = \", bool([1, 2]))  # True (Non-empty list)"
   ]
  },
  {
   "cell_type": "markdown",
   "metadata": {},
   "source": [
    "## **List, Tuple & Set Conversions**\n",
    "\n",
    "Python allows converting between lists, tuples, and sets.\n",
    "\n",
    "✅ Example 1: Tuple → List"
   ]
  },
  {
   "cell_type": "code",
   "execution_count": 68,
   "metadata": {},
   "outputs": [
    {
     "name": "stdout",
     "output_type": "stream",
     "text": [
      "[1, 2.7, 3, 'OB'] <class 'list'>\n"
     ]
    }
   ],
   "source": [
    "tup: tuple = (1, 2.7, 3, 'OB')\n",
    "lst = list(tup) # skipped type hint to see what data type is assigned at runtime\n",
    "print(lst, type(lst))"
   ]
  },
  {
   "cell_type": "markdown",
   "metadata": {},
   "source": [
    "✅ Example 2: List → Set (Removes Duplicates)"
   ]
  },
  {
   "cell_type": "code",
   "execution_count": 71,
   "metadata": {},
   "outputs": [
    {
     "name": "stdout",
     "output_type": "stream",
     "text": [
      "{1, 2, 3, 4, 5, 'Agentic AI'} <class 'set'>\n"
     ]
    }
   ],
   "source": [
    "lst: list = [1, 2, 2, 3, 4, 4, 5, \"Agentic AI\"]\n",
    "s = set(lst)      # skipped type hint to see what data type is assigned at runtime\n",
    "print(s, type(s))"
   ]
  },
  {
   "cell_type": "markdown",
   "metadata": {},
   "source": [
    "## **Dictionary Conversion (dict())**\n",
    "\n",
    "You can convert lists of key-value pairs into a dictionary.\n",
    "\n",
    "✅ Example: List of Tuples → Dictionary"
   ]
  },
  {
   "cell_type": "code",
   "execution_count": 74,
   "metadata": {},
   "outputs": [
    {
     "name": "stdout",
     "output_type": "stream",
     "text": [
      "{'name': 'Alice', 'age': 25} <class 'dict'>\n"
     ]
    }
   ],
   "source": [
    "lst: list = [(\"name\", \"Alice\"), (\"age\", 25)]\n",
    "d = dict(lst)       # skipped type hint to see what data type is assigned at runtime\n",
    "print(d, type(d))"
   ]
  },
  {
   "cell_type": "markdown",
   "metadata": {},
   "source": [
    "## **Complex Number Conversion (complex())**\n",
    "\n",
    "Used to convert numbers into complex numbers (a + bj).\n",
    "\n",
    "✅ Example:"
   ]
  },
  {
   "cell_type": "code",
   "execution_count": 77,
   "metadata": {},
   "outputs": [
    {
     "name": "stdout",
     "output_type": "stream",
     "text": [
      "(5+0j) <class 'complex'>\n"
     ]
    }
   ],
   "source": [
    "num: int = 5\n",
    "comp = complex(num)   # skipped type hint to see what data type is assigned at runtime\n",
    "print(comp, type(comp))  # Output: (5+0j) <class 'complex'>"
   ]
  },
  {
   "cell_type": "code",
   "execution_count": 80,
   "metadata": {},
   "outputs": [
    {
     "data": {
      "text/plain": [
       "'(5+0j)'"
      ]
     },
     "execution_count": 80,
     "metadata": {},
     "output_type": "execute_result"
    }
   ],
   "source": [
    "num = str(comp)     # skipped type hint to see what data type is assigned at runtime\n",
    "num"
   ]
  },
  {
   "cell_type": "code",
   "execution_count": 81,
   "metadata": {},
   "outputs": [
    {
     "ename": "TypeError",
     "evalue": "int() argument must be a string, a bytes-like object or a real number, not 'complex'",
     "output_type": "error",
     "traceback": [
      "\u001b[1;31m---------------------------------------------------------------------------\u001b[0m",
      "\u001b[1;31mTypeError\u001b[0m                                 Traceback (most recent call last)",
      "Cell \u001b[1;32mIn[81], line 2\u001b[0m\n\u001b[0;32m      1\u001b[0m \u001b[38;5;66;03m# TypeError: int() argument must be a string, a bytes-like object or a real number, not 'complex'\u001b[39;00m\n\u001b[1;32m----> 2\u001b[0m num \u001b[38;5;241m=\u001b[39m \u001b[38;5;28;43mint\u001b[39;49m\u001b[43m(\u001b[49m\u001b[43mcomp\u001b[49m\u001b[43m)\u001b[49m\n\u001b[0;32m      3\u001b[0m num\n",
      "\u001b[1;31mTypeError\u001b[0m: int() argument must be a string, a bytes-like object or a real number, not 'complex'"
     ]
    }
   ],
   "source": [
    "# TypeError: int() argument must be a string, a bytes-like object or a real number, not 'complex'\n",
    "num = int(comp)\n",
    "num"
   ]
  },
  {
   "cell_type": "markdown",
   "metadata": {},
   "source": [
    "## **Conclusion**\n",
    "\n",
    "✅ Implicit Conversion (Automatic, No Data Loss)\n",
    "\n",
    "✅ Explicit Conversion (int(), float(), str(), etc.) for manual control\n",
    "\n",
    "✅ Be careful when converting strings (avoid invalid format errors)"
   ]
  }
 ],
 "metadata": {
  "kernelspec": {
   "display_name": "Python 3",
   "language": "python",
   "name": "python3"
  },
  "language_info": {
   "codemirror_mode": {
    "name": "ipython",
    "version": 3
   },
   "file_extension": ".py",
   "mimetype": "text/x-python",
   "name": "python",
   "nbconvert_exporter": "python",
   "pygments_lexer": "ipython3",
   "version": "3.13.2"
  }
 },
 "nbformat": 4,
 "nbformat_minor": 2
}
