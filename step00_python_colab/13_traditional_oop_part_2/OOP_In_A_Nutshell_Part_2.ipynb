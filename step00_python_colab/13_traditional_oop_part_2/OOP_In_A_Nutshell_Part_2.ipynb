{
 "cells": [
  {
   "cell_type": "markdown",
   "id": "7ea8458a",
   "metadata": {},
   "source": [
    "## **Class Variable vs Instance Variable**\n",
    "\n",
    "### **Key Differences**"
   ]
  },
  {
   "cell_type": "markdown",
   "id": "c870d791",
   "metadata": {},
   "source": [
    "| Feature      | Class Variable                                 | Instance Variable                                   |\n",
    "|--------------|------------------------------------------------|-----------------------------------------------------|\n",
    "| Scope\t       | Shared by all instances of the class           | Unique to each instance of the class                |\n",
    "| Creation     | Created when the class is defined              | Created when an object is instantiated              |\n",
    "| Access       | Accessed using the class name or instance name | Accessed through an instance of the class           |\n",
    "| Modification | Modified using the class name                  | Modified through a specific instance                |\n",
    "| Use Cases    | Maintain values common to all instances, track statistics | Store object-specific data               |"
   ]
  },
  {
   "cell_type": "markdown",
   "id": "d166fc46",
   "metadata": {},
   "source": [
    "Understanding the distinction between class and instance variables is crucial for effective object-oriented programming in Python. Class variables provide a way to share data and behavior across all instances of a class, while instance variables allow each object to have its own unique state.\n"
   ]
  },
  {
   "cell_type": "markdown",
   "id": "94d7f4dd",
   "metadata": {},
   "source": [
    "## **Composition and Aggregation**\n",
    "\n",
    "Composition and Aggregation are not design patterns — they are object-oriented design principles — how objects are built or connected.\n",
    "\n",
    "### **✅ Composition (Strong Relationship — \"part of\")**\n",
    "\n",
    "* Think of a car and its engine.\n",
    "* A car has-an engine.\n",
    "* If the car is destroyed, the engine is gone too.\n",
    "* The engine can’t exist on its own — it’s part of the car.\n",
    "* In Python, this means one class creates and owns objects of another class."
   ]
  },
  {
   "cell_type": "code",
   "execution_count": 13,
   "id": "1ed7b505",
   "metadata": {},
   "outputs": [
    {
     "name": "stdout",
     "output_type": "stream",
     "text": [
      "Engine starts\n"
     ]
    }
   ],
   "source": [
    "class Engine:\n",
    "    def start(self):\n",
    "        print('Engine starts')\n",
    "\n",
    "class Car:\n",
    "    def __init__(self):\n",
    "        self.engine = Engine() # Car owns the Engine\n",
    "    \n",
    "    def drive(self):\n",
    "        self.engine.start()\n",
    "\n",
    "my_car = Car()\n",
    "my_car.drive()"
   ]
  },
  {
   "cell_type": "markdown",
   "id": "c530885c",
   "metadata": {},
   "source": [
    "If my_car is deleted, the engine is also gone — they are tightly connected.\n",
    "\n",
    "### **✅ Aggregation (Weak Relationship — \"connected to\")**\n",
    "\n",
    "* Think of a school and its students.\n",
    "* A school has students, but students can exist without the school.\n",
    "* If the school closes, the students still exist elsewhere.\n",
    "* In Python, this means one class is linked to another, but doesn’t own it."
   ]
  },
  {
   "cell_type": "code",
   "execution_count": 14,
   "id": "406bf485",
   "metadata": {},
   "outputs": [
    {
     "name": "stdout",
     "output_type": "stream",
     "text": [
      "School =  <__main__.School object at 0x000002D39465C2F0>\n"
     ]
    }
   ],
   "source": [
    "class Student:\n",
    "    def __init__(self, name):\n",
    "        self.name = name\n",
    "\n",
    "class School:\n",
    "    def __init__(self, students):\n",
    "        self.students = students # School doesn't own the students but link to it\n",
    "\n",
    "student1 = Student('Alice')\n",
    "student2 = Student('Bob')\n",
    "my_school = School([student1, student2])\n",
    "\n",
    "print('School = ', my_school)"
   ]
  },
  {
   "cell_type": "code",
   "execution_count": 15,
   "id": "5b5dcd71",
   "metadata": {},
   "outputs": [],
   "source": [
    "del my_school"
   ]
  },
  {
   "cell_type": "code",
   "execution_count": 16,
   "id": "fcc66ba4",
   "metadata": {},
   "outputs": [
    {
     "name": "stdout",
     "output_type": "stream",
     "text": [
      "Student1 =  <__main__.Student object at 0x000002D39465C590>\n",
      "Student2 =  <__main__.Student object at 0x000002D39479C2D0>\n"
     ]
    }
   ],
   "source": [
    "print(\"Student1 = \", student1)\n",
    "print(\"Student2 = \", student2)"
   ]
  },
  {
   "cell_type": "markdown",
   "id": "d84465f8",
   "metadata": {},
   "source": [
    "Here, even if my_school is deleted, student1 and student2 still exist — they’re independent."
   ]
  },
  {
   "cell_type": "markdown",
   "id": "59c8d339",
   "metadata": {},
   "source": [
    "## **Method Resolution Order (MRO) and Diamond Inheritance**\n",
    "\n",
    "**Method Resolution Order (MRO)** is the order in which Python searches for methods and attributes in a class hierarchy, especially in cases of multiple inheritance. It ensures that the correct method or attribute is found and called `when there are overlapping names in the inheritance tree.`\n",
    "\n",
    "### **Example: Understanding MRO in Python**\n",
    "\n",
    "Let’s create a class hierarchy with multiple inheritance to demonstrate how MRO works."
   ]
  },
  {
   "cell_type": "code",
   "execution_count": 17,
   "id": "31e13e44",
   "metadata": {},
   "outputs": [
    {
     "name": "stdout",
     "output_type": "stream",
     "text": [
      "[<class '__main__.D'>, <class '__main__.B'>, <class '__main__.C'>, <class '__main__.A'>, <class 'object'>]\n",
      "Hello from B\n",
      "The MRO for class D can be visualized as a linear sequence: D → B → C → A → object\n"
     ]
    }
   ],
   "source": [
    "# Define the classes\n",
    "\n",
    "class A:\n",
    "    def greet(self):\n",
    "        return 'Hello from A'\n",
    "\n",
    "class B(A):\n",
    "    def greet(self):\n",
    "        return 'Hello from B'\n",
    "\n",
    "class C(A):\n",
    "    def greet(self):\n",
    "        return 'Hello from C'\n",
    "\n",
    "class D(B, C):  # Diamond Inheritance\n",
    "    pass\n",
    "\n",
    "d = D()\n",
    "print(D.mro())\n",
    "\n",
    "# Call the greet method\n",
    "print(d.greet())\n",
    "print(\"The MRO for class D can be visualized as a linear sequence: D → B → C → A → object\")"
   ]
  },
  {
   "cell_type": "markdown",
   "id": "0c6d9ab1",
   "metadata": {},
   "source": [
    "### **🎯 KEY POINT:**\n",
    "\n",
    "**When there are overlapping names in the inheritance tree**means **more than one parent class** defines the **same method or attribute name.**\n",
    "\n",
    "Python then uses **MRO** to figure out **which one to call** — avoiding confusion and errors."
   ]
  },
  {
   "cell_type": "markdown",
   "id": "9fc48424",
   "metadata": {},
   "source": [
    "## **Decorators in Classes**\n",
    "\n",
    "Decorators in Python are a powerful feature that allows you to modify or extend the behavior of functions or methods. When applied to classes, decorators can enhance or alter the behavior of the class or its methods. Additionally, Python provides specific property decorators (@property, @setter, and @deleter) to manage attribute access in a controlled way."
   ]
  },
  {
   "cell_type": "markdown",
   "id": "93967b47",
   "metadata": {},
   "source": [
    "### **Function Decorators**"
   ]
  },
  {
   "cell_type": "code",
   "execution_count": 18,
   "id": "0978c849",
   "metadata": {},
   "outputs": [
    {
     "name": "stdout",
     "output_type": "stream",
     "text": [
      "★★★★★\n",
      "Hello!\n",
      "★★★★★\n"
     ]
    }
   ],
   "source": [
    "def star_decorator(func): # say_hello() will passed as a parameter\n",
    "    def wrapper():\n",
    "        print(\"★\" * 5)\n",
    "        func()\n",
    "        print(\"★\" * 5)\n",
    "    return wrapper\n",
    "\n",
    "@star_decorator\n",
    "def say_hello():\n",
    "    print('Hello!')\n",
    "\n",
    "say_hello()"
   ]
  },
  {
   "cell_type": "markdown",
   "id": "555cdfc6",
   "metadata": {},
   "source": [
    "### **Class Decorators**"
   ]
  },
  {
   "cell_type": "code",
   "execution_count": 19,
   "id": "740e1c52",
   "metadata": {},
   "outputs": [],
   "source": [
    "class ObjectCounter:\n",
    "    def __init__ (self, cls):\n",
    "        print(\"Decorator applied: \", cls)\n",
    "        self.cls = cls\n",
    "        self.count = 0\n",
    "    \n",
    "    def __call__(self, *args, **kwds):\n",
    "        self.count += 1\n",
    "        print(f\"{self.cls.__name__} object created: {self.count} times\")\n",
    "        return self.cls(*args, **kwds)"
   ]
  },
  {
   "cell_type": "code",
   "execution_count": 20,
   "id": "e0b06404",
   "metadata": {},
   "outputs": [
    {
     "name": "stdout",
     "output_type": "stream",
     "text": [
      "Decorator applied:  <class '__main__.Animal'>\n"
     ]
    }
   ],
   "source": [
    "@ObjectCounter\n",
    "class Animal:\n",
    "    pass"
   ]
  },
  {
   "cell_type": "code",
   "execution_count": 21,
   "id": "d36c349c",
   "metadata": {},
   "outputs": [
    {
     "name": "stdout",
     "output_type": "stream",
     "text": [
      "Animal object created: 1 times\n",
      "Animal object created: 2 times\n",
      "Animal object created: 3 times\n"
     ]
    }
   ],
   "source": [
    "# Create instances\n",
    "a = Animal()\n",
    "b = Animal()\n",
    "c = Animal()"
   ]
  },
  {
   "cell_type": "code",
   "execution_count": 22,
   "id": "bda490f9",
   "metadata": {},
   "outputs": [
    {
     "name": "stdout",
     "output_type": "stream",
     "text": [
      "Decorator applied:  <class '__main__.Car'>\n"
     ]
    }
   ],
   "source": [
    "@ObjectCounter\n",
    "class Car:\n",
    "  pass"
   ]
  },
  {
   "cell_type": "code",
   "execution_count": 23,
   "id": "b431da16",
   "metadata": {},
   "outputs": [
    {
     "name": "stdout",
     "output_type": "stream",
     "text": [
      "Car object created: 1 times\n",
      "Car object created: 2 times\n"
     ]
    }
   ],
   "source": [
    "car1 = Car()\n",
    "car2 = Car()"
   ]
  },
  {
   "cell_type": "markdown",
   "id": "1a705e8c",
   "metadata": {},
   "source": [
    "### **Property Decorators**\n",
    "\n",
    "It allows you to access the attribute like a property rather than a method. You can also define setter and deleter methods using the @setter and @deleter decorators, respectively.\n",
    "\n",
    "property decorators like `@property`, `@setter`, and `@deleter` are built-in in Python.\n",
    "\n",
    "#### **1️⃣ Basic Getter (Read-Only Property)**"
   ]
  },
  {
   "cell_type": "code",
   "execution_count": 25,
   "id": "35ee312f",
   "metadata": {},
   "outputs": [
    {
     "name": "stdout",
     "output_type": "stream",
     "text": [
      "person.name :  Alice\n"
     ]
    }
   ],
   "source": [
    "class Person:\n",
    "    def __init__ (self, name):\n",
    "        self._name = name # Internal variable (convention: `_name`)\n",
    "    \n",
    "    @property\n",
    "    def name(self):\n",
    "        \"\"\"Getter for name\"\"\"\n",
    "        return self._name\n",
    "\n",
    "# Usage\n",
    "person = Person('Alice')\n",
    "print(\"person.name : \",person.name) # Like an attribute (no parentheses!)"
   ]
  },
  {
   "cell_type": "markdown",
   "id": "09693008",
   "metadata": {},
   "source": [
    "#### **2️⃣ Setter (Change a Value with Validation)**"
   ]
  },
  {
   "cell_type": "code",
   "execution_count": 27,
   "id": "553b8a42",
   "metadata": {},
   "outputs": [
    {
     "name": "stdout",
     "output_type": "stream",
     "text": [
      "Before - person.name : Alice\n",
      "After - person.name : Bob\n"
     ]
    }
   ],
   "source": [
    "class Person:\n",
    "    def __init__(self, name):\n",
    "        self._name = name\n",
    "    \n",
    "    @property\n",
    "    def name(self):\n",
    "        return self._name\n",
    "    \n",
    "    @name.setter\n",
    "    def name(self, new_name):\n",
    "        self._name = new_name\n",
    "\n",
    "# Usage\n",
    "person = Person('Alice')\n",
    "print(f'Before - person.name : {person.name}')\n",
    "person.name = 'Bob'\n",
    "print(f'After - person.name : {person.name}')"
   ]
  },
  {
   "cell_type": "markdown",
   "id": "2c5fd2b3",
   "metadata": {},
   "source": [
    "##### **3️⃣ Deleter (Remove an Attribute)**"
   ]
  },
  {
   "cell_type": "code",
   "execution_count": 29,
   "id": "efd09237",
   "metadata": {},
   "outputs": [
    {
     "name": "stdout",
     "output_type": "stream",
     "text": [
      "Dave\n",
      "Deleting name Dave\n"
     ]
    }
   ],
   "source": [
    "class Person:\n",
    "    def __init__ (self, name):\n",
    "        self._name = name\n",
    "    \n",
    "    @property\n",
    "    def name(self):\n",
    "        return self._name\n",
    "    \n",
    "    @name.deleter\n",
    "    def name(self):\n",
    "        print(f\"Deleting name {self._name}\")\n",
    "        del self._name\n",
    "\n",
    "# Usage\n",
    "person = Person('Dave')\n",
    "print(person.name) # Output: Dave\n",
    "\n",
    "del person.name # Output: Runs deleter"
   ]
  },
  {
   "cell_type": "code",
   "execution_count": 32,
   "id": "0f3dade9",
   "metadata": {},
   "outputs": [
    {
     "ename": "AttributeError",
     "evalue": "'Person' object has no attribute '_name'",
     "output_type": "error",
     "traceback": [
      "\u001b[1;31m---------------------------------------------------------------------------\u001b[0m",
      "\u001b[1;31mAttributeError\u001b[0m                            Traceback (most recent call last)",
      "Cell \u001b[1;32mIn[32], line 1\u001b[0m\n\u001b[1;32m----> 1\u001b[0m \u001b[38;5;28mprint\u001b[39m(\u001b[43mperson\u001b[49m\u001b[38;5;241;43m.\u001b[39;49m\u001b[43mname\u001b[49m)  \u001b[38;5;66;03m# ❌ Error! (AttributeError: 'Person' has no attribute '_name') # uncomment to see error\u001b[39;00m\n",
      "Cell \u001b[1;32mIn[29], line 7\u001b[0m, in \u001b[0;36mPerson.name\u001b[1;34m(self)\u001b[0m\n\u001b[0;32m      5\u001b[0m \u001b[38;5;129m@property\u001b[39m\n\u001b[0;32m      6\u001b[0m \u001b[38;5;28;01mdef\u001b[39;00m\u001b[38;5;250m \u001b[39m\u001b[38;5;21mname\u001b[39m(\u001b[38;5;28mself\u001b[39m):\n\u001b[1;32m----> 7\u001b[0m     \u001b[38;5;28;01mreturn\u001b[39;00m \u001b[38;5;28;43mself\u001b[39;49m\u001b[38;5;241;43m.\u001b[39;49m\u001b[43m_name\u001b[49m\n",
      "\u001b[1;31mAttributeError\u001b[0m: 'Person' object has no attribute '_name'"
     ]
    }
   ],
   "source": [
    "print(person.name)  # ❌ Error! (AttributeError: 'Person' has no attribute '_name') # uncomment to see error"
   ]
  },
  {
   "cell_type": "markdown",
   "id": "7e20f510",
   "metadata": {},
   "source": [
    "#### **4️⃣ Computed Property (Dynamic Value)**"
   ]
  },
  {
   "cell_type": "code",
   "execution_count": 33,
   "id": "dd740703",
   "metadata": {},
   "outputs": [
    {
     "name": "stdout",
     "output_type": "stream",
     "text": [
      "22.857142857142858\n"
     ]
    }
   ],
   "source": [
    "class Person:\n",
    "    def __init__ (self, weight_kg, height_m):\n",
    "        self.weight_kg = weight_kg\n",
    "        self.height_m = height_m\n",
    "    \n",
    "    @property\n",
    "    def bmi(self):\n",
    "        \"\"\"Body Mass Index\"\"\"\n",
    "        return self.weight_kg / (self.height_m ** 2)\n",
    "\n",
    "# Usage\n",
    "p = Person(70, 1.75)\n",
    "print(p.bmi)"
   ]
  },
  {
   "cell_type": "markdown",
   "id": "0cdf34da",
   "metadata": {},
   "source": [
    "## **What is Callable**\n",
    "\n",
    "In Python, a `callable` is an object that can be called like a function. In other words, it's an object that can be invoked with parentheses `()` to execute some code.\n",
    "\n",
    "### **What makes an object callable?**\n",
    "\n",
    "An object is callable if it has a `__call__` method. This method is a special method that's invoked when you call the object like a function.\n",
    "\n",
    "**Example:**"
   ]
  },
  {
   "cell_type": "code",
   "execution_count": null,
   "id": "f092896c",
   "metadata": {},
   "outputs": [
    {
     "name": "stdout",
     "output_type": "stream",
     "text": [
      "I'm callable!\n"
     ]
    }
   ],
   "source": [
    "class MyClass:\n",
    "    def __call__(self):\n",
    "        print(\"I'm callable!\")\n",
    "\n",
    "obj = MyClass()\n",
    "obj() # Output: I'm callable!"
   ]
  },
  {
   "cell_type": "markdown",
   "id": "5840921b",
   "metadata": {},
   "source": [
    "You can use the callable() function to check if an object is callable:"
   ]
  },
  {
   "cell_type": "code",
   "execution_count": 35,
   "id": "9df4a54a",
   "metadata": {},
   "outputs": [
    {
     "name": "stdout",
     "output_type": "stream",
     "text": [
      "True\n",
      "True\n",
      "False\n"
     ]
    }
   ],
   "source": [
    "def my_function():\n",
    "    pass\n",
    "\n",
    "print(callable(my_function)) # Output: True\n",
    "\n",
    "class MyClass:\n",
    "    def __call__(self):\n",
    "        pass\n",
    "\n",
    "obj = MyClass()\n",
    "print(callable(obj)) # Output: True\n",
    "\n",
    "print(callable('hello')) # Output: False"
   ]
  },
  {
   "cell_type": "markdown",
   "id": "e496328d",
   "metadata": {},
   "source": [
    "## **Working with Modules and Packages in OOP**\n",
    "\n",
    "Organizing your code into modules and packages is essential for maintaining clean, scalable, and maintainable code, especially in large projects. In Python, a module is a single file containing Python code (e.g., classes, functions, variables), and a package is a directory containing multiple modules and an __init__.py file.\n",
    "\n",
    "### **📦 What is a Package?**\n",
    "A package is just a folder that contains Python modules (other .py files).\n",
    "\n",
    "To be recognized as a package, that folder must have a special file: __init__.py.\n",
    "\n",
    "### **🧾 So, what does __init__.py do?**\n",
    "1. ✅ Marks the folder as a package\n",
    "Without __init__.py, Python won’t treat the folder as a proper package you can import from.\n",
    "\n",
    "2. 📦 Runs initialization code\n",
    "If you want some code to run when the package is imported, you can put it inside __init__.py.\n",
    "\n",
    "3. Control what gets exposed\n",
    "You can use it to control what parts of the package are visible when someone does:\n",
    "\n",
    "mypackage/\n",
    "\n",
    "├── __init__.py\n",
    "\n",
    "├── math_utils.py\n",
    "\n",
    "├── string_utils.py\n",
    "\n",
    "from mypackage import *"
   ]
  },
  {
   "cell_type": "markdown",
   "id": "e968f437",
   "metadata": {},
   "source": [
    "## **Advanced OOP Concepts**\n",
    "\n",
    "In this section, we’ll explore some advanced Object-Oriented Programming (OOP) concepts in Python, including metaclasses, design patterns (Singleton and Factory), and how to implement them.\n",
    "\n",
    "### **1. Metaclasses**\n",
    "\n",
    "A metaclass is the class of a class. It defines how a class behaves. In Python, the default metaclass is type. You can create custom metaclasses to control class creation and behavior.\n",
    "\n",
    "### **2. Singleton Design Pattern**\n",
    "\n",
    "The Singleton pattern ensures that a class has only one instance and provides a global point of access to it. This is useful when you need to manage shared resources, such as a database connection or configuration settings.\n",
    "\n",
    "### **3. Factory Design Pattern**\n",
    "\n",
    "The Factory pattern is a creational design pattern that provides an interface for creating objects in a superclass but allows subclasses to alter the type of objects that will be created. It promotes loose coupling and flexibility.\n",
    "\n",
    "#### **To know more about Design Pattern please visit:**\n",
    "\n",
    "[The Catalog of Python Design Pattern Examples](https://refactoring.guru/design-patterns/python)\n",
    "\n",
    "[Gang of Four design patterns in Python](https://github.com/tuvo1106/python_design_patterns)\n",
    "\n",
    "[Gang of Four (GOF) Design Patterns](https://www.geeksforgeeks.org/gang-of-four-gof-design-patterns/)\n",
    "\n",
    "#### **Example: Implementing Advanced OOP Concepts in Python**\n",
    "\n",
    "Let’s create examples to demonstrate metaclasses, the Singleton pattern, and the Factory pattern.\n",
    "\n",
    "### **Metaclass Example**"
   ]
  },
  {
   "cell_type": "code",
   "execution_count": 37,
   "id": "05c4de47",
   "metadata": {},
   "outputs": [
    {
     "name": "stdout",
     "output_type": "stream",
     "text": [
      "Creating class: MyClass\n"
     ]
    }
   ],
   "source": [
    "# Custom Maste Class\n",
    "class Meta(type):\n",
    "    def __new__ (cls, name, bases, dct):\n",
    "        print(f\"Creating class: {name}\")\n",
    "        return super().__new__(cls, name, bases, dct)\n",
    "    \n",
    "class MyClass(metaclass = Meta):\n",
    "    pass\n",
    "\n",
    "# Output: Creating class: MyClass"
   ]
  },
  {
   "cell_type": "markdown",
   "id": "014ad50c",
   "metadata": {},
   "source": [
    "### **Singleton Design Pattern Example**"
   ]
  },
  {
   "cell_type": "code",
   "execution_count": 38,
   "id": "9c362740",
   "metadata": {},
   "outputs": [
    {
     "name": "stdout",
     "output_type": "stream",
     "text": [
      "True\n",
      "True\n",
      "True\n"
     ]
    }
   ],
   "source": [
    "class Singleton:\n",
    "    _instance = None\n",
    "\n",
    "    def __new__(cls, *args, **kwargs):\n",
    "        if cls._instance is None:\n",
    "            cls._instance = super().__new__(cls, *args, **kwargs)\n",
    "        return cls._instance\n",
    "\n",
    "# Create instance of the Singleton class\n",
    "singleton1 = Singleton()\n",
    "singleton2 = Singleton()\n",
    "# Check if both instances are the same\n",
    "print(singleton1 is singleton2)  # Output: True\n",
    "print(id(singleton1) == id(singleton2))  # Output: True\n",
    "print(singleton1 == singleton2)  # Output: True"
   ]
  },
  {
   "cell_type": "markdown",
   "id": "66a264f5",
   "metadata": {},
   "source": [
    "### **Factory Design Pattern Example**"
   ]
  },
  {
   "cell_type": "code",
   "execution_count": 39,
   "id": "7dbfa6cb",
   "metadata": {},
   "outputs": [
    {
     "name": "stdout",
     "output_type": "stream",
     "text": [
      "Woof\n",
      "Meow\n"
     ]
    }
   ],
   "source": [
    "class Animal:\n",
    "    def speak(self):\n",
    "        pass\n",
    "\n",
    "# Concrete products\n",
    "class Dog(Animal):\n",
    "    def speak(self):\n",
    "        return 'Woof'\n",
    "\n",
    "class Cat(Animal):\n",
    "    def speak(self):\n",
    "        return 'Meow'\n",
    "    \n",
    "# Factory class\n",
    "class AnimalFactory:\n",
    "    @staticmethod\n",
    "    def create_animal(animal_type):\n",
    "        if animal_type == 'dog':\n",
    "            return Dog()\n",
    "        elif animal_type == 'cat':\n",
    "            return Cat()\n",
    "        else:\n",
    "            raise ValueError(f\"Invalid animal type: {animal_type}\")\n",
    "\n",
    "# Use the factory to create animals\n",
    "dog = AnimalFactory.create_animal('dog')\n",
    "cat = AnimalFactory.create_animal('cat')\n",
    "\n",
    "# Call the speak method\n",
    "print(dog.speak()) # Output: Woof\n",
    "print(cat.speak()) # Output: Meow"
   ]
  },
  {
   "cell_type": "markdown",
   "id": "005f83e9",
   "metadata": {},
   "source": [
    "## **Error Handling in OOP - Creating Custom Exception**\n",
    "\n",
    "Error handling is a critical aspect of writing robust and reliable code. In Object-Oriented Programming (OOP), you can handle errors by raising exceptions in methods and creating custom exceptions to represent specific error conditions in your application.\n",
    "\n",
    "### **Code Example**"
   ]
  },
  {
   "cell_type": "code",
   "execution_count": 40,
   "id": "fa5d9b7e",
   "metadata": {},
   "outputs": [],
   "source": [
    "# Custom exception for insufficient funds\n",
    "class InsufficientFundsError(Exception):\n",
    "    def __init__(self, balance, amount):\n",
    "        super().__init__(f\"Insufficient funds. Balance: {balance}, but {amount} was requested.\")\n",
    "        self.balance = balance\n",
    "        self.amount = amount"
   ]
  },
  {
   "cell_type": "code",
   "execution_count": 43,
   "id": "ebeab188",
   "metadata": {},
   "outputs": [
    {
     "name": "stdout",
     "output_type": "stream",
     "text": [
      "Yes! I can buy a car\n"
     ]
    }
   ],
   "source": [
    "car_price = 10000\n",
    "balance = 50000 # Replace 50000 with 5000 or 500 to see the exception\n",
    "\n",
    "if balance < car_price:\n",
    "    raise InsufficientFundsError(balance, car_price)\n",
    "\n",
    "print('Yes! I can buy a car')"
   ]
  },
  {
   "cell_type": "markdown",
   "id": "c371f3bf",
   "metadata": {},
   "source": [
    "## **Testing OOP Code**\n",
    "\n",
    "Testing is a critical part of software development, especially when working with Object-Oriented Programming (OOP). It ensures that your classes and methods behave as expected. Python provides libraries like unittest for writing and running tests.\n",
    "\n",
    "### **Unit Testing Classes and Methods**\n",
    "\n",
    "`Unit testing` involves testing individual components (e.g., classes and methods) in isolation to ensure they work correctly.\n",
    "\n",
    "### **Calculator Class**"
   ]
  },
  {
   "cell_type": "code",
   "execution_count": 44,
   "id": "d1b18491",
   "metadata": {},
   "outputs": [],
   "source": [
    "class Calculator:\n",
    "    def add(self, a, b):\n",
    "        return a + b\n",
    "    \n",
    "    def subtract(self, a, b):\n",
    "        return a - b\n",
    "    \n",
    "    def multiply(self, a, b):\n",
    "        return a * b\n",
    "    \n",
    "    def divide(self, a, b):\n",
    "        if b == 0:\n",
    "            raise ZeroDivisionError(\"Cannot divide by zero\")\n",
    "        return a / b\n"
   ]
  },
  {
   "cell_type": "markdown",
   "id": "fa75cbc2",
   "metadata": {},
   "source": [
    "### **Testing with unittest**"
   ]
  },
  {
   "cell_type": "code",
   "execution_count": 48,
   "id": "68c0554d",
   "metadata": {},
   "outputs": [
    {
     "name": "stderr",
     "output_type": "stream",
     "text": [
      ".....\n",
      "----------------------------------------------------------------------\n",
      "Ran 5 tests in 0.006s\n",
      "\n",
      "OK\n"
     ]
    }
   ],
   "source": [
    "import unittest\n",
    "\n",
    "class TestCalculator(unittest.TestCase):\n",
    "    def setUp(self):\n",
    "        self.calc = Calculator()\n",
    "    \n",
    "    def test_add(self):\n",
    "        self.assertEqual(self.calc.add(2, 3), 5)\n",
    "    \n",
    "    def test_subtract(self):\n",
    "        self.assertEqual(self.calc.subtract(5, 3), 2)\n",
    "    \n",
    "    def test_multiply(self):\n",
    "        self.assertEqual(self.calc.multiply(3, 4), 12)\n",
    "    \n",
    "    def test_divide(self):\n",
    "        self.assertEqual(self.calc.divide(10, 2), 5)\n",
    "    \n",
    "    def test_divide_by_zero(self):\n",
    "        with self.assertRaises(ZeroDivisionError):\n",
    "            self.calc.divide(10, 0)\n",
    "\n",
    "# Replace unittest.main() with the following to run tests in IPython:\n",
    "# if __name__ == \"__main__\":\n",
    "#     unittest.main()\n",
    "# Instead, use:\n",
    "if __name__ == '__main__':\n",
    "    unittest.main(argv=['first-arg-is-ignored'], exit=False)\n"
   ]
  },
  {
   "cell_type": "markdown",
   "id": "cc7b217b",
   "metadata": {},
   "source": [
    "## **Iterable**"
   ]
  }
 ],
 "metadata": {
  "kernelspec": {
   "display_name": "Python 3",
   "language": "python",
   "name": "python3"
  },
  "language_info": {
   "codemirror_mode": {
    "name": "ipython",
    "version": 3
   },
   "file_extension": ".py",
   "mimetype": "text/x-python",
   "name": "python",
   "nbconvert_exporter": "python",
   "pygments_lexer": "ipython3",
   "version": "3.13.2"
  }
 },
 "nbformat": 4,
 "nbformat_minor": 5
}
