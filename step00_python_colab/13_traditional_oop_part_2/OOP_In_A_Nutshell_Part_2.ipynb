{
 "cells": [
  {
   "cell_type": "markdown",
   "id": "7ea8458a",
   "metadata": {},
   "source": [
    "## **Class Variable vs Instance Variable**\n",
    "\n",
    "### **Key Differences**"
   ]
  },
  {
   "cell_type": "markdown",
   "id": "c870d791",
   "metadata": {},
   "source": [
    "| Feature      | Class Variable                                 | Instance Variable                                   |\n",
    "|--------------|------------------------------------------------|-----------------------------------------------------|\n",
    "| Scope\t       | Shared by all instances of the class           | Unique to each instance of the class                |\n",
    "| Creation     | Created when the class is defined              | Created when an object is instantiated              |\n",
    "| Access       | Accessed using the class name or instance name | Accessed through an instance of the class           |\n",
    "| Modification | Modified using the class name                  | Modified through a specific instance                |\n",
    "| Use Cases    | Maintain values common to all instances, track statistics | Store object-specific data               |"
   ]
  },
  {
   "cell_type": "markdown",
   "id": "d166fc46",
   "metadata": {},
   "source": [
    "Understanding the distinction between class and instance variables is crucial for effective object-oriented programming in Python. Class variables provide a way to share data and behavior across all instances of a class, while instance variables allow each object to have its own unique state.\n"
   ]
  },
  {
   "cell_type": "markdown",
   "id": "94d7f4dd",
   "metadata": {},
   "source": [
    "## **Composition and Aggregation**\n",
    "\n",
    "Composition and Aggregation are not design patterns — they are object-oriented design principles — how objects are built or connected.\n",
    "\n",
    "### **✅ Composition (Strong Relationship — \"part of\")**\n",
    "\n",
    "* Think of a car and its engine.\n",
    "* A car has-an engine.\n",
    "* If the car is destroyed, the engine is gone too.\n",
    "* The engine can’t exist on its own — it’s part of the car.\n",
    "* In Python, this means one class creates and owns objects of another class."
   ]
  },
  {
   "cell_type": "code",
   "execution_count": 13,
   "id": "1ed7b505",
   "metadata": {},
   "outputs": [
    {
     "name": "stdout",
     "output_type": "stream",
     "text": [
      "Engine starts\n"
     ]
    }
   ],
   "source": [
    "class Engine:\n",
    "    def start(self):\n",
    "        print('Engine starts')\n",
    "\n",
    "class Car:\n",
    "    def __init__(self):\n",
    "        self.engine = Engine() # Car owns the Engine\n",
    "    \n",
    "    def drive(self):\n",
    "        self.engine.start()\n",
    "\n",
    "my_car = Car()\n",
    "my_car.drive()"
   ]
  },
  {
   "cell_type": "markdown",
   "id": "c530885c",
   "metadata": {},
   "source": [
    "If my_car is deleted, the engine is also gone — they are tightly connected.\n",
    "\n",
    "### **✅ Aggregation (Weak Relationship — \"connected to\")**\n",
    "\n",
    "* Think of a school and its students.\n",
    "* A school has students, but students can exist without the school.\n",
    "* If the school closes, the students still exist elsewhere.\n",
    "* In Python, this means one class is linked to another, but doesn’t own it."
   ]
  },
  {
   "cell_type": "code",
   "execution_count": 14,
   "id": "406bf485",
   "metadata": {},
   "outputs": [
    {
     "name": "stdout",
     "output_type": "stream",
     "text": [
      "School =  <__main__.School object at 0x000002D39465C2F0>\n"
     ]
    }
   ],
   "source": [
    "class Student:\n",
    "    def __init__(self, name):\n",
    "        self.name = name\n",
    "\n",
    "class School:\n",
    "    def __init__(self, students):\n",
    "        self.students = students # School doesn't own the students but link to it\n",
    "\n",
    "student1 = Student('Alice')\n",
    "student2 = Student('Bob')\n",
    "my_school = School([student1, student2])\n",
    "\n",
    "print('School = ', my_school)"
   ]
  },
  {
   "cell_type": "code",
   "execution_count": 15,
   "id": "5b5dcd71",
   "metadata": {},
   "outputs": [],
   "source": [
    "del my_school"
   ]
  },
  {
   "cell_type": "code",
   "execution_count": 16,
   "id": "fcc66ba4",
   "metadata": {},
   "outputs": [
    {
     "name": "stdout",
     "output_type": "stream",
     "text": [
      "Student1 =  <__main__.Student object at 0x000002D39465C590>\n",
      "Student2 =  <__main__.Student object at 0x000002D39479C2D0>\n"
     ]
    }
   ],
   "source": [
    "print(\"Student1 = \", student1)\n",
    "print(\"Student2 = \", student2)"
   ]
  },
  {
   "cell_type": "markdown",
   "id": "d84465f8",
   "metadata": {},
   "source": [
    "Here, even if my_school is deleted, student1 and student2 still exist — they’re independent."
   ]
  },
  {
   "cell_type": "markdown",
   "id": "59c8d339",
   "metadata": {},
   "source": [
    "## **Method Resolution Order (MRO) and Diamond Inheritance**\n",
    "\n",
    "**Method Resolution Order (MRO)** is the order in which Python searches for methods and attributes in a class hierarchy, especially in cases of multiple inheritance. It ensures that the correct method or attribute is found and called `when there are overlapping names in the inheritance tree.`\n",
    "\n",
    "### **Example: Understanding MRO in Python**\n",
    "\n",
    "Let’s create a class hierarchy with multiple inheritance to demonstrate how MRO works."
   ]
  },
  {
   "cell_type": "code",
   "execution_count": 17,
   "id": "31e13e44",
   "metadata": {},
   "outputs": [
    {
     "name": "stdout",
     "output_type": "stream",
     "text": [
      "[<class '__main__.D'>, <class '__main__.B'>, <class '__main__.C'>, <class '__main__.A'>, <class 'object'>]\n",
      "Hello from B\n",
      "The MRO for class D can be visualized as a linear sequence: D → B → C → A → object\n"
     ]
    }
   ],
   "source": [
    "# Define the classes\n",
    "\n",
    "class A:\n",
    "    def greet(self):\n",
    "        return 'Hello from A'\n",
    "\n",
    "class B(A):\n",
    "    def greet(self):\n",
    "        return 'Hello from B'\n",
    "\n",
    "class C(A):\n",
    "    def greet(self):\n",
    "        return 'Hello from C'\n",
    "\n",
    "class D(B, C):  # Diamond Inheritance\n",
    "    pass\n",
    "\n",
    "d = D()\n",
    "print(D.mro())\n",
    "\n",
    "# Call the greet method\n",
    "print(d.greet())\n",
    "print(\"The MRO for class D can be visualized as a linear sequence: D → B → C → A → object\")"
   ]
  },
  {
   "cell_type": "markdown",
   "id": "0c6d9ab1",
   "metadata": {},
   "source": [
    "### **🎯 KEY POINT:**\n",
    "\n",
    "**When there are overlapping names in the inheritance tree**means **more than one parent class** defines the **same method or attribute name.**\n",
    "\n",
    "Python then uses **MRO** to figure out **which one to call** — avoiding confusion and errors."
   ]
  },
  {
   "cell_type": "markdown",
   "id": "9fc48424",
   "metadata": {},
   "source": [
    "## **Decorators in Classes**\n",
    "\n",
    "Decorators in Python are a powerful feature that allows you to modify or extend the behavior of functions or methods. When applied to classes, decorators can enhance or alter the behavior of the class or its methods. Additionally, Python provides specific property decorators (@property, @setter, and @deleter) to manage attribute access in a controlled way."
   ]
  },
  {
   "cell_type": "markdown",
   "id": "93967b47",
   "metadata": {},
   "source": [
    "### **Function Decorators**"
   ]
  },
  {
   "cell_type": "code",
   "execution_count": 18,
   "id": "0978c849",
   "metadata": {},
   "outputs": [
    {
     "name": "stdout",
     "output_type": "stream",
     "text": [
      "★★★★★\n",
      "Hello!\n",
      "★★★★★\n"
     ]
    }
   ],
   "source": [
    "def star_decorator(func): # say_hello() will passed as a parameter\n",
    "    def wrapper():\n",
    "        print(\"★\" * 5)\n",
    "        func()\n",
    "        print(\"★\" * 5)\n",
    "    return wrapper\n",
    "\n",
    "@star_decorator\n",
    "def say_hello():\n",
    "    print('Hello!')\n",
    "\n",
    "say_hello()"
   ]
  },
  {
   "cell_type": "markdown",
   "id": "555cdfc6",
   "metadata": {},
   "source": [
    "### **Class Decorators**"
   ]
  },
  {
   "cell_type": "code",
   "execution_count": 19,
   "id": "740e1c52",
   "metadata": {},
   "outputs": [],
   "source": [
    "class ObjectCounter:\n",
    "    def __init__ (self, cls):\n",
    "        print(\"Decorator applied: \", cls)\n",
    "        self.cls = cls\n",
    "        self.count = 0\n",
    "    \n",
    "    def __call__(self, *args, **kwds):\n",
    "        self.count += 1\n",
    "        print(f\"{self.cls.__name__} object created: {self.count} times\")\n",
    "        return self.cls(*args, **kwds)"
   ]
  },
  {
   "cell_type": "code",
   "execution_count": 20,
   "id": "e0b06404",
   "metadata": {},
   "outputs": [
    {
     "name": "stdout",
     "output_type": "stream",
     "text": [
      "Decorator applied:  <class '__main__.Animal'>\n"
     ]
    }
   ],
   "source": [
    "@ObjectCounter\n",
    "class Animal:\n",
    "    pass"
   ]
  },
  {
   "cell_type": "code",
   "execution_count": 21,
   "id": "d36c349c",
   "metadata": {},
   "outputs": [
    {
     "name": "stdout",
     "output_type": "stream",
     "text": [
      "Animal object created: 1 times\n",
      "Animal object created: 2 times\n",
      "Animal object created: 3 times\n"
     ]
    }
   ],
   "source": [
    "# Create instances\n",
    "a = Animal()\n",
    "b = Animal()\n",
    "c = Animal()"
   ]
  },
  {
   "cell_type": "code",
   "execution_count": 22,
   "id": "bda490f9",
   "metadata": {},
   "outputs": [
    {
     "name": "stdout",
     "output_type": "stream",
     "text": [
      "Decorator applied:  <class '__main__.Car'>\n"
     ]
    }
   ],
   "source": [
    "@ObjectCounter\n",
    "class Car:\n",
    "  pass"
   ]
  },
  {
   "cell_type": "code",
   "execution_count": 23,
   "id": "b431da16",
   "metadata": {},
   "outputs": [
    {
     "name": "stdout",
     "output_type": "stream",
     "text": [
      "Car object created: 1 times\n",
      "Car object created: 2 times\n"
     ]
    }
   ],
   "source": [
    "car1 = Car()\n",
    "car2 = Car()"
   ]
  },
  {
   "cell_type": "markdown",
   "id": "1a705e8c",
   "metadata": {},
   "source": [
    "### **Property Decorators**\n",
    "\n",
    "It allows you to access the attribute like a property rather than a method. You can also define setter and deleter methods using the @setter and @deleter decorators, respectively.\n",
    "\n",
    "property decorators like `@property`, `@setter`, and `@deleter` are built-in in Python.\n",
    "\n",
    "#### **1️⃣ Basic Getter (Read-Only Property)**"
   ]
  },
  {
   "cell_type": "code",
   "execution_count": 25,
   "id": "35ee312f",
   "metadata": {},
   "outputs": [
    {
     "name": "stdout",
     "output_type": "stream",
     "text": [
      "person.name :  Alice\n"
     ]
    }
   ],
   "source": [
    "class Person:\n",
    "    def __init__ (self, name):\n",
    "        self._name = name # Internal variable (convention: `_name`)\n",
    "    \n",
    "    @property\n",
    "    def name(self):\n",
    "        \"\"\"Getter for name\"\"\"\n",
    "        return self._name\n",
    "\n",
    "# Usage\n",
    "person = Person('Alice')\n",
    "print(\"person.name : \",person.name) # Like an attribute (no parentheses!)"
   ]
  },
  {
   "cell_type": "markdown",
   "id": "09693008",
   "metadata": {},
   "source": [
    "#### **2️⃣ Setter (Change a Value with Validation)**"
   ]
  },
  {
   "cell_type": "code",
   "execution_count": 27,
   "id": "553b8a42",
   "metadata": {},
   "outputs": [
    {
     "name": "stdout",
     "output_type": "stream",
     "text": [
      "Before - person.name : Alice\n",
      "After - person.name : Bob\n"
     ]
    }
   ],
   "source": [
    "class Person:\n",
    "    def __init__(self, name):\n",
    "        self._name = name\n",
    "    \n",
    "    @property\n",
    "    def name(self):\n",
    "        return self._name\n",
    "    \n",
    "    @name.setter\n",
    "    def name(self, new_name):\n",
    "        self._name = new_name\n",
    "\n",
    "# Usage\n",
    "person = Person('Alice')\n",
    "print(f'Before - person.name : {person.name}')\n",
    "person.name = 'Bob'\n",
    "print(f'After - person.name : {person.name}')"
   ]
  }
 ],
 "metadata": {
  "kernelspec": {
   "display_name": "Python 3",
   "language": "python",
   "name": "python3"
  },
  "language_info": {
   "codemirror_mode": {
    "name": "ipython",
    "version": 3
   },
   "file_extension": ".py",
   "mimetype": "text/x-python",
   "name": "python",
   "nbconvert_exporter": "python",
   "pygments_lexer": "ipython3",
   "version": "3.13.2"
  }
 },
 "nbformat": 4,
 "nbformat_minor": 5
}
