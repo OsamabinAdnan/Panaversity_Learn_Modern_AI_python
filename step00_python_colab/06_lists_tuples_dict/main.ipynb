{
 "cells": [
  {
   "cell_type": "markdown",
   "metadata": {},
   "source": [
    "<font color=\"#4ee247\" size=8> **Lesson # 06:** </font><font color=\"#ffbf00\" size=8>**List, Tuple & Dictionary**</font>"
   ]
  },
  {
   "cell_type": "markdown",
   "metadata": {},
   "source": [
    "# **Working with Lists and Tuples**\n",
    "\n",
    "## **Introduction**\n",
    "\n",
    "Python provides powerful sequence types: `lists and tuples`. These data structures help store and manage collections of data efficiently."
   ]
  },
  {
   "cell_type": "markdown",
   "metadata": {},
   "source": [
    "## **1. Lists in Python**\n",
    "\n",
    "1. **Ordered**: Lists are `ordered`, meaning that the items in the list have a specific order and can be accessed by their index.\n",
    "2. **Mutable**: Lists are `mutable`, meaning that they can be modified after they are created.\n",
    "3. **Indexed**: Lists are `indexed`, meaning that each item in the list has a specific index that can be used to access it.\n",
    "4. **Dynamic size**: Lists can `grow or shrink` dynamically as elements are added or removed.\n",
    "5. **Heterogeneous**: Lists can contain elements of `different data types`, such as integers, strings, floats, and other lists.\n",
    "6. **Supports duplicate values**: Lists can contain `duplicate values`.\n",
    "\n",
    "<br>\n",
    "\n",
    "\n",
    "Creating a List"
   ]
  },
  {
   "cell_type": "code",
   "execution_count": 1,
   "metadata": {},
   "outputs": [
    {
     "name": "stdout",
     "output_type": "stream",
     "text": [
      "['apple', 'banana', 'cherry']\n",
      "[1, 2, 3, 4, 5]\n",
      "['apple', 1, True, 3.14]\n"
     ]
    }
   ],
   "source": [
    "# Creating lists with different data types\n",
    "fruits:list = [\"apple\", \"banana\", \"cherry\"]\n",
    "numbers:list = [1, 2, 3, 4, 5]\n",
    "mixed:list = [\"apple\", 1, True, 3.14]\n",
    "\n",
    "print(fruits)\n",
    "print(numbers)\n",
    "print(mixed)"
   ]
  },
  {
   "cell_type": "markdown",
   "metadata": {},
   "source": [
    "## **Accessing List Elements**\n",
    "\n",
    "You can access elements using indexing (**starting from 0**) and negative indexing (**starting from -1**)."
   ]
  },
  {
   "cell_type": "code",
   "execution_count": 8,
   "metadata": {},
   "outputs": [
    {
     "name": "stdout",
     "output_type": "stream",
     "text": [
      "apple\n",
      "apple\n"
     ]
    }
   ],
   "source": [
    "fruits: list = [\"apple\", \"banana\", \"cherry\"]\n",
    "print(fruits[0])   # Output: apple\n",
    "print(fruits[-3])  # Output: apple, accessing element in reverse order"
   ]
  },
  {
   "cell_type": "markdown",
   "metadata": {},
   "source": [
    "## **Modifying Lists**\n",
    "\n",
    "Lists are mutable, meaning their elements can be changed."
   ]
  },
  {
   "cell_type": "code",
   "execution_count": 11,
   "metadata": {},
   "outputs": [
    {
     "name": "stdout",
     "output_type": "stream",
     "text": [
      "['apple', 'banana', 'watermelon', 'orange', 'kiwi', 'apricot', 'mango']\n"
     ]
    }
   ],
   "source": [
    "fruits:list = [\"apple\", \"banana\", \"cherry\", \"orange\", \"kiwi\", \"melon\", \"mango\"]\n",
    "fruits[2] = \"watermelon\" # Change the value of a specific index\n",
    "fruits[-2] = \"apricot\" # Change the value of the second last index\n",
    "print(fruits) # Output: ['apple', 'banana', 'watermelon', 'orange', 'kiwi', 'apricot', 'mango']"
   ]
  },
  {
   "cell_type": "markdown",
   "metadata": {},
   "source": [
    "## **List Slicing**\n",
    "\n",
    "Extract multiple elements using slicing."
   ]
  },
  {
   "cell_type": "code",
   "execution_count": 12,
   "metadata": {},
   "outputs": [
    {
     "name": "stdout",
     "output_type": "stream",
     "text": [
      "['apple', 'banana', 'watermelon', 'orange', 'kiwi', 'apricot', 'mango']\n",
      "['banana', 'watermelon', 'orange']\n",
      "['watermelon', 'orange', 'kiwi', 'apricot', 'mango']\n",
      "['apple', 'banana', 'watermelon', 'orange']\n",
      "['apple', 'banana', 'watermelon', 'orange', 'kiwi', 'apricot']\n",
      "['apple', 'watermelon', 'kiwi', 'mango']\n",
      "['mango', 'apricot', 'kiwi', 'orange', 'watermelon', 'banana', 'apple']\n"
     ]
    }
   ],
   "source": [
    "print(fruits) # Output: ['apple', 'banana', 'watermelon', 'orange', 'kiwi', 'apricot', 'mango']\n",
    "print(fruits[1:4]) # Output: ['banana', 'watermelon', 'orange']\n",
    "print(fruits[2:]) # Output: ['banana', 'watermelon', 'orange', 'grape']\n",
    "print(fruits[:4]) # Output: ['apple', 'banana', 'watermelon', 'orange']\n",
    "print(fruits[:-1]) # Output: ['apple', 'banana', 'watermelon', 'orange', 'kiwi', 'apricot']\n",
    "print(fruits[::2]) # Output: ['apple', 'watermelon', 'kiwi', 'mango']\n",
    "print(fruits[::-1]) # Output: ['mango', 'apricot', 'kiwi', 'orange', 'watermelon', 'banana', 'apple']"
   ]
  },
  {
   "cell_type": "markdown",
   "metadata": {},
   "source": [
    "## **2. Common List Methods**\n",
    "\n",
    "Lists provide built-in methods for efficient data manipulation.\n",
    "\n",
    "Appending and Extending Lists"
   ]
  },
  {
   "cell_type": "markdown",
   "metadata": {},
   "source": [
    "**append(item):** Adds a single element (item) to the end of the list. If the item is a list, it is added as a single nested list."
   ]
  },
  {
   "cell_type": "code",
   "execution_count": 14,
   "metadata": {},
   "outputs": [
    {
     "name": "stdout",
     "output_type": "stream",
     "text": [
      "['New York', 'London', 'Tokyo', 'Sydney', 'Beijing']\n",
      "['New York', 'London', 'Tokyo', 'Sydney', 'Beijing', ['Paris', 'Karachi']]\n"
     ]
    }
   ],
   "source": [
    "cities:list = [\"New York\", \"London\", \"Tokyo\", \"Sydney\", \"Beijing\"]\n",
    "print(cities)\n",
    "cities.append([\"Paris\", \"Karachi\"])\n",
    "print(cities) # ['New York', 'London', 'Tokyo', 'Sydney', 'Beijing', 'Paris']"
   ]
  },
  {
   "cell_type": "markdown",
   "metadata": {},
   "source": [
    "**extend(iterable):** Adds each element of an iterable (like a list, tuple, or string) to the list individually."
   ]
  },
  {
   "cell_type": "code",
   "execution_count": 15,
   "metadata": {},
   "outputs": [
    {
     "name": "stdout",
     "output_type": "stream",
     "text": [
      "['New York', 'London', 'Tokyo', 'Sydney', 'Beijing', ['Paris', 'Karachi'], 'Oslo', 'Stockholm']\n"
     ]
    }
   ],
   "source": [
    "cities.extend([\"Oslo\", \"Stockholm\"])\n",
    "print(cities) # ['New York', 'London', 'Tokyo', 'Sydney', 'Beijing', 'Paris', 'Oslo', 'Stockholm']"
   ]
  },
  {
   "cell_type": "markdown",
   "metadata": {},
   "source": [
    "## **Removing Elements**\n",
    "\n",
    "In Python, `remove()` and `pop()` are two distinct methods used to manipulate lists. While they may seem similar, they have different purposes and behaviors.\n",
    "\n",
    "### **Remove() Method**\n",
    "\n",
    "The `remove()` method is used to delete the first occurrence of a specified value from a list. If the value is not found in the list, a `ValueError` exception is raised.\n",
    "\n",
    "**Key aspects of remove():**\n",
    "\n",
    "1. **Value-based**: `remove()` searches for a specific value in the list.\n",
    "\n",
    "2. **Returns None**: The `remove()` method does not return any value.\n",
    "3. **Raises ValueError**: If the value is not found in the list, a `ValueError` exception is raised."
   ]
  },
  {
   "cell_type": "code",
   "execution_count": null,
   "metadata": {},
   "outputs": [
    {
     "name": "stdout",
     "output_type": "stream",
     "text": [
      "['New York', 'London', 'Sydney', 'Beijing', ['Paris', 'Karachi'], 'Stockholm']\n"
     ]
    }
   ],
   "source": [
    "cities.remove(\"Tokyo\")\n",
    "print(cities) # ['New York', 'London', 'Sydney', 'Beijing', ['Paris', 'Karachi'], 'Stockholm']"
   ]
  },
  {
   "cell_type": "markdown",
   "metadata": {},
   "source": [
    "### **Pop() Method**\n",
    "\n",
    "The `pop()` method is used to delete an item at a specified index from a list. If no index is provided, it removes and returns the last item in the list.\n",
    "\n",
    "**Key aspects of pop():**\n",
    "\n",
    "1. **Index-based**: `pop()` searches for an item at a specific index in the list.\n",
    "\n",
    "2. **Returns the removed item**: The `pop()` method returns the item that was removed from the list.\n",
    "3. **Raises IndexError**: If the index is out of range, an `IndexError` exception is raised."
   ]
  },
  {
   "cell_type": "code",
   "execution_count": null,
   "metadata": {},
   "outputs": [
    {
     "name": "stdout",
     "output_type": "stream",
     "text": [
      "deleted city Sydney\n",
      "['New York', 'London', 'Tokyo', 'Beijing', 'Paris', 'Oslo', 'Stockholm']\n"
     ]
    }
   ],
   "source": [
    "cities:list = [\"New York\", \"London\", \"Tokyo\", \"Sydney\", \"Beijing\", \"Paris\", \"Oslo\", \"Stockholm\"]\n",
    "deleted = cities.pop(3)\n",
    "print(\"deleted city\",deleted) # 'Sydney'\n",
    "print(cities) # ['New York', 'London', 'Tokyo', 'Beijing', 'Paris', 'Oslo', 'Stockholm']\n"
   ]
  },
  {
   "cell_type": "markdown",
   "metadata": {},
   "source": [
    "## **Sorting a List**"
   ]
  },
  {
   "cell_type": "code",
   "execution_count": 25,
   "metadata": {},
   "outputs": [
    {
     "name": "stdout",
     "output_type": "stream",
     "text": [
      "[1, 1, 3, 4, 5, 9]\n"
     ]
    }
   ],
   "source": [
    "numbers: list[int] = [3, 1, 4, 1, 5, 9] # unsorted list\n",
    "numbers.sort()\n",
    "print(numbers)  # Output: [1, 1, 3, 4, 5, 9]"
   ]
  },
  {
   "cell_type": "code",
   "execution_count": 26,
   "metadata": {},
   "outputs": [
    {
     "name": "stdout",
     "output_type": "stream",
     "text": [
      "[9, 5, 4, 3, 1, 1]\n"
     ]
    }
   ],
   "source": [
    "numbers.reverse()\n",
    "print(numbers)  # Output: [9, 5, 4, 3, 1, 1]"
   ]
  },
  {
   "cell_type": "markdown",
   "metadata": {},
   "source": [
    "## **3. Iterating Over Lists**\n",
    "\n",
    "Use loops to process elements in a list.\n",
    "\n",
    "\n",
    "**Using a for-loop**"
   ]
  },
  {
   "cell_type": "code",
   "execution_count": 27,
   "metadata": {},
   "outputs": [
    {
     "name": "stdout",
     "output_type": "stream",
     "text": [
      "New York\n",
      "London\n",
      "Paris\n",
      "Tokyo\n",
      "Sydney\n",
      "Moscow\n",
      "Dubai\n",
      "Berlin\n",
      "Rome\n",
      "Madrid\n"
     ]
    }
   ],
   "source": [
    "cities:list = [\"New York\", \"London\", \"Paris\", \"Tokyo\", \"Sydney\", \"Moscow\", \"Dubai\", \"Berlin\", \"Rome\", \"Madrid\"]\n",
    "\n",
    "for city in cities:\n",
    "    print(city)"
   ]
  },
  {
   "cell_type": "markdown",
   "metadata": {},
   "source": [
    "## **Custome Iterator: Agentic AI - Python - Lesson 13 - OOP: Objects & Classes - Part 2**\n",
    "\n",
    "[How to Make a Custom Class Iterable](https://colab.research.google.com/drive/13i4LN9HrdFbp_GK-IEoKU8OCZh6F4Ilp?usp=sharing#scrollTo=AJrmBy8pgzSO)"
   ]
  },
  {
   "cell_type": "markdown",
   "metadata": {},
   "source": [
    "# **Using list comprehension**\n",
    "\n",
    "List comprehension is a powerful feature in Python that allows you to create new lists in a `concise` and `readable way`. It's a `compact way` to create lists from existing lists or other iterables by applying a transformation or filter to each element.\n",
    "\n",
    "```python\n",
    "new_list = [expression for element in iterable if condition]\n",
    "```\n",
    "\n",
    "* `expression` is the operation you want to perform on each element.\n",
    "* `element` is the variable that takes on the value of each element in the `iterable`.\n",
    "* `iterable` is the list or other iterable that you want to process.\n",
    "* `condition` is an optional filter that determines whether an element is included in the new list.\n"
   ]
  },
  {
   "cell_type": "code",
   "execution_count": 28,
   "metadata": {},
   "outputs": [
    {
     "name": "stdout",
     "output_type": "stream",
     "text": [
      "[1, 4, 9, 16, 25] : <class 'list'>\n"
     ]
    }
   ],
   "source": [
    "# Without if condition\n",
    "squared:list = [x**2 for x in [1, 2, 3, 4, 5]]\n",
    "print(squared,\":\",type(squared)) # Output: [1, 4, 9, 16, 25]"
   ]
  },
  {
   "cell_type": "code",
   "execution_count": 29,
   "metadata": {},
   "outputs": [
    {
     "name": "stdout",
     "output_type": "stream",
     "text": [
      "[16, 25] : <class 'list'>\n"
     ]
    }
   ],
   "source": [
    "# With if condition\n",
    "squared:list = [x**2 for x in [1,2,3,4,5] if x > 3]\n",
    "print(squared,\":\",type(squared)) # Output: [16, 25]"
   ]
  },
  {
   "cell_type": "markdown",
   "metadata": {},
   "source": [
    "**List comprehension is commonly used for:**\n",
    "\n",
    "* **`Transforming data`**: List comprehension can be used to transform data from one format to another.\n",
    "* **`Filtering data`**: List comprehension can be used to filter out unwanted data.\n",
    "* **`Creating new data`**: List comprehension can be used to create new data by combining existing data."
   ]
  },
  {
   "cell_type": "markdown",
   "metadata": {},
   "source": [
    "# **4. Tuples in Python**\n",
    "\n",
    "A tuple is an `ordered`, `immutable` (unchangeable) sequence of elements. Tuples are useful for fixed data collections.\n",
    "\n",
    "In Python, a tuple is an immutable data type. This means that once a tuple is created, its elements cannot be changed, added, or removed.\n",
    "\n",
    "### **1.  Cannot Modify Elements:**\n",
    "  * Once a tuple is created, you cannot change its elements.\n",
    "\n",
    "### **2. Cannot Add or Remove Elements:**\n",
    "  * You cannot add new elements to a tuple or remove existing ones.\n",
    "\n",
    "\n",
    "\n",
    "---\n",
    "\n",
    "\n",
    "\n",
    "## **Why Use Tuples?**\n",
    "\n",
    "  1.  **Immutable**: Since tuples cannot be changed, they are safer to use when you want to ensure that the data remains constant.\n",
    "\n",
    "  2.  **Hashable**: Tuples can be used as keys in dictionaries because they are immutable.\n",
    "  3.  **Performance**: Tuples are generally faster than lists because of their immutability.\n",
    "\n",
    "## **When to Use Tuples vs Lists**\n",
    "\n",
    "* Use tuples when you want to store data that should not change (e.g., coordinates, constants).\n",
    "\n",
    "* Use lists when you need a collection that can be modified (e.g., adding or removing elements).\n",
    "\n",
    "Creating a Tuple"
   ]
  },
  {
   "cell_type": "code",
   "execution_count": 31,
   "metadata": {},
   "outputs": [
    {
     "name": "stdout",
     "output_type": "stream",
     "text": [
      "tuple1 = ('apple', 'banana', 'cherry')\n",
      "tuple2 = (10, 20, 30)\n",
      "mixed_tuple = ('apple', 1, True, 3.14)\n"
     ]
    }
   ],
   "source": [
    "tuple1:tuple = tuple ([\"apple\", \"banana\", \"cherry\"]) # cast a list into a tuple\n",
    "tuple2:tuple = (10, 20, 30) # tuple with integers\n",
    "mixed_tuple:tuple = (\"apple\", 1, True, 3.14) # tuple with mixed data types\n",
    "\n",
    "print(\"tuple1 =\",tuple1)\n",
    "print(\"tuple2 =\", tuple2)\n",
    "print(\"mixed_tuple =\", mixed_tuple)"
   ]
  },
  {
   "cell_type": "markdown",
   "metadata": {},
   "source": [
    "Even though tuples are immutable, Python may create new instances in memory when you define identical tuples in separate assignments. This is why id(tuple_1) and id(tuple_2) may differ."
   ]
  },
  {
   "cell_type": "code",
   "execution_count": 32,
   "metadata": {},
   "outputs": [
    {
     "name": "stdout",
     "output_type": "stream",
     "text": [
      "id(tuple_1) =  2150294682752\n",
      "id(tuple_2) =  2150294497920\n",
      "tuple_1 == tuple_2 =  True\n"
     ]
    }
   ],
   "source": [
    "tuple_1: tuple = (10, 20, 30) # tuple\n",
    "tuple_2: tuple = (10, 20, 30) # tuple\n",
    "\n",
    "print(\"id(tuple_1) = \", id(tuple_1)) # unique memory address\n",
    "print(\"id(tuple_2) = \", id(tuple_2)) # unique memory address\n",
    "\n",
    "print(\"tuple_1 == tuple_2 = \", tuple_1 == tuple_2) # comparing by value"
   ]
  },
  {
   "cell_type": "markdown",
   "metadata": {},
   "source": [
    "**Why are Tuples Immutable?**\n",
    "\n",
    "There are several reasons why tuples are immutable:\n",
    "\n",
    "1. **`Memory Efficiency`**: Immutable tuples can be stored in a single block of memory, which makes them more memory-efficient than lists.\n",
    "2. **`Thread Safety`**: Immutable tuples are thread-safe, meaning that they can be safely accessed and shared between multiple threads without fear of modification.\n",
    "3. **`Hashability`**: Immutable tuples are hashable, meaning that they can be used as keys in dictionaries.\n"
   ]
  },
  {
   "cell_type": "code",
   "execution_count": 33,
   "metadata": {},
   "outputs": [
    {
     "ename": "TypeError",
     "evalue": "'tuple' object does not support item assignment",
     "output_type": "error",
     "traceback": [
      "\u001b[1;31m---------------------------------------------------------------------------\u001b[0m",
      "\u001b[1;31mTypeError\u001b[0m                                 Traceback (most recent call last)",
      "Cell \u001b[1;32mIn[33], line 1\u001b[0m\n\u001b[1;32m----> 1\u001b[0m \u001b[43mtuple1\u001b[49m\u001b[43m[\u001b[49m\u001b[38;5;241;43m0\u001b[39;49m\u001b[43m]\u001b[49m \u001b[38;5;241m=\u001b[39m \u001b[38;5;124m\"\u001b[39m\u001b[38;5;124mwatermelon\u001b[39m\u001b[38;5;124m\"\u001b[39m \u001b[38;5;66;03m# immutable\u001b[39;00m\n",
      "\u001b[1;31mTypeError\u001b[0m: 'tuple' object does not support item assignment"
     ]
    }
   ],
   "source": [
    "tuple1[0] = \"watermelon\" # immutable"
   ]
  },
  {
   "cell_type": "code",
   "execution_count": 48,
   "metadata": {},
   "outputs": [
    {
     "name": "stdout",
     "output_type": "stream",
     "text": [
      "tuple1      = ('apple', 'banana', 'cherry')\n",
      "tuple2      = (10, 20, 30)\n",
      "mixed_tuple = ('hello', 42, 3.14, True)\n",
      "tuple1[0] =  apple\n",
      "tuple1[1] =  banana\n",
      "tuple1[0:2] =  ('apple', 'banana')\n",
      "tuple2[:-1] =  (10, 20)\n",
      "tuple2[-1:]  =  (30,)\n",
      "len(tuple1) =  3\n",
      "\n",
      "Iterating through tuple1:\n",
      "apple\n",
      "banana\n",
      "cherry\n",
      "\n",
      "Checking if 'banana' exists in tuple1:\n",
      "Is banana in tuple1?  True\n",
      "\n",
      "tuple3 = tuple1 + tuple2 =  ('apple', 'banana', 'cherry', 10, 20, 30)\n",
      "\n",
      "tuple4 = tuple1 * 3 =  ('apple', 'banana', 'cherry', 'apple', 'banana', 'cherry', 'apple', 'banana', 'cherry')\n",
      "\n",
      "Nested Tuple =  (('apple', 'banana', 'cherry'), (10, 20, 30))\n",
      "\n",
      "Unpacking tuple1: apple banana cherry\n",
      "\n",
      "Dictionary with tuple keys: {('apple', 'banana', 'cherry'): 'This is a tuple key', (10, 20, 30): 'This is another tuple key'}\n"
     ]
    }
   ],
   "source": [
    "# Tuples in Python\n",
    "\n",
    "# A tuple is an `ordered`, `immutable` (unchangeable) sequence of elements.\n",
    "# Tuples are useful for fixed data collections.\n",
    "\n",
    "# Creating a Tuple\n",
    "tuple1: tuple      = tuple([\"apple\", \"banana\", \"cherry\"])  # cast a list into tuple\n",
    "tuple2: tuple      = (10, 20, 30)  # tuple\n",
    "mixed_tuple: tuple = (\"hello\", 42, 3.14, True)  # tuple\n",
    "\n",
    "print(\"tuple1      =\", tuple1)\n",
    "print(\"tuple2      =\", tuple2)\n",
    "print(\"mixed_tuple =\", mixed_tuple)\n",
    "\n",
    "# Accessing elements in a tuple\n",
    "print(\"tuple1[0] = \", tuple1[0])  # Accessing the first element\n",
    "print(\"tuple1[1] = \", tuple1[1])  # Accessing the second element\n",
    "\n",
    "# Tuple slicing\n",
    "print(\"tuple1[0:2] = \", tuple1[0:2])  # Slicing to get the first two elements\n",
    "print(\"tuple2[:-1] = \", tuple2[:-1])  # Slicing to get all elements except the last one\n",
    "print(\"tuple2[-1:]  = \", tuple2[-1:])  # Slicing to get the last element\n",
    "\n",
    "# Tuple length\n",
    "print(\"len(tuple1) = \", len(tuple1))  # Getting the length of the tuple\n",
    "\n",
    "# Iteration through tuple\n",
    "print(\"\\nIterating through tuple1:\")\n",
    "for item in tuple1:\n",
    "    print(item)\n",
    "\n",
    "# Checking if an item exists in a tuple\n",
    "print(\"\\nChecking if 'banana' exists in tuple1:\")\n",
    "print(\"Is banana in tuple1? \",\"banana\" in tuple1)\n",
    "\n",
    "# Concatenating tuples\n",
    "tuple3:tuple = tuple1 + tuple2  # Concatenating two tuples\n",
    "print(\"\\ntuple3 = tuple1 + tuple2 = \", tuple3)\n",
    "\n",
    "# Repeating tuples\n",
    "tuple4:tuple = tuple1 * 3  # Repeating the tuple three times\n",
    "print(\"\\ntuple4 = tuple1 * 3 = \", tuple4)\n",
    "\n",
    "# Nested tuples\n",
    "nested_tuple:tuple = (tuple1, tuple2)\n",
    "print(\"\\nNested Tuple = \", nested_tuple)\n",
    "\n",
    "# Unpacking tuples\n",
    "a, b, c = tuple1  # Unpacking the tuple into separate variables\n",
    "print(\"\\nUnpacking tuple1:\", a,b,c)\n",
    "\n",
    "# Using tuples as keys in dictionaries (because they are immutable)\n",
    "my_dict = {\n",
    "    tuple1:\"This is a tuple key\",\n",
    "    tuple2:\"This is another tuple key\"\n",
    "}\n",
    "print(\"\\nDictionary with tuple keys:\", my_dict)\n",
    "\n",
    "#Trying to modify a tuple will result in a TypeError\n",
    "# tuple1[0] = \"watermelon\" #immutable. This line will raise an error. Uncomment to test."
   ]
  },
  {
   "cell_type": "code",
   "execution_count": 13,
   "metadata": {},
   "outputs": [
    {
     "name": "stdout",
     "output_type": "stream",
     "text": [
      "apple\n",
      "apple\n",
      "1\n",
      "0\n"
     ]
    }
   ],
   "source": [
    "tuple1: tuple      = tuple([\"apple\", \"banana\", \"cherry\"])  # cast a list into tuple\n",
    "print(tuple1[0]) # Output: apple\n",
    "print(tuple1[-3]) # Output: apple\n",
    "print(tuple1.count(\"apple\")) # Output: 1\n",
    "print(tuple1.index(\"apple\")) # Output: 0\n",
    "\n",
    "#error\n",
    "# tuple1.sort() # AttributeError: 'tuple' object is not sortable\n",
    "# tuple1.reverse() # AttributeError: 'tuple' object has no attribute 'reverse'\n",
    "# tuple1.append(\"mango\") # AttributeError: 'tuple' object has no attribute 'append'\n",
    "# tuple1.extend([\"grape\", \"kiwi\"]) # AttributeError: 'tuple' object has no attribute 'extend'\n",
    "# tuple1.remove(\"banana\") # AttributeError: 'tuple' object has no attribute 'remove'\n",
    "# deleted = tuple1.pop(1) # AttributeError: 'tuple' object has no attribute 'pop'"
   ]
  },
  {
   "cell_type": "code",
   "execution_count": 14,
   "metadata": {},
   "outputs": [
    {
     "data": {
      "text/plain": [
       "['count', 'index']"
      ]
     },
     "execution_count": 14,
     "metadata": {},
     "output_type": "execute_result"
    }
   ],
   "source": [
    "# prompt: print the complete list of methods and attribute of tuple, dont include dunders\n",
    "\n",
    "# Get a list of all attributes and methods of a tuple\n",
    "tuple_methods: list = [method for method in dir(tuple) if not method.startswith('__')]\n",
    "\n",
    "# Print the list of methods (excluding dunder methods)\n",
    "tuple_methods"
   ]
  },
  {
   "cell_type": "code",
   "execution_count": 15,
   "metadata": {},
   "outputs": [
    {
     "name": "stdout",
     "output_type": "stream",
     "text": [
      "1\n",
      "0\n",
      "('count', 'index')\n"
     ]
    }
   ],
   "source": [
    "# prompt: generate a example of ['count', 'index'] in tuple\n",
    "\n",
    "tuple1:tuple = tuple([\"apple\", \"banana\", \"cherry\"])\n",
    "print(tuple1.count(\"apple\")) # Output: 1\n",
    "print(tuple1.index(\"apple\")) # Output: 0\n",
    "\n",
    "example_tuple:tuple = (\"count\", \"index\")\n",
    "print(example_tuple) # Output: ('count', 'index')"
   ]
  },
  {
   "cell_type": "markdown",
   "metadata": {},
   "source": [
    "## **Python is Type Hint Language**"
   ]
  },
  {
   "cell_type": "code",
   "execution_count": 18,
   "metadata": {},
   "outputs": [
    {
     "name": "stdout",
     "output_type": "stream",
     "text": [
      "36 <class 'str'>\n"
     ]
    }
   ],
   "source": [
    "a:int = input(\"Enter your age:\")\n",
    "print(a, type(a))"
   ]
  },
  {
   "cell_type": "markdown",
   "metadata": {},
   "source": [
    "## **Type Hinting (a: int)**\n",
    "* a: int is a type hint, which suggests that the variable a is expected to be an integer.\n",
    "* `However, type hints are not enforced in Python`. They are only for documentation and tools like linters or type checkers.\n",
    "* The actual value assigned to a will still be a string, because input() always returns a string."
   ]
  },
  {
   "cell_type": "markdown",
   "metadata": {},
   "source": [
    "# **Dictionaries in Python**\n",
    "\n",
    "## **1. Introduction to Dictionaries**\n",
    "\n",
    "A dictionary is a collection of `key-value pairs`. It is:\n",
    "\n",
    "\n",
    "- **Ordered (since Python 3.7)**: Items are stored in the order they were inserted.\n",
    "\n",
    "- **Mutable**: Items can be added, removed, or modified after the dictionary is created.\n",
    "- **Un-indexed**: Items are accessed using keys, not indices.\n",
    "- **Without duplicates**: **`Keys must be unique`**, but values can be duplicated.\n",
    "\n",
    "\n",
    "Before Python 3.7, dictionaries were **unordered**, meaning that items were not stored in a specific order. However, with the introduction of Python 3.7, dictionaries now maintain their insertion order.\n",
    "\n",
    "[OrderedDict vs dict in Python: The Right Tool for the Job](https://realpython.com/python-ordereddict/)"
   ]
  },
  {
   "cell_type": "markdown",
   "metadata": {},
   "source": [
    "## **2. Creating a Dictionary**\n",
    "\n",
    "Dictionaries are created using curly braces {} with key-value pairs separated by commas.\n",
    "\n",
    "The syntax is:\n",
    "\n",
    "``` Python\n",
    "dictionary = {key1: value1, key2: value2, ...}\n",
    "```\n",
    "\n",
    "Example Code:"
   ]
  },
  {
   "cell_type": "code",
   "execution_count": 19,
   "metadata": {},
   "outputs": [
    {
     "data": {
      "text/plain": [
       "['New York', 'Los Angeles', 'Chicago', 'Houston', 'Phoenix']"
      ]
     },
     "execution_count": 19,
     "metadata": {},
     "output_type": "execute_result"
    }
   ],
   "source": [
    "# prompt: generate a list of 5 american cities\n",
    "american_cities = [\"New York\", \"Los Angeles\", \"Chicago\", \"Houston\", \"Phoenix\"]\n",
    "american_cities"
   ]
  },
  {
   "cell_type": "code",
   "execution_count": 21,
   "metadata": {},
   "outputs": [
    {
     "name": "stdout",
     "output_type": "stream",
     "text": [
      "{'name': 'John', 'age': 25, 'visited_cities': ['New York', 'Los Angeles', 'Chicago', 'Houston', 'Phoenix']}\n"
     ]
    }
   ],
   "source": [
    "# Create a dictionary to store a person's details\n",
    "person:dict = {\n",
    "    \"name\": \"John\",\n",
    "    \"age\": 25,\n",
    "    \"visited_cities\":american_cities\n",
    "}\n",
    "print(person)"
   ]
  },
  {
   "cell_type": "code",
   "execution_count": 22,
   "metadata": {},
   "outputs": [
    {
     "name": "stdout",
     "output_type": "stream",
     "text": [
      "<class 'dict'>  -  {'name': 'John', 'age': 36, 'country': 'Norway'}\n"
     ]
    }
   ],
   "source": [
    "this_dict:dict = dict(name = \"John\", age = 36, country = \"Norway\") # It is also possible to use the dict() constructor to make a dictionary.\n",
    "print(type(this_dict),\" - \", this_dict, )"
   ]
  },
  {
   "cell_type": "markdown",
   "metadata": {},
   "source": [
    "## **3. Accessing Values**\n",
    "You can access the value associated with a key using square brackets [] or the get() method.\n",
    "\n",
    "\n",
    "Example Code:"
   ]
  },
  {
   "cell_type": "code",
   "execution_count": 24,
   "metadata": {},
   "outputs": [
    {
     "name": "stdout",
     "output_type": "stream",
     "text": [
      "John\n",
      "25\n",
      "my_default_vlaue_if_key_not_found\n"
     ]
    }
   ],
   "source": [
    "# Access values using keys\n",
    "print(person[\"name\"])  # Output: Alice\n",
    "print(person.get(\"age\", \"99\"))  # Output: 25, if not found it will return 99 (default value)\n",
    "\n",
    "# Access a non-existent key\n",
    "print(person.get(\"country\", \"my_default_vlaue_if_key_not_found\"))  # Output: my_default_vlaue (default value)"
   ]
  },
  {
   "cell_type": "markdown",
   "metadata": {},
   "source": [
    "## **4. Modifying a Dictionary**\n",
    "\n",
    "\n",
    "You can add new key-value pairs or modify existing ones.\n",
    "\n",
    "Example Code:"
   ]
  },
  {
   "cell_type": "code",
   "execution_count": 26,
   "metadata": {},
   "outputs": [
    {
     "name": "stdout",
     "output_type": "stream",
     "text": [
      "{'name': 'John', 'age': 25, 'visited_cities': ['New York', 'Los Angeles', 'Chicago', 'Houston', 'Phoenix'], 'email': 'abc@example.com'}\n",
      "{'name': 'John', 'age': 30, 'visited_cities': ['New York', 'Los Angeles', 'Chicago', 'Houston', 'Phoenix'], 'email': 'abc@example.com'}\n"
     ]
    }
   ],
   "source": [
    "# Add a new key-value pair\n",
    "person[\"email\"] = \"abc@example.com\"\n",
    "print(person)\n",
    "\n",
    "# Modify an existing value\n",
    "person[\"age\"] = 30\n",
    "print(person)"
   ]
  },
  {
   "cell_type": "markdown",
   "metadata": {},
   "source": [
    "## **5. Deleting Items**\n",
    "\n",
    "\n",
    "You can remove a key-value pair using the del keyword or the pop() method.\n",
    "\n",
    "Note that `pop()` returns the value of the removed key-value pair, whereas `del` does not return anything.\n",
    "\n",
    "You can also use `pop()` with a default value, in case the key is not found in the dictionary:\n",
    "\n",
    "Example Code:"
   ]
  },
  {
   "cell_type": "code",
   "execution_count": 27,
   "metadata": {},
   "outputs": [
    {
     "name": "stdout",
     "output_type": "stream",
     "text": [
      "{'name': 'Alice', 'age': 25, 'email': 'alice@example.com', 'city': ['New York', 'Los Angeles', 'Chicago', 'Houston', 'Phoenix']}\n"
     ]
    }
   ],
   "source": [
    "person: dict = {'name': 'Alice', 'age': 25, 'email': 'alice@example.com', 'city': ['New York', 'Los Angeles', 'Chicago', 'Houston', 'Phoenix']}\n",
    "print(person)"
   ]
  },
  {
   "cell_type": "code",
   "execution_count": 28,
   "metadata": {},
   "outputs": [
    {
     "name": "stdout",
     "output_type": "stream",
     "text": [
      "{'name': 'Alice', 'age': 25, 'email': 'alice@example.com'}\n"
     ]
    }
   ],
   "source": [
    "# Remove a key-value pair using del\n",
    "del person[\"city\"]\n",
    "print(person)"
   ]
  },
  {
   "cell_type": "code",
   "execution_count": 30,
   "metadata": {},
   "outputs": [
    {
     "name": "stdout",
     "output_type": "stream",
     "text": [
      "Removed age: -1\n",
      "{'name': 'Alice', 'email': 'alice@example.com'}\n",
      "\n",
      "-----\n",
      "\n",
      "key 'age' not found in dict so returning default value:  -1\n"
     ]
    }
   ],
   "source": [
    "# Remove a key-value pair using pop\n",
    "age:int = person.pop(\"age\", -1)\n",
    "print(\"Removed age:\", age)\n",
    "print(person)\n",
    "\n",
    "print(\"\\n-----\\n\")\n",
    "#Again remove a key which is already removed to check the default value\n",
    "age:int = person.pop(\"age\", -1)\n",
    "print(\"key 'age' not found in dict so returning default value: \", age)"
   ]
  },
  {
   "cell_type": "markdown",
   "metadata": {},
   "source": [
    "## **6. Dictionary Methods**\n",
    "\n",
    "Python provides several useful methods for working with dictionaries.\n",
    "\n",
    "\n",
    "| Method   | Description                                                       |   |\n",
    "|----------|-------------------------------------------------------------------|---|\n",
    "| keys()   | Returns a list of all keys in the dictionary.                     |   |\n",
    "| values() | Returns a list of all values in the dictionary.                   |   |\n",
    "| items()  | Returns a list of key-value pairs as tuples.                      |   |\n",
    "| clear()  | Removes all items from the dictionary.                            |   |\n",
    "| update() | Adds or updates multiple key-value pairs from another dictionary. |   |"
   ]
  },
  {
   "cell_type": "code",
   "execution_count": 35,
   "metadata": {},
   "outputs": [
    {
     "name": "stdout",
     "output_type": "stream",
     "text": [
      "dict_keys(['name', 'email', 'age'])\n",
      "dict_values(['Alice', 'alice@example.com', 30])\n",
      "dict_items([('name', 'Alice'), ('email', 'alice@example.com'), ('age', 30)])\n",
      "All person updated: {'name': 'Alice', 'email': 'alice@example.com', 'age': 30}\n",
      "All person cleared: {}\n"
     ]
    }
   ],
   "source": [
    "# Get all keys\n",
    "print(person.keys())\n",
    "\n",
    "# Get all values\n",
    "print(person.values())\n",
    "\n",
    "# Get all key-value pairs\n",
    "print(person.items())\n",
    "\n",
    "# Update the dictionary\n",
    "person.update({\"age\": 30})\n",
    "print(\"All person updated:\", person)\n",
    "\n",
    "# Clear the dictionary\n",
    "person.clear()\n",
    "print(\"All person cleared:\", person)"
   ]
  },
  {
   "cell_type": "markdown",
   "metadata": {},
   "source": [
    "## **Duplicate Key Not Allowed**\n",
    "\n",
    "\n",
    "Dictionaries cannot have two items with the same key:"
   ]
  },
  {
   "cell_type": "code",
   "execution_count": 36,
   "metadata": {},
   "outputs": [
    {
     "name": "stdout",
     "output_type": "stream",
     "text": [
      "{'brand': 'Ford', 'model': 'Mustang', 'year': 2020}\n"
     ]
    }
   ],
   "source": [
    "thisdict: dict = {\n",
    "  \"brand\": \"Ford\",\n",
    "  \"model\": \"Mustang\",\n",
    "  \"year\": 1964,\n",
    "  \"year\": 2020 # this will overwrite the previous key:vlaue\n",
    "}\n",
    "print(thisdict)"
   ]
  },
  {
   "cell_type": "markdown",
   "metadata": {},
   "source": [
    "## **7. Iterating Over a Dictionary**\n",
    "\n",
    "You can loop through a dictionary using for loops.\n",
    "\n",
    "Example Code:"
   ]
  },
  {
   "cell_type": "code",
   "execution_count": 38,
   "metadata": {},
   "outputs": [
    {
     "name": "stdout",
     "output_type": "stream",
     "text": [
      "brand Ford\n",
      "model Mustang\n",
      "year 2020\n"
     ]
    }
   ],
   "source": [
    "for key in thisdict:\n",
    "    print(key, thisdict[key]) # Output: key1 value1, key2 value2, key3 value3"
   ]
  },
  {
   "cell_type": "markdown",
   "metadata": {},
   "source": [
    "## **8. Practical Examples**\n",
    "\n",
    "Here are two practical examples to solidify these concepts.\n",
    "\n",
    "Example 1: Building a Phonebook"
   ]
  },
  {
   "cell_type": "code",
   "execution_count": 39,
   "metadata": {},
   "outputs": [
    {
     "name": "stdout",
     "output_type": "stream",
     "text": [
      "Bob's phone number is 987-654-3210\n"
     ]
    }
   ],
   "source": [
    "# Create a phonebook\n",
    "phonebook: dict = {\n",
    "    \"Alice\": \"123-456-7890\",\n",
    "    \"Bob\": \"987-654-3210\",\n",
    "    \"Charlie\": \"555-555-5555\"\n",
    "}\n",
    "# Add new contact\n",
    "phonebook[\"David\"] = \"111-222-3333\"\n",
    "\n",
    "# Search for contact\n",
    "name:str = input(\"Enter name to search: \")\n",
    "if name in phonebook:\n",
    "    print(f\"{name}'s phone number is {phonebook[name]}\")\n",
    "else:\n",
    "    print(f\"{name} not found in the phonebook\")"
   ]
  },
  {
   "cell_type": "markdown",
   "metadata": {},
   "source": [
    "Example 2: Counting Word Frequencies in a Text"
   ]
  },
  {
   "cell_type": "code",
   "execution_count": 41,
   "metadata": {},
   "outputs": [],
   "source": [
    "sentence = \"\"\"\n",
    "**Projected Economy Size of AI:**\n",
    "\n",
    "The projected economy size of AI is significant, with estimates varying depending on the source and methodology. Here are some notable projections:\n",
    "\n",
    "1. **Global AI Market Size:**\n",
    "\t* By 2025: $190 billion (Source: MarketsandMarkets)\n",
    "\t* By 2030: $1.5 trillion (Source: PwC)\n",
    "2. **AI-Driven Economic Growth:**\n",
    "\t* By 2025: AI is expected to contribute 10% to global GDP growth (Source: Accenture)\n",
    "\t* By 2030: AI is expected to contribute 14% to global GDP growth (Source: PwC)\n",
    "3. **AI-Generated Revenue:**\n",
    "\t* By 2025: AI is expected to generate $15.7 trillion in revenue (Source: IDC)\n",
    "\t* By 2030: AI is expected to generate $33.5 trillion in revenue (Source: McKinsey)\n",
    "4. **Job Market Impact:**\n",
    "\t* By 2025: AI is expected to create 133 million new jobs globally (Source: World Economic Forum)\n",
    "\t* By 2030: AI is expected to automate 30% of current jobs globally (Source: McKinsey)\n",
    "\n",
    "**Industry-Specific Projections:**\n",
    "\n",
    "1. **Healthcare:**\n",
    "\t* By 2025: AI is expected to generate $150 billion in revenue (Source: MarketsandMarkets)\n",
    "2. **Financial Services:**\n",
    "\t* By 2025: AI is expected to generate $100 billion in revenue (Source: Accenture)\n",
    "3. **Manufacturing:**\n",
    "\t* By 2025: AI is expected to generate $50 billion in revenue (Source: IDC)\n",
    "4. **Transportation:**\n",
    "\t* By 2025: AI is expected to generate $20 billion in revenue (Source: MarketsandMarkets)\n",
    "\n",
    "**Regional Projections:**\n",
    "\n",
    "1. **North America:**\n",
    "\t* By 2025: AI is expected to generate $100 billion in revenue (Source: MarketsandMarkets)\n",
    "2. **Europe:**\n",
    "\t* By 2025: AI is expected to generate $50 billion in revenue (Source: IDC)\n",
    "3. **Asia-Pacific:**\n",
    "\t* By 2025: AI is expected to generate $200 billion in revenue (Source: MarketsandMarkets)\n",
    "\n",
    "Note: These projections are based on various assumptions, including the pace of AI development, adoption rates, and economic trends. The actual economy size of AI may vary depending on several factors.\n",
    "\n",
    "\"\"\""
   ]
  },
  {
   "cell_type": "code",
   "execution_count": 42,
   "metadata": {},
   "outputs": [
    {
     "name": "stdout",
     "output_type": "stream",
     "text": [
      "{'**Projected': 1, 'Economy': 1, 'Size': 1, 'of': 5, 'AI:**': 1, 'The': 2, 'projected': 1, 'economy': 2, 'size': 2, 'AI': 17, 'is': 14, 'significant,': 1, 'with': 1, 'estimates': 1, 'varying': 1, 'depending': 2, 'on': 3, 'the': 2, 'source': 1, 'and': 2, 'methodology.': 1, 'Here': 1, 'are': 2, 'some': 1, 'notable': 1, 'projections:': 1, '1.': 3, '**Global': 1, 'Market': 2, 'Size:**': 1, '*': 15, 'By': 15, '2025:': 11, '$190': 1, 'billion': 8, '(Source:': 15, 'MarketsandMarkets)': 5, '2030:': 4, '$1.5': 1, 'trillion': 3, 'PwC)': 2, '2.': 3, '**AI-Driven': 1, 'Economic': 2, 'Growth:**': 1, 'expected': 13, 'to': 15, 'contribute': 2, '10%': 1, 'global': 2, 'GDP': 2, 'growth': 2, 'Accenture)': 2, '14%': 1, '3.': 3, '**AI-Generated': 1, 'Revenue:**': 1, 'generate': 9, '$15.7': 1, 'in': 9, 'revenue': 9, 'IDC)': 3, '$33.5': 1, 'McKinsey)': 2, '4.': 2, '**Job': 1, 'Impact:**': 1, 'create': 1, '133': 1, 'million': 1, 'new': 1, 'jobs': 2, 'globally': 2, 'World': 1, 'Forum)': 1, 'automate': 1, '30%': 1, 'current': 1, '**Industry-Specific': 1, 'Projections:**': 2, '**Healthcare:**': 1, '$150': 1, '**Financial': 1, 'Services:**': 1, '$100': 2, '**Manufacturing:**': 1, '$50': 2, '**Transportation:**': 1, '$20': 1, '**Regional': 1, '**North': 1, 'America:**': 1, '**Europe:**': 1, '**Asia-Pacific:**': 1, '$200': 1, 'Note:': 1, 'These': 1, 'projections': 1, 'based': 1, 'various': 1, 'assumptions,': 1, 'including': 1, 'pace': 1, 'development,': 1, 'adoption': 1, 'rates,': 1, 'economic': 1, 'trends.': 1, 'actual': 1, 'may': 1, 'vary': 1, 'several': 1, 'factors.': 1}\n"
     ]
    }
   ],
   "source": [
    "# Count the frequency of words in a sentence\n",
    "words:list = sentence.split() # Split the sentence into words\n",
    "word_count = {} # Create an empty dictionary to store word counts\n",
    "\n",
    "for word in words: # Loop through each word\n",
    "    if word in word_count: # If the word is already in the dictionary\n",
    "        word_count[word] += 1 # If the word is already in the dictionary, increment its count\n",
    "    else: # If the word is not in the dictionary\n",
    "        word_count[word] = 1 # If the word is not in the dictionary, add it with a count of 1\n",
    "print(word_count)"
   ]
  },
  {
   "cell_type": "markdown",
   "metadata": {},
   "source": [
    "AI generated code:"
   ]
  },
  {
   "cell_type": "code",
   "execution_count": 43,
   "metadata": {},
   "outputs": [
    {
     "data": {
      "text/plain": [
       "{'AI': 17,\n",
       " '*': 15,\n",
       " 'By': 15,\n",
       " '(Source:': 15,\n",
       " 'to': 15,\n",
       " 'is': 14,\n",
       " 'expected': 13,\n",
       " '2025:': 11,\n",
       " 'generate': 9,\n",
       " 'in': 9,\n",
       " 'revenue': 9,\n",
       " 'billion': 8,\n",
       " 'of': 5,\n",
       " 'MarketsandMarkets)': 5,\n",
       " '2030:': 4,\n",
       " 'on': 3,\n",
       " '1.': 3,\n",
       " 'trillion': 3,\n",
       " '2.': 3,\n",
       " '3.': 3,\n",
       " 'IDC)': 3,\n",
       " 'The': 2,\n",
       " 'economy': 2,\n",
       " 'size': 2,\n",
       " 'depending': 2,\n",
       " 'the': 2,\n",
       " 'and': 2,\n",
       " 'are': 2,\n",
       " 'Market': 2,\n",
       " 'PwC)': 2,\n",
       " 'Economic': 2,\n",
       " 'contribute': 2,\n",
       " 'global': 2,\n",
       " 'GDP': 2,\n",
       " 'growth': 2,\n",
       " 'Accenture)': 2,\n",
       " 'McKinsey)': 2,\n",
       " '4.': 2,\n",
       " 'jobs': 2,\n",
       " 'globally': 2,\n",
       " 'Projections:**': 2,\n",
       " '$100': 2,\n",
       " '$50': 2,\n",
       " '**Projected': 1,\n",
       " 'Economy': 1,\n",
       " 'Size': 1,\n",
       " 'AI:**': 1,\n",
       " 'projected': 1,\n",
       " 'significant,': 1,\n",
       " 'with': 1,\n",
       " 'estimates': 1,\n",
       " 'varying': 1,\n",
       " 'source': 1,\n",
       " 'methodology.': 1,\n",
       " 'Here': 1,\n",
       " 'some': 1,\n",
       " 'notable': 1,\n",
       " 'projections:': 1,\n",
       " '**Global': 1,\n",
       " 'Size:**': 1,\n",
       " '$190': 1,\n",
       " '$1.5': 1,\n",
       " '**AI-Driven': 1,\n",
       " 'Growth:**': 1,\n",
       " '10%': 1,\n",
       " '14%': 1,\n",
       " '**AI-Generated': 1,\n",
       " 'Revenue:**': 1,\n",
       " '$15.7': 1,\n",
       " '$33.5': 1,\n",
       " '**Job': 1,\n",
       " 'Impact:**': 1,\n",
       " 'create': 1,\n",
       " '133': 1,\n",
       " 'million': 1,\n",
       " 'new': 1,\n",
       " 'World': 1,\n",
       " 'Forum)': 1,\n",
       " 'automate': 1,\n",
       " '30%': 1,\n",
       " 'current': 1,\n",
       " '**Industry-Specific': 1,\n",
       " '**Healthcare:**': 1,\n",
       " '$150': 1,\n",
       " '**Financial': 1,\n",
       " 'Services:**': 1,\n",
       " '**Manufacturing:**': 1,\n",
       " '**Transportation:**': 1,\n",
       " '$20': 1,\n",
       " '**Regional': 1,\n",
       " '**North': 1,\n",
       " 'America:**': 1,\n",
       " '**Europe:**': 1,\n",
       " '**Asia-Pacific:**': 1,\n",
       " '$200': 1,\n",
       " 'Note:': 1,\n",
       " 'These': 1,\n",
       " 'projections': 1,\n",
       " 'based': 1,\n",
       " 'various': 1,\n",
       " 'assumptions,': 1,\n",
       " 'including': 1,\n",
       " 'pace': 1,\n",
       " 'development,': 1,\n",
       " 'adoption': 1,\n",
       " 'rates,': 1,\n",
       " 'economic': 1,\n",
       " 'trends.': 1,\n",
       " 'actual': 1,\n",
       " 'may': 1,\n",
       " 'vary': 1,\n",
       " 'several': 1,\n",
       " 'factors.': 1}"
      ]
     },
     "execution_count": 43,
     "metadata": {},
     "output_type": "execute_result"
    }
   ],
   "source": [
    "# prompt: sort the word_count variable according to it values in descending order\n",
    "\n",
    "# sort the word_count dictionary by value in descending order\n",
    "\n",
    "sorted_word_count = dict(sorted(word_count.items(), key=lambda item: item[1], reverse=True)) # Sort the dictionary by value in descending order\n",
    "sorted_word_count"
   ]
  },
  {
   "cell_type": "markdown",
   "metadata": {},
   "source": [
    "## **9. Common Pitfalls**\n",
    "\n",
    "* Using a non-existent key without checking first for e.g. \"\n",
    "``` python\n",
    "print(my_dict.get(\"name_1\")) # Output: None\n",
    "print(my_dict.get(\"name_1\", \"No name found\")) # Output: No name found\n",
    "print(my_dict[\"name_1\"])  # (raises a KeyError).\n",
    "```\n",
    "\n",
    "* Always use get() or check if the key exists with in to avoid error.\n",
    "* Forgetting that dictionary keys must be immutable (e.g., strings, numbers, or tuples).\n",
    "* Assuming dictionaries are ordered (in Python 3.6+, they retain insertion order, but this is not guaranteed in older versions)."
   ]
  },
  {
   "cell_type": "code",
   "execution_count": 59,
   "metadata": {},
   "outputs": [
    {
     "name": "stdout",
     "output_type": "stream",
     "text": [
      "1. Accessing Items\n",
      "Name: John\n",
      "Age: (using get method) 30\n",
      "City: (using get method) New York\n",
      "\n",
      "2. Adding Items\n",
      "{'name': 'John', 'age': 30, 'city': 'New York', 'country': 'USA'}\n",
      "\n",
      "3. Modifying Items\n",
      "{'name': 'John', 'age': 31, 'city': 'New York', 'country': 'USA'}\n",
      "\n",
      "4. Removing Items\n",
      "Dictionary after removing city (using pop): {'name': 'John', 'age': 31, 'country': 'USA'}\n",
      "Dictionary after removing email (using del): {'name': 'John', 'age': 31}\n",
      "\n",
      "5. Dictionary Methods\n",
      "Keys: dict_keys(['name', 'age'])\n",
      "Values: dict_values(['John', 31])\n",
      "Items: dict_items([('name', 'John'), ('age', 31)])\n",
      "\n",
      "6. Clearing the Dictionary\n",
      "Dictionary after clearing: {}\n",
      "\n",
      "7. Updating the Dictionary\n",
      "Dictionary after updating: {'name': 'John', 'age': 32, 'city': 'New York', 'country': 'USA'}\n",
      "\n",
      "8. Iterating Through a Dictionary\n",
      "Iterating through keys:\n",
      "name\n",
      "age\n",
      "city\n",
      "country\n",
      "\n",
      "Iterating through values:\n",
      "John\n",
      "32\n",
      "New York\n",
      "USA\n",
      "\n",
      "Iterating through items (key-value pairs):\n",
      "name: John\n",
      "age: 32\n",
      "city: New York\n",
      "country: USA\n",
      "\n",
      "9. Checking if a Key Exists\n",
      "Name key exists in the dictionary.\n",
      "\n",
      "10. Dictionary Length\n",
      "Length of the dictionary: 4\n",
      "\n",
      "11. Creating a dictionary from iterable\n",
      "New Dictionary: {'key1': 'value1', 'key2': 'value2', 'key3': 'value3'}\n",
      "\n",
      "12. Copying a dictionary\n",
      "Copied dictionary: {'key1': 'value1', 'key2': 'value2', 'key3': 'value3'}\n",
      "\n",
      "13. Nested Dictionaries\n",
      "Nested dictionary: {'person1': {'name': 'Alice', 'age': 25}, 'person2': {'name': 'Bob', 'age': 30}}\n",
      "Alice's age: 25\n"
     ]
    }
   ],
   "source": [
    "# prompt: generate a working example of all dictionary functions\n",
    "\n",
    "# Example Dictionary\n",
    "my_dict = {\n",
    "  \"name\": \"John\",\n",
    "  \"age\": 30,\n",
    "  \"city\": \"New York\"\n",
    "}\n",
    "\n",
    "# 1. Accessing Items\n",
    "print(\"1. Accessing Items\")\n",
    "print(\"Name:\", my_dict[\"name\"])  # Output: John\n",
    "print(\"Age: (using get method)\", my_dict.get(\"age\"))  # Output: 30\n",
    "print(\"City: (using get method)\", my_dict.get(\"city\", \"Not Found\"))  # Output: New York\n",
    "\n",
    "# 2. Adding Items\n",
    "print(\"\\n2. Adding Items\")\n",
    "my_dict[\"country\"] = \"USA\"\n",
    "print(my_dict)  # Output: {'name': 'John', 'age': 30, 'city': 'New York', 'country': 'USA'}\n",
    "\n",
    "# 3. Modifying Items\n",
    "print(\"\\n3. Modifying Items\")\n",
    "my_dict[\"age\"] = 31\n",
    "print(my_dict)  # Output: {'name': 'John', 'age': 31, 'city': 'New York', 'country': 'USA'}\n",
    "\n",
    "# 4. Removing Items\n",
    "print(\"\\n4. Removing Items\")\n",
    "my_dict.pop(\"city\")\n",
    "print(\"Dictionary after removing city (using pop):\", my_dict)  # Output: {'name': 'John', 'age': 31, 'country': 'USA'}\n",
    "del my_dict[\"country\"]\n",
    "print(\"Dictionary after removing email (using del):\", my_dict)  # Output: {'name': 'John', 'age': 31}\n",
    "\n",
    "# 5. Dictionary Methods\n",
    "print(\"\\n5. Dictionary Methods\")\n",
    "print(\"Keys:\", my_dict.keys()) # Output: dict_keys(['name', 'age'])\n",
    "print(\"Values:\", my_dict.values()) # Output: dict_values(['John', 31])\n",
    "print(\"Items:\", my_dict.items()) # Output: dict_items([('name', 'John'), ('age', 31)])\n",
    "\n",
    "# 6. Clearing the Dictionary\n",
    "print(\"\\n6. Clearing the Dictionary\")\n",
    "my_dict.clear()\n",
    "print(\"Dictionary after clearing:\", my_dict)  # Output: {}\n",
    "\n",
    "# Adding items back for further examples\n",
    "my_dict = {\n",
    "  \"name\": \"John\",\n",
    "  \"age\": 30,\n",
    "  \"city\": \"New York\"\n",
    "}\n",
    "\n",
    "# 7. Updating the Dictionary\n",
    "print(\"\\n7. Updating the Dictionary\")\n",
    "my_dict.update({\"age\": 32, \"country\": \"USA\"})\n",
    "print(\"Dictionary after updating:\", my_dict)  # Output: {'name': 'John', 'age': 32, 'city': 'New York', 'country': 'USA'}\n",
    "\n",
    "\n",
    "# 8. Iterating Through a Dictionary\n",
    "print(\"\\n8. Iterating Through a Dictionary\")\n",
    "print(\"Iterating through keys:\")\n",
    "for key in my_dict:\n",
    "    print(key)  # Output: name, age, city, country\n",
    "\n",
    "print(\"\\nIterating through values:\")\n",
    "for value in my_dict.values():\n",
    "  print(value)  # Output: John, 32, New York, USA\n",
    "\n",
    "print(\"\\nIterating through items (key-value pairs):\")\n",
    "for key, value in my_dict.items():\n",
    "  print(f\"{key}: {value}\")  # Output: name: John, age: 32, city: New York, country: USA\n",
    "\n",
    "# 9. Checking if a Key Exists\n",
    "print(\"\\n9. Checking if a Key Exists\")\n",
    "if \"name\" in my_dict:\n",
    "    print(\"Name key exists in the dictionary.\")  # Output: Name key exists in the dictionary.\n",
    "else:\n",
    "    print(\"Name key does not exist in the dictionary.\")  # Output: Name key does not exist in the dictionary.\n",
    "\n",
    "# 10. Dictionary Length\n",
    "print(\"\\n10. Dictionary Length\")\n",
    "print(\"Length of the dictionary:\", len(my_dict))\n",
    "\n",
    "# 11. Creating a dictionary from iterable\n",
    "print(\"\\n11. Creating a dictionary from iterable\")\n",
    "iterable = [(\"key1\", \"value1\"), (\"key2\", \"value2\"), (\"key3\", \"value3\")]\n",
    "my_dict = dict(iterable)\n",
    "print(\"New Dictionary:\", my_dict) # Output: {'key1': 'value1', 'key2': 'value2', 'key3': 'value3'}\n",
    "\n",
    "# 12. Copying a dictionary\n",
    "print(\"\\n12. Copying a dictionary\")\n",
    "copied_dict = my_dict.copy()\n",
    "print(\"Copied dictionary:\", copied_dict) # Output: {'key1': 'value1', 'key2': 'value2', 'key3': 'value3'}\n",
    "\n",
    "# 13. Nested Dictionaries\n",
    "print(\"\\n13. Nested Dictionaries\")\n",
    "nested_dict = {\n",
    "   \"person1\": {\"name\": \"Alice\", \"age\": 25},\n",
    "   \"person2\": {\"name\": \"Bob\", \"age\": 30}\n",
    "}\n",
    "print(\"Nested dictionary:\", nested_dict)\n",
    "print(\"Alice's age:\", nested_dict[\"person1\"][\"age\"])"
   ]
  }
 ],
 "metadata": {
  "kernelspec": {
   "display_name": "Python 3",
   "language": "python",
   "name": "python3"
  },
  "language_info": {
   "codemirror_mode": {
    "name": "ipython",
    "version": 3
   },
   "file_extension": ".py",
   "mimetype": "text/x-python",
   "name": "python",
   "nbconvert_exporter": "python",
   "pygments_lexer": "ipython3",
   "version": "3.13.2"
  }
 },
 "nbformat": 4,
 "nbformat_minor": 2
}
