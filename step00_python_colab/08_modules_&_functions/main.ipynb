{
 "cells": [
  {
   "cell_type": "markdown",
   "metadata": {},
   "source": [
    "<font color=\"#4ee247\" size=8> **Lesson # 08:** </font><font color=\"#ffbf00\" size=8>**Modules and Functions**</font>"
   ]
  },
  {
   "cell_type": "markdown",
   "metadata": {},
   "source": [
    "# **What is a Module in Python?**\n",
    "\n",
    "A module in Python is a file that contains Python code (functions, classes, variables, or even runnable code) and is used to organize and reuse code efficiently.\n",
    "\n",
    "* A module is simply a .py file that can be imported and used in other Python programs.\n",
    "\n",
    "* Modules help keep the code modular, readable, and maintainable.\n",
    "* Python has built-in modules (like math, random, os) and also allows users to create custom modules."
   ]
  },
  {
   "cell_type": "markdown",
   "metadata": {},
   "source": [
    "## **Types of Modules in Python**\n",
    "\n",
    "### **1. Built-in Modules (Standard Library)**\n",
    "\n",
    "  * Pre-installed modules in Python.\n",
    "  * Example: math, random, os, sys\n",
    "\n",
    "\n",
    "### **Example usage:**\n",
    "\n"
   ]
  },
  {
   "cell_type": "code",
   "execution_count": 8,
   "metadata": {},
   "outputs": [
    {
     "name": "stdout",
     "output_type": "stream",
     "text": [
      "5.0\n"
     ]
    }
   ],
   "source": [
    "import math\n",
    "print(math.sqrt(25))"
   ]
  },
  {
   "cell_type": "markdown",
   "metadata": {},
   "source": [
    "### **2.  User-Defined Modules (Custom Modules)**\n",
    "\n",
    "  * Any Python file (.py) you create can be used as a module.\n",
    "\n",
    "\n",
    "### **Example:**\n",
    "\n",
    "* Create a file called mymodule.py: `(use VSCode/Cursor on local computer)`"
   ]
  },
  {
   "cell_type": "code",
   "execution_count": 9,
   "metadata": {},
   "outputs": [],
   "source": [
    "def add(a, b):\n",
    "    return a + b"
   ]
  },
  {
   "cell_type": "markdown",
   "metadata": {},
   "source": [
    "* Import and use it in another script: `(use VSCode/Cursor on local computer)`"
   ]
  },
  {
   "cell_type": "code",
   "execution_count": 10,
   "metadata": {},
   "outputs": [
    {
     "name": "stdout",
     "output_type": "stream",
     "text": [
      "10\n"
     ]
    }
   ],
   "source": [
    "import mymodule\n",
    "print(mymodule.add(5, 5)) # Output : 10"
   ]
  },
  {
   "cell_type": "markdown",
   "metadata": {},
   "source": [
    "### **3.  External Modules (Third-party Libraries)**\n",
    "\n",
    "* Installed via pip (pip install module_name).\n",
    "* Example: numpy, pandas, requests\n",
    "* Example usage:\n"
   ]
  },
  {
   "cell_type": "code",
   "execution_count": 11,
   "metadata": {},
   "outputs": [
    {
     "name": "stdout",
     "output_type": "stream",
     "text": [
      "Requirement already satisfied: requests in c:\\users\\aothhsa\\appdata\\local\\programs\\python\\python313\\lib\\site-packages (2.32.3)\n",
      "Requirement already satisfied: charset-normalizer<4,>=2 in c:\\users\\aothhsa\\appdata\\local\\programs\\python\\python313\\lib\\site-packages (from requests) (3.4.1)\n",
      "Requirement already satisfied: idna<4,>=2.5 in c:\\users\\aothhsa\\appdata\\local\\programs\\python\\python313\\lib\\site-packages (from requests) (3.10)\n",
      "Requirement already satisfied: urllib3<3,>=1.21.1 in c:\\users\\aothhsa\\appdata\\local\\programs\\python\\python313\\lib\\site-packages (from requests) (2.3.0)\n",
      "Requirement already satisfied: certifi>=2017.4.17 in c:\\users\\aothhsa\\appdata\\local\\programs\\python\\python313\\lib\\site-packages (from requests) (2025.1.31)\n"
     ]
    }
   ],
   "source": [
    "!pip install requests"
   ]
  },
  {
   "cell_type": "code",
   "execution_count": 12,
   "metadata": {},
   "outputs": [
    {
     "name": "stdout",
     "output_type": "stream",
     "text": [
      "200\n"
     ]
    }
   ],
   "source": [
    "import requests\n",
    "response = requests.get('https://google.com')\n",
    "print(response.status_code) # Output: 200"
   ]
  },
  {
   "cell_type": "markdown",
   "metadata": {},
   "source": [
    "## **How to Import a Module in Python?**\n",
    "\n",
    "Python provides several ways to import modules:\n",
    "\n",
    "### **1.  Basic Import**"
   ]
  },
  {
   "cell_type": "code",
   "execution_count": 13,
   "metadata": {},
   "outputs": [
    {
     "name": "stdout",
     "output_type": "stream",
     "text": [
      "3.141592653589793\n"
     ]
    }
   ],
   "source": [
    "import math\n",
    "print(math.pi) # Output : 3.141592653589793"
   ]
  },
  {
   "cell_type": "markdown",
   "metadata": {},
   "source": [
    "### **2.  Import with Alias (as)**"
   ]
  },
  {
   "cell_type": "code",
   "execution_count": 14,
   "metadata": {},
   "outputs": [
    {
     "name": "stdout",
     "output_type": "stream",
     "text": [
      "[1 2 3]\n"
     ]
    }
   ],
   "source": [
    "import numpy as np\n",
    "print(np.array([1, 2, 3]))"
   ]
  },
  {
   "cell_type": "markdown",
   "metadata": {},
   "source": [
    "### **3. Import Specific Functions or Variables (from ... import ...)**\n",
    "\n"
   ]
  },
  {
   "cell_type": "code",
   "execution_count": 15,
   "metadata": {},
   "outputs": [
    {
     "name": "stdout",
     "output_type": "stream",
     "text": [
      "4.0\n",
      "3.141592653589793\n"
     ]
    }
   ],
   "source": [
    "from math import pi, sqrt\n",
    "print(sqrt(16)) # Output : 4.0\n",
    "print(pi)"
   ]
  },
  {
   "cell_type": "markdown",
   "metadata": {},
   "source": [
    "### **4. Import Everything (from module import '*') (Not recommended for large modules)**  "
   ]
  },
  {
   "cell_type": "code",
   "execution_count": 16,
   "metadata": {},
   "outputs": [
    {
     "name": "stdout",
     "output_type": "stream",
     "text": [
      "0.0\n"
     ]
    }
   ],
   "source": [
    "from math import *\n",
    "print(sin(0)) # Output : 0.0"
   ]
  },
  {
   "cell_type": "markdown",
   "metadata": {},
   "source": [
    "## **Advantages of Using Modules**\n",
    "\n",
    "✔ **Code Reusability** – Write once, use anywhere.\n",
    "\n",
    "✔ **Organization** – Keep related functions together.\n",
    "\n",
    "✔ **Namespace Management** – Prevents variable conflicts.\n",
    "\n",
    "✔ **Faster Development** – Use existing libraries instead of writing everything from scratch."
   ]
  },
  {
   "cell_type": "markdown",
   "metadata": {},
   "source": [
    "# **Understanding Functions in Python**\n",
    "\n",
    "\n",
    "A Python function is a block of organized, reusable code that is used to perform a single, related action. Functions provide better modularity for your application and a high degree of code reusing.\n",
    "\n",
    "\n",
    "\n"
   ]
  },
  {
   "cell_type": "code",
   "execution_count": 17,
   "metadata": {},
   "outputs": [
    {
     "name": "stdout",
     "output_type": "stream",
     "text": [
      "Hello from my_function!\n"
     ]
    }
   ],
   "source": [
    "# This is a global function because it's defined at the top level of the module\n",
    "\n",
    "def my_function():\n",
    "    print(\"Hello from my_function!\")\n",
    "\n",
    "# This function can be called from anywhere in the module\n",
    "my_function()"
   ]
  },
  {
   "cell_type": "markdown",
   "metadata": {},
   "source": [
    "A global function in Python is a function that’s defined in the main body of a module, rather than inside another function or class. This means that the function is available throughout the module, and if the module is imported into another file, the function can be accessed from there as well.\n",
    "\n",
    "## **Key Points:**\n",
    "\n",
    "### **Scope:**\n",
    "\n",
    "* Global functions have a module-level scope. They can be called by any code within that module, and if imported, they can be used elsewhere too.\n",
    "\n",
    "### **Usage:**\n",
    "\n",
    "* Global functions are typically used to perform tasks that don't depend on a specific object's state. They’re ideal for utility functions, helper functions, or any code that can be reused in various parts of your program."
   ]
  },
  {
   "cell_type": "markdown",
   "metadata": {},
   "source": [
    "## **Types of Python Functions**\n",
    "\n",
    "Python provides the following types of functions −\n",
    "\n",
    "\n",
    "1)\t**Built-in functions**\n",
    "\n",
    "-   Python's standard library includes number of built-in functions. Some of Python's built-in functions are print(), int(), len(), sum(), etc. These functions are always available, as they are loaded into computer's memory as soon as you start Python interpreter.\n",
    "\n",
    "2)  **Functions defined in built-in modules**\n",
    "\n",
    "-   The standard library also bundles a number of modules. Each module defines a group of functions. These functions are not readily available. You need to import them into the memory from their respective modules.\n",
    "\n",
    "3)  **User-defined functions**\n",
    "\n",
    "-   In addition to the built-in functions and functions in the built-in modules, you can also create your own functions. These functions are called user-defined functions."
   ]
  },
  {
   "cell_type": "code",
   "execution_count": 18,
   "metadata": {},
   "outputs": [
    {
     "name": "stdout",
     "output_type": "stream",
     "text": [
      "Hello World\n"
     ]
    }
   ],
   "source": [
    "# Built-in functions\n",
    "print(\"Hello World\")"
   ]
  },
  {
   "cell_type": "code",
   "execution_count": 19,
   "metadata": {},
   "outputs": [
    {
     "name": "stdout",
     "output_type": "stream",
     "text": [
      "0.8209204971459553\n"
     ]
    }
   ],
   "source": [
    "# Functions defined in built-in modules\n",
    "import random\n",
    "print(random.random())"
   ]
  },
  {
   "cell_type": "code",
   "execution_count": 20,
   "metadata": {},
   "outputs": [
    {
     "name": "stdout",
     "output_type": "stream",
     "text": [
      "Hello from a user-defined function\n"
     ]
    }
   ],
   "source": [
    "# User-defined functions\n",
    "def my_function():\n",
    "    print(\"Hello from a user-defined function\")\n",
    "\n",
    "my_function()\n",
    "    "
   ]
  },
  {
   "cell_type": "markdown",
   "metadata": {},
   "source": [
    "## **Syntax to Define a Python Function**\n",
    "\n",
    "```python\n",
    "def function_name( parameters ):\n",
    "   \"function_docstring\"\n",
    "   function_suite\n",
    "   return [expression]\n",
    "   ```"
   ]
  },
  {
   "cell_type": "code",
   "execution_count": 21,
   "metadata": {},
   "outputs": [
    {
     "name": "stdout",
     "output_type": "stream",
     "text": [
      "Hello World\n"
     ]
    }
   ],
   "source": [
    "def greeting():\n",
    "    \"This is a docstring of greeting function\"\n",
    "    greet = \"Hello World\"\n",
    "    return greet\n",
    "\n",
    "message = greeting()\n",
    "print(message) # Output : Hello World"
   ]
  },
  {
   "cell_type": "markdown",
   "metadata": {},
   "source": [
    "## **Pass by Reference vs Value**\n",
    "\n",
    "Python uses pass by object reference. Immutable objects (e.g. integers) are unchanged, while mutable objects (e.g. lists) are modified. Examples:\n",
    "* Integers: `x = 5` remains `5` after modification.\n",
    "* Lists: `x = [1, 2, 3]` becomes `[1, 2, 3, 4]` after appending `4`.\n",
    "\n",
    "In this example, `x` remains unchanged after the `modify_value` function, because it's an immutable integer. However, `lst` is modified after the `modify_list` function, because it's a mutable list."
   ]
  },
  {
   "cell_type": "code",
   "execution_count": 22,
   "metadata": {},
   "outputs": [
    {
     "name": "stdout",
     "output_type": "stream",
     "text": [
      "Original value: 5\n",
      "Inside function: 10\n",
      "After function call: 5\n"
     ]
    }
   ],
   "source": [
    "def modify_value(x):\n",
    "    x = 10\n",
    "    print(\"Inside function:\", x)\n",
    "\n",
    "# Immutable object (integer)\n",
    "x = 5\n",
    "print(\"Original value:\", x)\n",
    "modify_value(x)\n",
    "print(\"After function call:\", x)"
   ]
  },
  {
   "cell_type": "code",
   "execution_count": 23,
   "metadata": {},
   "outputs": [
    {
     "name": "stdout",
     "output_type": "stream",
     "text": [
      "Original value: [1, 2, 3] -ID: 2017002159232\n",
      "Inside function: [1, 2, 3, 4] -ID: 2017002159232\n",
      "After function call: [1, 2, 3, 4] -ID: 2017002159232\n"
     ]
    }
   ],
   "source": [
    "def modify_list(lst):\n",
    "    lst.append(4)\n",
    "    print(\"Inside function:\", lst, \"-ID:\", id(lst))\n",
    "\n",
    "# Mutable object (list)\n",
    "lst = [1, 2, 3]\n",
    "print(\"Original value:\", lst, \"-ID:\", id(lst))\n",
    "modify_list(lst)\n",
    "print(\"After function call:\", lst, \"-ID:\", id(lst))\n"
   ]
  },
  {
   "cell_type": "markdown",
   "metadata": {},
   "source": [
    "## **Function Arguments**\n",
    "\n",
    "Function arguments are the values or variables passed into a function when it is called."
   ]
  },
  {
   "cell_type": "code",
   "execution_count": 24,
   "metadata": {},
   "outputs": [
    {
     "name": "stdout",
     "output_type": "stream",
     "text": [
      "Hello Osama\n",
      "Hello Osama bin Adnan\n"
     ]
    }
   ],
   "source": [
    "def greeting(name):\n",
    "    \"This is docstring of greetings function\"\n",
    "    print(\"Hello {}\".format(name)) # This is an older way of formatting strings. A more modern way is using f-strings:\n",
    "    return\n",
    "\n",
    "greeting(\"Osama\") # Output : Hello Osama\n",
    "greeting(\"Osama bin Adnan\") # Output : Hello Osama bin Adnan"
   ]
  },
  {
   "cell_type": "markdown",
   "metadata": {},
   "source": [
    "## **Keyword Arguments**\n",
    "\n",
    "Keyword arguments are related to the function calls. When you use keyword arguments in a function call, the caller identifies the arguments by the parameter name. This allows you to skip arguments or place them out of order because the Python interpreter is able to use the keywords provided to match the values with parameters."
   ]
  },
  {
   "cell_type": "code",
   "execution_count": 25,
   "metadata": {},
   "outputs": [
    {
     "name": "stdout",
     "output_type": "stream",
     "text": [
      "Name:  Osama bin Adnan\n",
      "Age:  25\n",
      "Name:  Arif\n",
      "Age:  50\n"
     ]
    }
   ],
   "source": [
    "def printinfo (name, age):\n",
    "    \"This prints a passed info into this function\"\n",
    "    print(\"Name: \", name)\n",
    "    print(\"Age: \", age)\n",
    "    return\n",
    "# Now you can call printinfo function\n",
    "printinfo(\"Osama bin Adnan\", 25)\n",
    "printinfo( age=50, name=\"Arif\" )\n",
    "#printinfo(50, \"Arif\" ) # This will print age infront of name and name infront of Age that why relevancy is important"
   ]
  },
  {
   "cell_type": "code",
   "execution_count": 26,
   "metadata": {},
   "outputs": [
    {
     "name": "stdout",
     "output_type": "stream",
     "text": [
      "30.0\n",
      "52.0\n",
      "5.0\n"
     ]
    }
   ],
   "source": [
    "def add(x:int, y:int=0):\n",
    "    return float(x+y)\n",
    "\n",
    "print(float(add(10,20)))\n",
    "print(add(y=50.0, x=2.0)) # type hints are not enforced in Python\n",
    "print(add(x=5))"
   ]
  },
  {
   "cell_type": "markdown",
   "metadata": {},
   "source": [
    "## **\\*  unpacking iterables**\n",
    "\n",
    "In Python, the * operator is used for unpacking iterables (like lists, tuples, or sets) into individual elements. When you use * before a list (or any iterable) in a function call, it unpacks the list and passes its elements as separate positional arguments to the function.\n",
    "\n",
    "Example:"
   ]
  },
  {
   "cell_type": "code",
   "execution_count": 27,
   "metadata": {},
   "outputs": [
    {
     "name": "stdout",
     "output_type": "stream",
     "text": [
      "<class 'tuple'> ,  (1, 2, 3, 4, 5, 8, 5)\n"
     ]
    },
    {
     "ename": "TypeError",
     "evalue": "sum() missing 1 required positional argument: 'arg2'",
     "output_type": "error",
     "traceback": [
      "\u001b[1;31m---------------------------------------------------------------------------\u001b[0m",
      "\u001b[1;31mTypeError\u001b[0m                                 Traceback (most recent call last)",
      "Cell \u001b[1;32mIn[27], line 9\u001b[0m\n\u001b[0;32m      6\u001b[0m     \u001b[38;5;28;01mreturn\u001b[39;00m \u001b[38;5;28msum\u001b[39m(nums)\n\u001b[0;32m      8\u001b[0m \u001b[38;5;66;03m# Here, 1, 2, 3, 4, 5, 8, 5 are passed as individual arguments and get packed into nums.\u001b[39;00m\n\u001b[1;32m----> 9\u001b[0m \u001b[38;5;28mprint\u001b[39m(\u001b[38;5;124m\"\u001b[39m\u001b[38;5;124mSum =\u001b[39m\u001b[38;5;124m\"\u001b[39m, \u001b[43mmy_sum\u001b[49m\u001b[43m(\u001b[49m\u001b[38;5;241;43m1\u001b[39;49m\u001b[43m,\u001b[49m\u001b[38;5;241;43m2\u001b[39;49m\u001b[43m,\u001b[49m\u001b[38;5;241;43m3\u001b[39;49m\u001b[43m,\u001b[49m\u001b[38;5;241;43m4\u001b[39;49m\u001b[43m,\u001b[49m\u001b[38;5;241;43m5\u001b[39;49m\u001b[43m,\u001b[49m\u001b[38;5;241;43m8\u001b[39;49m\u001b[43m,\u001b[49m\u001b[38;5;241;43m5\u001b[39;49m\u001b[43m)\u001b[49m,\u001b[38;5;124m\"\u001b[39m\u001b[38;5;130;01m\\n\u001b[39;00m\u001b[38;5;124m\"\u001b[39m)\n\u001b[0;32m     10\u001b[0m \u001b[38;5;66;03m# The * operator unpacks the list, so it behaves as if we passed 1, 2, 3, 4, 5, 8, 5 directly.\u001b[39;00m\n\u001b[0;32m     11\u001b[0m \u001b[38;5;28mprint\u001b[39m(\u001b[38;5;124m\"\u001b[39m\u001b[38;5;124mSum *[] = \u001b[39m\u001b[38;5;124m\"\u001b[39m,my_sum(\u001b[38;5;241m*\u001b[39m[\u001b[38;5;241m1\u001b[39m,\u001b[38;5;241m2\u001b[39m,\u001b[38;5;241m3\u001b[39m,\u001b[38;5;241m4\u001b[39m,\u001b[38;5;241m5\u001b[39m,\u001b[38;5;241m8\u001b[39m,\u001b[38;5;241m5\u001b[39m]), \u001b[38;5;124m\"\u001b[39m\u001b[38;5;130;01m\\n\u001b[39;00m\u001b[38;5;124m\"\u001b[39m) \u001b[38;5;66;03m# unpacking list\u001b[39;00m\n",
      "Cell \u001b[1;32mIn[27], line 6\u001b[0m, in \u001b[0;36mmy_sum\u001b[1;34m(*nums)\u001b[0m\n\u001b[0;32m      4\u001b[0m \u001b[38;5;28;01mdef\u001b[39;00m\u001b[38;5;250m \u001b[39m\u001b[38;5;21mmy_sum\u001b[39m(\u001b[38;5;241m*\u001b[39mnums):\n\u001b[0;32m      5\u001b[0m     \u001b[38;5;28mprint\u001b[39m(\u001b[38;5;28mtype\u001b[39m(nums),\u001b[38;5;124m\"\u001b[39m\u001b[38;5;124m, \u001b[39m\u001b[38;5;124m\"\u001b[39m, nums)\n\u001b[1;32m----> 6\u001b[0m     \u001b[38;5;28;01mreturn\u001b[39;00m \u001b[38;5;28;43msum\u001b[39;49m\u001b[43m(\u001b[49m\u001b[43mnums\u001b[49m\u001b[43m)\u001b[49m\n",
      "\u001b[1;31mTypeError\u001b[0m: sum() missing 1 required positional argument: 'arg2'"
     ]
    }
   ],
   "source": [
    "# The * operator in Python is used to unpack (spread out) elements of an iterable (like a list or tuple) into individual values.\n",
    "# The *nums inside the function collects all arguments into a tuple.\n",
    "# It allows the function to take any number of arguments.\n",
    "def my_sum(*nums):\n",
    "    print(type(nums),\", \", nums)\n",
    "    return sum(nums)\n",
    "\n",
    "# Here, 1, 2, 3, 4, 5, 8, 5 are passed as individual arguments and get packed into nums.\n",
    "print(\"Sum =\", my_sum(1,2,3,4,5,8,5),\"\\n\")\n",
    "# The * operator unpacks the list, so it behaves as if we passed 1, 2, 3, 4, 5, 8, 5 directly.\n",
    "print(\"Sum *[] = \",my_sum(*[1,2,3,4,5,8,5]), \"\\n\") # unpacking list\n",
    "# The * operator unpacks the tuple, working the same way as unpacking a list.\n",
    "print(\"Sum *() = \", my_sum(*(1, 2, 3, 4, 5, 8, 5)), \"\\n\") # unpacking tuple\n"
   ]
  },
  {
   "cell_type": "markdown",
   "metadata": {},
   "source": [
    "## **Default Arguments**\n",
    "\n",
    "A default argument is an argument that assumes a default value if a value is not provided in the function call for that argument."
   ]
  },
  {
   "cell_type": "code",
   "execution_count": null,
   "metadata": {},
   "outputs": [
    {
     "name": "stdout",
     "output_type": "stream",
     "text": [
      "Name:  Arif\n",
      "Age:  50\n",
      "Name:  Osama\n",
      "Age:  36\n",
      "Name:  Osama bin Adnan\n",
      "Age:  36\n"
     ]
    }
   ],
   "source": [
    "def printinfo(name, age = 36):\n",
    "    \"This prints a passed info into this function\"\n",
    "    print(\"Name: \", name)\n",
    "    print(\"Age: \", age)\n",
    "    return\n",
    "\n",
    "# Now you can call printinfo function\n",
    "printinfo(age=50, name=\"Arif\")\n",
    "printinfo(name=\"Osama\")\n",
    "printinfo(\"Osama bin Adnan\")"
   ]
  },
  {
   "cell_type": "markdown",
   "metadata": {},
   "source": [
    "## **Positional-only arguments**\n",
    "\n",
    "Those arguments that can only be specified by their position in the function call is called as `Positional-only arguments`. They are defined by placing a `\"/\"` in the function's parameter list after all positional-only parameters.\n",
    "\n",
    "Example\n",
    "\n",
    "  - In the following example, we have defined two positional-only arguments namely `\"x\"` and `\"y\"`. This method should be called with positional arguments in the order in which the arguments are declared, otherwise, we will get an error."
   ]
  },
  {
   "cell_type": "code",
   "execution_count": null,
   "metadata": {},
   "outputs": [
    {
     "name": "stdout",
     "output_type": "stream",
     "text": [
      "Evaluating positional-only arguments: \n",
      "6\n"
     ]
    }
   ],
   "source": [
    "# Some function arguments can only be passed by position, not by name. These are called positional-only arguments.\n",
    "# To define them, we use / in the function signature. Everything before / must be passed by position, not as a keyword argument.\n",
    "\n",
    "# x and y are positional-only (must be passed without naming them).\n",
    "# z can be passed by name (keyword argument) or by position.\n",
    "def posFunArgument(x, y, /, z):\n",
    "    print(x+y+z)\n",
    "\n",
    "print(\"Evaluating positional-only arguments: \")\n",
    "# Works because x=1 and y=2 are passed by position, while z=3 is named.\n",
    "posFunArgument(1, 2, z=3)\n",
    "\n",
    "# uncomment to see error\n",
    "# posFunArgument(x=1, y=2, z=3)\n",
    "# ❌ This fails because x and y are positional-only, but they are passed as keyword arguments.\n",
    "\n",
    "# Use / in a function to make some arguments positional-only, meaning you must pass them without naming them in the function call. 🚀"
   ]
  },
  {
   "cell_type": "code",
   "execution_count": null,
   "metadata": {},
   "outputs": [
    {
     "ename": "TypeError",
     "evalue": "posFunArgument() got some positional-only arguments passed as keyword arguments: 'x, y'",
     "output_type": "error",
     "traceback": [
      "\u001b[1;31m---------------------------------------------------------------------------\u001b[0m",
      "\u001b[1;31mTypeError\u001b[0m                                 Traceback (most recent call last)",
      "Cell \u001b[1;32mIn[39], line 2\u001b[0m\n\u001b[0;32m      1\u001b[0m \u001b[38;5;66;03m# Run to see error\u001b[39;00m\n\u001b[1;32m----> 2\u001b[0m \u001b[43mposFunArgument\u001b[49m\u001b[43m(\u001b[49m\u001b[43mx\u001b[49m\u001b[38;5;241;43m=\u001b[39;49m\u001b[38;5;241;43m1\u001b[39;49m\u001b[43m,\u001b[49m\u001b[43m \u001b[49m\u001b[43my\u001b[49m\u001b[38;5;241;43m=\u001b[39;49m\u001b[38;5;241;43m2\u001b[39;49m\u001b[43m,\u001b[49m\u001b[43m \u001b[49m\u001b[43mz\u001b[49m\u001b[38;5;241;43m=\u001b[39;49m\u001b[38;5;241;43m3\u001b[39;49m\u001b[43m)\u001b[49m \u001b[38;5;66;03m# TypeError: posFunArgument() got some positional-only arguments passed as keyword arguments: 'x, y'\u001b[39;00m\n",
      "\u001b[1;31mTypeError\u001b[0m: posFunArgument() got some positional-only arguments passed as keyword arguments: 'x, y'"
     ]
    }
   ],
   "source": [
    "# Run to see error\n",
    "posFunArgument(x=1, y=2, z=3) # TypeError: posFunArgument() got some positional-only arguments passed as keyword arguments: 'x, y'"
   ]
  },
  {
   "cell_type": "markdown",
   "metadata": {},
   "source": [
    "## **Error**\n",
    "\n",
    "```python\n",
    "posFunArgument(x=1, y=2, z=3)\n",
    "```\n",
    "\n",
    "This means that arguments before the '/' must be specified by their position in the function call and cannot be passed using keyword arguments.\n",
    "\n",
    "`x` and `y` are declared before the '/', making them positional-only. When you call `posFun(x=1, y=2, z=3)`, you're attempting to pass `x` and `y` as keyword arguments, violating this rule and hence the `TypeError` is raised."
   ]
  },
  {
   "cell_type": "markdown",
   "metadata": {},
   "source": [
    "## **Keyword-only arguments**\n",
    "\n",
    "Those arguments that must be specified by their `name` while calling the function is known as `Keyword-only arguments`. They are defined by placing an `asterisk (\"*\")` in the function's parameter list before any keyword-only parameters. This type of argument can only be passed to a function as a keyword argument, not a positional argument."
   ]
  },
  {
   "cell_type": "code",
   "execution_count": null,
   "metadata": {},
   "outputs": [
    {
     "name": "stdout",
     "output_type": "stream",
     "text": [
      "Evaluating keyword-only arguments: \n",
      "240\n",
      "240\n"
     ]
    }
   ],
   "source": [
    "# Some function arguments must be passed by name (as keyword arguments) and cannot be passed by position. These are called keyword-only arguments.\n",
    "# To define them, we use * in the function signature before listing the keyword-only parameters.\n",
    "# The * means that all arguments after it must be passed by name (keyword arguments).\n",
    "def posFun (*, num1, num2, num3):\n",
    "    print(num1 * num2 * num3)\n",
    "\n",
    "print(\"Evaluating keyword-only arguments: \")\n",
    "# These work because all arguments are passed by name.\n",
    "posFun(num1=6, num2=8, num3=5)\n",
    "posFun(num3=5, num1=6, num2=8)\n",
    "\n",
    "# TypeError: posFun() takes 0 positional arguments but 3 were given\n",
    "# posFun(6, 8, 5)\n",
    "# ❌ This fails because the function requires keyword arguments, but the values are passed by position instead."
   ]
  },
  {
   "cell_type": "markdown",
   "metadata": {},
   "source": [
    "## **Arbitrary or Variable-length Arguments**\n",
    "\n",
    "You may need to process a function for more arguments than you specified while defining the function. These arguments are called variable-length arguments and are not named in the function definition, unlike required and default arguments.\n",
    "\n",
    "Syntax for a function with non-keyword variable arguments is this −\n",
    "\n",
    "```python\n",
    "  def functionname([formal_args,] *var_args_tuple ):\n",
    "    \"function_docstring\"\n",
    "    function_suite\n",
    "    return [expression]\n",
    "\n",
    "```"
   ]
  },
  {
   "cell_type": "code",
   "execution_count": null,
   "metadata": {},
   "outputs": [
    {
     "name": "stdout",
     "output_type": "stream",
     "text": [
      "Output is: \n",
      "10\n",
      "Output is: \n",
      "70\n",
      "* 60\n",
      "* 50\n",
      "* 40\n",
      "* 90\n"
     ]
    }
   ],
   "source": [
    "# The function printinfo is designed to accept one required argument (arg1) and any number of extra arguments (*vartuple).\n",
    "# arg1 → A regular argument (must be provided).\n",
    "# *vartuple → Collects extra arguments into a tuple.\n",
    "def printinfo(arg1, *vartuple):\n",
    "    \"This prints a variable passed arguments\"\n",
    "    print(\"Output is: \")\n",
    "    print(arg1) # Prints the first argument separately\n",
    "    for var in vartuple:\n",
    "        print(\"*\",var) # Loops through the remaining arguments\n",
    "    return\n",
    "\n",
    "# Now you can call printinfo function\n",
    "\n",
    "# 👉 Since only one argument is passed, vartuple is empty.\n",
    "printinfo(10)\n",
    "# 👉 70 is printed separately (since it's arg1), and the rest (60, 50, 40, 90) are printed from vartuple.\n",
    "printinfo(70, 60, 50, 40, 90)"
   ]
  },
  {
   "cell_type": "markdown",
   "metadata": {},
   "source": [
    "## **Python Function with Return Value**\n",
    "\n",
    "The return keyword as the last statement in function definition indicates end of function block, and the program flow goes back to the calling function. ***`Although reduced indent after the last statement in the block also implies return but using explicit return is a good practice`***.\n",
    "\n",
    "Along with the flow control, the function can also return value of an expression to the calling function. The value of returned expression can be stored in a variable for further processing."
   ]
  },
  {
   "cell_type": "code",
   "execution_count": null,
   "metadata": {},
   "outputs": [
    {
     "name": "stdout",
     "output_type": "stream",
     "text": [
      "a = 10 b= 20 a+b= 30\n"
     ]
    }
   ],
   "source": [
    "def add(x,y):\n",
    "    z= x+y\n",
    "    return z\n",
    "a = 10\n",
    "b = 20\n",
    "result = add(a,b)\n",
    "\n",
    "print(f\"a = {a} b= {b} a+b= {result}\")"
   ]
  },
  {
   "cell_type": "markdown",
   "metadata": {},
   "source": [
    "## **The Anonymous Functions**\n",
    "\n",
    "The functions are called anonymous when they are not declared in the standard manner by using the def keyword. Instead, they are defined using the `lambda keyword`.\n",
    "\n",
    "### **Syntax**\n",
    "\n",
    "The syntax of lambda functions contains only a single statement, which is as follows −\n",
    "\n",
    "```python\n",
    "lambda [arg1 [,arg2,.....argn]]:expression\n",
    "```"
   ]
  },
  {
   "cell_type": "code",
   "execution_count": null,
   "metadata": {},
   "outputs": [
    {
     "name": "stdout",
     "output_type": "stream",
     "text": [
      "3\n"
     ]
    }
   ],
   "source": [
    "def add(x,y):\n",
    "    return x + y\n",
    "\n",
    "my_lambda = lambda x,y: x + y\n",
    "\n",
    "print(my_lambda(1,2))"
   ]
  },
  {
   "cell_type": "code",
   "execution_count": null,
   "metadata": {},
   "outputs": [
    {
     "data": {
      "text/plain": [
       "{'date': 2, 'banana': 3, 'apple': 5, 'cherry': 8}"
      ]
     },
     "execution_count": 52,
     "metadata": {},
     "output_type": "execute_result"
    }
   ],
   "source": [
    "# prompt: sort by value dictionary using lambda function\n",
    "\n",
    "my_dict = {\"apple\":5, \"banana\":3, \"cherry\":8, \"date\":2}\n",
    "\n",
    "# my_dict.items() → Converts the dictionary into a list of (key, value) pairs:\n",
    "# sorted(..., key=lambda item: item[1]) → Sorts the list by the values (item[1]), not keys.\n",
    "# dict(...) → Converts the sorted list back into a dictionary.\n",
    "sorted_dict = dict(sorted(my_dict.items(), key=lambda item: item[1]))\n",
    "\n",
    "sorted_dict # ✅ Now, the dictionary is sorted from smallest to largest value! "
   ]
  },
  {
   "cell_type": "code",
   "execution_count": null,
   "metadata": {},
   "outputs": [
    {
     "name": "stdout",
     "output_type": "stream",
     "text": [
      "Value of total :  30\n",
      "Value of total :  70\n"
     ]
    }
   ],
   "source": [
    "# Function definition is here\n",
    "sum = lambda arg1, arg2: arg1 + arg2;\n",
    "\n",
    "# Now you can call sum as a function\n",
    "print(\"Value of total : \", sum(10, 20))\n",
    "print(\"Value of total : \", sum(50, 20))"
   ]
  },
  {
   "cell_type": "markdown",
   "metadata": {},
   "source": [
    "## **Scope of Variables**\n",
    "\n",
    "All variables in a program may not be accessible at all locations in that program. This depends on where you have declared a variable.\n",
    "\n",
    "The scope of a variable determines the portion of the program where you can access a particular identifier. There are two basic scopes of variables in Python −\n",
    "\n",
    "  - `Global variables`\n",
    "\n",
    "  - `Local variables`\n",
    "\n",
    "\n",
    "**Global vs. Local variables**\n",
    "\n",
    "Variables that are defined inside a function body have a local scope, and those defined outside have a global scope.\n",
    "\n",
    "This means that local variables can be accessed only inside the function in which they are declared, whereas global variables can be accessed throughout the program body by all functions. When you call a function, the variables declared inside it are brought into scope."
   ]
  },
  {
   "cell_type": "code",
   "execution_count": null,
   "metadata": {},
   "outputs": [
    {
     "name": "stdout",
     "output_type": "stream",
     "text": [
      "Inside the function local total :  30\n",
      "Outside the function global total :  0\n"
     ]
    }
   ],
   "source": [
    "total = 0;  # this is global variable\n",
    "\n",
    "# Function definition is here\n",
    "def sum (arg1, arg2):\n",
    "    # Add both the parameters and return them.\"\n",
    "    total = arg1 + arg2; # Here total is local variable.\n",
    "    print (\"Inside the function local total : \", total)\n",
    "    return total\n",
    "\n",
    "# Now you can call sum function\n",
    "sum( 10, 20 );\n",
    "print (\"Outside the function global total : \", total)"
   ]
  },
  {
   "cell_type": "markdown",
   "metadata": {},
   "source": [
    "## **Arbitrary Keyword Arguments,** ****kwargs**\n",
    "\n",
    "If you do not know how many keyword arguments that will be passed into your function, add two asterisk: ** before the parameter name in the function definition.\n",
    "\n",
    "This way the function will receive a dictionary of arguments, and can access the items accordingly:\n",
    "\n"
   ]
  },
  {
   "cell_type": "code",
   "execution_count": null,
   "metadata": {},
   "outputs": [
    {
     "name": "stdout",
     "output_type": "stream",
     "text": [
      "\n",
      "His last name is bin Adnan\n",
      "fname Osama\n",
      "lname bin Adnan\n",
      "{'fname': 'Osama', 'lname': 'bin Adnan'}\n",
      "\n",
      "His last name is Osman\n",
      "fname Ali\n",
      "lname Osman\n",
      "course Python - 101\n",
      "day Saturday\n",
      "time 1400 - 1800\n",
      "{'fname': 'Ali', 'lname': 'Osman', 'course': 'Python - 101', 'day': 'Saturday', 'time': '1400 - 1800'}\n",
      "\n",
      "His last name is Rozani\n",
      "fname Arif\n",
      "lname Rozani\n",
      "course 101 - 201\n",
      "day Saturday | Sunday\n",
      "role Student\n",
      "{'fname': 'Arif', 'lname': 'Rozani', 'course': '101 - 201', 'day': 'Saturday | Sunday', 'role': 'Student'}\n"
     ]
    }
   ],
   "source": [
    "def my_function(**student):\n",
    "    print(\"\\nHis last name is \" + student[\"lname\"])\n",
    "    for key, value in student.items():\n",
    "        print(key, value)\n",
    "    print(student)\n",
    "\n",
    "my_function(fname=\"Osama\", lname=\"bin Adnan\")\n",
    "my_function(fname = \"Ali\", lname = \"Osman\", course = \"Python - 101\", day=\"Saturday\", time=\"1400 - 1800\")\n",
    "my_dict = {\"fname\": \"Arif\", \"lname\": \"Rozani\", \"course\":\"101 - 201\", \"day\":\"Saturday | Sunday\", \"role\":\"Student\"}\n",
    "\n",
    "# my_function(my_dict) # uncomment to see TypeError\n",
    "my_function(**my_dict) # use ** to unpack the dictionary"
   ]
  },
  {
   "cell_type": "markdown",
   "metadata": {},
   "source": [
    "## **Generator Function**\n",
    "\n",
    "A generator function in Python is a special type of function that allows you to iterate over a sequence of values `without storing the entire sequence in memory`. **Instead of returning a single value using return, a generator function uses the `yield` keyword to produce a series of values, `one at a time`, `on-the-fly`**. This makes generator functions highly `memory-efficient` for working with `large` or `infinite sequences`."
   ]
  },
  {
   "cell_type": "markdown",
   "metadata": {},
   "source": [
    "## **Key Features of Generator Functions**\n",
    "\n",
    "1. **Lazy Evaluation**: Values are generated only when needed, not all at once.\n",
    "\n",
    "2.  **Memory Efficiency**: Only one value is stored in memory at a time.\n",
    "3.  **Iterable**: Generator functions return a generator object, which can be iterated over using a for loop or functions like next().\n",
    "4.  **Resumable**: The state of the generator function is saved between yield calls, allowing it to resume execution from where it left off."
   ]
  },
  {
   "cell_type": "markdown",
   "metadata": {},
   "source": [
    "## **Syntax of a Generator Function**\n",
    "\n",
    "A generator function is defined like a normal function but uses the yield keyword instead of return.\n",
    "\n",
    "```python\n",
    "def generator_function():\n",
    "    yield value\n",
    "\n",
    "```"
   ]
  },
  {
   "cell_type": "markdown",
   "metadata": {},
   "source": [
    "## **How Generator Functions Work**\n",
    "\n",
    "1.  When a generator function is called, it returns a generator object without executing the function body.\n",
    "\n",
    "2.  The function body executes only when the generator object is iterated over (e.g., using a for loop or next()).\n",
    "3.  When the yield statement is encountered, the function pauses and returns the yielded value. The function’s state (e.g., local variables) is saved.\n",
    "4.  The function resumes execution from where it left off the next time next() is called or the generator is iterated over."
   ]
  },
  {
   "cell_type": "code",
   "execution_count": null,
   "metadata": {},
   "outputs": [
    {
     "name": "stdout",
     "output_type": "stream",
     "text": [
      "<generator object simple_generator at 0x000001D59E554A90>  :  <class 'generator'>\n",
      "1  :  <class 'int'>\n",
      "2  :  <class 'int'>\n",
      "3  :  <class 'int'>\n"
     ]
    }
   ],
   "source": [
    "def simple_generator():\n",
    "    yield 1\n",
    "    yield 2\n",
    "    yield 3\n",
    "\n",
    "# Create a generator object\n",
    "gen = simple_generator()\n",
    "print(gen, \" : \", type(gen))\n",
    "\n",
    "# Iterate over the generator\n",
    "for value in gen:\n",
    "    print(value, \" : \", type(value))\n"
   ]
  },
  {
   "cell_type": "markdown",
   "metadata": {},
   "source": [
    "## **Lets produce an error:**\n",
    "\n",
    "**Once the generator is exhausted, calling next() will raise a StopIteration exception.**"
   ]
  },
  {
   "cell_type": "code",
   "execution_count": null,
   "metadata": {},
   "outputs": [
    {
     "ename": "StopIteration",
     "evalue": "",
     "output_type": "error",
     "traceback": [
      "\u001b[1;31m---------------------------------------------------------------------------\u001b[0m",
      "\u001b[1;31mStopIteration\u001b[0m                             Traceback (most recent call last)",
      "Cell \u001b[1;32mIn[7], line 1\u001b[0m\n\u001b[1;32m----> 1\u001b[0m \u001b[38;5;28mprint\u001b[39m(\u001b[38;5;28;43mnext\u001b[39;49m\u001b[43m(\u001b[49m\u001b[43mgen\u001b[49m\u001b[43m)\u001b[49m) \u001b[38;5;66;03m#error: StopIteration\u001b[39;00m\n",
      "\u001b[1;31mStopIteration\u001b[0m: "
     ]
    }
   ],
   "source": [
    "print(next(gen)) #error: StopIteration"
   ]
  },
  {
   "cell_type": "markdown",
   "metadata": {},
   "source": [
    "### **Example 2: Infinite Sequence**\n",
    "\n",
    "Generators are useful for generating infinite sequences since they don’t store all values in memory.\n",
    "\n",
    "### **How It Works:**\n",
    "\n",
    "1.  infinite_sequence():\n",
    "    * This function starts with num = 0.\n",
    "\n",
    "    * Inside an infinite while True loop, it yields num and then increments it by 1.\n",
    "    * Since yield pauses execution, it remembers the state and resumes from there when next() is called.\n",
    "\n",
    "2.  Creating the Generator:\n",
    "\n",
    "    * gen = infinite_sequence() initializes the generator.\n",
    "    \n",
    "\n",
    "3.  Printing First 5 Numbers:\n",
    "\n",
    "    * Using next(gen), we retrieve values from the generator five times inside a loop.\n",
    "\n",
    "    * The next time we call next(gen), execution resumes from where it left off."
   ]
  },
  {
   "cell_type": "code",
   "execution_count": 30,
   "metadata": {},
   "outputs": [
    {
     "name": "stdout",
     "output_type": "stream",
     "text": [
      "0\n",
      "1\n",
      "2\n",
      "3\n",
      "4\n"
     ]
    }
   ],
   "source": [
    "def infinite_sequence():\n",
    "    num = 0\n",
    "    while True:\n",
    "        yield num # Since yield pauses execution, it remembers the state and resumes from there when next() is called.\n",
    "        num += 1\n",
    "\n",
    "# Create a generator object\n",
    "gen = infinite_sequence() #initializes the generator.\n",
    "\n",
    "# Print the first 5 numbers, _ is a throw away variable\n",
    "for _ in range(5):\n",
    "    print(next(gen)) # The next time we call next(gen), execution resumes from where it left off."
   ]
  },
  {
   "cell_type": "code",
   "execution_count": null,
   "metadata": {},
   "outputs": [],
   "source": [
    "def infinite_loop(): #without yield it becomes an infinite loop\n",
    "    num = 0\n",
    "    while True:\n",
    "        #yield num   # with yield it become generator without yield its a infinite loop\n",
    "        num += 1\n",
    "        print(\"infinite_loop() : num = \", num)\n",
    "\n",
    "infinite_loop()"
   ]
  },
  {
   "cell_type": "markdown",
   "metadata": {},
   "source": [
    "## **Generator Expressions**\n",
    "Generator expressions are a concise way to create generators. They are similar to list comprehensions but use parentheses instead of square brackets.\n",
    "\n",
    "Example:"
   ]
  },
  {
   "cell_type": "code",
   "execution_count": 33,
   "metadata": {},
   "outputs": [
    {
     "name": "stdout",
     "output_type": "stream",
     "text": [
      "<class 'generator'>\n",
      "0  :  <class 'int'>\n",
      "1  :  <class 'int'>\n",
      "4  :  <class 'int'>\n",
      "9  :  <class 'int'>\n",
      "16  :  <class 'int'>\n"
     ]
    }
   ],
   "source": [
    "# Generator expression\n",
    "\n",
    "gen = (x * x for x in range(5))\n",
    "print(type(gen))\n",
    "\n",
    "# Iterate over the generator\n",
    "for value in gen:\n",
    "    print(value,\" : \", type(value))"
   ]
  },
  {
   "cell_type": "markdown",
   "metadata": {},
   "source": [
    "## **Recursive Function in Python**\n",
    "\n",
    "A **recursive function** is a function that calls itself during its execution. It breaks down a problem into smaller, more manageable subproblems, solving each one recursively until a **base case** is reached. The base case is the condition that stops the recursion, preventing infinite loops.\n"
   ]
  },
  {
   "cell_type": "markdown",
   "metadata": {},
   "source": [
    "## **Key Components of a Recursive Function**\n",
    "\n",
    "*   **Base Case**: The condition that stops the recursion.\n",
    "*   **Recursive Case**: The part of the function where it calls itself with a modified input."
   ]
  },
  {
   "cell_type": "markdown",
   "metadata": {},
   "source": [
    "## **Example: Factorial of a Number**\n",
    "\n",
    "The factorial of a number n (denoted as n!) is the product of all positive integers from 1 to n. It can be defined recursively as:\n",
    "\n",
    "-   n! = n * (n-1)! (Recursive Case)\n",
    "-   0! = 1 (Base Case)"
   ]
  },
  {
   "cell_type": "code",
   "execution_count": 38,
   "metadata": {},
   "outputs": [
    {
     "name": "stdout",
     "output_type": "stream",
     "text": [
      "120\n"
     ]
    }
   ],
   "source": [
    "def factorial(n):\n",
    "    # Base case\n",
    "    if n == 0:\n",
    "        return 1\n",
    "    # Recursive case\n",
    "    return n * factorial(n-1)\n",
    "\n",
    "# Example usage\n",
    "print(factorial(5)) #Output: 120"
   ]
  },
  {
   "cell_type": "markdown",
   "metadata": {},
   "source": [
    "**How It Works**\n",
    "\n",
    "1.  factorial(5) calls factorial(4).\n",
    "2.  factorial(4) calls factorial(3).\n",
    "3.  This continues until factorial(0) is called, which returns 1.\n",
    "4.  The results are propagated back up the chain:\n",
    "  -   1 * 1 = 1\n",
    "  -   2 * 1 = 2\n",
    "  -   3 * 2 = 6\n",
    "  -   4 * 6 = 24\n",
    "  -   5 * 24 = 120"
   ]
  },
  {
   "cell_type": "markdown",
   "metadata": {},
   "source": [
    "## **Example: Fibonacci Sequence**\n",
    "\n",
    "The Fibonacci sequence is a series of numbers where each number is the sum of the two preceding ones: 0, 1, 1, 2, 3, 5, 8, 13, ..."
   ]
  },
  {
   "cell_type": "code",
   "execution_count": 40,
   "metadata": {},
   "outputs": [
    {
     "name": "stdout",
     "output_type": "stream",
     "text": [
      "8\n"
     ]
    }
   ],
   "source": [
    "def fibonacci(n):\n",
    "    # Base case\n",
    "    if n == 0:\n",
    "        return 0\n",
    "    elif n == 1:\n",
    "        return 1\n",
    "    # Recursive case\n",
    "    else:\n",
    "        return fibonacci(n-1) + fibonacci(n-2)\n",
    "\n",
    "# Example usage\n",
    "print(fibonacci(6))"
   ]
  },
  {
   "cell_type": "markdown",
   "metadata": {},
   "source": [
    "## **Advantages of Recursive Functions**\n",
    "\n",
    "1.    Simplifies Code: Breaks complex problems into smaller, easier-to-understand parts.\n",
    "2.    Elegant Solutions: Often provides a clean and concise solution for problems like tree traversals, sorting, and mathematical computations.\n",
    "3.    Natural Fit for Certain Problems: Works well for problems with recursive structures (e.g., factorial, Fibonacci, tree traversals)."
   ]
  },
  {
   "cell_type": "markdown",
   "metadata": {},
   "source": [
    "## **Disadvantages of Recursive Functions**\n",
    "\n",
    "*   Stack Overflow: Deep recursion can lead to a stack overflow if the base case is not reached.\n",
    "*   Performance Issues: Recursive functions can be slower and use more memory compared to iterative solutions due to repeated function calls.\n",
    "*   Debugging Complexity: Recursive logic can be harder to debug and trace."
   ]
  },
  {
   "cell_type": "markdown",
   "metadata": {},
   "source": [
    "## **When to Use Recursive Functions**\n",
    "\n",
    "* When the problem can be naturally divided into smaller subproblems.\n",
    "* When the depth of recursion is limited and won’t cause stack overflow.\n",
    "* For problems like tree traversals, divide-and-conquer algorithms, or mathematical sequences."
   ]
  },
  {
   "cell_type": "markdown",
   "metadata": {},
   "source": [
    "By understanding and using recursion effectively, you can solve complex problems in a clean and elegant way!"
   ]
  },
  {
   "cell_type": "code",
   "execution_count": 41,
   "metadata": {},
   "outputs": [
    {
     "name": "stdout",
     "output_type": "stream",
     "text": [
      "The factorial of 5 is 120\n"
     ]
    }
   ],
   "source": [
    "# prompt: generate an example of recursive function\n",
    "def factorial(n):\n",
    "    if n == 0:\n",
    "        return 1\n",
    "    else:\n",
    "        return n * factorial(n-1)\n",
    "\n",
    "number = 5\n",
    "result = factorial(number)\n",
    "print(f\"The factorial of {number} is {result}\")"
   ]
  },
  {
   "cell_type": "markdown",
   "metadata": {},
   "source": [
    "## **Multi Type Return in Function**\n",
    "\n",
    "\n",
    "In Python, a function can return multiple values of different types by packaging them into a tuple, list, dictionary, or even a custom object. This is often referred to as a multi-type return. For example, a function can return an int, a list, and a dict together, providing flexibility in handling complex data. Type annotations (e.g., Tuple[int, List[str], Dict[str, int]]) can be used to specify the expected return types, making the code more readable and maintainable. Multi-type returns are useful when a function needs to provide diverse outputs, such as a status code, a list of results, and a dictionary of metadata, all in a single call."
   ]
  },
  {
   "cell_type": "code",
   "execution_count": 43,
   "metadata": {},
   "outputs": [
    {
     "name": "stdout",
     "output_type": "stream",
     "text": [
      "(3, [3.14, 2.71], {'name': 'Alice', 'city': 'New York'})\n",
      "(11.0, [2.0, 3.0], {'country': 'USA', 'language': 'English'})\n"
     ]
    }
   ],
   "source": [
    "from typing import Tuple, List, Dict  # Import necessary types\n",
    "\n",
    "def example_function(a: int, b: int = 0, *args: float, **kwargs: str) -> Tuple[int, List[float], Dict[str, str]]:\n",
    "    \"\"\"Example function demonstrating various parameter types.\n",
    "    Args:\n",
    "        a: An integer.\n",
    "        b: An integer with a default value of 0.\n",
    "        *args: Variable-length positional arguments of type float.\n",
    "        **kwargs: Variable-length keyword arguments of type string.\n",
    "    Returns:\n",
    "        A tuple containing:\n",
    "        - The sum of 'a' and 'b'.\n",
    "        - A list of the variable-length positional arguments ('args').\n",
    "        - A dictionary of the variable-length keyword arguments ('kwargs').\n",
    "    \"\"\"\n",
    "    sum_ab = a + b\n",
    "    args_list = list(args)  # Convert tuple to a list\n",
    "    return sum_ab, args_list, kwargs\n",
    "\n",
    "# Example usage\n",
    "result1 = example_function(1, 2, 3.14, 2.71, name=\"Alice\", city=\"New York\")\n",
    "print(result1)  # (3, [3.14, 2.71], {'name': 'Alice', 'city': 'New York'})\n",
    "\n",
    "result2 = example_function(10, *[1.0, 2.0, 3.0], **{\"country\": \"USA\", \"language\": \"English\"})\n",
    "print(result2)  # (10, [1.0, 2.0, 3.0], {'country': 'USA', 'language': 'English'})\n"
   ]
  },
  {
   "cell_type": "markdown",
   "metadata": {},
   "source": [
    "## **Order of args in function**"
   ]
  },
  {
   "cell_type": "markdown",
   "metadata": {},
   "source": [
    "![Order of args in function](images/download.jpeg)"
   ]
  }
 ],
 "metadata": {
  "kernelspec": {
   "display_name": "Python 3",
   "language": "python",
   "name": "python3"
  },
  "language_info": {
   "codemirror_mode": {
    "name": "ipython",
    "version": 3
   },
   "file_extension": ".py",
   "mimetype": "text/x-python",
   "name": "python",
   "nbconvert_exporter": "python",
   "pygments_lexer": "ipython3",
   "version": "3.13.2"
  }
 },
 "nbformat": 4,
 "nbformat_minor": 2
}
